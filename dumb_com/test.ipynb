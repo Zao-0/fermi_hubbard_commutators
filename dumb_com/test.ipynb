{
 "cells": [
  {
   "cell_type": "code",
   "execution_count": 1,
   "metadata": {},
   "outputs": [],
   "source": [
    "from dumb_comutation import construct_op,construct_fermi_op\n",
    "from scipy import sparse\n",
    "import numpy as np\n",
    "import sys\n",
    "sys.path.append('../')\n",
    "import fh_comm as fhc"
   ]
  },
  {
   "cell_type": "code",
   "execution_count": 2,
   "metadata": {},
   "outputs": [],
   "source": [
    "pos_list= [\n",
    "    [('hu',0,2),('Ba',0)],\n",
    "    [('hu',1,3),('Ba',3)],\n",
    "    [('hd',0,2),('Ba',0)],\n",
    "    [('hd',1,3),('Ba',3)]\n",
    "]\n",
    "neg_list= [\n",
    "    [('hu',0,2),('Ba',1)],\n",
    "    [('hu',1,3),('Ba',2)],\n",
    "    [('hd',0,2),('Ba',1)],\n",
    "    [('hd',1,3),('Ba',2)]\n",
    "]\n",
    "N=4"
   ]
  },
  {
   "cell_type": "code",
   "execution_count": 3,
   "metadata": {},
   "outputs": [],
   "source": [
    "result = 0\n",
    "for op in pos_list:\n",
    "    result+=construct_op(op,N)\n",
    "for op in neg_list:\n",
    "    result-=construct_op(op,N)"
   ]
  },
  {
   "cell_type": "code",
   "execution_count": 4,
   "metadata": {},
   "outputs": [
    {
     "name": "stdout",
     "output_type": "stream",
     "text": [
      "  (4, 1040)\t-1.0\n",
      "  (4, 1025)\t1.0\n",
      "  (5, 1041)\t-1.0\n",
      "  (5, 1024)\t1.0\n",
      "  (5, 1026)\t1.4142135381698608\n",
      "  (6, 1042)\t-1.0\n",
      "  (6, 1025)\t1.4142135381698608\n",
      "  (6, 1027)\t1.7320507764816284\n",
      "  (7, 1043)\t-1.0\n",
      "  (7, 1026)\t1.7320507764816284\n",
      "  (8, 2064)\t1.0\n",
      "  (8, 2049)\t-1.0\n",
      "  (9, 2065)\t1.0\n",
      "  (9, 2048)\t-1.0\n",
      "  (9, 2050)\t-1.4142135381698608\n",
      "  (10, 2066)\t1.0\n",
      "  (10, 2049)\t-1.4142135381698608\n",
      "  (10, 2051)\t-1.7320507764816284\n",
      "  (11, 2067)\t1.0\n",
      "  (11, 2050)\t-1.7320507764816284\n",
      "  (12, 1048)\t1.0\n",
      "  (12, 2068)\t1.0\n",
      "  (12, 1033)\t-1.0\n",
      "  (12, 2053)\t-1.0\n",
      "  (13, 1049)\t1.0\n",
      "  :\t:\n",
      "  (65522, 63483)\t1.7320507764816284\n",
      "  (65523, 64487)\t1.7320507764816284\n",
      "  (65523, 63467)\t-1.7320507764816284\n",
      "  (65523, 64502)\t-1.7320507764816284\n",
      "  (65523, 63482)\t1.7320507764816284\n",
      "  (65524, 63468)\t-1.7320507764816284\n",
      "  (65524, 63485)\t1.0\n",
      "  (65525, 63469)\t-1.7320507764816284\n",
      "  (65525, 63484)\t1.0\n",
      "  (65525, 63486)\t1.4142135381698608\n",
      "  (65526, 63470)\t-1.7320507764816284\n",
      "  (65526, 63485)\t1.4142135381698608\n",
      "  (65526, 63487)\t1.7320507764816284\n",
      "  (65527, 63471)\t-1.7320507764816284\n",
      "  (65527, 63486)\t1.7320507764816284\n",
      "  (65528, 64492)\t-1.7320507764816284\n",
      "  (65528, 64509)\t1.0\n",
      "  (65529, 64493)\t-1.7320507764816284\n",
      "  (65529, 64508)\t1.0\n",
      "  (65529, 64510)\t1.4142135381698608\n",
      "  (65530, 64494)\t-1.7320507764816284\n",
      "  (65530, 64509)\t1.4142135381698608\n",
      "  (65530, 64511)\t1.7320507764816284\n",
      "  (65531, 64495)\t-1.7320507764816284\n",
      "  (65531, 64510)\t1.7320507764816284\n"
     ]
    }
   ],
   "source": [
    "print(result)"
   ]
  },
  {
   "cell_type": "code",
   "execution_count": 5,
   "metadata": {},
   "outputs": [
    {
     "data": {
      "text/plain": [
       "7.455220883914e-312"
      ]
     },
     "execution_count": 5,
     "metadata": {},
     "output_type": "execute_result"
    }
   ],
   "source": [
    "np.linalg.norm(result.toarray(),ord=2)"
   ]
  },
  {
   "cell_type": "code",
   "execution_count": 7,
   "metadata": {},
   "outputs": [
    {
     "data": {
      "text/plain": [
       "nan"
      ]
     },
     "execution_count": 7,
     "metadata": {},
     "output_type": "execute_result"
    }
   ],
   "source": [
    "np.linalg.norm(result.toarray(),ord=2)"
   ]
  },
  {
   "cell_type": "code",
   "execution_count": 6,
   "metadata": {},
   "outputs": [
    {
     "ename": "ValueError",
     "evalue": "`A` must not be empty.",
     "output_type": "error",
     "traceback": [
      "\u001b[1;31m---------------------------------------------------------------------------\u001b[0m",
      "\u001b[1;31mValueError\u001b[0m                                Traceback (most recent call last)",
      "Cell \u001b[1;32mIn[6], line 1\u001b[0m\n\u001b[1;32m----> 1\u001b[0m sparse\u001b[38;5;241m.\u001b[39mlinalg\u001b[38;5;241m.\u001b[39mnorm(result,\u001b[38;5;28mord\u001b[39m\u001b[38;5;241m=\u001b[39m\u001b[38;5;241m2\u001b[39m)\n",
      "File \u001b[1;32md:\\Anaconda3\\Lib\\site-packages\\scipy\\sparse\\linalg\\_norm.py:145\u001b[0m, in \u001b[0;36mnorm\u001b[1;34m(x, ord, axis)\u001b[0m\n\u001b[0;32m    142\u001b[0m     \u001b[38;5;28;01mraise\u001b[39;00m \u001b[38;5;167;01mValueError\u001b[39;00m(\u001b[38;5;124m'\u001b[39m\u001b[38;5;124mDuplicate axes given.\u001b[39m\u001b[38;5;124m'\u001b[39m)\n\u001b[0;32m    143\u001b[0m \u001b[38;5;28;01mif\u001b[39;00m \u001b[38;5;28mord\u001b[39m \u001b[38;5;241m==\u001b[39m \u001b[38;5;241m2\u001b[39m:\n\u001b[0;32m    144\u001b[0m     \u001b[38;5;66;03m# Only solver=\"lobpcg\" supports all numpy dtypes\u001b[39;00m\n\u001b[1;32m--> 145\u001b[0m     _, s, _ \u001b[38;5;241m=\u001b[39m svds(x, k\u001b[38;5;241m=\u001b[39m\u001b[38;5;241m1\u001b[39m, solver\u001b[38;5;241m=\u001b[39m\u001b[38;5;124m\"\u001b[39m\u001b[38;5;124mlobpcg\u001b[39m\u001b[38;5;124m\"\u001b[39m)\n\u001b[0;32m    146\u001b[0m     \u001b[38;5;28;01mreturn\u001b[39;00m s[\u001b[38;5;241m0\u001b[39m]\n\u001b[0;32m    147\u001b[0m \u001b[38;5;28;01melif\u001b[39;00m \u001b[38;5;28mord\u001b[39m \u001b[38;5;241m==\u001b[39m \u001b[38;5;241m-\u001b[39m\u001b[38;5;241m2\u001b[39m:\n",
      "File \u001b[1;32md:\\Anaconda3\\Lib\\site-packages\\scipy\\sparse\\linalg\\_eigen\\_svds.py:438\u001b[0m, in \u001b[0;36msvds\u001b[1;34m(A, k, ncv, tol, which, v0, maxiter, return_singular_vectors, solver, random_state, options)\u001b[0m\n\u001b[0;32m     99\u001b[0m \u001b[38;5;28;01mdef\u001b[39;00m \u001b[38;5;21msvds\u001b[39m(A, k\u001b[38;5;241m=\u001b[39m\u001b[38;5;241m6\u001b[39m, ncv\u001b[38;5;241m=\u001b[39m\u001b[38;5;28;01mNone\u001b[39;00m, tol\u001b[38;5;241m=\u001b[39m\u001b[38;5;241m0\u001b[39m, which\u001b[38;5;241m=\u001b[39m\u001b[38;5;124m'\u001b[39m\u001b[38;5;124mLM\u001b[39m\u001b[38;5;124m'\u001b[39m, v0\u001b[38;5;241m=\u001b[39m\u001b[38;5;28;01mNone\u001b[39;00m,\n\u001b[0;32m    100\u001b[0m          maxiter\u001b[38;5;241m=\u001b[39m\u001b[38;5;28;01mNone\u001b[39;00m, return_singular_vectors\u001b[38;5;241m=\u001b[39m\u001b[38;5;28;01mTrue\u001b[39;00m,\n\u001b[0;32m    101\u001b[0m          solver\u001b[38;5;241m=\u001b[39m\u001b[38;5;124m'\u001b[39m\u001b[38;5;124marpack\u001b[39m\u001b[38;5;124m'\u001b[39m, random_state\u001b[38;5;241m=\u001b[39m\u001b[38;5;28;01mNone\u001b[39;00m, options\u001b[38;5;241m=\u001b[39m\u001b[38;5;28;01mNone\u001b[39;00m):\n\u001b[0;32m    102\u001b[0m \u001b[38;5;250m    \u001b[39m\u001b[38;5;124;03m\"\"\"\u001b[39;00m\n\u001b[0;32m    103\u001b[0m \u001b[38;5;124;03m    Partial singular value decomposition of a sparse matrix.\u001b[39;00m\n\u001b[0;32m    104\u001b[0m \n\u001b[1;32m   (...)\u001b[0m\n\u001b[0;32m    436\u001b[0m \n\u001b[0;32m    437\u001b[0m \u001b[38;5;124;03m    \"\"\"\u001b[39;00m\n\u001b[1;32m--> 438\u001b[0m     args \u001b[38;5;241m=\u001b[39m _iv(A, k, ncv, tol, which, v0, maxiter, return_singular_vectors,\n\u001b[0;32m    439\u001b[0m                solver, random_state)\n\u001b[0;32m    440\u001b[0m     (A, k, ncv, tol, which, v0, maxiter,\n\u001b[0;32m    441\u001b[0m      return_singular_vectors, solver, random_state) \u001b[38;5;241m=\u001b[39m args\n\u001b[0;32m    443\u001b[0m     largest \u001b[38;5;241m=\u001b[39m (which \u001b[38;5;241m==\u001b[39m \u001b[38;5;124m'\u001b[39m\u001b[38;5;124mLM\u001b[39m\u001b[38;5;124m'\u001b[39m)\n",
      "File \u001b[1;32md:\\Anaconda3\\Lib\\site-packages\\scipy\\sparse\\linalg\\_eigen\\_svds.py:38\u001b[0m, in \u001b[0;36m_iv\u001b[1;34m(A, k, ncv, tol, which, v0, maxiter, return_singular, solver, random_state)\u001b[0m\n\u001b[0;32m     36\u001b[0m \u001b[38;5;28;01mif\u001b[39;00m np\u001b[38;5;241m.\u001b[39mprod(A\u001b[38;5;241m.\u001b[39mshape) \u001b[38;5;241m==\u001b[39m \u001b[38;5;241m0\u001b[39m:\n\u001b[0;32m     37\u001b[0m     message \u001b[38;5;241m=\u001b[39m \u001b[38;5;124m\"\u001b[39m\u001b[38;5;124m`A` must not be empty.\u001b[39m\u001b[38;5;124m\"\u001b[39m\n\u001b[1;32m---> 38\u001b[0m     \u001b[38;5;28;01mraise\u001b[39;00m \u001b[38;5;167;01mValueError\u001b[39;00m(message)\n\u001b[0;32m     40\u001b[0m \u001b[38;5;66;03m# input validation/standardization for `k`\u001b[39;00m\n\u001b[0;32m     41\u001b[0m kmax \u001b[38;5;241m=\u001b[39m \u001b[38;5;28mmin\u001b[39m(A\u001b[38;5;241m.\u001b[39mshape) \u001b[38;5;28;01mif\u001b[39;00m solver \u001b[38;5;241m==\u001b[39m \u001b[38;5;124m'\u001b[39m\u001b[38;5;124mpropack\u001b[39m\u001b[38;5;124m'\u001b[39m \u001b[38;5;28;01melse\u001b[39;00m \u001b[38;5;28mmin\u001b[39m(A\u001b[38;5;241m.\u001b[39mshape) \u001b[38;5;241m-\u001b[39m \u001b[38;5;241m1\u001b[39m\n",
      "\u001b[1;31mValueError\u001b[0m: `A` must not be empty."
     ]
    }
   ],
   "source": [
    "sparse.linalg.norm(result,ord=2)"
   ]
  },
  {
   "cell_type": "code",
   "execution_count": 2,
   "metadata": {},
   "outputs": [
    {
     "name": "stdout",
     "output_type": "stream",
     "text": [
      "  (2, 8)\t1.0\n",
      "  (3, 9)\t1.0\n",
      "  (6, 12)\t-1.0\n",
      "  (7, 13)\t-1.0\n",
      "  (8, 2)\t-1.0\n",
      "  (9, 3)\t-1.0\n",
      "  (12, 6)\t1.0\n",
      "  (13, 7)\t1.0\n"
     ]
    }
   ],
   "source": [
    "hopping_0_1_up = fhc.HoppingOp((0,),(1,),0,1.0)\n",
    "number_0_up = fhc.NumberOp((0,),0,1.0)\n",
    "print(fhc.commutator(hopping_0_1_up,number_0_up).as_field_operator().as_matrix((2,)))"
   ]
  },
  {
   "cell_type": "code",
   "execution_count": 2,
   "metadata": {},
   "outputs": [
    {
     "name": "stdout",
     "output_type": "stream",
     "text": [
      "  (2, 8)\t1.0\n",
      "  (3, 9)\t1.0\n",
      "  (6, 12)\t-1.0\n",
      "  (7, 13)\t-1.0\n",
      "  (8, 2)\t1.0\n",
      "  (9, 3)\t1.0\n",
      "  (12, 6)\t-1.0\n",
      "  (13, 7)\t-1.0\n"
     ]
    }
   ],
   "source": [
    "dump_term1 = construct_fermi_op([('hu',0,1),('nu',0)],2)\n",
    "dump_term2 = construct_fermi_op([('nu',0),('hu',0,1)],2)\n",
    "print(dump_term1-dump_term2)"
   ]
  },
  {
   "cell_type": "code",
   "execution_count": 3,
   "metadata": {},
   "outputs": [
    {
     "name": "stdout",
     "output_type": "stream",
     "text": [
      "(2.0) <empty product>\n"
     ]
    }
   ],
   "source": [
    "ba_0 = fhc.BosonAddOp((0,),1.,3)\n",
    "bm_0 = fhc.BosonMinuOp((0,),1.,3)\n",
    "print(fhc.commutator(ba_0,bm_0))"
   ]
  },
  {
   "cell_type": "code",
   "execution_count": 5,
   "metadata": {},
   "outputs": [
    {
     "name": "stdout",
     "output_type": "stream",
     "text": [
      "  (0, 0)\t2.0\n",
      "  (1, 1)\t1.9999998630858329\n",
      "  (2, 2)\t-3.999999863085833\n",
      "  (3, 3)\t2.0\n",
      "  (4, 4)\t1.9999998630858329\n",
      "  (5, 5)\t-3.999999863085833\n",
      "  (6, 6)\t2.0\n",
      "  (7, 7)\t1.9999998630858329\n",
      "  (8, 8)\t-3.999999863085833\n",
      "  (9, 9)\t2.0\n",
      "  (10, 10)\t1.9999998630858329\n",
      "  (11, 11)\t-3.999999863085833\n"
     ]
    }
   ],
   "source": [
    "dump_term3 = construct_op([('Ba',0),('Bm',0)],1)\n",
    "dump_term4 = construct_op([('Bm',0),('Ba',0)],1)\n",
    "print(dump_term3-dump_term4)"
   ]
  }
 ],
 "metadata": {
  "kernelspec": {
   "display_name": "torch_env",
   "language": "python",
   "name": "python3"
  },
  "language_info": {
   "codemirror_mode": {
    "name": "ipython",
    "version": 3
   },
   "file_extension": ".py",
   "mimetype": "text/x-python",
   "name": "python",
   "nbconvert_exporter": "python",
   "pygments_lexer": "ipython3",
   "version": "3.12.5"
  }
 },
 "nbformat": 4,
 "nbformat_minor": 2
}
