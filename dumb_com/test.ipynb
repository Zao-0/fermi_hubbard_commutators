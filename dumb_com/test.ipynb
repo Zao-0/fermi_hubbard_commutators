{
 "cells": [
  {
   "cell_type": "code",
   "execution_count": 1,
   "metadata": {},
   "outputs": [],
   "source": [
    "from dumb_comutation import construct_op\n",
    "from scipy import sparse\n",
    "import numpy as np\n",
    "import sys\n",
    "sys.path.append('../')\n",
    "import fh_comm as fhc"
   ]
  },
  {
   "cell_type": "code",
   "execution_count": 2,
   "metadata": {},
   "outputs": [],
   "source": [
    "pos_list= [\n",
    "    [('hu',0,2),('Ba',0)],\n",
    "    [('hu',1,3),('Ba',3)],\n",
    "    [('hd',0,2),('Ba',0)],\n",
    "    [('hd',1,3),('Ba',3)]\n",
    "]\n",
    "neg_list= [\n",
    "    [('hu',0,2),('Ba',1)],\n",
    "    [('hu',1,3),('Ba',2)],\n",
    "    [('hd',0,2),('Ba',1)],\n",
    "    [('hd',1,3),('Ba',2)]\n",
    "]\n",
    "N=4"
   ]
  },
  {
   "cell_type": "code",
   "execution_count": 3,
   "metadata": {},
   "outputs": [],
   "source": [
    "result = 0\n",
    "for op in pos_list:\n",
    "    result+=construct_op(op,N)\n",
    "for op in neg_list:\n",
    "    result-=construct_op(op,N)"
   ]
  },
  {
   "cell_type": "code",
   "execution_count": 26,
   "metadata": {},
   "outputs": [
    {
     "data": {
      "text/plain": [
       "nan"
      ]
     },
     "execution_count": 26,
     "metadata": {},
     "output_type": "execute_result"
    }
   ],
   "source": [
    "print(result)"
   ]
  },
  {
   "cell_type": "code",
   "execution_count": 4,
   "metadata": {},
   "outputs": [
    {
     "data": {
      "text/plain": [
       "2.7161546129415e-311"
      ]
     },
     "execution_count": 4,
     "metadata": {},
     "output_type": "execute_result"
    }
   ],
   "source": [
    "np.linalg.norm(result.toarray(),ord=2)"
   ]
  },
  {
   "cell_type": "code",
   "execution_count": 5,
   "metadata": {},
   "outputs": [
    {
     "name": "stdout",
     "output_type": "stream",
     "text": [
      "  (4, 1040)\t-1.0\n",
      "  (4, 1025)\t1.0\n",
      "  (5, 1041)\t-1.0\n",
      "  (5, 1024)\t1.0\n",
      "  (5, 1026)\t1.4142135381698608\n",
      "  (6, 1042)\t-1.0\n",
      "  (6, 1025)\t1.4142135381698608\n",
      "  (6, 1027)\t1.7320507764816284\n",
      "  (7, 1043)\t-1.0\n",
      "  (7, 1026)\t1.7320507764816284\n",
      "  (8, 2064)\t1.0\n",
      "  (8, 2049)\t-1.0\n",
      "  (9, 2065)\t1.0\n",
      "  (9, 2048)\t-1.0\n",
      "  (9, 2050)\t-1.4142135381698608\n",
      "  (10, 2066)\t1.0\n",
      "  (10, 2049)\t-1.4142135381698608\n",
      "  (10, 2051)\t-1.7320507764816284\n",
      "  (11, 2067)\t1.0\n",
      "  (11, 2050)\t-1.7320507764816284\n",
      "  (12, 1048)\t1.0\n",
      "  (12, 2068)\t1.0\n",
      "  (12, 1033)\t-1.0\n",
      "  (12, 2053)\t-1.0\n",
      "  (13, 1049)\t1.0\n",
      "  :\t:\n",
      "  (65522, 63483)\t1.7320507764816284\n",
      "  (65523, 64487)\t1.7320507764816284\n",
      "  (65523, 63467)\t-1.7320507764816284\n",
      "  (65523, 64502)\t-1.7320507764816284\n",
      "  (65523, 63482)\t1.7320507764816284\n",
      "  (65524, 63468)\t-1.7320507764816284\n",
      "  (65524, 63485)\t1.0\n",
      "  (65525, 63469)\t-1.7320507764816284\n",
      "  (65525, 63484)\t1.0\n",
      "  (65525, 63486)\t1.4142135381698608\n",
      "  (65526, 63470)\t-1.7320507764816284\n",
      "  (65526, 63485)\t1.4142135381698608\n",
      "  (65526, 63487)\t1.7320507764816284\n",
      "  (65527, 63471)\t-1.7320507764816284\n",
      "  (65527, 63486)\t1.7320507764816284\n",
      "  (65528, 64492)\t-1.7320507764816284\n",
      "  (65528, 64509)\t1.0\n",
      "  (65529, 64493)\t-1.7320507764816284\n",
      "  (65529, 64508)\t1.0\n",
      "  (65529, 64510)\t1.4142135381698608\n",
      "  (65530, 64494)\t-1.7320507764816284\n",
      "  (65530, 64509)\t1.4142135381698608\n",
      "  (65530, 64511)\t1.7320507764816284\n",
      "  (65531, 64495)\t-1.7320507764816284\n",
      "  (65531, 64510)\t1.7320507764816284\n"
     ]
    }
   ],
   "source": [
    "print(result)"
   ]
  },
  {
   "cell_type": "code",
   "execution_count": 3,
   "metadata": {},
   "outputs": [
    {
     "name": "stdout",
     "output_type": "stream",
     "text": [
      "run the function\n",
      "9.337656873355929\n",
      "run the function\n",
      "9.337656873355929\n"
     ]
    }
   ],
   "source": [
    "# Add the spin-up and bosonic together\n",
    "temp_term1 = fhc.ProductOp([fhc.HoppingOp((-1,),(1,),0,1,1,4),fhc.BosonAddOp((-1,),1,4)],1,1,4)\n",
    "temp_term2 = fhc.ProductOp([fhc.HoppingOp((-1,),(1,),0,1,1,4),fhc.BosonAddOp((0,),1,4)],-1,1,4)\n",
    "temp_term3 = fhc.ProductOp([fhc.HoppingOp((0,),(2,),0,1,1,4),fhc.BosonAddOp((1,),1,4)],-1,1,4)\n",
    "temp_term4 = fhc.ProductOp([fhc.HoppingOp((0,),(2,),0,1,1,4),fhc.BosonAddOp((2,),1,4)],1,1,4)\n",
    "temp_sum1 = fhc.SumOp([temp_term1,temp_term2,temp_term3,temp_term4])\n",
    "print(temp_sum1.norm_bound())\n",
    "# Add the spin-down and bosonic together\n",
    "temp_term5 = fhc.ProductOp([fhc.HoppingOp((-1,),(1,),1,1,1,4),fhc.BosonAddOp((-1,),1,4)],1,1,4)\n",
    "temp_term6 = fhc.ProductOp([fhc.HoppingOp((-1,),(1,),1,1,1,4),fhc.BosonAddOp((0,),1,4)],-1,1,4)\n",
    "temp_term7 = fhc.ProductOp([fhc.HoppingOp((0,),(2,),1,1,1,4),fhc.BosonAddOp((1,),1,4)],-1,1,4)\n",
    "temp_term8 = fhc.ProductOp([fhc.HoppingOp((0,),(2,),1,1,1,4),fhc.BosonAddOp((2,),1,4)],1,1,4)\n",
    "temp_sum2 = fhc.SumOp([temp_term5,temp_term6,temp_term7,temp_term8])\n",
    "print(temp_sum2.norm_bound())"
   ]
  },
  {
   "cell_type": "code",
   "execution_count": 7,
   "metadata": {},
   "outputs": [
    {
     "name": "stdout",
     "output_type": "stream",
     "text": [
      "(h_{(-1,), (1,), up}) @ (Ba_(-1,)) + (-1) (h_{(-1,), (1,), up}) @ (Ba_(0,)) + (-1) (h_{(0,), (2,), up}) @ (Ba_(1,)) + (h_{(0,), (2,), up}) @ (Ba_(2,)) + (h_{(-1,), (1,), dn}) @ (Ba_(-1,)) + (-1) (h_{(-1,), (1,), dn}) @ (Ba_(0,)) + (-1) (h_{(0,), (2,), dn}) @ (Ba_(1,)) + (h_{(0,), (2,), dn}) @ (Ba_(2,))\n"
     ]
    }
   ],
   "source": [
    "temp_sum = fhc.SumOp([temp_sum1,temp_sum2])\n",
    "print(temp_sum)"
   ]
  },
  {
   "cell_type": "code",
   "execution_count": 8,
   "metadata": {},
   "outputs": [],
   "source": [
    "diff=temp_sum.as_field_operator().as_compact_matrix()-result\n",
    "diff.data = np.where(np.abs(diff.data)<1e-5,0,diff.data)\n",
    "diff.eliminate_zeros()"
   ]
  },
  {
   "cell_type": "code",
   "execution_count": 9,
   "metadata": {},
   "outputs": [
    {
     "name": "stdout",
     "output_type": "stream",
     "text": [
      "  (8, 2064)\t-2.0\n",
      "  (8, 2049)\t2.0\n",
      "  (9, 2065)\t-2.0\n",
      "  (9, 2050)\t2.8284271005429558\n",
      "  (9, 2048)\t2.0\n",
      "  (10, 2066)\t-2.0\n",
      "  (10, 2051)\t3.4641015840505056\n",
      "  (10, 2049)\t2.8284271005429558\n",
      "  (11, 2067)\t-2.0\n",
      "  (11, 2050)\t3.4641015840505056\n",
      "  (12, 2068)\t-2.0\n",
      "  (12, 2053)\t2.0\n",
      "  (13, 2069)\t-2.0\n",
      "  (13, 2054)\t2.8284271005429558\n",
      "  (13, 2052)\t2.0\n",
      "  (14, 2070)\t-2.0\n",
      "  (14, 2055)\t3.4641015840505056\n",
      "  (14, 2053)\t2.8284271005429558\n",
      "  (15, 2071)\t-2.0\n",
      "  (15, 2054)\t3.4641015840505056\n",
      "  (24, 2080)\t-2.8284271005429558\n",
      "  (24, 2065)\t2.0\n",
      "  (24, 2048)\t-2.0\n",
      "  (25, 2081)\t-2.8284271005429558\n",
      "  (25, 2066)\t2.8284271005429558\n",
      "  :\t:\n",
      "  (63470, 65509)\t-2.8284271005429558\n",
      "  (63470, 65494)\t2.8284271005429558\n",
      "  (63471, 65527)\t3.4641015840505056\n",
      "  (63471, 65510)\t-3.4641015840505056\n",
      "  (63471, 65495)\t2.8284271005429558\n",
      "  (63480, 65521)\t-2.0\n",
      "  (63480, 65504)\t3.4641015840505056\n",
      "  (63481, 65522)\t-2.8284271005429558\n",
      "  (63481, 65520)\t-2.0\n",
      "  (63481, 65505)\t3.4641015840505056\n",
      "  (63482, 65523)\t-3.4641015840505056\n",
      "  (63482, 65521)\t-2.8284271005429558\n",
      "  (63482, 65506)\t3.4641015840505056\n",
      "  (63483, 65522)\t-3.4641015840505056\n",
      "  (63483, 65507)\t3.4641015840505056\n",
      "  (63484, 65525)\t-2.0\n",
      "  (63484, 65508)\t3.4641015840505056\n",
      "  (63485, 65526)\t-2.8284271005429558\n",
      "  (63485, 65524)\t-2.0\n",
      "  (63485, 65509)\t3.4641015840505056\n",
      "  (63486, 65527)\t-3.4641015840505056\n",
      "  (63486, 65525)\t-2.8284271005429558\n",
      "  (63486, 65510)\t3.4641015840505056\n",
      "  (63487, 65526)\t-3.4641015840505056\n",
      "  (63487, 65511)\t3.4641015840505056\n"
     ]
    }
   ],
   "source": [
    "print(diff)"
   ]
  },
  {
   "cell_type": "code",
   "execution_count": 12,
   "metadata": {},
   "outputs": [
    {
     "data": {
      "text/plain": [
       "1.0000000000027285"
      ]
     },
     "execution_count": 12,
     "metadata": {},
     "output_type": "execute_result"
    }
   ],
   "source": [
    "np.linalg.norm(temp_sum.as_field_operator().as_compact_matrix().toarray(),ord=2)"
   ]
  },
  {
   "cell_type": "code",
   "execution_count": 13,
   "metadata": {},
   "outputs": [
    {
     "name": "stdout",
     "output_type": "stream",
     "text": [
      "run the function\n"
     ]
    },
    {
     "data": {
      "text/plain": [
       "nan"
      ]
     },
     "execution_count": 13,
     "metadata": {},
     "output_type": "execute_result"
    }
   ],
   "source": [
    "temp_sum.norm_bound()"
   ]
  },
  {
   "cell_type": "code",
   "execution_count": 9,
   "metadata": {},
   "outputs": [
    {
     "name": "stdout",
     "output_type": "stream",
     "text": [
      "  (0, 1)\t1.0\n",
      "  (1, 2)\t1.4142135623730951\n",
      "  (2, 3)\t1.7320508075688772\n"
     ]
    }
   ],
   "source": [
    "Ba = sparse.csr_matrix(np.diag([1.,np.sqrt(2),np.sqrt(3)],k=1))\n",
    "print(Ba)"
   ]
  },
  {
   "cell_type": "code",
   "execution_count": 6,
   "metadata": {},
   "outputs": [
    {
     "name": "stdout",
     "output_type": "stream",
     "text": [
      "2.3344142183389778\n"
     ]
    }
   ],
   "source": [
    "print(temp_term1.norm_bound())"
   ]
  },
  {
   "cell_type": "code",
   "execution_count": 10,
   "metadata": {},
   "outputs": [
    {
     "name": "stdout",
     "output_type": "stream",
     "text": [
      "2.334414181079421\n"
     ]
    }
   ],
   "source": [
    "ref_term1 = construct_op([('hu',0,2),('Ba',0)],3)\n",
    "print(np.linalg.norm(ref_term1.toarray(),ord = 2))"
   ]
  }
 ],
 "metadata": {
  "kernelspec": {
   "display_name": "base",
   "language": "python",
   "name": "python3"
  },
  "language_info": {
   "codemirror_mode": {
    "name": "ipython",
    "version": 3
   },
   "file_extension": ".py",
   "mimetype": "text/x-python",
   "name": "python",
   "nbconvert_exporter": "python",
   "pygments_lexer": "ipython3",
   "version": "3.11.5"
  }
 },
 "nbformat": 4,
 "nbformat_minor": 2
}
