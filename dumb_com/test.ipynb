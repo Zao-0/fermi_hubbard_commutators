{
 "cells": [
  {
   "cell_type": "code",
   "execution_count": 1,
   "metadata": {},
   "outputs": [],
   "source": [
    "from dumb_comutation import construct_op\n",
    "from scipy import sparse\n",
    "import numpy as np\n",
    "import sys\n",
    "sys.path.append('../')\n",
    "import fh_comm as fhc"
   ]
  },
  {
   "cell_type": "code",
   "execution_count": 2,
   "metadata": {},
   "outputs": [],
   "source": [
    "pos_list= [\n",
    "    [('hu',0,2),('Ba',0)],\n",
    "    [('hu',1,3),('Ba',3)],\n",
    "    [('hd',0,2),('Ba',0)],\n",
    "    [('hd',1,3),('Ba',3)]\n",
    "]\n",
    "neg_list= [\n",
    "    [('hu',0,2),('Ba',1)],\n",
    "    [('hu',1,3),('Ba',2)],\n",
    "    [('hd',0,2),('Ba',1)],\n",
    "    [('hd',1,3),('Ba',2)]\n",
    "]\n",
    "N=4"
   ]
  },
  {
   "cell_type": "code",
   "execution_count": 3,
   "metadata": {},
   "outputs": [],
   "source": [
    "result = 0\n",
    "for op in pos_list:\n",
    "    result+=construct_op(op,N)\n",
    "for op in neg_list:\n",
    "    result-=construct_op(op,N)"
   ]
  },
  {
   "cell_type": "code",
   "execution_count": 4,
   "metadata": {},
   "outputs": [
    {
     "name": "stdout",
     "output_type": "stream",
     "text": [
      "  (4, 1040)\t-1.0\n",
      "  (4, 1025)\t1.0\n",
      "  (5, 1041)\t-1.0\n",
      "  (5, 1024)\t1.0\n",
      "  (5, 1026)\t1.4142135381698608\n",
      "  (6, 1042)\t-1.0\n",
      "  (6, 1025)\t1.4142135381698608\n",
      "  (6, 1027)\t1.7320507764816284\n",
      "  (7, 1043)\t-1.0\n",
      "  (7, 1026)\t1.7320507764816284\n",
      "  (8, 2064)\t1.0\n",
      "  (8, 2049)\t-1.0\n",
      "  (9, 2065)\t1.0\n",
      "  (9, 2048)\t-1.0\n",
      "  (9, 2050)\t-1.4142135381698608\n",
      "  (10, 2066)\t1.0\n",
      "  (10, 2049)\t-1.4142135381698608\n",
      "  (10, 2051)\t-1.7320507764816284\n",
      "  (11, 2067)\t1.0\n",
      "  (11, 2050)\t-1.7320507764816284\n",
      "  (12, 1048)\t1.0\n",
      "  (12, 2068)\t1.0\n",
      "  (12, 1033)\t-1.0\n",
      "  (12, 2053)\t-1.0\n",
      "  (13, 1049)\t1.0\n",
      "  :\t:\n",
      "  (65522, 63483)\t1.7320507764816284\n",
      "  (65523, 64487)\t1.7320507764816284\n",
      "  (65523, 63467)\t-1.7320507764816284\n",
      "  (65523, 64502)\t-1.7320507764816284\n",
      "  (65523, 63482)\t1.7320507764816284\n",
      "  (65524, 63468)\t-1.7320507764816284\n",
      "  (65524, 63485)\t1.0\n",
      "  (65525, 63469)\t-1.7320507764816284\n",
      "  (65525, 63484)\t1.0\n",
      "  (65525, 63486)\t1.4142135381698608\n",
      "  (65526, 63470)\t-1.7320507764816284\n",
      "  (65526, 63485)\t1.4142135381698608\n",
      "  (65526, 63487)\t1.7320507764816284\n",
      "  (65527, 63471)\t-1.7320507764816284\n",
      "  (65527, 63486)\t1.7320507764816284\n",
      "  (65528, 64492)\t-1.7320507764816284\n",
      "  (65528, 64509)\t1.0\n",
      "  (65529, 64493)\t-1.7320507764816284\n",
      "  (65529, 64508)\t1.0\n",
      "  (65529, 64510)\t1.4142135381698608\n",
      "  (65530, 64494)\t-1.7320507764816284\n",
      "  (65530, 64509)\t1.4142135381698608\n",
      "  (65530, 64511)\t1.7320507764816284\n",
      "  (65531, 64495)\t-1.7320507764816284\n",
      "  (65531, 64510)\t1.7320507764816284\n"
     ]
    }
   ],
   "source": [
    "print(result)"
   ]
  },
  {
   "cell_type": "code",
   "execution_count": 5,
   "metadata": {},
   "outputs": [
    {
     "data": {
      "text/plain": [
       "7.455220883914e-312"
      ]
     },
     "execution_count": 5,
     "metadata": {},
     "output_type": "execute_result"
    }
   ],
   "source": [
    "np.linalg.norm(result.toarray(),ord=2)"
   ]
  },
  {
   "cell_type": "code",
   "execution_count": 7,
   "metadata": {},
   "outputs": [
    {
     "data": {
      "text/plain": [
       "nan"
      ]
     },
     "execution_count": 7,
     "metadata": {},
     "output_type": "execute_result"
    }
   ],
   "source": [
    "np.linalg.norm(result.toarray(),ord=2)"
   ]
  },
  {
   "cell_type": "code",
   "execution_count": 6,
   "metadata": {},
   "outputs": [
    {
     "ename": "ValueError",
     "evalue": "`A` must not be empty.",
     "output_type": "error",
     "traceback": [
      "\u001b[1;31m---------------------------------------------------------------------------\u001b[0m",
      "\u001b[1;31mValueError\u001b[0m                                Traceback (most recent call last)",
      "Cell \u001b[1;32mIn[6], line 1\u001b[0m\n\u001b[1;32m----> 1\u001b[0m sparse\u001b[38;5;241m.\u001b[39mlinalg\u001b[38;5;241m.\u001b[39mnorm(result,\u001b[38;5;28mord\u001b[39m\u001b[38;5;241m=\u001b[39m\u001b[38;5;241m2\u001b[39m)\n",
      "File \u001b[1;32md:\\Anaconda3\\Lib\\site-packages\\scipy\\sparse\\linalg\\_norm.py:145\u001b[0m, in \u001b[0;36mnorm\u001b[1;34m(x, ord, axis)\u001b[0m\n\u001b[0;32m    142\u001b[0m     \u001b[38;5;28;01mraise\u001b[39;00m \u001b[38;5;167;01mValueError\u001b[39;00m(\u001b[38;5;124m'\u001b[39m\u001b[38;5;124mDuplicate axes given.\u001b[39m\u001b[38;5;124m'\u001b[39m)\n\u001b[0;32m    143\u001b[0m \u001b[38;5;28;01mif\u001b[39;00m \u001b[38;5;28mord\u001b[39m \u001b[38;5;241m==\u001b[39m \u001b[38;5;241m2\u001b[39m:\n\u001b[0;32m    144\u001b[0m     \u001b[38;5;66;03m# Only solver=\"lobpcg\" supports all numpy dtypes\u001b[39;00m\n\u001b[1;32m--> 145\u001b[0m     _, s, _ \u001b[38;5;241m=\u001b[39m svds(x, k\u001b[38;5;241m=\u001b[39m\u001b[38;5;241m1\u001b[39m, solver\u001b[38;5;241m=\u001b[39m\u001b[38;5;124m\"\u001b[39m\u001b[38;5;124mlobpcg\u001b[39m\u001b[38;5;124m\"\u001b[39m)\n\u001b[0;32m    146\u001b[0m     \u001b[38;5;28;01mreturn\u001b[39;00m s[\u001b[38;5;241m0\u001b[39m]\n\u001b[0;32m    147\u001b[0m \u001b[38;5;28;01melif\u001b[39;00m \u001b[38;5;28mord\u001b[39m \u001b[38;5;241m==\u001b[39m \u001b[38;5;241m-\u001b[39m\u001b[38;5;241m2\u001b[39m:\n",
      "File \u001b[1;32md:\\Anaconda3\\Lib\\site-packages\\scipy\\sparse\\linalg\\_eigen\\_svds.py:438\u001b[0m, in \u001b[0;36msvds\u001b[1;34m(A, k, ncv, tol, which, v0, maxiter, return_singular_vectors, solver, random_state, options)\u001b[0m\n\u001b[0;32m     99\u001b[0m \u001b[38;5;28;01mdef\u001b[39;00m \u001b[38;5;21msvds\u001b[39m(A, k\u001b[38;5;241m=\u001b[39m\u001b[38;5;241m6\u001b[39m, ncv\u001b[38;5;241m=\u001b[39m\u001b[38;5;28;01mNone\u001b[39;00m, tol\u001b[38;5;241m=\u001b[39m\u001b[38;5;241m0\u001b[39m, which\u001b[38;5;241m=\u001b[39m\u001b[38;5;124m'\u001b[39m\u001b[38;5;124mLM\u001b[39m\u001b[38;5;124m'\u001b[39m, v0\u001b[38;5;241m=\u001b[39m\u001b[38;5;28;01mNone\u001b[39;00m,\n\u001b[0;32m    100\u001b[0m          maxiter\u001b[38;5;241m=\u001b[39m\u001b[38;5;28;01mNone\u001b[39;00m, return_singular_vectors\u001b[38;5;241m=\u001b[39m\u001b[38;5;28;01mTrue\u001b[39;00m,\n\u001b[0;32m    101\u001b[0m          solver\u001b[38;5;241m=\u001b[39m\u001b[38;5;124m'\u001b[39m\u001b[38;5;124marpack\u001b[39m\u001b[38;5;124m'\u001b[39m, random_state\u001b[38;5;241m=\u001b[39m\u001b[38;5;28;01mNone\u001b[39;00m, options\u001b[38;5;241m=\u001b[39m\u001b[38;5;28;01mNone\u001b[39;00m):\n\u001b[0;32m    102\u001b[0m \u001b[38;5;250m    \u001b[39m\u001b[38;5;124;03m\"\"\"\u001b[39;00m\n\u001b[0;32m    103\u001b[0m \u001b[38;5;124;03m    Partial singular value decomposition of a sparse matrix.\u001b[39;00m\n\u001b[0;32m    104\u001b[0m \n\u001b[1;32m   (...)\u001b[0m\n\u001b[0;32m    436\u001b[0m \n\u001b[0;32m    437\u001b[0m \u001b[38;5;124;03m    \"\"\"\u001b[39;00m\n\u001b[1;32m--> 438\u001b[0m     args \u001b[38;5;241m=\u001b[39m _iv(A, k, ncv, tol, which, v0, maxiter, return_singular_vectors,\n\u001b[0;32m    439\u001b[0m                solver, random_state)\n\u001b[0;32m    440\u001b[0m     (A, k, ncv, tol, which, v0, maxiter,\n\u001b[0;32m    441\u001b[0m      return_singular_vectors, solver, random_state) \u001b[38;5;241m=\u001b[39m args\n\u001b[0;32m    443\u001b[0m     largest \u001b[38;5;241m=\u001b[39m (which \u001b[38;5;241m==\u001b[39m \u001b[38;5;124m'\u001b[39m\u001b[38;5;124mLM\u001b[39m\u001b[38;5;124m'\u001b[39m)\n",
      "File \u001b[1;32md:\\Anaconda3\\Lib\\site-packages\\scipy\\sparse\\linalg\\_eigen\\_svds.py:38\u001b[0m, in \u001b[0;36m_iv\u001b[1;34m(A, k, ncv, tol, which, v0, maxiter, return_singular, solver, random_state)\u001b[0m\n\u001b[0;32m     36\u001b[0m \u001b[38;5;28;01mif\u001b[39;00m np\u001b[38;5;241m.\u001b[39mprod(A\u001b[38;5;241m.\u001b[39mshape) \u001b[38;5;241m==\u001b[39m \u001b[38;5;241m0\u001b[39m:\n\u001b[0;32m     37\u001b[0m     message \u001b[38;5;241m=\u001b[39m \u001b[38;5;124m\"\u001b[39m\u001b[38;5;124m`A` must not be empty.\u001b[39m\u001b[38;5;124m\"\u001b[39m\n\u001b[1;32m---> 38\u001b[0m     \u001b[38;5;28;01mraise\u001b[39;00m \u001b[38;5;167;01mValueError\u001b[39;00m(message)\n\u001b[0;32m     40\u001b[0m \u001b[38;5;66;03m# input validation/standardization for `k`\u001b[39;00m\n\u001b[0;32m     41\u001b[0m kmax \u001b[38;5;241m=\u001b[39m \u001b[38;5;28mmin\u001b[39m(A\u001b[38;5;241m.\u001b[39mshape) \u001b[38;5;28;01mif\u001b[39;00m solver \u001b[38;5;241m==\u001b[39m \u001b[38;5;124m'\u001b[39m\u001b[38;5;124mpropack\u001b[39m\u001b[38;5;124m'\u001b[39m \u001b[38;5;28;01melse\u001b[39;00m \u001b[38;5;28mmin\u001b[39m(A\u001b[38;5;241m.\u001b[39mshape) \u001b[38;5;241m-\u001b[39m \u001b[38;5;241m1\u001b[39m\n",
      "\u001b[1;31mValueError\u001b[0m: `A` must not be empty."
     ]
    }
   ],
   "source": [
    "sparse.linalg.norm(result,ord=2)"
   ]
  },
  {
   "cell_type": "code",
   "execution_count": 8,
   "metadata": {},
   "outputs": [
    {
     "name": "stdout",
     "output_type": "stream",
     "text": [
      "9.33765687335574\n",
      "9.337656873355158\n"
     ]
    }
   ],
   "source": [
    "# Add the spin-up and bosonic together\n",
    "temp_term1 = fhc.ProductOp([fhc.HoppingOp((-1,),(1,),0,1,1,4),fhc.BosonAddOp((-1,),1,4)],1,1,4)\n",
    "temp_term2 = fhc.ProductOp([fhc.HoppingOp((-1,),(1,),0,1,1,4),fhc.BosonAddOp((0,),1,4)],-1,1,4)\n",
    "temp_term3 = fhc.ProductOp([fhc.HoppingOp((0,),(2,),0,1,1,4),fhc.BosonAddOp((1,),1,4)],-1,1,4)\n",
    "temp_term4 = fhc.ProductOp([fhc.HoppingOp((0,),(2,),0,1,1,4),fhc.BosonAddOp((2,),1,4)],1,1,4)\n",
    "temp_sum1 = fhc.SumOp([temp_term1,temp_term2,temp_term3,temp_term4])\n",
    "print(temp_sum1.norm_bound())\n",
    "# Add the spin-down and bosonic together\n",
    "temp_term5 = fhc.ProductOp([fhc.HoppingOp((-1,),(1,),1,1,1,4),fhc.BosonAddOp((-1,),1,4)],1,1,4)\n",
    "temp_term6 = fhc.ProductOp([fhc.HoppingOp((-1,),(1,),1,1,1,4),fhc.BosonAddOp((0,),1,4)],-1,1,4)\n",
    "temp_term7 = fhc.ProductOp([fhc.HoppingOp((0,),(2,),1,1,1,4),fhc.BosonAddOp((1,),1,4)],-1,1,4)\n",
    "temp_term8 = fhc.ProductOp([fhc.HoppingOp((0,),(2,),1,1,1,4),fhc.BosonAddOp((2,),1,4)],1,1,4)\n",
    "temp_sum2 = fhc.SumOp([temp_term5,temp_term6,temp_term7,temp_term8])\n",
    "print(temp_sum2.norm_bound())"
   ]
  },
  {
   "cell_type": "code",
   "execution_count": 9,
   "metadata": {},
   "outputs": [
    {
     "name": "stdout",
     "output_type": "stream",
     "text": [
      "(h_{(-1,), (1,), up}) @ (Ba_(-1,)) + (-1) (h_{(-1,), (1,), up}) @ (Ba_(0,)) + (-1) (h_{(0,), (2,), up}) @ (Ba_(1,)) + (h_{(0,), (2,), up}) @ (Ba_(2,)) + (h_{(-1,), (1,), dn}) @ (Ba_(-1,)) + (-1) (h_{(-1,), (1,), dn}) @ (Ba_(0,)) + (-1) (h_{(0,), (2,), dn}) @ (Ba_(1,)) + (h_{(0,), (2,), dn}) @ (Ba_(2,))\n"
     ]
    }
   ],
   "source": [
    "temp_sum = fhc.SumOp([temp_sum1,temp_sum2])\n",
    "print(temp_sum)"
   ]
  },
  {
   "cell_type": "code",
   "execution_count": 10,
   "metadata": {},
   "outputs": [
    {
     "data": {
      "text/plain": [
       "nan"
      ]
     },
     "execution_count": 10,
     "metadata": {},
     "output_type": "execute_result"
    }
   ],
   "source": [
    "np.linalg.norm(temp_sum.as_field_operator().as_compact_matrix().toarray(),ord=2)"
   ]
  },
  {
   "cell_type": "code",
   "execution_count": 28,
   "metadata": {},
   "outputs": [
    {
     "data": {
      "text/plain": [
       "nan"
      ]
     },
     "execution_count": 28,
     "metadata": {},
     "output_type": "execute_result"
    }
   ],
   "source": [
    "np.linalg.norm(temp_sum.as_field_operator().as_compact_matrix().toarray(),ord=2)"
   ]
  },
  {
   "cell_type": "code",
   "execution_count": 29,
   "metadata": {},
   "outputs": [
    {
     "ename": "ValueError",
     "evalue": "`A` must not be empty.",
     "output_type": "error",
     "traceback": [
      "\u001b[1;31m---------------------------------------------------------------------------\u001b[0m",
      "\u001b[1;31mValueError\u001b[0m                                Traceback (most recent call last)",
      "Cell \u001b[1;32mIn[29], line 1\u001b[0m\n\u001b[1;32m----> 1\u001b[0m temp_sum\u001b[38;5;241m.\u001b[39mnorm_bound()\n",
      "File \u001b[1;32md:\\Proj\\fermi_hubbard_commutators\\dumb_com\\..\\fh_comm\\hamiltonian_ops.py:1504\u001b[0m, in \u001b[0;36mSumOp.norm_bound\u001b[1;34m(self)\u001b[0m\n\u001b[0;32m   1502\u001b[0m     cmt \u001b[38;5;241m=\u001b[39m \u001b[38;5;28mself\u001b[39m\u001b[38;5;241m.\u001b[39mas_field_operator()\u001b[38;5;241m.\u001b[39mas_compact_matrix()\n\u001b[0;32m   1503\u001b[0m     \u001b[38;5;28;01mif\u001b[39;00m \u001b[38;5;28mself\u001b[39m\u001b[38;5;241m.\u001b[39mmod \u001b[38;5;241m==\u001b[39m \u001b[38;5;241m1\u001b[39m:\n\u001b[1;32m-> 1504\u001b[0m         \u001b[38;5;28;01mreturn\u001b[39;00m  scipy\u001b[38;5;241m.\u001b[39msparse\u001b[38;5;241m.\u001b[39mlinalg\u001b[38;5;241m.\u001b[39mnorm(cmt,\u001b[38;5;28mord\u001b[39m\u001b[38;5;241m=\u001b[39m\u001b[38;5;241m2\u001b[39m)\n\u001b[0;32m   1505\u001b[0m     \u001b[38;5;28;01mreturn\u001b[39;00m _spectral_norm_conserved_particles(nmodes, cmt)\n\u001b[0;32m   1507\u001b[0m \u001b[38;5;28;01mif\u001b[39;00m \u001b[38;5;28mself\u001b[39m\u001b[38;5;241m.\u001b[39mis_quadratic_sum():\n\u001b[0;32m   1508\u001b[0m     \u001b[38;5;66;03m# compute exact norm based on quadratic form\u001b[39;00m\n",
      "File \u001b[1;32md:\\Anaconda3\\Lib\\site-packages\\scipy\\sparse\\linalg\\_norm.py:145\u001b[0m, in \u001b[0;36mnorm\u001b[1;34m(x, ord, axis)\u001b[0m\n\u001b[0;32m    142\u001b[0m     \u001b[38;5;28;01mraise\u001b[39;00m \u001b[38;5;167;01mValueError\u001b[39;00m(\u001b[38;5;124m'\u001b[39m\u001b[38;5;124mDuplicate axes given.\u001b[39m\u001b[38;5;124m'\u001b[39m)\n\u001b[0;32m    143\u001b[0m \u001b[38;5;28;01mif\u001b[39;00m \u001b[38;5;28mord\u001b[39m \u001b[38;5;241m==\u001b[39m \u001b[38;5;241m2\u001b[39m:\n\u001b[0;32m    144\u001b[0m     \u001b[38;5;66;03m# Only solver=\"lobpcg\" supports all numpy dtypes\u001b[39;00m\n\u001b[1;32m--> 145\u001b[0m     _, s, _ \u001b[38;5;241m=\u001b[39m svds(x, k\u001b[38;5;241m=\u001b[39m\u001b[38;5;241m1\u001b[39m, solver\u001b[38;5;241m=\u001b[39m\u001b[38;5;124m\"\u001b[39m\u001b[38;5;124mlobpcg\u001b[39m\u001b[38;5;124m\"\u001b[39m)\n\u001b[0;32m    146\u001b[0m     \u001b[38;5;28;01mreturn\u001b[39;00m s[\u001b[38;5;241m0\u001b[39m]\n\u001b[0;32m    147\u001b[0m \u001b[38;5;28;01melif\u001b[39;00m \u001b[38;5;28mord\u001b[39m \u001b[38;5;241m==\u001b[39m \u001b[38;5;241m-\u001b[39m\u001b[38;5;241m2\u001b[39m:\n",
      "File \u001b[1;32md:\\Anaconda3\\Lib\\site-packages\\scipy\\sparse\\linalg\\_eigen\\_svds.py:438\u001b[0m, in \u001b[0;36msvds\u001b[1;34m(A, k, ncv, tol, which, v0, maxiter, return_singular_vectors, solver, random_state, options)\u001b[0m\n\u001b[0;32m     99\u001b[0m \u001b[38;5;28;01mdef\u001b[39;00m \u001b[38;5;21msvds\u001b[39m(A, k\u001b[38;5;241m=\u001b[39m\u001b[38;5;241m6\u001b[39m, ncv\u001b[38;5;241m=\u001b[39m\u001b[38;5;28;01mNone\u001b[39;00m, tol\u001b[38;5;241m=\u001b[39m\u001b[38;5;241m0\u001b[39m, which\u001b[38;5;241m=\u001b[39m\u001b[38;5;124m'\u001b[39m\u001b[38;5;124mLM\u001b[39m\u001b[38;5;124m'\u001b[39m, v0\u001b[38;5;241m=\u001b[39m\u001b[38;5;28;01mNone\u001b[39;00m,\n\u001b[0;32m    100\u001b[0m          maxiter\u001b[38;5;241m=\u001b[39m\u001b[38;5;28;01mNone\u001b[39;00m, return_singular_vectors\u001b[38;5;241m=\u001b[39m\u001b[38;5;28;01mTrue\u001b[39;00m,\n\u001b[0;32m    101\u001b[0m          solver\u001b[38;5;241m=\u001b[39m\u001b[38;5;124m'\u001b[39m\u001b[38;5;124marpack\u001b[39m\u001b[38;5;124m'\u001b[39m, random_state\u001b[38;5;241m=\u001b[39m\u001b[38;5;28;01mNone\u001b[39;00m, options\u001b[38;5;241m=\u001b[39m\u001b[38;5;28;01mNone\u001b[39;00m):\n\u001b[0;32m    102\u001b[0m \u001b[38;5;250m    \u001b[39m\u001b[38;5;124;03m\"\"\"\u001b[39;00m\n\u001b[0;32m    103\u001b[0m \u001b[38;5;124;03m    Partial singular value decomposition of a sparse matrix.\u001b[39;00m\n\u001b[0;32m    104\u001b[0m \n\u001b[1;32m   (...)\u001b[0m\n\u001b[0;32m    436\u001b[0m \n\u001b[0;32m    437\u001b[0m \u001b[38;5;124;03m    \"\"\"\u001b[39;00m\n\u001b[1;32m--> 438\u001b[0m     args \u001b[38;5;241m=\u001b[39m _iv(A, k, ncv, tol, which, v0, maxiter, return_singular_vectors,\n\u001b[0;32m    439\u001b[0m                solver, random_state)\n\u001b[0;32m    440\u001b[0m     (A, k, ncv, tol, which, v0, maxiter,\n\u001b[0;32m    441\u001b[0m      return_singular_vectors, solver, random_state) \u001b[38;5;241m=\u001b[39m args\n\u001b[0;32m    443\u001b[0m     largest \u001b[38;5;241m=\u001b[39m (which \u001b[38;5;241m==\u001b[39m \u001b[38;5;124m'\u001b[39m\u001b[38;5;124mLM\u001b[39m\u001b[38;5;124m'\u001b[39m)\n",
      "File \u001b[1;32md:\\Anaconda3\\Lib\\site-packages\\scipy\\sparse\\linalg\\_eigen\\_svds.py:38\u001b[0m, in \u001b[0;36m_iv\u001b[1;34m(A, k, ncv, tol, which, v0, maxiter, return_singular, solver, random_state)\u001b[0m\n\u001b[0;32m     36\u001b[0m \u001b[38;5;28;01mif\u001b[39;00m np\u001b[38;5;241m.\u001b[39mprod(A\u001b[38;5;241m.\u001b[39mshape) \u001b[38;5;241m==\u001b[39m \u001b[38;5;241m0\u001b[39m:\n\u001b[0;32m     37\u001b[0m     message \u001b[38;5;241m=\u001b[39m \u001b[38;5;124m\"\u001b[39m\u001b[38;5;124m`A` must not be empty.\u001b[39m\u001b[38;5;124m\"\u001b[39m\n\u001b[1;32m---> 38\u001b[0m     \u001b[38;5;28;01mraise\u001b[39;00m \u001b[38;5;167;01mValueError\u001b[39;00m(message)\n\u001b[0;32m     40\u001b[0m \u001b[38;5;66;03m# input validation/standardization for `k`\u001b[39;00m\n\u001b[0;32m     41\u001b[0m kmax \u001b[38;5;241m=\u001b[39m \u001b[38;5;28mmin\u001b[39m(A\u001b[38;5;241m.\u001b[39mshape) \u001b[38;5;28;01mif\u001b[39;00m solver \u001b[38;5;241m==\u001b[39m \u001b[38;5;124m'\u001b[39m\u001b[38;5;124mpropack\u001b[39m\u001b[38;5;124m'\u001b[39m \u001b[38;5;28;01melse\u001b[39;00m \u001b[38;5;28mmin\u001b[39m(A\u001b[38;5;241m.\u001b[39mshape) \u001b[38;5;241m-\u001b[39m \u001b[38;5;241m1\u001b[39m\n",
      "\u001b[1;31mValueError\u001b[0m: `A` must not be empty."
     ]
    }
   ],
   "source": [
    "temp_sum.norm_bound()"
   ]
  }
 ],
 "metadata": {
  "kernelspec": {
   "display_name": "base",
   "language": "python",
   "name": "python3"
  },
  "language_info": {
   "codemirror_mode": {
    "name": "ipython",
    "version": 3
   },
   "file_extension": ".py",
   "mimetype": "text/x-python",
   "name": "python",
   "nbconvert_exporter": "python",
   "pygments_lexer": "ipython3",
   "version": "3.11.5"
  }
 },
 "nbformat": 4,
 "nbformat_minor": 2
}
