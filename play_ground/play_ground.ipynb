{
 "cells": [
  {
   "cell_type": "code",
   "execution_count": 1,
   "metadata": {},
   "outputs": [],
   "source": [
    "import sys\n",
    "sys.path.append('../')\n",
    "import fh_comm as fhc\n",
    "import sign_ck as sck\n",
    "import numpy as np\n",
    "from scipy.sparse import csr_matrix"
   ]
  },
  {
   "cell_type": "code",
   "execution_count": null,
   "metadata": {},
   "outputs": [],
   "source": [
    "def fhc2sck(i:Sequence[int], s:int, n:int, mod:int=0):\n",
    "    assert s in [0,1,2]\n",
    "    assert mod in [0,1]\n",
    "    if s==2:\n",
    "        assert mod ==1\n",
    "    base = 2\n",
    "    if mod:\n",
    "        base =3\n",
    "    if len(i)==1:\n",
    "        pos = i[0]\n",
    "        return base*n, 2**(base*(n-pos)-1-s)"
   ]
  },
  {
   "cell_type": "code",
   "execution_count": 16,
   "metadata": {},
   "outputs": [],
   "source": [
    "N = 4\n",
    "translatt = fhc.SubLattice(np.array([[2]]))\n",
    "# we need to verify the exact matrix of operators\n",
    "hopping_01up = sck.create_op(N, 2).dot(sck.annihil_op(N, 2**3))+sck.annihil_op(N,2).dot(sck.create_op(N, 2**3))\n",
    "hopping_01up_ex = fhc.HoppingOp((0,), (1,), 0, 1)"
   ]
  },
  {
   "cell_type": "code",
   "execution_count": 17,
   "metadata": {},
   "outputs": [
    {
     "name": "stdout",
     "output_type": "stream",
     "text": [
      "  (2, 8)\t1.0\n",
      "  (3, 9)\t1.0\n",
      "  (6, 12)\t-1.0\n",
      "  (7, 13)\t-1.0\n",
      "  (8, 2)\t-1.0\n",
      "  (9, 3)\t-1.0\n",
      "  (12, 6)\t1.0\n",
      "  (13, 7)\t1.0\n"
     ]
    }
   ],
   "source": [
    "print(hopping_01up)"
   ]
  },
  {
   "cell_type": "code",
   "execution_count": 9,
   "metadata": {},
   "outputs": [
    {
     "name": "stdout",
     "output_type": "stream",
     "text": [
      "  (2, 8)\t1.0\n",
      "  (3, 9)\t1.0\n",
      "  (6, 12)\t-1.0\n",
      "  (7, 13)\t-1.0\n",
      "  (8, 2)\t1.0\n",
      "  (9, 3)\t1.0\n",
      "  (12, 6)\t-1.0\n",
      "  (13, 7)\t-1.0\n"
     ]
    }
   ],
   "source": [
    "print(hopping_01up_ex.as_field_operator().as_matrix((2,),translatt))"
   ]
  },
  {
   "cell_type": "code",
   "execution_count": 18,
   "metadata": {},
   "outputs": [],
   "source": [
    "hopping_01dn = sck.create_op(N, 1).dot(sck.annihil_op(N, 2**2))+sck.annihil_op(N,1).dot(sck.create_op(N, 2**2))\n",
    "hopping_01dn_ex = fhc.HoppingOp((0,), (1,), 1, 1)"
   ]
  },
  {
   "cell_type": "code",
   "execution_count": 19,
   "metadata": {},
   "outputs": [
    {
     "name": "stdout",
     "output_type": "stream",
     "text": [
      "  (2, 8)\t1.0\n",
      "  (3, 9)\t1.0\n",
      "  (6, 12)\t-1.0\n",
      "  (7, 13)\t-1.0\n",
      "  (8, 2)\t-1.0\n",
      "  (9, 3)\t-1.0\n",
      "  (12, 6)\t1.0\n",
      "  (13, 7)\t1.0\n"
     ]
    }
   ],
   "source": [
    "print(hopping_01up)"
   ]
  },
  {
   "cell_type": "code",
   "execution_count": 20,
   "metadata": {},
   "outputs": [
    {
     "name": "stdout",
     "output_type": "stream",
     "text": [
      "  (2, 8)\t1.0\n",
      "  (3, 9)\t1.0\n",
      "  (6, 12)\t-1.0\n",
      "  (7, 13)\t-1.0\n",
      "  (8, 2)\t1.0\n",
      "  (9, 3)\t1.0\n",
      "  (12, 6)\t-1.0\n",
      "  (13, 7)\t-1.0\n"
     ]
    }
   ],
   "source": [
    "print(hopping_01up_ex.as_field_operator().as_matrix((2,),translatt))"
   ]
  },
  {
   "cell_type": "code",
   "execution_count": 26,
   "metadata": {},
   "outputs": [],
   "source": [
    "num_0up = sck.create_op(N, 2**3).dot(sck.annihil_op(N,2**3))\n",
    "num_0up_ex = fhc.NumberOp((0,),0,1)"
   ]
  },
  {
   "cell_type": "code",
   "execution_count": 22,
   "metadata": {},
   "outputs": [
    {
     "name": "stdout",
     "output_type": "stream",
     "text": [
      "  (8, 8)\t1.0\n",
      "  (9, 9)\t1.0\n",
      "  (10, 10)\t1.0\n",
      "  (11, 11)\t1.0\n",
      "  (12, 12)\t1.0\n",
      "  (13, 13)\t1.0\n",
      "  (14, 14)\t1.0\n",
      "  (15, 15)\t1.0\n"
     ]
    }
   ],
   "source": [
    "print(num_0up_ex.as_field_operator().as_matrix((2,),translatt))"
   ]
  },
  {
   "cell_type": "code",
   "execution_count": 27,
   "metadata": {},
   "outputs": [
    {
     "name": "stdout",
     "output_type": "stream",
     "text": [
      "  (8, 8)\t1.0\n",
      "  (9, 9)\t1.0\n",
      "  (10, 10)\t1.0\n",
      "  (11, 11)\t1.0\n",
      "  (12, 12)\t1.0\n",
      "  (13, 13)\t1.0\n",
      "  (14, 14)\t1.0\n",
      "  (15, 15)\t1.0\n"
     ]
    }
   ],
   "source": [
    "print(num_0up)"
   ]
  },
  {
   "cell_type": "code",
   "execution_count": 6,
   "metadata": {},
   "outputs": [],
   "source": [
    "N = 8\n",
    "hopping_00_01_up_fhc = fhc.HoppingOp((0,0),(0,1),0,1.)\n",
    "hopping_00_01_up_sck = sck.create_op(N,2**7).dot(sck.annihil_op(N,2**5))+sck.annihil_op(N,2**7).dot(sck.create_op(N,2**5))"
   ]
  },
  {
   "cell_type": "code",
   "execution_count": 7,
   "metadata": {},
   "outputs": [
    {
     "name": "stdout",
     "output_type": "stream",
     "text": [
      "  (32, 128)\t-1.0\n",
      "  (33, 129)\t-1.0\n",
      "  (34, 130)\t-1.0\n",
      "  (35, 131)\t-1.0\n",
      "  (36, 132)\t-1.0\n",
      "  (37, 133)\t-1.0\n",
      "  (38, 134)\t-1.0\n",
      "  (39, 135)\t-1.0\n",
      "  (40, 136)\t-1.0\n",
      "  (41, 137)\t-1.0\n",
      "  (42, 138)\t-1.0\n",
      "  (43, 139)\t-1.0\n",
      "  (44, 140)\t-1.0\n",
      "  (45, 141)\t-1.0\n",
      "  (46, 142)\t-1.0\n",
      "  (47, 143)\t-1.0\n",
      "  (48, 144)\t-1.0\n",
      "  (49, 145)\t-1.0\n",
      "  (50, 146)\t-1.0\n",
      "  (51, 147)\t-1.0\n",
      "  (52, 148)\t-1.0\n",
      "  (53, 149)\t-1.0\n",
      "  (54, 150)\t-1.0\n",
      "  (55, 151)\t-1.0\n",
      "  (56, 152)\t-1.0\n",
      "  :\t:\n",
      "  (199, 103)\t-1.0\n",
      "  (200, 104)\t-1.0\n",
      "  (201, 105)\t-1.0\n",
      "  (202, 106)\t-1.0\n",
      "  (203, 107)\t-1.0\n",
      "  (204, 108)\t-1.0\n",
      "  (205, 109)\t-1.0\n",
      "  (206, 110)\t-1.0\n",
      "  (207, 111)\t-1.0\n",
      "  (208, 112)\t-1.0\n",
      "  (209, 113)\t-1.0\n",
      "  (210, 114)\t-1.0\n",
      "  (211, 115)\t-1.0\n",
      "  (212, 116)\t-1.0\n",
      "  (213, 117)\t-1.0\n",
      "  (214, 118)\t-1.0\n",
      "  (215, 119)\t-1.0\n",
      "  (216, 120)\t-1.0\n",
      "  (217, 121)\t-1.0\n",
      "  (218, 122)\t-1.0\n",
      "  (219, 123)\t-1.0\n",
      "  (220, 124)\t-1.0\n",
      "  (221, 125)\t-1.0\n",
      "  (222, 126)\t-1.0\n",
      "  (223, 127)\t-1.0\n"
     ]
    }
   ],
   "source": [
    "print(hopping_00_01_up_sck)"
   ]
  },
  {
   "cell_type": "code",
   "execution_count": 4,
   "metadata": {},
   "outputs": [
    {
     "name": "stdout",
     "output_type": "stream",
     "text": [
      "  (32, 128)\t1.0\n",
      "  (33, 129)\t1.0\n",
      "  (34, 130)\t1.0\n",
      "  (35, 131)\t1.0\n",
      "  (36, 132)\t1.0\n",
      "  (37, 133)\t1.0\n",
      "  (38, 134)\t1.0\n",
      "  (39, 135)\t1.0\n",
      "  (40, 136)\t1.0\n",
      "  (41, 137)\t1.0\n",
      "  (42, 138)\t1.0\n",
      "  (43, 139)\t1.0\n",
      "  (44, 140)\t1.0\n",
      "  (45, 141)\t1.0\n",
      "  (46, 142)\t1.0\n",
      "  (47, 143)\t1.0\n",
      "  (48, 144)\t1.0\n",
      "  (49, 145)\t1.0\n",
      "  (50, 146)\t1.0\n",
      "  (51, 147)\t1.0\n",
      "  (52, 148)\t1.0\n",
      "  (53, 149)\t1.0\n",
      "  (54, 150)\t1.0\n",
      "  (55, 151)\t1.0\n",
      "  (56, 152)\t1.0\n",
      "  :\t:\n",
      "  (199, 103)\t-1.0\n",
      "  (200, 104)\t-1.0\n",
      "  (201, 105)\t-1.0\n",
      "  (202, 106)\t-1.0\n",
      "  (203, 107)\t-1.0\n",
      "  (204, 108)\t-1.0\n",
      "  (205, 109)\t-1.0\n",
      "  (206, 110)\t-1.0\n",
      "  (207, 111)\t-1.0\n",
      "  (208, 112)\t-1.0\n",
      "  (209, 113)\t-1.0\n",
      "  (210, 114)\t-1.0\n",
      "  (211, 115)\t-1.0\n",
      "  (212, 116)\t-1.0\n",
      "  (213, 117)\t-1.0\n",
      "  (214, 118)\t-1.0\n",
      "  (215, 119)\t-1.0\n",
      "  (216, 120)\t-1.0\n",
      "  (217, 121)\t-1.0\n",
      "  (218, 122)\t-1.0\n",
      "  (219, 123)\t-1.0\n",
      "  (220, 124)\t-1.0\n",
      "  (221, 125)\t-1.0\n",
      "  (222, 126)\t-1.0\n",
      "  (223, 127)\t-1.0\n"
     ]
    }
   ],
   "source": [
    "print(hopping_00_01_up_fhc.as_field_operator().as_matrix((2,2)))"
   ]
  }
 ],
 "metadata": {
  "kernelspec": {
   "display_name": "Python 3.11.3 ('base')",
   "language": "python",
   "name": "python3"
  },
  "language_info": {
   "codemirror_mode": {
    "name": "ipython",
    "version": 3
   },
   "file_extension": ".py",
   "mimetype": "text/x-python",
   "name": "python",
   "nbconvert_exporter": "python",
   "pygments_lexer": "ipython3",
   "version": "3.11.3"
  },
  "orig_nbformat": 4,
  "vscode": {
   "interpreter": {
    "hash": "35792f690c9f1f3442547cf038e6c24b19cf974df967b0f50cbf97b948b3dfb5"
   }
  }
 },
 "nbformat": 4,
 "nbformat_minor": 2
}
