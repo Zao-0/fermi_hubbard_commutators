{
 "cells": [
  {
   "cell_type": "code",
   "execution_count": 1,
   "metadata": {},
   "outputs": [],
   "source": [
    "import sys\n",
    "sys.path.append('../')\n",
    "import fh_comm as fhc\n",
    "import sign_ck as sck\n",
    "import numpy as np"
   ]
  },
  {
   "cell_type": "code",
   "execution_count": 2,
   "metadata": {},
   "outputs": [
    {
     "ename": "NameError",
     "evalue": "name 'Sequence' is not defined",
     "output_type": "error",
     "traceback": [
      "\u001b[1;31m---------------------------------------------------------------------------\u001b[0m",
      "\u001b[1;31mNameError\u001b[0m                                 Traceback (most recent call last)",
      "Cell \u001b[1;32mIn[2], line 1\u001b[0m\n\u001b[1;32m----> 1\u001b[0m \u001b[38;5;28;01mdef\u001b[39;00m \u001b[38;5;21mfhc2sck\u001b[39m(i:Sequence[\u001b[38;5;28mint\u001b[39m], s:\u001b[38;5;28mint\u001b[39m, n:\u001b[38;5;28mint\u001b[39m, mod:\u001b[38;5;28mint\u001b[39m\u001b[38;5;241m=\u001b[39m\u001b[38;5;241m0\u001b[39m):\n\u001b[0;32m      2\u001b[0m     \u001b[38;5;28;01massert\u001b[39;00m s \u001b[38;5;129;01min\u001b[39;00m [\u001b[38;5;241m0\u001b[39m,\u001b[38;5;241m1\u001b[39m,\u001b[38;5;241m2\u001b[39m]\n\u001b[0;32m      3\u001b[0m     \u001b[38;5;28;01massert\u001b[39;00m mod \u001b[38;5;129;01min\u001b[39;00m [\u001b[38;5;241m0\u001b[39m,\u001b[38;5;241m1\u001b[39m]\n",
      "\u001b[1;31mNameError\u001b[0m: name 'Sequence' is not defined"
     ]
    }
   ],
   "source": [
    "def fhc2sck(i:Sequence[int], s:int, n:int, mod:int=0):\n",
    "    assert s in [0,1,2]\n",
    "    assert mod in [0,1]\n",
    "    if s==2:\n",
    "        assert mod ==1\n",
    "    base = 2\n",
    "    if mod:\n",
    "        base =3\n",
    "    if len(i)==1:\n",
    "        pos = i[0]\n",
    "        return base*n, 2**(base*(n-pos)-1-s)"
   ]
  },
  {
   "cell_type": "code",
   "execution_count": 16,
   "metadata": {},
   "outputs": [],
   "source": [
    "N = 4\n",
    "translatt = fhc.SubLattice(np.array([[2]]))\n",
    "# we need to verify the exact matrix of operators\n",
    "hopping_01up = sck.create_op(N, 2).dot(sck.annihil_op(N, 2**3))+sck.annihil_op(N,2).dot(sck.create_op(N, 2**3))\n",
    "hopping_01up_ex = fhc.HoppingOp((0,), (1,), 0, 1)"
   ]
  },
  {
   "cell_type": "code",
   "execution_count": 17,
   "metadata": {},
   "outputs": [
    {
     "name": "stdout",
     "output_type": "stream",
     "text": [
      "  (2, 8)\t1.0\n",
      "  (3, 9)\t1.0\n",
      "  (6, 12)\t-1.0\n",
      "  (7, 13)\t-1.0\n",
      "  (8, 2)\t-1.0\n",
      "  (9, 3)\t-1.0\n",
      "  (12, 6)\t1.0\n",
      "  (13, 7)\t1.0\n"
     ]
    }
   ],
   "source": [
    "print(hopping_01up)"
   ]
  },
  {
   "cell_type": "code",
   "execution_count": 9,
   "metadata": {},
   "outputs": [
    {
     "name": "stdout",
     "output_type": "stream",
     "text": [
      "  (2, 8)\t1.0\n",
      "  (3, 9)\t1.0\n",
      "  (6, 12)\t-1.0\n",
      "  (7, 13)\t-1.0\n",
      "  (8, 2)\t1.0\n",
      "  (9, 3)\t1.0\n",
      "  (12, 6)\t-1.0\n",
      "  (13, 7)\t-1.0\n"
     ]
    }
   ],
   "source": [
    "print(hopping_01up_ex.as_field_operator().as_matrix((2,),translatt))"
   ]
  },
  {
   "cell_type": "code",
   "execution_count": 18,
   "metadata": {},
   "outputs": [],
   "source": [
    "hopping_01dn = sck.create_op(N, 1).dot(sck.annihil_op(N, 2**2))+sck.annihil_op(N,1).dot(sck.create_op(N, 2**2))\n",
    "hopping_01dn_ex = fhc.HoppingOp((0,), (1,), 1, 1)"
   ]
  },
  {
   "cell_type": "code",
   "execution_count": 19,
   "metadata": {},
   "outputs": [
    {
     "name": "stdout",
     "output_type": "stream",
     "text": [
      "  (2, 8)\t1.0\n",
      "  (3, 9)\t1.0\n",
      "  (6, 12)\t-1.0\n",
      "  (7, 13)\t-1.0\n",
      "  (8, 2)\t-1.0\n",
      "  (9, 3)\t-1.0\n",
      "  (12, 6)\t1.0\n",
      "  (13, 7)\t1.0\n"
     ]
    }
   ],
   "source": [
    "print(hopping_01up)"
   ]
  },
  {
   "cell_type": "code",
   "execution_count": 20,
   "metadata": {},
   "outputs": [
    {
     "name": "stdout",
     "output_type": "stream",
     "text": [
      "  (2, 8)\t1.0\n",
      "  (3, 9)\t1.0\n",
      "  (6, 12)\t-1.0\n",
      "  (7, 13)\t-1.0\n",
      "  (8, 2)\t1.0\n",
      "  (9, 3)\t1.0\n",
      "  (12, 6)\t-1.0\n",
      "  (13, 7)\t-1.0\n"
     ]
    }
   ],
   "source": [
    "print(hopping_01up_ex.as_field_operator().as_matrix((2,),translatt))"
   ]
  },
  {
   "cell_type": "code",
   "execution_count": 26,
   "metadata": {},
   "outputs": [],
   "source": [
    "num_0up = sck.create_op(N, 2**3).dot(sck.annihil_op(N,2**3))\n",
    "num_0up_ex = fhc.NumberOp((0,),0,1)"
   ]
  },
  {
   "cell_type": "code",
   "execution_count": 22,
   "metadata": {},
   "outputs": [
    {
     "name": "stdout",
     "output_type": "stream",
     "text": [
      "  (8, 8)\t1.0\n",
      "  (9, 9)\t1.0\n",
      "  (10, 10)\t1.0\n",
      "  (11, 11)\t1.0\n",
      "  (12, 12)\t1.0\n",
      "  (13, 13)\t1.0\n",
      "  (14, 14)\t1.0\n",
      "  (15, 15)\t1.0\n"
     ]
    }
   ],
   "source": [
    "print(num_0up_ex.as_field_operator().as_matrix((2,),translatt))"
   ]
  },
  {
   "cell_type": "code",
   "execution_count": 27,
   "metadata": {},
   "outputs": [
    {
     "name": "stdout",
     "output_type": "stream",
     "text": [
      "  (8, 8)\t1.0\n",
      "  (9, 9)\t1.0\n",
      "  (10, 10)\t1.0\n",
      "  (11, 11)\t1.0\n",
      "  (12, 12)\t1.0\n",
      "  (13, 13)\t1.0\n",
      "  (14, 14)\t1.0\n",
      "  (15, 15)\t1.0\n"
     ]
    }
   ],
   "source": [
    "print(num_0up)"
   ]
  },
  {
   "cell_type": "code",
   "execution_count": 8,
   "metadata": {},
   "outputs": [],
   "source": [
    "N = 8\n",
    "hopping_00_01_up_fhc = fhc.HoppingOp((0,0),(0,1),0,1.)\n",
    "hopping_00_01_up_sck = sck.create_op(N,2**5).dot(sck.annihil_op(N,2**7))-sck.annihil_op(N,2**5).dot(sck.create_op(N,2**7))"
   ]
  },
  {
   "cell_type": "code",
   "execution_count": 9,
   "metadata": {},
   "outputs": [
    {
     "name": "stdout",
     "output_type": "stream",
     "text": [
      "  (32, 128)\t1.0\n",
      "  (33, 129)\t1.0\n",
      "  (34, 130)\t1.0\n",
      "  (35, 131)\t1.0\n",
      "  (36, 132)\t1.0\n",
      "  (37, 133)\t1.0\n",
      "  (38, 134)\t1.0\n",
      "  (39, 135)\t1.0\n",
      "  (40, 136)\t1.0\n",
      "  (41, 137)\t1.0\n",
      "  (42, 138)\t1.0\n",
      "  (43, 139)\t1.0\n",
      "  (44, 140)\t1.0\n",
      "  (45, 141)\t1.0\n",
      "  (46, 142)\t1.0\n",
      "  (47, 143)\t1.0\n",
      "  (48, 144)\t1.0\n",
      "  (49, 145)\t1.0\n",
      "  (50, 146)\t1.0\n",
      "  (51, 147)\t1.0\n",
      "  (52, 148)\t1.0\n",
      "  (53, 149)\t1.0\n",
      "  (54, 150)\t1.0\n",
      "  (55, 151)\t1.0\n",
      "  (56, 152)\t1.0\n",
      "  :\t:\n",
      "  (199, 103)\t-1.0\n",
      "  (200, 104)\t-1.0\n",
      "  (201, 105)\t-1.0\n",
      "  (202, 106)\t-1.0\n",
      "  (203, 107)\t-1.0\n",
      "  (204, 108)\t-1.0\n",
      "  (205, 109)\t-1.0\n",
      "  (206, 110)\t-1.0\n",
      "  (207, 111)\t-1.0\n",
      "  (208, 112)\t-1.0\n",
      "  (209, 113)\t-1.0\n",
      "  (210, 114)\t-1.0\n",
      "  (211, 115)\t-1.0\n",
      "  (212, 116)\t-1.0\n",
      "  (213, 117)\t-1.0\n",
      "  (214, 118)\t-1.0\n",
      "  (215, 119)\t-1.0\n",
      "  (216, 120)\t-1.0\n",
      "  (217, 121)\t-1.0\n",
      "  (218, 122)\t-1.0\n",
      "  (219, 123)\t-1.0\n",
      "  (220, 124)\t-1.0\n",
      "  (221, 125)\t-1.0\n",
      "  (222, 126)\t-1.0\n",
      "  (223, 127)\t-1.0\n"
     ]
    }
   ],
   "source": [
    "print(hopping_00_01_up_sck)"
   ]
  },
  {
   "cell_type": "code",
   "execution_count": 5,
   "metadata": {},
   "outputs": [
    {
     "name": "stdout",
     "output_type": "stream",
     "text": [
      "  (32, 128)\t1.0\n",
      "  (33, 129)\t1.0\n",
      "  (34, 130)\t1.0\n",
      "  (35, 131)\t1.0\n",
      "  (36, 132)\t1.0\n",
      "  (37, 133)\t1.0\n",
      "  (38, 134)\t1.0\n",
      "  (39, 135)\t1.0\n",
      "  (40, 136)\t1.0\n",
      "  (41, 137)\t1.0\n",
      "  (42, 138)\t1.0\n",
      "  (43, 139)\t1.0\n",
      "  (44, 140)\t1.0\n",
      "  (45, 141)\t1.0\n",
      "  (46, 142)\t1.0\n",
      "  (47, 143)\t1.0\n",
      "  (48, 144)\t1.0\n",
      "  (49, 145)\t1.0\n",
      "  (50, 146)\t1.0\n",
      "  (51, 147)\t1.0\n",
      "  (52, 148)\t1.0\n",
      "  (53, 149)\t1.0\n",
      "  (54, 150)\t1.0\n",
      "  (55, 151)\t1.0\n",
      "  (56, 152)\t1.0\n",
      "  :\t:\n",
      "  (199, 103)\t-1.0\n",
      "  (200, 104)\t-1.0\n",
      "  (201, 105)\t-1.0\n",
      "  (202, 106)\t-1.0\n",
      "  (203, 107)\t-1.0\n",
      "  (204, 108)\t-1.0\n",
      "  (205, 109)\t-1.0\n",
      "  (206, 110)\t-1.0\n",
      "  (207, 111)\t-1.0\n",
      "  (208, 112)\t-1.0\n",
      "  (209, 113)\t-1.0\n",
      "  (210, 114)\t-1.0\n",
      "  (211, 115)\t-1.0\n",
      "  (212, 116)\t-1.0\n",
      "  (213, 117)\t-1.0\n",
      "  (214, 118)\t-1.0\n",
      "  (215, 119)\t-1.0\n",
      "  (216, 120)\t-1.0\n",
      "  (217, 121)\t-1.0\n",
      "  (218, 122)\t-1.0\n",
      "  (219, 123)\t-1.0\n",
      "  (220, 124)\t-1.0\n",
      "  (221, 125)\t-1.0\n",
      "  (222, 126)\t-1.0\n",
      "  (223, 127)\t-1.0\n"
     ]
    }
   ],
   "source": [
    "print(hopping_00_01_up_fhc.as_field_operator().as_matrix((2,2)))"
   ]
  },
  {
   "cell_type": "code",
   "execution_count": null,
   "metadata": {},
   "outputs": [],
   "source": [
    "N=6\n",
    "translatt = fhc.SubLattice(np.array([[2]]))\n",
    "pX_fhc = fhc.PauliOp((0,),1, 1).as_field_operator().as_matrix((2,), translatt=translatt)\n",
    "pX_sck = sck.annihil_op(N, )"
   ]
  },
  {
   "cell_type": "code",
   "execution_count": 2,
   "metadata": {},
   "outputs": [],
   "source": [
    "v = -1\n",
    "u = 1\n",
    "#translatt = fhc.SubLattice(np.array([[2]]))\n",
    "pos_list = [0,2]\n",
    "h0 = fhc.SumOp([fhc.HoppingOp(( p,), ( p+1,), s, v) for s in [0, 1] for p in pos_list] )\n",
    "h1 = fhc.SumOp([fhc.HoppingOp((p-1,), ( p,), s, v) for s in [0, 1] for p in pos_list])\n",
    "h2 = fhc.SumOp([fhc.ProductOp([fhc.ModifiedNumOp((x,), s, 1) for s in [0, 1]], u) for x in [-1, 0, 1, 2, 3]])\n",
    "h2_origin = fhc.SumOp([fhc.ProductOp([fhc.NumberOp((x,), s, 1) for s in [0, 1]], u) for x in [-1, 0, 1, 2, 3]])"
   ]
  },
  {
   "cell_type": "code",
   "execution_count": 4,
   "metadata": {},
   "outputs": [
    {
     "name": "stdout",
     "output_type": "stream",
     "text": [
      "(-64) (g_{(-1,), (0,), up}) @ (g_{(-1,), (0,), dn}) + (-64) (g_{(1,), (2,), up}) @ (g_{(1,), (2,), dn}) + (-64) (n_{(-1,), up}) @ (n_{(-1,), dn}) + (64) (n_{(-1,), up}) @ (n_{(0,), dn}) + (64) (n_{(0,), up}) @ (n_{(-1,), dn}) + (-64) (n_{(0,), up}) @ (n_{(0,), dn}) + (-64) (n_{(1,), up}) @ (n_{(1,), dn}) + (64) (n_{(1,), up}) @ (n_{(2,), dn}) + (64) (n_{(2,), up}) @ (n_{(1,), dn}) + (-64) (n_{(2,), up}) @ (n_{(2,), dn})\n"
     ]
    }
   ],
   "source": [
    "commute_list1 = [h1,h2_origin,h1,h1,h1]\n",
    "temp_result = commute_list1[0]\n",
    "for i in range(1,len(commute_list1)):\n",
    "    temp_result = fhc.commutator(commute_list1[i],temp_result)\n",
    "print(fhc.simplify(temp_result))"
   ]
  },
  {
   "cell_type": "code",
   "execution_count": 6,
   "metadata": {},
   "outputs": [
    {
     "name": "stdout",
     "output_type": "stream",
     "text": [
      "(-64) (g_{(-1,), (0,), up}) @ (g_{(-1,), (0,), dn}) + (-64) (g_{(1,), (2,), up}) @ (g_{(1,), (2,), dn}) + (-48) (n_{(-1,), up}) @ (n_{(-1,), dn}) + (48) (n_{(-1,), up}) @ (n_{(0,), dn}) + (-8) (n_{(-1,), up}) @ (Mn_{(-1,), dn}) + (8) (n_{(-1,), up}) @ (Mn_{(0,), dn}) + (48) (n_{(0,), up}) @ (n_{(-1,), dn}) + (-48) (n_{(0,), up}) @ (n_{(0,), dn}) + (8) (n_{(0,), up}) @ (Mn_{(-1,), dn}) + (-8) (n_{(0,), up}) @ (Mn_{(0,), dn}) + (-48) (n_{(1,), up}) @ (n_{(1,), dn}) + (48) (n_{(1,), up}) @ (n_{(2,), dn}) + (-8) (n_{(1,), up}) @ (Mn_{(1,), dn}) + (8) (n_{(1,), up}) @ (Mn_{(2,), dn}) + (48) (n_{(2,), up}) @ (n_{(1,), dn}) + (-48) (n_{(2,), up}) @ (n_{(2,), dn}) + (8) (n_{(2,), up}) @ (Mn_{(1,), dn}) + (-8) (n_{(2,), up}) @ (Mn_{(2,), dn}) + (-8) (n_{(-1,), dn}) @ (Mn_{(-1,), up}) + (8) (n_{(-1,), dn}) @ (Mn_{(0,), up}) + (8) (n_{(0,), dn}) @ (Mn_{(-1,), up}) + (-8) (n_{(0,), dn}) @ (Mn_{(0,), up}) + (-8) (n_{(1,), dn}) @ (Mn_{(1,), up}) + (8) (n_{(1,), dn}) @ (Mn_{(2,), up}) + (8) (n_{(2,), dn}) @ (Mn_{(1,), up}) + (-8) (n_{(2,), dn}) @ (Mn_{(2,), up})\n"
     ]
    }
   ],
   "source": [
    "commute_list2 = [h1,h2,h1,h1,h1]\n",
    "temp_result = commute_list2[0]\n",
    "for i in range(1,len(commute_list2)):\n",
    "    temp_result = fhc.commutator(commute_list2[i],temp_result)\n",
    "print(fhc.simplify(temp_result))\n",
    "temp_result = fhc.simplify(temp_result)"
   ]
  },
  {
   "cell_type": "code",
   "execution_count": 11,
   "metadata": {},
   "outputs": [
    {
     "name": "stdout",
     "output_type": "stream",
     "text": [
      "(-64) (g_{(-1,), (0,), up}) @ (g_{(-1,), (0,), dn}) + (-64) (g_{(1,), (2,), up}) @ (g_{(1,), (2,), dn}) + (-64) (n_{(-1,), up}) @ (n_{(-1,), dn}) + (64) (n_{(-1,), up}) @ (n_{(0,), dn}) + (64) (n_{(0,), up}) @ (n_{(-1,), dn}) + (-64) (n_{(0,), up}) @ (n_{(0,), dn}) + (-64) (n_{(1,), up}) @ (n_{(1,), dn}) + (64) (n_{(1,), up}) @ (n_{(2,), dn}) + (64) (n_{(2,), up}) @ (n_{(1,), dn}) + (-64) (n_{(2,), up}) @ (n_{(2,), dn})\n"
     ]
    }
   ],
   "source": [
    "temp_result_expansion = fhc.SumOp([])\n",
    "for term in temp_result.terms:\n",
    "    if not isinstance(term, fhc.ProductOp):\n",
    "        temp_result_expansion+=term\n",
    "    else:\n",
    "        term.check_mod_num()\n",
    "        temp_result_expansion+=term.selfie_simplify()\n",
    "temp_result_expansion = fhc.simplify(temp_result_expansion)\n",
    "print(temp_result_expansion)"
   ]
  }
 ],
 "metadata": {
  "kernelspec": {
   "display_name": "Python 3 (ipykernel)",
   "language": "python",
   "name": "python3"
  },
  "language_info": {
   "codemirror_mode": {
    "name": "ipython",
    "version": 3
   },
   "file_extension": ".py",
   "mimetype": "text/x-python",
   "name": "python",
   "nbconvert_exporter": "python",
   "pygments_lexer": "ipython3",
   "version": "3.11.5"
  },
  "orig_nbformat": 4,
  "vscode": {
   "interpreter": {
    "hash": "35792f690c9f1f3442547cf038e6c24b19cf974df967b0f50cbf97b948b3dfb5"
   }
  }
 },
 "nbformat": 4,
 "nbformat_minor": 2
}
