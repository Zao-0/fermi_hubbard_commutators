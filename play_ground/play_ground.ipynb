{
 "cells": [
  {
   "cell_type": "code",
   "execution_count": 1,
   "metadata": {},
   "outputs": [],
   "source": [
    "import sys\n",
    "sys.path.append('../')\n",
    "import fh_comm as fhc\n",
    "import sign_ck as sck\n",
    "import numpy as np\n",
    "from collections.abc import Sequence"
   ]
  },
  {
   "cell_type": "code",
   "execution_count": 9,
   "metadata": {},
   "outputs": [],
   "source": [
    "def fhc2sck(i:Sequence[int], s:int, n:int, mod:int=0):\n",
    "    assert s in [0,1,2]\n",
    "    assert mod in [0,1]\n",
    "    if s==2:\n",
    "        assert mod ==1\n",
    "    base = 2\n",
    "    if mod:\n",
    "        base =3\n",
    "    if len(i)==1:\n",
    "        pos = i[0]\n",
    "        return base*n, 2**(base*(n-pos)-1-s)"
   ]
  },
  {
   "cell_type": "code",
   "execution_count": 10,
   "metadata": {},
   "outputs": [],
   "source": [
    "N = 4\n",
    "translatt = fhc.SubLattice(np.array([[2]]))\n",
    "# we need to verify the exact matrix of operators\n",
    "hopping_01up = sck.create_op(N, 2).dot(sck.annihil_op(N, 2**3))+sck.annihil_op(N,2).dot(sck.create_op(N, 2**3))\n",
    "hopping_01up_ex = fhc.HoppingOp((0,), (1,), 0, 1)"
   ]
  },
  {
   "cell_type": "code",
   "execution_count": 11,
   "metadata": {},
   "outputs": [
    {
     "name": "stdout",
     "output_type": "stream",
     "text": [
      "  (2, 8)\t1.0\n",
      "  (3, 9)\t1.0\n",
      "  (6, 12)\t-1.0\n",
      "  (7, 13)\t-1.0\n",
      "  (8, 2)\t-1.0\n",
      "  (9, 3)\t-1.0\n",
      "  (12, 6)\t1.0\n",
      "  (13, 7)\t1.0\n"
     ]
    }
   ],
   "source": [
    "print(hopping_01up)"
   ]
  },
  {
   "cell_type": "code",
   "execution_count": 12,
   "metadata": {},
   "outputs": [
    {
     "name": "stdout",
     "output_type": "stream",
     "text": [
      "  (2, 8)\t1.0\n",
      "  (3, 9)\t1.0\n",
      "  (6, 12)\t-1.0\n",
      "  (7, 13)\t-1.0\n",
      "  (8, 2)\t1.0\n",
      "  (9, 3)\t1.0\n",
      "  (12, 6)\t-1.0\n",
      "  (13, 7)\t-1.0\n"
     ]
    }
   ],
   "source": [
    "print(hopping_01up_ex.as_field_operator().as_matrix((2,),translatt))"
   ]
  },
  {
   "cell_type": "code",
   "execution_count": 13,
   "metadata": {},
   "outputs": [],
   "source": [
    "hopping_01dn = sck.create_op(N, 1).dot(sck.annihil_op(N, 2**2))+sck.annihil_op(N,1).dot(sck.create_op(N, 2**2))\n",
    "hopping_01dn_ex = fhc.HoppingOp((0,), (1,), 1, 1)"
   ]
  },
  {
   "cell_type": "code",
   "execution_count": 14,
   "metadata": {},
   "outputs": [
    {
     "name": "stdout",
     "output_type": "stream",
     "text": [
      "  (2, 8)\t1.0\n",
      "  (3, 9)\t1.0\n",
      "  (6, 12)\t-1.0\n",
      "  (7, 13)\t-1.0\n",
      "  (8, 2)\t-1.0\n",
      "  (9, 3)\t-1.0\n",
      "  (12, 6)\t1.0\n",
      "  (13, 7)\t1.0\n"
     ]
    }
   ],
   "source": [
    "print(hopping_01up)"
   ]
  },
  {
   "cell_type": "code",
   "execution_count": 15,
   "metadata": {},
   "outputs": [
    {
     "name": "stdout",
     "output_type": "stream",
     "text": [
      "  (2, 8)\t1.0\n",
      "  (3, 9)\t1.0\n",
      "  (6, 12)\t-1.0\n",
      "  (7, 13)\t-1.0\n",
      "  (8, 2)\t1.0\n",
      "  (9, 3)\t1.0\n",
      "  (12, 6)\t-1.0\n",
      "  (13, 7)\t-1.0\n"
     ]
    }
   ],
   "source": [
    "print(hopping_01up_ex.as_field_operator().as_matrix((2,),translatt))"
   ]
  },
  {
   "cell_type": "code",
   "execution_count": 16,
   "metadata": {},
   "outputs": [],
   "source": [
    "num_0up = sck.create_op(N, 2**3).dot(sck.annihil_op(N,2**3))\n",
    "num_0up_ex = fhc.NumberOp((0,),0,1)"
   ]
  },
  {
   "cell_type": "code",
   "execution_count": 17,
   "metadata": {},
   "outputs": [
    {
     "name": "stdout",
     "output_type": "stream",
     "text": [
      "  (8, 8)\t1.0\n",
      "  (9, 9)\t1.0\n",
      "  (10, 10)\t1.0\n",
      "  (11, 11)\t1.0\n",
      "  (12, 12)\t1.0\n",
      "  (13, 13)\t1.0\n",
      "  (14, 14)\t1.0\n",
      "  (15, 15)\t1.0\n"
     ]
    }
   ],
   "source": [
    "print(num_0up_ex.as_field_operator().as_matrix((2,),translatt))"
   ]
  },
  {
   "cell_type": "code",
   "execution_count": 18,
   "metadata": {},
   "outputs": [
    {
     "name": "stdout",
     "output_type": "stream",
     "text": [
      "  (8, 8)\t1.0\n",
      "  (9, 9)\t1.0\n",
      "  (10, 10)\t1.0\n",
      "  (11, 11)\t1.0\n",
      "  (12, 12)\t1.0\n",
      "  (13, 13)\t1.0\n",
      "  (14, 14)\t1.0\n",
      "  (15, 15)\t1.0\n"
     ]
    }
   ],
   "source": [
    "print(num_0up)"
   ]
  },
  {
   "cell_type": "code",
   "execution_count": 19,
   "metadata": {},
   "outputs": [],
   "source": [
    "N = 8\n",
    "hopping_00_01_up_fhc = fhc.HoppingOp((0,0),(0,1),0,1.)\n",
    "hopping_00_01_up_sck = sck.create_op(N,2**5).dot(sck.annihil_op(N,2**7))-sck.annihil_op(N,2**5).dot(sck.create_op(N,2**7))"
   ]
  },
  {
   "cell_type": "code",
   "execution_count": 20,
   "metadata": {},
   "outputs": [
    {
     "name": "stdout",
     "output_type": "stream",
     "text": [
      "  (32, 128)\t1.0\n",
      "  (33, 129)\t1.0\n",
      "  (34, 130)\t1.0\n",
      "  (35, 131)\t1.0\n",
      "  (36, 132)\t1.0\n",
      "  (37, 133)\t1.0\n",
      "  (38, 134)\t1.0\n",
      "  (39, 135)\t1.0\n",
      "  (40, 136)\t1.0\n",
      "  (41, 137)\t1.0\n",
      "  (42, 138)\t1.0\n",
      "  (43, 139)\t1.0\n",
      "  (44, 140)\t1.0\n",
      "  (45, 141)\t1.0\n",
      "  (46, 142)\t1.0\n",
      "  (47, 143)\t1.0\n",
      "  (48, 144)\t1.0\n",
      "  (49, 145)\t1.0\n",
      "  (50, 146)\t1.0\n",
      "  (51, 147)\t1.0\n",
      "  (52, 148)\t1.0\n",
      "  (53, 149)\t1.0\n",
      "  (54, 150)\t1.0\n",
      "  (55, 151)\t1.0\n",
      "  (56, 152)\t1.0\n",
      "  :\t:\n",
      "  (199, 103)\t-1.0\n",
      "  (200, 104)\t-1.0\n",
      "  (201, 105)\t-1.0\n",
      "  (202, 106)\t-1.0\n",
      "  (203, 107)\t-1.0\n",
      "  (204, 108)\t-1.0\n",
      "  (205, 109)\t-1.0\n",
      "  (206, 110)\t-1.0\n",
      "  (207, 111)\t-1.0\n",
      "  (208, 112)\t-1.0\n",
      "  (209, 113)\t-1.0\n",
      "  (210, 114)\t-1.0\n",
      "  (211, 115)\t-1.0\n",
      "  (212, 116)\t-1.0\n",
      "  (213, 117)\t-1.0\n",
      "  (214, 118)\t-1.0\n",
      "  (215, 119)\t-1.0\n",
      "  (216, 120)\t-1.0\n",
      "  (217, 121)\t-1.0\n",
      "  (218, 122)\t-1.0\n",
      "  (219, 123)\t-1.0\n",
      "  (220, 124)\t-1.0\n",
      "  (221, 125)\t-1.0\n",
      "  (222, 126)\t-1.0\n",
      "  (223, 127)\t-1.0\n"
     ]
    }
   ],
   "source": [
    "print(hopping_00_01_up_sck)"
   ]
  },
  {
   "cell_type": "code",
   "execution_count": 21,
   "metadata": {},
   "outputs": [
    {
     "name": "stdout",
     "output_type": "stream",
     "text": [
      "  (32, 128)\t1.0\n",
      "  (33, 129)\t1.0\n",
      "  (34, 130)\t1.0\n",
      "  (35, 131)\t1.0\n",
      "  (36, 132)\t1.0\n",
      "  (37, 133)\t1.0\n",
      "  (38, 134)\t1.0\n",
      "  (39, 135)\t1.0\n",
      "  (40, 136)\t1.0\n",
      "  (41, 137)\t1.0\n",
      "  (42, 138)\t1.0\n",
      "  (43, 139)\t1.0\n",
      "  (44, 140)\t1.0\n",
      "  (45, 141)\t1.0\n",
      "  (46, 142)\t1.0\n",
      "  (47, 143)\t1.0\n",
      "  (48, 144)\t1.0\n",
      "  (49, 145)\t1.0\n",
      "  (50, 146)\t1.0\n",
      "  (51, 147)\t1.0\n",
      "  (52, 148)\t1.0\n",
      "  (53, 149)\t1.0\n",
      "  (54, 150)\t1.0\n",
      "  (55, 151)\t1.0\n",
      "  (56, 152)\t1.0\n",
      "  :\t:\n",
      "  (199, 103)\t-1.0\n",
      "  (200, 104)\t-1.0\n",
      "  (201, 105)\t-1.0\n",
      "  (202, 106)\t-1.0\n",
      "  (203, 107)\t-1.0\n",
      "  (204, 108)\t-1.0\n",
      "  (205, 109)\t-1.0\n",
      "  (206, 110)\t-1.0\n",
      "  (207, 111)\t-1.0\n",
      "  (208, 112)\t-1.0\n",
      "  (209, 113)\t-1.0\n",
      "  (210, 114)\t-1.0\n",
      "  (211, 115)\t-1.0\n",
      "  (212, 116)\t-1.0\n",
      "  (213, 117)\t-1.0\n",
      "  (214, 118)\t-1.0\n",
      "  (215, 119)\t-1.0\n",
      "  (216, 120)\t-1.0\n",
      "  (217, 121)\t-1.0\n",
      "  (218, 122)\t-1.0\n",
      "  (219, 123)\t-1.0\n",
      "  (220, 124)\t-1.0\n",
      "  (221, 125)\t-1.0\n",
      "  (222, 126)\t-1.0\n",
      "  (223, 127)\t-1.0\n"
     ]
    }
   ],
   "source": [
    "print(hopping_00_01_up_fhc.as_field_operator().as_matrix((2,2)))"
   ]
  },
  {
   "cell_type": "code",
   "execution_count": 22,
   "metadata": {},
   "outputs": [
    {
     "ename": "AttributeError",
     "evalue": "module 'fh_comm' has no attribute 'PauliOp'",
     "output_type": "error",
     "traceback": [
      "\u001b[1;31m---------------------------------------------------------------------------\u001b[0m",
      "\u001b[1;31mAttributeError\u001b[0m                            Traceback (most recent call last)",
      "Cell \u001b[1;32mIn[22], line 3\u001b[0m\n\u001b[0;32m      1\u001b[0m N\u001b[38;5;241m=\u001b[39m\u001b[38;5;241m6\u001b[39m\n\u001b[0;32m      2\u001b[0m translatt \u001b[38;5;241m=\u001b[39m fhc\u001b[38;5;241m.\u001b[39mSubLattice(np\u001b[38;5;241m.\u001b[39marray([[\u001b[38;5;241m2\u001b[39m]]))\n\u001b[1;32m----> 3\u001b[0m pX_fhc \u001b[38;5;241m=\u001b[39m fhc\u001b[38;5;241m.\u001b[39mPauliOp((\u001b[38;5;241m0\u001b[39m,),\u001b[38;5;241m1\u001b[39m, \u001b[38;5;241m1\u001b[39m)\u001b[38;5;241m.\u001b[39mas_field_operator()\u001b[38;5;241m.\u001b[39mas_matrix((\u001b[38;5;241m2\u001b[39m,), translatt\u001b[38;5;241m=\u001b[39mtranslatt)\n\u001b[0;32m      4\u001b[0m pX_sck \u001b[38;5;241m=\u001b[39m sck\u001b[38;5;241m.\u001b[39mannihil_op(N, )\n",
      "\u001b[1;31mAttributeError\u001b[0m: module 'fh_comm' has no attribute 'PauliOp'"
     ]
    }
   ],
   "source": [
    "N=6\n",
    "translatt = fhc.SubLattice(np.array([[2]]))\n",
    "pX_fhc = fhc.PauliOp((0,),1, 1).as_field_operator().as_matrix((2,), translatt=translatt)\n",
    "pX_sck = sck.annihil_op(N, )"
   ]
  },
  {
   "cell_type": "code",
   "execution_count": null,
   "metadata": {},
   "outputs": [],
   "source": [
    "v = -1\n",
    "u = 1\n",
    "#translatt = fhc.SubLattice(np.array([[2]]))\n",
    "pos_list = [0,2]\n",
    "h0 = fhc.SumOp([fhc.HoppingOp(( p,), ( p+1,), s, v) for s in [0, 1] for p in pos_list] )\n",
    "h1 = fhc.SumOp([fhc.HoppingOp((p-1,), ( p,), s, v) for s in [0, 1] for p in pos_list])\n",
    "h2 = fhc.SumOp([fhc.ProductOp([fhc.ModifiedNumOp((x,), s, 1) for s in [0, 1]], u) for x in [-1, 0, 1, 2, 3]])\n",
    "h2_origin = fhc.SumOp([fhc.ProductOp([fhc.NumberOp((x,), s, 1) for s in [0, 1]], u) for x in [-1, 0, 1, 2, 3]])"
   ]
  },
  {
   "cell_type": "code",
   "execution_count": null,
   "metadata": {},
   "outputs": [
    {
     "name": "stdout",
     "output_type": "stream",
     "text": [
      "(-64) (g_{(-1,), (0,), up}) @ (g_{(-1,), (0,), dn}) + (-64) (g_{(1,), (2,), up}) @ (g_{(1,), (2,), dn}) + (-64) (n_{(-1,), up}) @ (n_{(-1,), dn}) + (64) (n_{(-1,), up}) @ (n_{(0,), dn}) + (64) (n_{(0,), up}) @ (n_{(-1,), dn}) + (-64) (n_{(0,), up}) @ (n_{(0,), dn}) + (-64) (n_{(1,), up}) @ (n_{(1,), dn}) + (64) (n_{(1,), up}) @ (n_{(2,), dn}) + (64) (n_{(2,), up}) @ (n_{(1,), dn}) + (-64) (n_{(2,), up}) @ (n_{(2,), dn})\n"
     ]
    }
   ],
   "source": [
    "commute_list1 = [h1,h2_origin,h1,h1,h1]\n",
    "temp_result = commute_list1[0]\n",
    "for i in range(1,len(commute_list1)):\n",
    "    temp_result = fhc.commutator(commute_list1[i],temp_result)\n",
    "print(fhc.simplify(temp_result))"
   ]
  },
  {
   "cell_type": "code",
   "execution_count": null,
   "metadata": {},
   "outputs": [
    {
     "name": "stdout",
     "output_type": "stream",
     "text": [
      "(-64) (g_{(-1,), (0,), up}) @ (g_{(-1,), (0,), dn}) + (-64) (g_{(1,), (2,), up}) @ (g_{(1,), (2,), dn}) + (-48) (n_{(-1,), up}) @ (n_{(-1,), dn}) + (48) (n_{(-1,), up}) @ (n_{(0,), dn}) + (-8) (n_{(-1,), up}) @ (Mn_{(-1,), dn}) + (8) (n_{(-1,), up}) @ (Mn_{(0,), dn}) + (48) (n_{(0,), up}) @ (n_{(-1,), dn}) + (-48) (n_{(0,), up}) @ (n_{(0,), dn}) + (8) (n_{(0,), up}) @ (Mn_{(-1,), dn}) + (-8) (n_{(0,), up}) @ (Mn_{(0,), dn}) + (-48) (n_{(1,), up}) @ (n_{(1,), dn}) + (48) (n_{(1,), up}) @ (n_{(2,), dn}) + (-8) (n_{(1,), up}) @ (Mn_{(1,), dn}) + (8) (n_{(1,), up}) @ (Mn_{(2,), dn}) + (48) (n_{(2,), up}) @ (n_{(1,), dn}) + (-48) (n_{(2,), up}) @ (n_{(2,), dn}) + (8) (n_{(2,), up}) @ (Mn_{(1,), dn}) + (-8) (n_{(2,), up}) @ (Mn_{(2,), dn}) + (-8) (n_{(-1,), dn}) @ (Mn_{(-1,), up}) + (8) (n_{(-1,), dn}) @ (Mn_{(0,), up}) + (8) (n_{(0,), dn}) @ (Mn_{(-1,), up}) + (-8) (n_{(0,), dn}) @ (Mn_{(0,), up}) + (-8) (n_{(1,), dn}) @ (Mn_{(1,), up}) + (8) (n_{(1,), dn}) @ (Mn_{(2,), up}) + (8) (n_{(2,), dn}) @ (Mn_{(1,), up}) + (-8) (n_{(2,), dn}) @ (Mn_{(2,), up})\n"
     ]
    }
   ],
   "source": [
    "commute_list2 = [h1,h2,h1,h1,h1]\n",
    "temp_result = commute_list2[0]\n",
    "for i in range(1,len(commute_list2)):\n",
    "    temp_result = fhc.commutator(commute_list2[i],temp_result)\n",
    "print(fhc.simplify(temp_result))\n",
    "temp_result = fhc.simplify(temp_result)"
   ]
  },
  {
   "cell_type": "code",
   "execution_count": null,
   "metadata": {},
   "outputs": [
    {
     "name": "stdout",
     "output_type": "stream",
     "text": [
      "(-64) (g_{(-1,), (0,), up}) @ (g_{(-1,), (0,), dn}) + (-64) (g_{(1,), (2,), up}) @ (g_{(1,), (2,), dn}) + (-64) (n_{(-1,), up}) @ (n_{(-1,), dn}) + (64) (n_{(-1,), up}) @ (n_{(0,), dn}) + (64) (n_{(0,), up}) @ (n_{(-1,), dn}) + (-64) (n_{(0,), up}) @ (n_{(0,), dn}) + (-64) (n_{(1,), up}) @ (n_{(1,), dn}) + (64) (n_{(1,), up}) @ (n_{(2,), dn}) + (64) (n_{(2,), up}) @ (n_{(1,), dn}) + (-64) (n_{(2,), up}) @ (n_{(2,), dn})\n"
     ]
    }
   ],
   "source": [
    "temp_result_expansion = fhc.SumOp([])\n",
    "for term in temp_result.terms:\n",
    "    if not isinstance(term, fhc.ProductOp):\n",
    "        temp_result_expansion+=term\n",
    "    else:\n",
    "        term.check_mod_num()\n",
    "        temp_result_expansion+=term.selfie_simplify()\n",
    "temp_result_expansion = fhc.simplify(temp_result_expansion)\n",
    "print(temp_result_expansion)"
   ]
  },
  {
   "cell_type": "markdown",
   "metadata": {},
   "source": [
    "# To test the chage caused by ModifiedNumOp"
   ]
  },
  {
   "cell_type": "code",
   "execution_count": 2,
   "metadata": {},
   "outputs": [],
   "source": [
    "v = -1\n",
    "u = 1\n",
    "translatt = fhc.SubLattice(np.array([[2]]))\n",
    "h0 = fhc.SumOp([fhc.HoppingOp((0,), (1,), s, v) for s in [0, 1]])\n",
    "h1 = fhc.SumOp([fhc.HoppingOp((-1,), (0,), s, v) for s in [0, 1]])\n",
    "h2 = fhc.SumOp([fhc.ProductOp([fhc.ModifiedNumOp((x,), s, 1) for s in [0, 1]], u) for x in [0, 1]])\n",
    "h2_origin = fhc.SumOp([fhc.ProductOp([fhc.NumberOp((x,), s, 1) for s in [0, 1]], u) for x in [0, 1]])\n",
    "hlist = [h0,h1,h2]\n",
    "hlist_ori = [h0,h1,h2_origin]"
   ]
  },
  {
   "cell_type": "code",
   "execution_count": 6,
   "metadata": {},
   "outputs": [],
   "source": [
    "# Construct a function fo do the commutator with given sequence\n",
    "def commm_automata(hlist, seq:Sequence[int], translatt):\n",
    "    result_list = [hlist[seq[0]]]\n",
    "    for i in range(1, len(seq)):\n",
    "        temp = fhc.commutator_translation(hlist[seq[i]],result_list[-1], translatt=translatt)\n",
    "        result_list.append(fhc.simplify(fhc.translate_origin(fhc.simplify(temp),translatt=translatt)))\n",
    "    return result_list"
   ]
  },
  {
   "cell_type": "code",
   "execution_count": 4,
   "metadata": {},
   "outputs": [
    {
     "name": "stdout",
     "output_type": "stream",
     "text": [
      "(-0.5) n_{(0,), up} + (-0.5) n_{(1,), up} + (-0.5) n_{(0,), dn} + (-0.5) n_{(1,), dn}\n"
     ]
    }
   ],
   "source": [
    "# when do commutator, the difference between ModifiedNumOp and NumberOp is\n",
    "# the sun of NumberOp\n",
    "diff_op = fhc.SumOp([fhc.NumberOp((i,),s,-.5) for i in [0,1] for s in [0,1]])\n",
    "print(diff_op)"
   ]
  },
  {
   "cell_type": "code",
   "execution_count": null,
   "metadata": {},
   "outputs": [
    {
     "name": "stdout",
     "output_type": "stream",
     "text": [
      "<empty sum>\n"
     ]
    }
   ],
   "source": [
    "print(fhc.simplify(fhc.translate_origin(fhc.commutator_translation(diff_op,h0,translatt=translatt), translatt=translatt)))"
   ]
  },
  {
   "cell_type": "code",
   "execution_count": null,
   "metadata": {},
   "outputs": [
    {
     "name": "stdout",
     "output_type": "stream",
     "text": [
      "<empty sum>\n"
     ]
    }
   ],
   "source": [
    "print(fhc.simplify(fhc.translate_origin(fhc.commutator_translation(diff_op,h1,translatt=translatt), translatt=translatt)))"
   ]
  },
  {
   "cell_type": "code",
   "execution_count": null,
   "metadata": {},
   "outputs": [],
   "source": [
    "comm21=fhc.commutator_translation(h2,h1,translatt=translatt)\n",
    "comm21_ori = fhc.commutator_translation(h2_origin,h1,translatt=translatt)"
   ]
  },
  {
   "cell_type": "code",
   "execution_count": null,
   "metadata": {},
   "outputs": [],
   "source": [
    "comm10 = fhc.commutator_translation(h1,h0,translatt=translatt)"
   ]
  },
  {
   "cell_type": "code",
   "execution_count": null,
   "metadata": {},
   "outputs": [],
   "source": [
    "layer01202 = commm_automata(hlist,[0,1,2,0,2],translatt=translatt)\n",
    "layer01202_ori = commm_automata(hlist_ori,[0,1,2,0,2],translatt=translatt)"
   ]
  },
  {
   "cell_type": "code",
   "execution_count": null,
   "metadata": {},
   "outputs": [
    {
     "name": "stdout",
     "output_type": "stream",
     "text": [
      "<empty sum>\n",
      "<empty sum>\n",
      "<empty sum>\n",
      "<empty sum>\n",
      "(h_{(-2,), (0,), up}) @ (h_{(0,), (1,), dn}) @ (n_{(0,), up}) + (h_{(-1,), (1,), up}) @ (h_{(-2,), (-1,), dn}) @ (n_{(-1,), up}) + (-1) (h_{(-1,), (1,), up}) @ (h_{(0,), (1,), dn}) @ (n_{(1,), up}) + (-1) (h_{(0,), (2,), up}) @ (h_{(0,), (1,), dn}) @ (n_{(0,), up}) + (-1) (g_{(-2,), (-1,), up}) @ (g_{(-1,), (1,), dn}) @ (n_{(-1,), up}) + (-1) (g_{(0,), (1,), up}) @ (g_{(-2,), (0,), dn}) @ (n_{(0,), up}) + (-1) (g_{(0,), (1,), up}) @ (g_{(-1,), (1,), dn}) @ (n_{(1,), up}) + (-1) (g_{(0,), (1,), up}) @ (g_{(0,), (2,), dn}) @ (n_{(0,), up}) + (g_{(-2,), (0,), dn}) @ (n_{(0,), up}) @ (g_{(0,), (1,), up}) + (g_{(-1,), (1,), dn}) @ (n_{(-1,), up}) @ (g_{(-2,), (-1,), up}) + (g_{(-1,), (1,), dn}) @ (n_{(1,), up}) @ (g_{(0,), (1,), up}) + (g_{(0,), (2,), dn}) @ (n_{(0,), up}) @ (g_{(0,), (1,), up}) + (-1) (n_{(-1,), up}) @ (h_{(-1,), (1,), up}) @ (h_{(-2,), (-1,), dn}) + (-1) (n_{(0,), up}) @ (h_{(-2,), (0,), up}) @ (h_{(0,), (1,), dn}) + (n_{(0,), up}) @ (h_{(0,), (2,), up}) @ (h_{(0,), (1,), dn}) + (n_{(1,), up}) @ (h_{(-1,), (1,), up}) @ (h_{(0,), (1,), dn})\n"
     ]
    }
   ],
   "source": [
    "for i in range(len(layer01202)):\n",
    "    print(fhc.simplify(fhc.translate_origin(layer01202[i]-layer01202_ori[i], translatt=translatt)))"
   ]
  },
  {
   "cell_type": "code",
   "execution_count": null,
   "metadata": {},
   "outputs": [
    {
     "name": "stdout",
     "output_type": "stream",
     "text": [
      "<empty sum>\n"
     ]
    }
   ],
   "source": [
    "print(fhc.simplify(fhc.translate_origin(fhc.simplify(fhc.commutator_translation(diff_op,layer01202[3],translatt=translatt)),translatt=translatt)))"
   ]
  },
  {
   "cell_type": "code",
   "execution_count": null,
   "metadata": {},
   "outputs": [
    {
     "name": "stdout",
     "output_type": "stream",
     "text": [
      "(h_{(-2,), (0,), up}) @ (g_{(0,), (1,), dn})\n",
      "(-1) (h_{(-1,), (1,), up}) @ (g_{(-2,), (-1,), dn})\n",
      "(h_{(-1,), (1,), up}) @ (g_{(0,), (1,), dn})\n",
      "(-1) (h_{(0,), (2,), up}) @ (g_{(0,), (1,), dn})\n",
      "(h_{(-2,), (0,), dn}) @ (g_{(0,), (1,), up})\n",
      "(-1) (h_{(-1,), (1,), dn}) @ (g_{(-2,), (-1,), up})\n",
      "(h_{(-1,), (1,), dn}) @ (g_{(0,), (1,), up})\n",
      "(-1) (h_{(0,), (2,), dn}) @ (g_{(0,), (1,), up})\n",
      "(-1) (g_{(-2,), (1,), up}) @ (n_{(-2,), dn} + n_{(-1,), dn} + (-1) n_{(0,), dn} + (-1) n_{(1,), dn})\n",
      "(g_{(-1,), (0,), up}) @ (n_{(-1,), dn} + (-1) n_{(1,), dn})\n",
      "(g_{(1,), (2,), up}) @ (n_{(0,), dn} + (-1) n_{(2,), dn})\n",
      "(-1) (g_{(-2,), (1,), dn}) @ (n_{(-2,), up} + n_{(-1,), up} + (-1) n_{(0,), up} + (-1) n_{(1,), up})\n",
      "(g_{(-1,), (0,), dn}) @ (n_{(-1,), up} + (-1) n_{(1,), up})\n",
      "(g_{(1,), (2,), dn}) @ (n_{(0,), up} + (-1) n_{(2,), up})\n"
     ]
    }
   ],
   "source": [
    "for i in layer01202[3].terms:\n",
    "    print(i)"
   ]
  },
  {
   "cell_type": "code",
   "execution_count": null,
   "metadata": {},
   "outputs": [
    {
     "name": "stdout",
     "output_type": "stream",
     "text": [
      "(h_{(-2,), (0,), up}) @ (h_{(0,), (1,), dn}) @ (n_{(0,), up})\n",
      "(h_{(-1,), (1,), up}) @ (h_{(-2,), (-1,), dn}) @ (n_{(-1,), up})\n",
      "(-1) (h_{(-1,), (1,), up}) @ (h_{(0,), (1,), dn}) @ (n_{(1,), up})\n",
      "(-1) (h_{(0,), (2,), up}) @ (h_{(0,), (1,), dn}) @ (n_{(0,), up})\n",
      "(-1) (g_{(-2,), (-1,), up}) @ (g_{(-1,), (1,), dn}) @ (n_{(-1,), up})\n",
      "(-1) (g_{(0,), (1,), up}) @ (g_{(-2,), (0,), dn}) @ (n_{(0,), up})\n",
      "(-1) (g_{(0,), (1,), up}) @ (g_{(-1,), (1,), dn}) @ (n_{(1,), up})\n",
      "(-1) (g_{(0,), (1,), up}) @ (g_{(0,), (2,), dn}) @ (n_{(0,), up})\n",
      "(g_{(-2,), (0,), dn}) @ (n_{(0,), up}) @ (g_{(0,), (1,), up})\n",
      "(g_{(-1,), (1,), dn}) @ (n_{(-1,), up}) @ (g_{(-2,), (-1,), up})\n",
      "(g_{(-1,), (1,), dn}) @ (n_{(1,), up}) @ (g_{(0,), (1,), up})\n",
      "(g_{(0,), (2,), dn}) @ (n_{(0,), up}) @ (g_{(0,), (1,), up})\n",
      "(-1) (n_{(-1,), up}) @ (h_{(-1,), (1,), up}) @ (h_{(-2,), (-1,), dn})\n",
      "(-1) (n_{(0,), up}) @ (h_{(-2,), (0,), up}) @ (h_{(0,), (1,), dn})\n",
      "(n_{(0,), up}) @ (h_{(0,), (2,), up}) @ (h_{(0,), (1,), dn})\n",
      "(n_{(1,), up}) @ (h_{(-1,), (1,), up}) @ (h_{(0,), (1,), dn})\n"
     ]
    }
   ],
   "source": [
    "temp_result = fhc.simplify(fhc.translate_origin(layer01202[-1]-layer01202_ori[-1], translatt=translatt))\n",
    "for i in temp_result.terms:\n",
    "    print(i)"
   ]
  },
  {
   "cell_type": "code",
   "execution_count": null,
   "metadata": {},
   "outputs": [
    {
     "data": {
      "text/plain": [
       "14"
      ]
     },
     "execution_count": 15,
     "metadata": {},
     "output_type": "execute_result"
    }
   ],
   "source": [
    "len(layer01202[3].terms)"
   ]
  },
  {
   "cell_type": "code",
   "execution_count": null,
   "metadata": {},
   "outputs": [
    {
     "name": "stdout",
     "output_type": "stream",
     "text": [
      "<empty sum>\n",
      "<empty sum>\n",
      "<empty sum>\n",
      "<empty sum>\n",
      "<empty sum>\n",
      "<empty sum>\n",
      "<empty sum>\n",
      "<empty sum>\n",
      "<empty sum>\n",
      "<empty sum>\n",
      "<empty sum>\n",
      "<empty sum>\n",
      "<empty sum>\n",
      "<empty sum>\n"
     ]
    }
   ],
   "source": [
    "com_list = [0,1,2,3,8,9,10]\n",
    "for i in range(14):\n",
    "    print(fhc.simplify(fhc.translate_origin(fhc.commutator_translation(diff_op,layer01202[3].terms[i],translatt=translatt),translatt=translatt)))"
   ]
  },
  {
   "cell_type": "code",
   "execution_count": null,
   "metadata": {},
   "outputs": [],
   "source": [
    "final_result = fhc.simplify(fhc.translate_origin(fhc.simplify(fhc.commutator_translation(h2,layer01202[3],translatt=translatt)),translatt=translatt))\n",
    "final_result_ori = fhc.simplify(fhc.translate_origin(fhc.simplify(fhc.commutator_translation(h2_origin,layer01202[3],translatt=translatt)),translatt=translatt))"
   ]
  },
  {
   "cell_type": "code",
   "execution_count": null,
   "metadata": {},
   "outputs": [
    {
     "name": "stdout",
     "output_type": "stream",
     "text": [
      "(-1) (h_{(-2,), (-1,), up}) @ (h_{(-1,), (1,), dn}) @ (n_{(-2,), dn} + (-1) n_{(-1,), dn})\n",
      "(h_{(-2,), (0,), up}) @ (h_{(0,), (1,), dn}) @ (n_{(0,), up} + (-1) n_{(1,), up})\n",
      "(-1.0) (h_{(-2,), (1,), up}) @ ((n_{(-2,), dn}) @ (n_{(-2,), dn}) + (n_{(-2,), dn}) @ (n_{(-1,), dn}) + (-1.0) (n_{(-2,), dn}) @ (n_{(0,), dn}) + (-2.0) (n_{(-2,), dn}) @ (n_{(1,), dn}) + (-1.0) (n_{(-1,), dn}) @ (n_{(1,), dn}) + (n_{(0,), dn}) @ (n_{(1,), dn}) + (n_{(1,), dn}) @ (n_{(1,), dn}))\n",
      "(h_{(-1,), (0,), up}) @ ((n_{(-2,), dn}) @ (n_{(-1,), dn}) + (-1.0) (n_{(-2,), dn}) @ (n_{(0,), dn}) + (n_{(-1,), dn}) @ (n_{(-1,), dn}) + (-2.0) (n_{(-1,), dn}) @ (n_{(0,), dn}) + (-1.0) (n_{(-1,), dn}) @ (n_{(1,), dn}) + (n_{(0,), dn}) @ (n_{(0,), dn}) + (n_{(0,), dn}) @ (n_{(1,), dn}))\n",
      "(-1) (h_{(-1,), (1,), up}) @ (h_{(-2,), (-1,), dn}) @ (n_{(-2,), up} + (-1) n_{(-1,), up})\n",
      "(h_{(-1,), (1,), up}) @ (h_{(0,), (1,), dn}) @ (n_{(0,), up} + (-1) n_{(1,), up})\n",
      "(h_{(0,), (1,), up}) @ (h_{(-2,), (0,), dn}) @ (n_{(0,), dn} + (-1) n_{(1,), dn})\n",
      "(h_{(0,), (1,), up}) @ (h_{(-1,), (1,), dn}) @ (n_{(0,), dn} + (-1) n_{(1,), dn})\n",
      "(-1) (h_{(0,), (1,), up}) @ (h_{(0,), (2,), dn}) @ (n_{(0,), dn} + (-1) n_{(1,), dn})\n",
      "(-1) (h_{(0,), (2,), up}) @ (h_{(0,), (1,), dn}) @ (n_{(0,), up} + (-1) n_{(1,), up})\n",
      "(-1.0) (h_{(-2,), (1,), dn}) @ ((n_{(-2,), up}) @ (n_{(-2,), up}) + (n_{(-2,), up}) @ (n_{(-1,), up}) + (-1.0) (n_{(-2,), up}) @ (n_{(0,), up}) + (-2.0) (n_{(-2,), up}) @ (n_{(1,), up}) + (-1.0) (n_{(-1,), up}) @ (n_{(1,), up}) + (n_{(0,), up}) @ (n_{(1,), up}) + (n_{(1,), up}) @ (n_{(1,), up}))\n",
      "(h_{(-1,), (0,), dn}) @ ((n_{(-2,), up}) @ (n_{(-1,), up}) + (-1.0) (n_{(-2,), up}) @ (n_{(0,), up}) + (n_{(-1,), up}) @ (n_{(-1,), up}) + (-2.0) (n_{(-1,), up}) @ (n_{(0,), up}) + (-1.0) (n_{(-1,), up}) @ (n_{(1,), up}) + (n_{(0,), up}) @ (n_{(0,), up}) + (n_{(0,), up}) @ (n_{(1,), up}))\n",
      "(-1) (g_{(-2,), (-1,), up}) @ (g_{(-1,), (1,), dn}) @ (n_{(-1,), up} + (-1) n_{(1,), up})\n",
      "(g_{(-2,), (0,), up}) @ (g_{(0,), (1,), dn}) @ (n_{(-2,), dn} + (-1) n_{(0,), dn})\n",
      "(-1) (g_{(-1,), (1,), up}) @ (g_{(-2,), (-1,), dn}) @ (n_{(-1,), dn} + (-1) n_{(1,), dn})\n",
      "(g_{(-1,), (1,), up}) @ (g_{(0,), (1,), dn}) @ (n_{(-1,), dn} + (-1) n_{(1,), dn})\n",
      "(g_{(0,), (1,), up}) @ (g_{(-2,), (0,), dn}) @ (n_{(-2,), up} + (-1) n_{(0,), up})\n",
      "(g_{(0,), (1,), up}) @ (g_{(-1,), (1,), dn}) @ (n_{(-1,), up} + (-1) n_{(1,), up})\n",
      "(-1) (g_{(0,), (1,), up}) @ (g_{(0,), (2,), dn}) @ (n_{(0,), up} + (-1) n_{(2,), up})\n",
      "(-1) (g_{(0,), (2,), up}) @ (g_{(0,), (1,), dn}) @ (n_{(0,), dn} + (-1) n_{(2,), dn})\n"
     ]
    }
   ],
   "source": [
    "for i in final_result.terms:\n",
    "    print(i)"
   ]
  },
  {
   "cell_type": "code",
   "execution_count": null,
   "metadata": {},
   "outputs": [
    {
     "name": "stdout",
     "output_type": "stream",
     "text": [
      "(-1) (h_{(-2,), (-1,), up}) @ (h_{(-1,), (1,), dn}) @ (n_{(-2,), dn} + (-1) n_{(-1,), dn})\n",
      "(-1) (h_{(-2,), (0,), up}) @ (h_{(0,), (1,), dn}) @ (n_{(1,), up})\n",
      "(-1) (h_{(-2,), (1,), up}) @ ((n_{(-2,), dn}) @ (n_{(-2,), dn}) + (n_{(-2,), dn}) @ (n_{(-1,), dn}) + (-1) (n_{(-2,), dn}) @ (n_{(0,), dn}) + (-2) (n_{(-2,), dn}) @ (n_{(1,), dn}) + (-1) (n_{(-1,), dn}) @ (n_{(1,), dn}) + (n_{(0,), dn}) @ (n_{(1,), dn}) + (n_{(1,), dn}) @ (n_{(1,), dn}))\n",
      "(h_{(-1,), (0,), up}) @ ((n_{(-2,), dn}) @ (n_{(-1,), dn}) + (-1) (n_{(-2,), dn}) @ (n_{(0,), dn}) + (n_{(-1,), dn}) @ (n_{(-1,), dn}) + (-2) (n_{(-1,), dn}) @ (n_{(0,), dn}) + (-1) (n_{(-1,), dn}) @ (n_{(1,), dn}) + (n_{(0,), dn}) @ (n_{(0,), dn}) + (n_{(0,), dn}) @ (n_{(1,), dn}))\n",
      "(-1) (h_{(-1,), (1,), up}) @ (h_{(-2,), (-1,), dn}) @ (n_{(-2,), up})\n",
      "(h_{(-1,), (1,), up}) @ (h_{(0,), (1,), dn}) @ (n_{(0,), up})\n",
      "(h_{(0,), (1,), up}) @ (h_{(-2,), (0,), dn}) @ (n_{(0,), dn} + (-1) n_{(1,), dn})\n",
      "(h_{(0,), (1,), up}) @ (h_{(-1,), (1,), dn}) @ (n_{(0,), dn} + (-1) n_{(1,), dn})\n",
      "(-1) (h_{(0,), (1,), up}) @ (h_{(0,), (2,), dn}) @ (n_{(0,), dn} + (-1) n_{(1,), dn})\n",
      "(h_{(0,), (2,), up}) @ (h_{(0,), (1,), dn}) @ (n_{(1,), up})\n",
      "(-1) (h_{(-2,), (1,), dn}) @ ((n_{(-2,), up}) @ (n_{(-2,), up}) + (n_{(-2,), up}) @ (n_{(-1,), up}) + (-1) (n_{(-2,), up}) @ (n_{(0,), up}) + (-2) (n_{(-2,), up}) @ (n_{(1,), up}) + (-1) (n_{(-1,), up}) @ (n_{(1,), up}) + (n_{(0,), up}) @ (n_{(1,), up}) + (n_{(1,), up}) @ (n_{(1,), up}))\n",
      "(h_{(-1,), (0,), dn}) @ ((n_{(-2,), up}) @ (n_{(-1,), up}) + (-1) (n_{(-2,), up}) @ (n_{(0,), up}) + (n_{(-1,), up}) @ (n_{(-1,), up}) + (-2) (n_{(-1,), up}) @ (n_{(0,), up}) + (-1) (n_{(-1,), up}) @ (n_{(1,), up}) + (n_{(0,), up}) @ (n_{(0,), up}) + (n_{(0,), up}) @ (n_{(1,), up}))\n",
      "(g_{(-2,), (-1,), up}) @ (g_{(-1,), (1,), dn}) @ (n_{(1,), up})\n",
      "(g_{(-2,), (0,), up}) @ (g_{(0,), (1,), dn}) @ (n_{(-2,), dn} + (-1) n_{(0,), dn})\n",
      "(-1) (g_{(-1,), (1,), up}) @ (g_{(-2,), (-1,), dn}) @ (n_{(-1,), dn} + (-1) n_{(1,), dn})\n",
      "(g_{(-1,), (1,), up}) @ (g_{(0,), (1,), dn}) @ (n_{(-1,), dn} + (-1) n_{(1,), dn})\n",
      "(g_{(0,), (1,), up}) @ (g_{(-2,), (0,), dn}) @ (n_{(-2,), up})\n",
      "(g_{(0,), (1,), up}) @ (g_{(-1,), (1,), dn}) @ (n_{(-1,), up})\n",
      "(g_{(0,), (1,), up}) @ (g_{(0,), (2,), dn}) @ (n_{(2,), up})\n",
      "(-1) (g_{(0,), (2,), up}) @ (g_{(0,), (1,), dn}) @ (n_{(0,), dn} + (-1) n_{(2,), dn})\n",
      "(-1) (g_{(-2,), (0,), dn}) @ (n_{(0,), up}) @ (g_{(0,), (1,), up})\n",
      "(-1) (g_{(-1,), (1,), dn}) @ (n_{(-1,), up}) @ (g_{(-2,), (-1,), up})\n",
      "(-1) (g_{(-1,), (1,), dn}) @ (n_{(1,), up}) @ (g_{(0,), (1,), up})\n",
      "(-1) (g_{(0,), (2,), dn}) @ (n_{(0,), up}) @ (g_{(0,), (1,), up})\n",
      "(n_{(-1,), up}) @ (h_{(-1,), (1,), up}) @ (h_{(-2,), (-1,), dn})\n",
      "(n_{(0,), up}) @ (h_{(-2,), (0,), up}) @ (h_{(0,), (1,), dn})\n",
      "(-1) (n_{(0,), up}) @ (h_{(0,), (2,), up}) @ (h_{(0,), (1,), dn})\n",
      "(-1) (n_{(1,), up}) @ (h_{(-1,), (1,), up}) @ (h_{(0,), (1,), dn})\n"
     ]
    }
   ],
   "source": [
    "for i in final_result_ori.terms:\n",
    "    print(i)"
   ]
  },
  {
   "cell_type": "code",
   "execution_count": null,
   "metadata": {},
   "outputs": [
    {
     "name": "stdout",
     "output_type": "stream",
     "text": [
      "(h_{(-2,), (0,), up}) @ (h_{(0,), (1,), dn}) @ (n_{(0,), up})\n",
      "(h_{(-1,), (1,), up}) @ (h_{(-2,), (-1,), dn}) @ (n_{(-1,), up})\n",
      "(-1) (h_{(-1,), (1,), up}) @ (h_{(0,), (1,), dn}) @ (n_{(1,), up})\n",
      "(-1) (h_{(0,), (2,), up}) @ (h_{(0,), (1,), dn}) @ (n_{(0,), up})\n",
      "(-1) (g_{(-2,), (-1,), up}) @ (g_{(-1,), (1,), dn}) @ (n_{(-1,), up})\n",
      "(-1) (g_{(0,), (1,), up}) @ (g_{(-2,), (0,), dn}) @ (n_{(0,), up})\n",
      "(-1) (g_{(0,), (1,), up}) @ (g_{(-1,), (1,), dn}) @ (n_{(1,), up})\n",
      "(-1) (g_{(0,), (1,), up}) @ (g_{(0,), (2,), dn}) @ (n_{(0,), up})\n",
      "(g_{(-2,), (0,), dn}) @ (n_{(0,), up}) @ (g_{(0,), (1,), up})\n",
      "(g_{(-1,), (1,), dn}) @ (n_{(-1,), up}) @ (g_{(-2,), (-1,), up})\n",
      "(g_{(-1,), (1,), dn}) @ (n_{(1,), up}) @ (g_{(0,), (1,), up})\n",
      "(g_{(0,), (2,), dn}) @ (n_{(0,), up}) @ (g_{(0,), (1,), up})\n",
      "(-1) (n_{(-1,), up}) @ (h_{(-1,), (1,), up}) @ (h_{(-2,), (-1,), dn})\n",
      "(-1) (n_{(0,), up}) @ (h_{(-2,), (0,), up}) @ (h_{(0,), (1,), dn})\n",
      "(n_{(0,), up}) @ (h_{(0,), (2,), up}) @ (h_{(0,), (1,), dn})\n",
      "(n_{(1,), up}) @ (h_{(-1,), (1,), up}) @ (h_{(0,), (1,), dn})\n"
     ]
    }
   ],
   "source": [
    "final_diff = final_result-final_result_ori\n",
    "final_diff = fhc.simplify(final_diff)\n",
    "for i in final_diff.terms:\n",
    "    print(i)"
   ]
  },
  {
   "cell_type": "code",
   "execution_count": null,
   "metadata": {},
   "outputs": [
    {
     "name": "stdout",
     "output_type": "stream",
     "text": [
      "(-0.5) n_{(0,), up} + (-0.5) n_{(1,), up} + (-0.5) n_{(0,), dn} + (-0.5) n_{(1,), dn} + (n_{(0,), up}) @ (n_{(0,), dn}) + (n_{(1,), up}) @ (n_{(1,), dn})\n"
     ]
    }
   ],
   "source": [
    "temp_h2 = h2_origin+diff_op\n",
    "print(temp_h2)"
   ]
  },
  {
   "cell_type": "code",
   "execution_count": null,
   "metadata": {},
   "outputs": [
    {
     "name": "stdout",
     "output_type": "stream",
     "text": [
      "(0.5) <empty product>\n"
     ]
    }
   ],
   "source": [
    "print(fhc.simplify(h2-temp_h2))"
   ]
  },
  {
   "cell_type": "code",
   "execution_count": null,
   "metadata": {},
   "outputs": [
    {
     "name": "stdout",
     "output_type": "stream",
     "text": [
      "(-0.5) n_{(0,), up} + (-0.5) n_{(1,), up} + (-0.5) n_{(0,), dn} + (-0.5) n_{(1,), dn} + (0.5) <empty product> + (n_{(0,), up}) @ (n_{(0,), dn}) + (n_{(1,), up}) @ (n_{(1,), dn})\n"
     ]
    }
   ],
   "source": [
    "print(fhc.simplify(h2))"
   ]
  },
  {
   "cell_type": "code",
   "execution_count": null,
   "metadata": {},
   "outputs": [
    {
     "name": "stdout",
     "output_type": "stream",
     "text": [
      "(-1) (h_{(-2,), (-1,), up}) @ (h_{(-1,), (1,), dn}) @ (n_{(-2,), dn} + (-1) n_{(-1,), dn})\n",
      "(-1) (h_{(-2,), (0,), up}) @ (h_{(0,), (1,), dn}) @ (n_{(1,), up})\n",
      "(-1.0) (h_{(-2,), (1,), up}) @ ((n_{(-2,), dn}) @ (n_{(-2,), dn}) + (n_{(-2,), dn}) @ (n_{(-1,), dn}) + (-1.0) (n_{(-2,), dn}) @ (n_{(0,), dn}) + (-2.0) (n_{(-2,), dn}) @ (n_{(1,), dn}) + (-1.0) (n_{(-1,), dn}) @ (n_{(1,), dn}) + (n_{(0,), dn}) @ (n_{(1,), dn}) + (n_{(1,), dn}) @ (n_{(1,), dn}))\n",
      "(h_{(-1,), (0,), up}) @ ((n_{(-2,), dn}) @ (n_{(-1,), dn}) + (-1.0) (n_{(-2,), dn}) @ (n_{(0,), dn}) + (n_{(-1,), dn}) @ (n_{(-1,), dn}) + (-2.0) (n_{(-1,), dn}) @ (n_{(0,), dn}) + (-1.0) (n_{(-1,), dn}) @ (n_{(1,), dn}) + (n_{(0,), dn}) @ (n_{(0,), dn}) + (n_{(0,), dn}) @ (n_{(1,), dn}))\n",
      "(-1) (h_{(-1,), (1,), up}) @ (h_{(-2,), (-1,), dn}) @ (n_{(-2,), up})\n",
      "(h_{(-1,), (1,), up}) @ (h_{(0,), (1,), dn}) @ (n_{(0,), up})\n",
      "(h_{(0,), (1,), up}) @ (h_{(-2,), (0,), dn}) @ (n_{(0,), dn} + (-1) n_{(1,), dn})\n",
      "(h_{(0,), (1,), up}) @ (h_{(-1,), (1,), dn}) @ (n_{(0,), dn} + (-1) n_{(1,), dn})\n",
      "(-1) (h_{(0,), (1,), up}) @ (h_{(0,), (2,), dn}) @ (n_{(0,), dn} + (-1) n_{(1,), dn})\n",
      "(h_{(0,), (2,), up}) @ (h_{(0,), (1,), dn}) @ (n_{(1,), up})\n",
      "(-1.0) (h_{(-2,), (1,), dn}) @ ((n_{(-2,), up}) @ (n_{(-2,), up}) + (n_{(-2,), up}) @ (n_{(-1,), up}) + (-1.0) (n_{(-2,), up}) @ (n_{(0,), up}) + (-2.0) (n_{(-2,), up}) @ (n_{(1,), up}) + (-1.0) (n_{(-1,), up}) @ (n_{(1,), up}) + (n_{(0,), up}) @ (n_{(1,), up}) + (n_{(1,), up}) @ (n_{(1,), up}))\n",
      "(h_{(-1,), (0,), dn}) @ ((n_{(-2,), up}) @ (n_{(-1,), up}) + (-1.0) (n_{(-2,), up}) @ (n_{(0,), up}) + (n_{(-1,), up}) @ (n_{(-1,), up}) + (-2.0) (n_{(-1,), up}) @ (n_{(0,), up}) + (-1.0) (n_{(-1,), up}) @ (n_{(1,), up}) + (n_{(0,), up}) @ (n_{(0,), up}) + (n_{(0,), up}) @ (n_{(1,), up}))\n",
      "(g_{(-2,), (-1,), up}) @ (g_{(-1,), (1,), dn}) @ (n_{(1,), up})\n",
      "(g_{(-2,), (0,), up}) @ (g_{(0,), (1,), dn}) @ (n_{(-2,), dn} + (-1) n_{(0,), dn})\n",
      "(-1) (g_{(-1,), (1,), up}) @ (g_{(-2,), (-1,), dn}) @ (n_{(-1,), dn} + (-1) n_{(1,), dn})\n",
      "(g_{(-1,), (1,), up}) @ (g_{(0,), (1,), dn}) @ (n_{(-1,), dn} + (-1) n_{(1,), dn})\n",
      "(g_{(0,), (1,), up}) @ (g_{(-2,), (0,), dn}) @ (n_{(-2,), up})\n",
      "(g_{(0,), (1,), up}) @ (g_{(-1,), (1,), dn}) @ (n_{(-1,), up})\n",
      "(g_{(0,), (1,), up}) @ (g_{(0,), (2,), dn}) @ (n_{(2,), up})\n",
      "(-1) (g_{(0,), (2,), up}) @ (g_{(0,), (1,), dn}) @ (n_{(0,), dn} + (-1) n_{(2,), dn})\n",
      "(-1) (g_{(-2,), (0,), dn}) @ (n_{(0,), up}) @ (g_{(0,), (1,), up})\n",
      "(-1) (g_{(-1,), (1,), dn}) @ (n_{(-1,), up}) @ (g_{(-2,), (-1,), up})\n",
      "(-1) (g_{(-1,), (1,), dn}) @ (n_{(1,), up}) @ (g_{(0,), (1,), up})\n",
      "(-1) (g_{(0,), (2,), dn}) @ (n_{(0,), up}) @ (g_{(0,), (1,), up})\n",
      "(n_{(-1,), up}) @ (h_{(-1,), (1,), up}) @ (h_{(-2,), (-1,), dn})\n",
      "(n_{(0,), up}) @ (h_{(-2,), (0,), up}) @ (h_{(0,), (1,), dn})\n",
      "(-1) (n_{(0,), up}) @ (h_{(0,), (2,), up}) @ (h_{(0,), (1,), dn})\n",
      "(-1) (n_{(1,), up}) @ (h_{(-1,), (1,), up}) @ (h_{(0,), (1,), dn})\n"
     ]
    }
   ],
   "source": [
    "test_result = fhc.simplify(fhc.translate_origin(fhc.simplify(fhc.commutator_translation(temp_h2,layer01202[3],translatt=translatt)),translatt=translatt))\n",
    "for i in test_result.terms:\n",
    "    print(i)"
   ]
  },
  {
   "cell_type": "code",
   "execution_count": null,
   "metadata": {},
   "outputs": [
    {
     "name": "stdout",
     "output_type": "stream",
     "text": [
      "<empty sum>\n"
     ]
    }
   ],
   "source": [
    "print(fhc.simplify(fhc.translate_origin(fhc.simplify(test_result-final_result_ori),translatt=translatt)))"
   ]
  },
  {
   "cell_type": "code",
   "execution_count": 5,
   "metadata": {},
   "outputs": [
    {
     "name": "stdout",
     "output_type": "stream",
     "text": [
      "(h_{(-2,), (-1,), up}) @ (h_{(-1,), (1,), dn}) @ (n_{(-2,), dn} + (-1) n_{(-1,), dn}) + (h_{(-2,), (0,), up}) @ (h_{(0,), (1,), dn}) @ (n_{(1,), up}) + (-1) (h_{(-2,), (1,), up}) @ ((n_{(-2,), dn}) @ (n_{(-2,), dn}) + (-1) (n_{(-2,), dn}) @ (n_{(-1,), dn}) + (-1) (n_{(-2,), dn}) @ (n_{(0,), dn}) + (2) (n_{(-1,), dn}) @ (n_{(0,), dn}) + (-1) (n_{(-1,), dn}) @ (n_{(1,), dn}) + (-1) (n_{(0,), dn}) @ (n_{(1,), dn}) + (n_{(1,), dn}) @ (n_{(1,), dn})) + (-2) (h_{(-1,), (0,), up}) @ (g_{(-2,), (-1,), dn}) @ (g_{(0,), (1,), dn}) + (-1) (h_{(-1,), (0,), up}) @ (g_{(0,), (1,), dn}) @ (g_{(0,), (1,), dn}) + (3) (h_{(-1,), (0,), up}) @ ((n_{(-1,), dn}) @ (n_{(0,), dn}) + (-1) (n_{(-1,), dn}) @ (n_{(1,), dn}) + (-2/3) (n_{(0,), dn}) @ (n_{(0,), dn}) + (1/3) (n_{(0,), dn}) @ (n_{(1,), dn}) + (1/3) (n_{(1,), dn}) @ (n_{(1,), dn})) + (h_{(-1,), (1,), up}) @ (h_{(-2,), (-1,), dn}) @ (n_{(-2,), up}) + (h_{(-1,), (1,), up}) @ (h_{(0,), (1,), dn}) @ (n_{(0,), up} + (-1) n_{(1,), up}) + (-1) (h_{(0,), (1,), up}) @ (h_{(-2,), (0,), dn}) @ (n_{(0,), dn} + (-1) n_{(1,), dn}) + (h_{(0,), (1,), up}) @ (h_{(-1,), (1,), dn}) @ (n_{(0,), dn} + (-1) n_{(1,), dn}) + (-1) (h_{(0,), (1,), up}) @ (h_{(0,), (2,), dn}) @ (n_{(0,), dn} + (-1) n_{(1,), dn}) + (2) (h_{(0,), (1,), up}) @ (g_{(-1,), (0,), dn}) @ (g_{(0,), (1,), dn}) + (2) (h_{(0,), (1,), up}) @ (g_{(1,), (2,), dn}) @ (g_{(0,), (1,), dn}) + (-1) (h_{(0,), (2,), up}) @ (h_{(0,), (1,), dn}) @ (n_{(0,), up} + (-1) n_{(1,), up}) + (-1) (h_{(1,), (2,), up}) @ (g_{(0,), (1,), dn}) @ (g_{(0,), (1,), dn}) + (h_{(1,), (2,), up}) @ ((n_{(0,), dn}) @ (n_{(0,), dn}) + (n_{(0,), dn}) @ (n_{(1,), dn}) + (-3) (n_{(0,), dn}) @ (n_{(2,), dn}) + (-2) (n_{(1,), dn}) @ (n_{(1,), dn}) + (3) (n_{(1,), dn}) @ (n_{(2,), dn})) + (-1) (h_{(-2,), (-1,), dn}) @ (n_{(-1,), up}) @ (h_{(-1,), (1,), up}) + (-1) (h_{(-2,), (1,), dn}) @ ((n_{(-2,), up}) @ (n_{(-2,), up}) + (-1) (n_{(-2,), up}) @ (n_{(-1,), up}) + (-1) (n_{(-2,), up}) @ (n_{(0,), up}) + (2) (n_{(-1,), up}) @ (n_{(0,), up}) + (-1) (n_{(-1,), up}) @ (n_{(1,), up}) + (-1) (n_{(0,), up}) @ (n_{(1,), up}) + (n_{(1,), up}) @ (n_{(1,), up})) + (-2) (h_{(-1,), (0,), dn}) @ (g_{(-2,), (-1,), up}) @ (g_{(0,), (1,), up}) + (-1) (h_{(-1,), (0,), dn}) @ (g_{(0,), (1,), up}) @ (g_{(0,), (1,), up}) + (3) (h_{(-1,), (0,), dn}) @ ((n_{(-1,), up}) @ (n_{(0,), up}) + (-1) (n_{(-1,), up}) @ (n_{(1,), up}) + (-2/3) (n_{(0,), up}) @ (n_{(0,), up}) + (1/3) (n_{(0,), up}) @ (n_{(1,), up}) + (1/3) (n_{(1,), up}) @ (n_{(1,), up})) + (h_{(0,), (1,), dn}) @ (g_{(-1,), (0,), up}) @ (g_{(0,), (1,), up}) + (h_{(0,), (1,), dn}) @ (g_{(0,), (1,), up}) @ (g_{(-1,), (0,), up}) + (h_{(0,), (1,), dn}) @ (g_{(0,), (1,), up}) @ (g_{(1,), (2,), up}) + (h_{(0,), (1,), dn}) @ (g_{(1,), (2,), up}) @ (g_{(0,), (1,), up}) + (-1) (h_{(0,), (1,), dn}) @ (n_{(0,), up}) @ (h_{(-2,), (0,), up}) + (-1) (h_{(1,), (2,), dn}) @ (g_{(0,), (1,), up}) @ (g_{(0,), (1,), up}) + (h_{(1,), (2,), dn}) @ ((n_{(0,), up}) @ (n_{(0,), up}) + (n_{(0,), up}) @ (n_{(1,), up}) + (-3) (n_{(0,), up}) @ (n_{(2,), up}) + (-2) (n_{(1,), up}) @ (n_{(1,), up}) + (3) (n_{(1,), up}) @ (n_{(2,), up})) + (-2) (g_{(-2,), (-1,), up}) @ (g_{(-1,), (1,), dn}) @ (n_{(0,), up} + (-1/2) n_{(1,), up}) + (g_{(-2,), (0,), up}) @ (g_{(0,), (1,), dn}) @ (n_{(-2,), dn} + (-2) n_{(-1,), dn} + n_{(0,), dn}) + (g_{(-1,), (1,), up}) @ (g_{(-2,), (-1,), dn}) @ (n_{(-1,), dn} + (-2) n_{(0,), dn} + n_{(1,), dn}) + (3) (g_{(-1,), (1,), up}) @ (g_{(0,), (1,), dn}) @ (n_{(-1,), dn} + (-1/3) n_{(0,), dn} + (-2/3) n_{(1,), dn}) + (g_{(-1,), (1,), up}) @ (n_{(0,), dn} + (-1) n_{(1,), dn}) @ (g_{(0,), (1,), dn}) + (g_{(0,), (1,), up}) @ (g_{(-2,), (0,), dn}) @ (n_{(-2,), up} + (-2) n_{(-1,), up}) + (3) (g_{(0,), (1,), up}) @ (g_{(-1,), (1,), dn}) @ (n_{(-1,), up} + (-2/3) n_{(1,), up}) + (-1) (g_{(0,), (1,), up}) @ (g_{(0,), (2,), dn}) @ (n_{(0,), up} + (-1) n_{(1,), up} + (-3) n_{(2,), up}) + (-1) (g_{(0,), (2,), up}) @ (g_{(0,), (1,), dn}) @ (n_{(0,), dn} + (-3) n_{(2,), dn}) + (-2) (g_{(0,), (2,), up}) @ (n_{(0,), dn}) @ (g_{(0,), (1,), dn}) + (g_{(-2,), (0,), dn}) @ (n_{(0,), up}) @ (g_{(0,), (1,), up}) + (g_{(-1,), (1,), dn}) @ (n_{(-1,), up}) @ (g_{(-2,), (-1,), up}) + (-1) (g_{(-1,), (1,), dn}) @ (n_{(1,), up}) @ (g_{(0,), (1,), up}) + (-2) (g_{(0,), (2,), dn}) @ (n_{(0,), up} + (1/2) n_{(1,), up}) @ (g_{(0,), (1,), up})\n"
     ]
    }
   ],
   "source": [
    "temp_hlist_ori = [h0,h1,h2_origin]\n",
    "temp_hlist = [h0,h1,h2_origin+diff_op]\n",
    "#test02120=commm_automata(temp_hlist,[0,2,1,2,0],translatt=translatt)\n",
    "test02120_ori = commm_automata(temp_hlist_ori,[0,2,1,2,0],translatt=translatt)\n",
    "#print(fhc.simplify(fhc.translate_origin(test02120[-1]-test02120_ori[-1],translatt=translatt)))\n",
    "print(test02120_ori[-1])"
   ]
  },
  {
   "cell_type": "code",
   "execution_count": null,
   "metadata": {},
   "outputs": [],
   "source": [
    "# To test 1D, run this block\n",
    "v = -1\n",
    "u = 1\n",
    "translatt = fhc.SubLattice(np.array([[2]]))\n",
    "h0 = fhc.SumOp([fhc.HoppingOp((0,), (1,), s, v) for s in [0, 1]])\n",
    "h1 = fhc.SumOp([fhc.HoppingOp((-1,), (0,), s, v) for s in [0, 1]])\n",
    "h2 = fhc.SumOp([fhc.ProductOp([fhc.ModifiedNumOp((x,), s, 1) for s in [0, 1]], u) for x in [0, 1]])\n",
    "h2_origin = fhc.SumOp([fhc.ProductOp([fhc.NumberOp((x,), s, 1) for s in [0, 1]], u) for x in [0, 1]])\n",
    "diff_op = fhc.SumOp([fhc.NumberOp((i,),s,-.5) for i in [0,1] for s in [0,1]])\n",
    "hlist = [h0,h1,h2]\n",
    "hlist_ori = [h0,h1,h2_origin]"
   ]
  },
  {
   "cell_type": "code",
   "execution_count": 4,
   "metadata": {},
   "outputs": [],
   "source": [
    "# To test 2D square, run this block\n",
    "v=-1\n",
    "u=1\n",
    "translatt = fhc.SubLattice(np.array([[2, 0], [0, 2]]))\n",
    "plaqcoords = [( 0,  0), ( 1,  0), ( 1,  1), ( 0,  1)]\n",
    "plaqcshift = [(-1, -1), ( 0, -1), ( 0,  0), (-1,  0)]\n",
    "h0 = fhc.SumOp([fhc.HoppingOp(plaqcoords[i], plaqcoords[(i + 1) % 4], s, v) for s in [0, 1] for i in range(4)])\n",
    "h1 = fhc.SumOp([fhc.HoppingOp(plaqcshift[i], plaqcshift[(i + 1) % 4], s, v) for s in [0, 1] for i in range(4)])\n",
    "#h2 = fhc.SumOp([fhc.ProductOp([fhc.ModifiedNumOp(plaqcoords[i], s, 1) for s in [0, 1]], u) for i in range(4)])\n",
    "h2_origin = fhc.SumOp([fhc.ProductOp([fhc.NumberOp(plaqcoords[i], s, 1) for s in [0, 1]], u) for i in range(4)])\n",
    "diff_op = fhc.SumOp([fhc.NumberOp(plaqcoords[i],s,-.5*u) for s in [0,1] for i in range(4)])\n",
    "hlist_ori = [h0,h1,h2_origin]"
   ]
  },
  {
   "cell_type": "code",
   "execution_count": 4,
   "metadata": {},
   "outputs": [],
   "source": [
    "# To test 2D triangle, run this block\n",
    "from fractions import Fraction\n",
    "v = -1\n",
    "u = 1\n",
    "translatt = fhc.SubLattice(np.array([[3, 0, -3], [0, 3, -3]]).T)\n",
    "hexcoords = [( 2, -1, -1),\n",
    "            ( 1,  1, -2),\n",
    "            (-1,  2, -1),\n",
    "            (-2,  1,  1),\n",
    "            (-1, -1,  2),\n",
    "            ( 1, -2,  1)]\n",
    "hk = [fhc.SumOp([fhc.HoppingOp(( 0,  0,  0), hexcoords[i], s, v) for s in [0, 1]] +\n",
    "                [fhc.HoppingOp(( 0,  0,  0), hexcoords[(i + 1) % 6], s, v) for s in [0, 1]] +\n",
    "                [fhc.HoppingOp(hexcoords[i], hexcoords[(i + 1) % 6], s, v) for s in [0, 1]]) for i in range(0, 6, 2)]\n",
    "hu_origin = fhc.SumOp([fhc.ProductOp([fhc.NumberOp(( 0,  0,  0), s, 1) for s in [0, 1]], u)] +\n",
    "                [fhc.ProductOp([fhc.NumberOp(hexcoords[i], s, 1) for s in [0, 1]], Fraction(u, 3)) for i in range(6)])\n",
    "hu = fhc.SumOp([fhc.ProductOp([fhc.ModifiedNumOp(( 0,  0,  0), s, 1) for s in [0, 1]], u)] +\n",
    "                [fhc.ProductOp([fhc.ModifiedNumOp(hexcoords[i], s, 1) for s in [0, 1]], Fraction(u, 3)) for i in range(6)])\n",
    "diff_op = fhc.SumOp([fhc.NumberOp(( 0,  0,  0), s, -.5*u) for s in [0, 1]]+[fhc.NumberOp(hexcoords[i], s, -.5*Fraction(u,3)) for s in [0, 1] for i in range(6)])\n",
    "hlist_ori = hk + [hu_origin]"
   ]
  },
  {
   "cell_type": "code",
   "execution_count": 3,
   "metadata": {},
   "outputs": [],
   "source": [
    "def appro(op:fhc.SumOp):\n",
    "    opcpy = fhc.SumOp(op.terms)\n",
    "    for i in range(len(opcpy.terms)):\n",
    "        if opcpy.terms[i].coeff<1e-10:\n",
    "            opcpy.terms[i] = fhc.ZeroOp()\n",
    "    return fhc.simplify(opcpy)"
   ]
  },
  {
   "cell_type": "code",
   "execution_count": 7,
   "metadata": {},
   "outputs": [],
   "source": [
    "# only the non-zero difference matrix will be printout\n",
    "method = fhc.SplittingMethod.suzuki(len(hlist_ori), 2)\n",
    "s = (method.num_layers + 1) // 2\n",
    "comm_bound_terms = fhc.commutator_bound(method, s)\n",
    "test_op_list = hlist_ori+[diff_op]\n",
    "for term in comm_bound_terms:\n",
    "    work_list = []\n",
    "    for num in term.commidx:\n",
    "        if num==len(hlist_ori)-1:\n",
    "            if len(work_list)>0:\n",
    "                test_result = commm_automata(hlist=test_op_list,seq=work_list+[len(hlist_ori)],translatt=translatt)\n",
    "                # when test the difference of 1D and 2D-square lattice, uncomment the first if statement\n",
    "                # if not test_result[-1].is_zero():\n",
    "                if not appro(test_result[-1]).is_zero():\n",
    "                    print('To test the different term of commutator:')\n",
    "                    print(test_result[-1])\n",
    "                    print(f'end the test of commidx:{work_list}')\n",
    "                    print('-----------------------------------------')\n",
    "            else:\n",
    "                print('start with h2, skip')\n",
    "                print('-----------------------------------------')\n",
    "        work_list.append(num)"
   ]
  },
  {
   "cell_type": "code",
   "execution_count": 4,
   "metadata": {},
   "outputs": [
    {
     "name": "stdout",
     "output_type": "stream",
     "text": [
      "(g_{(0,), (1,), up}) @ (n_{(0,), up} + (-1) n_{(1,), up} + (2) n_{(0,), dn} + (-2) n_{(1,), dn}) + (2) (g_{(0,), (1,), dn}) @ (n_{(0,), up} + (-1) n_{(1,), up} + (1/2) n_{(0,), dn} + (-1/2) n_{(1,), dn}) + (n_{(0,), up} + (-1) n_{(1,), up}) @ (g_{(0,), (1,), up}) + (n_{(0,), dn} + (-1) n_{(1,), dn}) @ (g_{(0,), (1,), dn})\n"
     ]
    }
   ],
   "source": [
    "sqr_num0 = fhc.ProductOp([fhc.SumOp([fhc.NumberOp((0,),0,1),fhc.NumberOp((0,),1,1)]),fhc.SumOp([fhc.NumberOp((0,),0,1),fhc.NumberOp((0,),1,1)])],1)\n",
    "sqr_num1 = fhc.ProductOp([fhc.SumOp([fhc.NumberOp((1,),0,1),fhc.NumberOp((1,),1,1)]),fhc.SumOp([fhc.NumberOp((1,),0,1),fhc.NumberOp((1,),1,1)])],1)\n",
    "sqr_num = fhc.SumOp([sqr_num0,sqr_num1])\n",
    "translatt = fhc.SubLattice(np.array([[2]]))\n",
    "h0 = fhc.SumOp([fhc.HoppingOp(( 0,), ( 1,), s, -1, 1) for s in [0, 1]])\n",
    "result = fhc.commutator_translation(h0, sqr_num, translatt=translatt)\n",
    "print(fhc.simplify(result))\n"
   ]
  },
  {
   "cell_type": "code",
   "execution_count": 5,
   "metadata": {},
   "outputs": [
    {
     "name": "stdout",
     "output_type": "stream",
     "text": [
      "(2) (g_{(0,), (1,), up}) @ (n_{(0,), dn} + (-1) n_{(1,), dn}) + (2) (g_{(0,), (1,), dn}) @ (n_{(0,), up} + (-1) n_{(1,), up})\n"
     ]
    }
   ],
   "source": [
    "h2 = fhc.SumOp([fhc.ProductOp([fhc.NumberOp((x,), s, 1) for s in [0, 1]], 1) for x in [0, 1]])\n",
    "h2 = 2*h2\n",
    "ref_result = fhc.commutator_translation(h0, h2, translatt=translatt)\n",
    "print(fhc.simplify(ref_result))"
   ]
  },
  {
   "cell_type": "code",
   "execution_count": 2,
   "metadata": {},
   "outputs": [
    {
     "name": "stdout",
     "output_type": "stream",
     "text": [
      "True\n"
     ]
    }
   ],
   "source": [
    "temp1 = fhc.NumberOp((0,),0,1)\n",
    "temp2 = fhc.NumberOp((0,),1,1)\n",
    "temp3 = fhc.NumberOp((0,),0,1)\n",
    "temp_list = [temp1,temp2]\n",
    "print(temp3 in temp_list)"
   ]
  },
  {
   "cell_type": "code",
   "execution_count": 6,
   "metadata": {},
   "outputs": [
    {
     "name": "stdout",
     "output_type": "stream",
     "text": [
      "(n_{(0,), up} + n_{(0,), dn}) @ (n_{(0,), up} + n_{(0,), dn}) + (n_{(1,), up} + n_{(1,), dn}) @ (n_{(1,), up} + n_{(1,), dn})\n",
      "n_{(0,), up} + n_{(1,), up} + n_{(0,), dn} + n_{(1,), dn} + (2) (n_{(0,), up}) @ (n_{(0,), dn}) + (2) (n_{(1,), up}) @ (n_{(1,), dn})\n"
     ]
    }
   ],
   "source": [
    "print(sqr_num)\n",
    "print(fhc.simplify(sqr_num))"
   ]
  },
  {
   "cell_type": "code",
   "execution_count": 2,
   "metadata": {},
   "outputs": [],
   "source": [
    "boson_level = 4\n",
    "translatt = fhc.SubLattice(np.array([[2]]))\n",
    "h3 = fhc.SumOp([fhc.BosonNumOp((i,),1,boson_level) for i in [0,1]])\n",
    "h4 = fhc.SumOp([fhc.ProductOp([fhc.NumberOp((i,),s,1),fhc.BosonAddOp((i,),1,boson_level)],1) for s in [0,1] for i in [0,1]])"
   ]
  },
  {
   "cell_type": "code",
   "execution_count": 7,
   "metadata": {},
   "outputs": [
    {
     "name": "stdout",
     "output_type": "stream",
     "text": [
      "(n_{(0,), up}) @ (Bn_(0,)) + (n_{(1,), up}) @ (Bn_(1,)) + (n_{(0,), dn}) @ (Bn_(0,)) + (n_{(1,), dn}) @ (Bn_(1,))\n"
     ]
    }
   ],
   "source": [
    "print(h4)"
   ]
  },
  {
   "cell_type": "code",
   "execution_count": 3,
   "metadata": {},
   "outputs": [],
   "source": [
    "commute_4_3 = fhc.commutator(h4,h3)\n"
   ]
  },
  {
   "cell_type": "code",
   "execution_count": 4,
   "metadata": {},
   "outputs": [],
   "source": [
    "commute_4_4_3 = fhc.commutator_translation(h4,commute_4_3,translatt=translatt)\n",
    "commute_3_4_3 = fhc.commutator_translation(h3,commute_4_3,translatt=translatt)"
   ]
  }
 ],
 "metadata": {
  "kernelspec": {
   "display_name": "Python 3 (ipykernel)",
   "language": "python",
   "name": "python3"
  },
  "language_info": {
   "codemirror_mode": {
    "name": "ipython",
    "version": 3
   },
   "file_extension": ".py",
   "mimetype": "text/x-python",
   "name": "python",
   "nbconvert_exporter": "python",
   "pygments_lexer": "ipython3",
   "version": "3.11.3"
  },
  "orig_nbformat": 4,
  "vscode": {
   "interpreter": {
    "hash": "35792f690c9f1f3442547cf038e6c24b19cf974df967b0f50cbf97b948b3dfb5"
   }
  }
 },
 "nbformat": 4,
 "nbformat_minor": 2
}
