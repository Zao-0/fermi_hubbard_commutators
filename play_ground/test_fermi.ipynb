{
 "cells": [
  {
   "cell_type": "code",
   "execution_count": 1,
   "metadata": {},
   "outputs": [],
   "source": [
    "import sys\n",
    "sys.path.append('../')\n",
    "import numpy as np\n",
    "import fh_comm as fhc\n"
   ]
  },
  {
   "cell_type": "code",
   "execution_count": 2,
   "metadata": {},
   "outputs": [],
   "source": [
    "v = -1\n",
    "u = 1\n",
    "translatt = fhc.SubLattice(np.array([[2]]))\n",
    "h0 = fhc.SumOp([fhc.HoppingOp(( 0,), ( 1,), s, v) for s in [0, 1]])\n",
    "h1 = fhc.SumOp([fhc.HoppingOp((-1,), ( 0,), s, v) for s in [0, 1]])\n",
    "h2 = fhc.SumOp([fhc.ProductOp([fhc.NumberOp((x,), s, 1) for s in [0, 1]], u) for x in [0, 1]])\n",
    "hlist = [h0,h1,h2]"
   ]
  },
  {
   "cell_type": "code",
   "execution_count": 3,
   "metadata": {},
   "outputs": [
    {
     "ename": "AssertionError",
     "evalue": "",
     "output_type": "error",
     "traceback": [
      "\u001b[1;31m---------------------------------------------------------------------------\u001b[0m",
      "\u001b[1;31mAssertionError\u001b[0m                            Traceback (most recent call last)",
      "Cell \u001b[1;32mIn[3], line 1\u001b[0m\n\u001b[1;32m----> 1\u001b[0m comm_tab \u001b[38;5;241m=\u001b[39m \u001b[43mfhc\u001b[49m\u001b[38;5;241;43m.\u001b[39;49m\u001b[43mNestedCommutatorTable\u001b[49m\u001b[43m(\u001b[49m\u001b[43mhlist\u001b[49m\u001b[43m,\u001b[49m\u001b[38;5;241;43m5\u001b[39;49m\u001b[43m,\u001b[49m\u001b[43mtranslatt\u001b[49m\u001b[43m)\u001b[49m\n\u001b[0;32m      2\u001b[0m tab4 \u001b[38;5;241m=\u001b[39m comm_tab\u001b[38;5;241m.\u001b[39mtable(\u001b[38;5;241m4\u001b[39m)\n\u001b[0;32m      3\u001b[0m err_bound \u001b[38;5;241m=\u001b[39m \u001b[38;5;241m5\u001b[39m\u001b[38;5;241m*\u001b[39m[\u001b[38;5;241m0\u001b[39m]\n",
      "File \u001b[1;32md:\\Proj\\fermi_hubbard_commutators\\play_ground\\..\\fh_comm\\comm_table.py:18\u001b[0m, in \u001b[0;36mNestedCommutatorTable.__init__\u001b[1;34m(self, hlist, depth, translatt)\u001b[0m\n\u001b[0;32m     16\u001b[0m \u001b[38;5;28mself\u001b[39m\u001b[38;5;241m.\u001b[39m_table \u001b[38;5;241m=\u001b[39m [\u001b[38;5;28mlist\u001b[39m(hlist)]\n\u001b[0;32m     17\u001b[0m \u001b[38;5;28;01mfor\u001b[39;00m d \u001b[38;5;129;01min\u001b[39;00m \u001b[38;5;28mrange\u001b[39m(\u001b[38;5;241m1\u001b[39m, depth):\n\u001b[1;32m---> 18\u001b[0m     \u001b[38;5;28mself\u001b[39m\u001b[38;5;241m.\u001b[39m_table\u001b[38;5;241m.\u001b[39mappend(\u001b[43m_nested_commutators\u001b[49m\u001b[43m(\u001b[49m\u001b[43mhlist\u001b[49m\u001b[43m,\u001b[49m\u001b[43m \u001b[49m\u001b[38;5;28;43mself\u001b[39;49m\u001b[38;5;241;43m.\u001b[39;49m\u001b[43m_table\u001b[49m\u001b[43m[\u001b[49m\u001b[43md\u001b[49m\u001b[43m \u001b[49m\u001b[38;5;241;43m-\u001b[39;49m\u001b[43m \u001b[49m\u001b[38;5;241;43m1\u001b[39;49m\u001b[43m]\u001b[49m\u001b[43m,\u001b[49m\u001b[43m \u001b[49m\u001b[43mtranslatt\u001b[49m\u001b[43m)\u001b[49m)\n",
      "File \u001b[1;32md:\\Proj\\fermi_hubbard_commutators\\play_ground\\..\\fh_comm\\comm_table.py:33\u001b[0m, in \u001b[0;36m_nested_commutators\u001b[1;34m(hlist, operators, translatt)\u001b[0m\n\u001b[0;32m     28\u001b[0m \u001b[38;5;250m\u001b[39m\u001b[38;5;124;03m\"\"\"\u001b[39;00m\n\u001b[0;32m     29\u001b[0m \u001b[38;5;124;03mReplace the innermost level of `operators` with a list of commutators\u001b[39;00m\n\u001b[0;32m     30\u001b[0m \u001b[38;5;124;03mbetween the entries of `hlist` and the current operator.\u001b[39;00m\n\u001b[0;32m     31\u001b[0m \u001b[38;5;124;03m\"\"\"\u001b[39;00m\n\u001b[0;32m     32\u001b[0m \u001b[38;5;28;01mif\u001b[39;00m \u001b[38;5;28misinstance\u001b[39m(operators, \u001b[38;5;28mlist\u001b[39m):\n\u001b[1;32m---> 33\u001b[0m     \u001b[38;5;28;01mreturn\u001b[39;00m [\u001b[43m_nested_commutators\u001b[49m\u001b[43m(\u001b[49m\u001b[43mhlist\u001b[49m\u001b[43m,\u001b[49m\u001b[43m \u001b[49m\u001b[43mop\u001b[49m\u001b[43m,\u001b[49m\u001b[43m \u001b[49m\u001b[43mtranslatt\u001b[49m\u001b[43m)\u001b[49m \u001b[38;5;28;01mfor\u001b[39;00m op \u001b[38;5;129;01min\u001b[39;00m operators]\n\u001b[0;32m     34\u001b[0m \u001b[38;5;28;01mif\u001b[39;00m translatt \u001b[38;5;129;01mis\u001b[39;00m \u001b[38;5;28;01mNone\u001b[39;00m:\n\u001b[0;32m     35\u001b[0m     \u001b[38;5;28;01mreturn\u001b[39;00m [simplify(commutator(h, operators)) \u001b[38;5;28;01mfor\u001b[39;00m h \u001b[38;5;129;01min\u001b[39;00m hlist]\n",
      "File \u001b[1;32md:\\Proj\\fermi_hubbard_commutators\\play_ground\\..\\fh_comm\\comm_table.py:33\u001b[0m, in \u001b[0;36m_nested_commutators\u001b[1;34m(hlist, operators, translatt)\u001b[0m\n\u001b[0;32m     28\u001b[0m \u001b[38;5;250m\u001b[39m\u001b[38;5;124;03m\"\"\"\u001b[39;00m\n\u001b[0;32m     29\u001b[0m \u001b[38;5;124;03mReplace the innermost level of `operators` with a list of commutators\u001b[39;00m\n\u001b[0;32m     30\u001b[0m \u001b[38;5;124;03mbetween the entries of `hlist` and the current operator.\u001b[39;00m\n\u001b[0;32m     31\u001b[0m \u001b[38;5;124;03m\"\"\"\u001b[39;00m\n\u001b[0;32m     32\u001b[0m \u001b[38;5;28;01mif\u001b[39;00m \u001b[38;5;28misinstance\u001b[39m(operators, \u001b[38;5;28mlist\u001b[39m):\n\u001b[1;32m---> 33\u001b[0m     \u001b[38;5;28;01mreturn\u001b[39;00m [\u001b[43m_nested_commutators\u001b[49m\u001b[43m(\u001b[49m\u001b[43mhlist\u001b[49m\u001b[43m,\u001b[49m\u001b[43m \u001b[49m\u001b[43mop\u001b[49m\u001b[43m,\u001b[49m\u001b[43m \u001b[49m\u001b[43mtranslatt\u001b[49m\u001b[43m)\u001b[49m \u001b[38;5;28;01mfor\u001b[39;00m op \u001b[38;5;129;01min\u001b[39;00m operators]\n\u001b[0;32m     34\u001b[0m \u001b[38;5;28;01mif\u001b[39;00m translatt \u001b[38;5;129;01mis\u001b[39;00m \u001b[38;5;28;01mNone\u001b[39;00m:\n\u001b[0;32m     35\u001b[0m     \u001b[38;5;28;01mreturn\u001b[39;00m [simplify(commutator(h, operators)) \u001b[38;5;28;01mfor\u001b[39;00m h \u001b[38;5;129;01min\u001b[39;00m hlist]\n",
      "    \u001b[1;31m[... skipping similar frames: _nested_commutators at line 33 (1 times)]\u001b[0m\n",
      "File \u001b[1;32md:\\Proj\\fermi_hubbard_commutators\\play_ground\\..\\fh_comm\\comm_table.py:33\u001b[0m, in \u001b[0;36m_nested_commutators\u001b[1;34m(hlist, operators, translatt)\u001b[0m\n\u001b[0;32m     28\u001b[0m \u001b[38;5;250m\u001b[39m\u001b[38;5;124;03m\"\"\"\u001b[39;00m\n\u001b[0;32m     29\u001b[0m \u001b[38;5;124;03mReplace the innermost level of `operators` with a list of commutators\u001b[39;00m\n\u001b[0;32m     30\u001b[0m \u001b[38;5;124;03mbetween the entries of `hlist` and the current operator.\u001b[39;00m\n\u001b[0;32m     31\u001b[0m \u001b[38;5;124;03m\"\"\"\u001b[39;00m\n\u001b[0;32m     32\u001b[0m \u001b[38;5;28;01mif\u001b[39;00m \u001b[38;5;28misinstance\u001b[39m(operators, \u001b[38;5;28mlist\u001b[39m):\n\u001b[1;32m---> 33\u001b[0m     \u001b[38;5;28;01mreturn\u001b[39;00m [\u001b[43m_nested_commutators\u001b[49m\u001b[43m(\u001b[49m\u001b[43mhlist\u001b[49m\u001b[43m,\u001b[49m\u001b[43m \u001b[49m\u001b[43mop\u001b[49m\u001b[43m,\u001b[49m\u001b[43m \u001b[49m\u001b[43mtranslatt\u001b[49m\u001b[43m)\u001b[49m \u001b[38;5;28;01mfor\u001b[39;00m op \u001b[38;5;129;01min\u001b[39;00m operators]\n\u001b[0;32m     34\u001b[0m \u001b[38;5;28;01mif\u001b[39;00m translatt \u001b[38;5;129;01mis\u001b[39;00m \u001b[38;5;28;01mNone\u001b[39;00m:\n\u001b[0;32m     35\u001b[0m     \u001b[38;5;28;01mreturn\u001b[39;00m [simplify(commutator(h, operators)) \u001b[38;5;28;01mfor\u001b[39;00m h \u001b[38;5;129;01min\u001b[39;00m hlist]\n",
      "File \u001b[1;32md:\\Proj\\fermi_hubbard_commutators\\play_ground\\..\\fh_comm\\comm_table.py:37\u001b[0m, in \u001b[0;36m_nested_commutators\u001b[1;34m(hlist, operators, translatt)\u001b[0m\n\u001b[0;32m     34\u001b[0m \u001b[38;5;28;01mif\u001b[39;00m translatt \u001b[38;5;129;01mis\u001b[39;00m \u001b[38;5;28;01mNone\u001b[39;00m:\n\u001b[0;32m     35\u001b[0m     \u001b[38;5;28;01mreturn\u001b[39;00m [simplify(commutator(h, operators)) \u001b[38;5;28;01mfor\u001b[39;00m h \u001b[38;5;129;01min\u001b[39;00m hlist]\n\u001b[0;32m     36\u001b[0m \u001b[38;5;28;01mreturn\u001b[39;00m [simplify(translate_origin(\n\u001b[1;32m---> 37\u001b[0m     \u001b[43msimplify\u001b[49m\u001b[43m(\u001b[49m\u001b[43mcommutator_translation\u001b[49m\u001b[43m(\u001b[49m\u001b[43mh\u001b[49m\u001b[43m,\u001b[49m\u001b[43m \u001b[49m\u001b[43moperators\u001b[49m\u001b[43m,\u001b[49m\u001b[43m \u001b[49m\u001b[43mtranslatt\u001b[49m\u001b[43m)\u001b[49m\u001b[43m)\u001b[49m,\n\u001b[0;32m     38\u001b[0m     translatt))\n\u001b[0;32m     39\u001b[0m         \u001b[38;5;28;01mfor\u001b[39;00m h \u001b[38;5;129;01min\u001b[39;00m hlist]\n",
      "File \u001b[1;32md:\\Proj\\fermi_hubbard_commutators\\play_ground\\..\\fh_comm\\simplification.py:14\u001b[0m, in \u001b[0;36msimplify\u001b[1;34m(h)\u001b[0m\n\u001b[0;32m     10\u001b[0m \u001b[38;5;28;01mdef\u001b[39;00m \u001b[38;5;21msimplify\u001b[39m(h: HamiltonianOp) \u001b[38;5;241m-\u001b[39m\u001b[38;5;241m>\u001b[39m HamiltonianOp:\n\u001b[0;32m     11\u001b[0m \u001b[38;5;250m    \u001b[39m\u001b[38;5;124;03m\"\"\"\u001b[39;00m\n\u001b[0;32m     12\u001b[0m \u001b[38;5;124;03m    Simplify a Hamiltonian operator expression.\u001b[39;00m\n\u001b[0;32m     13\u001b[0m \u001b[38;5;124;03m    \"\"\"\u001b[39;00m\n\u001b[1;32m---> 14\u001b[0m     \u001b[38;5;28;01mreturn\u001b[39;00m \u001b[43m_factorize_numops\u001b[49m\u001b[43m(\u001b[49m\u001b[43m_expand_simplify\u001b[49m\u001b[43m(\u001b[49m\u001b[43mh\u001b[49m\u001b[43m)\u001b[49m\u001b[43m)\u001b[49m\n",
      "File \u001b[1;32md:\\Proj\\fermi_hubbard_commutators\\play_ground\\..\\fh_comm\\simplification.py:139\u001b[0m, in \u001b[0;36m_factorize_numops\u001b[1;34m(h)\u001b[0m\n\u001b[0;32m    136\u001b[0m     c \u001b[38;5;241m=\u001b[39m prod2\u001b[38;5;241m.\u001b[39mcoeff \u001b[38;5;241m/\u001b[39m prod1\u001b[38;5;241m.\u001b[39mcoeff\n\u001b[0;32m    137\u001b[0m inner_sum \u001b[38;5;241m=\u001b[39m _expand_simplify(SumOp([ProductOp(prod1\u001b[38;5;241m.\u001b[39mops[ks:\u001b[38;5;28mlen\u001b[39m(prod1\u001b[38;5;241m.\u001b[39mops)\u001b[38;5;241m-\u001b[39mke], \u001b[38;5;241m1\u001b[39m),\n\u001b[0;32m    138\u001b[0m                                     ProductOp(prod2\u001b[38;5;241m.\u001b[39mops[ks:\u001b[38;5;28mlen\u001b[39m(prod2\u001b[38;5;241m.\u001b[39mops)\u001b[38;5;241m-\u001b[39mke], c)]))\n\u001b[1;32m--> 139\u001b[0m \u001b[38;5;28;01massert\u001b[39;00m inner_sum\u001b[38;5;241m.\u001b[39mis_numop_sum()\n\u001b[0;32m    140\u001b[0m prod1 \u001b[38;5;241m=\u001b[39m ProductOp(prod1\u001b[38;5;241m.\u001b[39mops[:ks] \u001b[38;5;241m+\u001b[39m [inner_sum] \u001b[38;5;241m+\u001b[39m prod1\u001b[38;5;241m.\u001b[39mops[\u001b[38;5;28mlen\u001b[39m(prod1\u001b[38;5;241m.\u001b[39mops)\u001b[38;5;241m-\u001b[39mke:], prod1\u001b[38;5;241m.\u001b[39mcoeff)\n\u001b[0;32m    141\u001b[0m h\u001b[38;5;241m.\u001b[39mterms[i] \u001b[38;5;241m=\u001b[39m prod1\n",
      "\u001b[1;31mAssertionError\u001b[0m: "
     ]
    }
   ],
   "source": [
    "comm_tab = fhc.NestedCommutatorTable(hlist,5,translatt)\n",
    "tab4 = comm_tab.table(4)\n",
    "err_bound = 5*[0]\n",
    "method = fhc.SplittingMethod.suzuki(len(hlist_origin), 2)\n",
    "s = (method.num_layers + 1) // 2\n",
    "comm_bound_terms = fhc.commutator_bound(method, s)"
   ]
  },
  {
   "cell_type": "code",
   "execution_count": 3,
   "metadata": {},
   "outputs": [],
   "source": [
    "def get_translatt_comm(idxlist, hlist, translatt):\n",
    "    assert len(idxlist)>1\n",
    "    result = hlist[idxlist[-1]]\n",
    "    reidxlist = idxlist[::-1]\n",
    "    for i in reidxlist[1:]:\n",
    "        result = fhc.commutator_translation(hlist[i],result,translatt=translatt)\n",
    "    return result"
   ]
  },
  {
   "cell_type": "code",
   "execution_count": 9,
   "metadata": {},
   "outputs": [
    {
     "name": "stdout",
     "output_type": "stream",
     "text": [
      "10.448168199061445\n"
     ]
    }
   ],
   "source": [
    "print(fhc.simplify(get_translatt_comm([0,2,1,2,0],hlist,translatt)).norm_bound())"
   ]
  }
 ],
 "metadata": {
  "kernelspec": {
   "display_name": "torch_env",
   "language": "python",
   "name": "python3"
  },
  "language_info": {
   "codemirror_mode": {
    "name": "ipython",
    "version": 3
   },
   "file_extension": ".py",
   "mimetype": "text/x-python",
   "name": "python",
   "nbconvert_exporter": "python",
   "pygments_lexer": "ipython3",
   "version": "3.12.5"
  }
 },
 "nbformat": 4,
 "nbformat_minor": 2
}
