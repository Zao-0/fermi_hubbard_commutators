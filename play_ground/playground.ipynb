{
 "cells": [
  {
   "cell_type": "code",
   "execution_count": 1,
   "metadata": {},
   "outputs": [],
   "source": [
    "import numpy as np\n",
    "import sys\n",
    "sys.path.append(\"../\")\n",
    "import fh_comm as fhc\n",
    "from scipy.sparse.linalg import norm\n",
    "max_level = 3"
   ]
  },
  {
   "cell_type": "markdown",
   "metadata": {},
   "source": [
    "# Test the commutator of basic bosonic operators\n",
    "The Basic bosonic operators:\n",
    "$$Ba_i = b^{\\dagger}_i+b_i$$\n",
    "$$Bm_i = b^{\\dagger}_i-b_i$$\n",
    "$$Bn_i = b^{\\dagger}_ib_i$$\n",
    "Theoretically, we could obtain the flowing result:\n",
    "$$[Ba,Bm] = 2\\text{I}$$\n",
    "$$[Ba,Bn] = -Bm$$\n",
    "$$[Bm,Bn] = -Ba$$"
   ]
  },
  {
   "cell_type": "code",
   "execution_count": 2,
   "metadata": {},
   "outputs": [
    {
     "name": "stdout",
     "output_type": "stream",
     "text": [
      "The result of [Ba,Bm]:\n",
      "(2.0) <empty product>\n",
      "The result of [Ba,Bn]:\n",
      "(-1.0) Bn_(0,)\n",
      "The result of [Bm,Bn]:\n",
      "(-1.0) Ba_(0,)\n"
     ]
    }
   ],
   "source": [
    "Ba = fhc.BosonAddOp((0,),1.,max_level)\n",
    "Bm = fhc.BosonMinuOp((0,),1.,max_level)\n",
    "Bn = fhc.BosonNumOp((0,),1.,max_level)\n",
    "\n",
    "print('The result of [Ba,Bm]:')\n",
    "print(fhc.commutator(Ba,Bm))\n",
    "print('The result of [Ba,Bn]:')\n",
    "print(fhc.commutator(Ba,Bn))\n",
    "print('The result of [Bm,Bn]:')\n",
    "print(fhc.commutator(Bm,Bn))"
   ]
  },
  {
   "cell_type": "markdown",
   "metadata": {},
   "source": [
    "# compute the result of decomposed hamiltonian 1D"
   ]
  },
  {
   "cell_type": "code",
   "execution_count": 3,
   "metadata": {},
   "outputs": [],
   "source": [
    "v = -1\n",
    "u = 1\n",
    "w0 = 1\n",
    "g = 1\n",
    "mod = 1\n",
    "max_level=3\n",
    "translatt = fhc.SubLattice(np.array([[2]]))\n",
    "h0 = fhc.SumOp([fhc.HoppingOp(( 0,), ( 1,), s, v,mod,max_level) for s in [0, 1]])\n",
    "h1 = fhc.SumOp([fhc.HoppingOp((-1,), ( 0,), s, v,mod,max_level) for s in [0, 1]])\n",
    "h2 = fhc.SumOp([fhc.ProductOp([fhc.NumberOp((x,), s, 1,mod,max_level) for s in [0, 1]], u) for x in [0, 1]])\n",
    "h3 = fhc.SumOp([fhc.BosonNumOp((x,), w0, max_level=max_level) for x in [0,1]])\n",
    "h4 = fhc.SumOp([fhc.ProductOp([fhc.NumberOp((x,),s,1.,mod,max_level), fhc.BosonAddOp((x,),1.,max_level)],g) for s in [0,1] for x in [0,1]])\n",
    "hlist = [h0,h1,h2,h3,h4]"
   ]
  },
  {
   "cell_type": "code",
   "execution_count": 4,
   "metadata": {},
   "outputs": [
    {
     "name": "stdout",
     "output_type": "stream",
     "text": [
      "the result of [h4,h2]:\n",
      "<zero op>\n",
      "the result of [h4,h3]:\n",
      "(n_{(0,), up}) @ ((-1.0) Bn_(0,)) + (n_{(1,), up}) @ ((-1.0) Bn_(1,)) + (n_{(0,), dn}) @ ((-1.0) Bn_(0,)) + (n_{(1,), dn}) @ ((-1.0) Bn_(1,))\n"
     ]
    }
   ],
   "source": [
    "print('the result of [h4,h2]:')\n",
    "comm_4_2 = fhc.commutator_translation(h4,h2,translatt=translatt)\n",
    "print(comm_4_2)\n",
    "print('the result of [h4,h3]:')\n",
    "comm_4_3 = fhc.commutator_translation(h4,h3,translatt=translatt)\n",
    "print(comm_4_3)"
   ]
  },
  {
   "cell_type": "code",
   "execution_count": 5,
   "metadata": {},
   "outputs": [
    {
     "name": "stdout",
     "output_type": "stream",
     "text": [
      "the result of [h3,[h4,h3]]:\n",
      "(-1.0) (n_{(0,), up} + n_{(0,), dn}) @ (Ba_(0,)) + (-1.0) (n_{(1,), up} + n_{(1,), dn}) @ (Ba_(1,))\n",
      "the result of [h4,[h4,h3]]:\n",
      "(-2.0) n_{(0,), up} + (-2.0) n_{(1,), up} + (-2.0) n_{(0,), dn} + (-2.0) n_{(1,), dn} + (-4.0) (n_{(0,), up}) @ (n_{(0,), dn}) + (-4.0) (n_{(1,), up}) @ (n_{(1,), dn})\n"
     ]
    }
   ],
   "source": [
    "print('the result of [h3,[h4,h3]]:')\n",
    "comm_3_4_3 = fhc.simplify(fhc.commutator_translation(h3,comm_4_3,translatt=translatt))\n",
    "print(comm_3_4_3)\n",
    "print('the result of [h4,[h4,h3]]:')\n",
    "comm_4_4_3 = fhc.simplify(fhc.commutator_translation(h4,comm_4_3,translatt=translatt))\n",
    "print(comm_4_4_3)"
   ]
  },
  {
   "cell_type": "markdown",
   "metadata": {},
   "source": [
    "# Get the error bound of commutator"
   ]
  },
  {
   "cell_type": "code",
   "execution_count": 6,
   "metadata": {},
   "outputs": [
    {
     "name": "stdout",
     "output_type": "stream",
     "text": [
      "9.33765687335591\n",
      "16.0\n"
     ]
    }
   ],
   "source": [
    "eb_3_4_3 = comm_3_4_3.norm_bound()\n",
    "eb_4_4_3 = fhc.simplify(comm_4_4_3).norm_bound()\n",
    "print(eb_3_4_3)\n",
    "print(eb_4_4_3)"
   ]
  },
  {
   "cell_type": "markdown",
   "metadata": {},
   "source": [
    "Theoretically, $[h_j,[h4,h3]]=0$, where $j=0,1,2$\n",
    "\n",
    "Here we test the commutator table to varify the result"
   ]
  },
  {
   "cell_type": "code",
   "execution_count": 10,
   "metadata": {},
   "outputs": [
    {
     "name": "stdout",
     "output_type": "stream",
     "text": [
      "tab2[1][4][3]: (-1.0) (g_{(-1,), (0,), up}) @ (Bn_(-1,)) + (g_{(-1,), (0,), up}) @ (Bn_(0,)) + (-1.0) (g_{(-1,), (0,), dn}) @ (Bn_(-1,)) + (g_{(-1,), (0,), dn}) @ (Bn_(0,))\n",
      "tab2[1][4][3].norm_bound(): 6.928203230275509\n",
      "tab2[3][4][3]: (-1.0) (n_{(0,), up} + n_{(0,), dn}) @ (Ba_(0,)) + (-1.0) (n_{(1,), up} + n_{(1,), dn}) @ (Ba_(1,))\n",
      "tab2[3][4][3].norm_bound(): 6.928203230275498\n"
     ]
    }
   ],
   "source": [
    "comm_tab = fhc.NestedCommutatorTable(hlist, 3, translatt)\n",
    "tab2 = comm_tab.table(2)\n",
    "print(\"tab2[1][4][3]:\", tab2[1][4][3])\n",
    "print(\"tab2[1][4][3].norm_bound():\", tab2[1][4][3].norm_bound())\n",
    "\n",
    "print(\"tab2[3][4][3]:\", tab2[3][4][3])\n",
    "print(\"tab2[3][4][3].norm_bound():\", tab2[3][4][3].norm_bound())"
   ]
  },
  {
   "cell_type": "code",
   "execution_count": 7,
   "metadata": {},
   "outputs": [
    {
     "name": "stdout",
     "output_type": "stream",
     "text": [
      "(-1.0) (n_{(0,), up} + n_{(0,), dn}) @ (Ba_(0,))\n",
      "(-1.0) (n_{(0,), up} + n_{(0,), dn}) @ (Ba_(0,))\n"
     ]
    },
    {
     "data": {
      "text/plain": [
       "True"
      ]
     },
     "execution_count": 7,
     "metadata": {},
     "output_type": "execute_result"
    }
   ],
   "source": [
    "print(tab2[3][4][3].terms[0])\n",
    "print(comm_3_4_3.terms[0])\n",
    "tab2[3][4][3].terms[0].proportional(comm_3_4_3.terms[0])"
   ]
  },
  {
   "cell_type": "code",
   "execution_count": 8,
   "metadata": {},
   "outputs": [
    {
     "data": {
      "text/plain": [
       "[[<fh_comm.hamiltonian_ops.SumOp at 0x1fcdbf16c50>,\n",
       "  <fh_comm.hamiltonian_ops.SumOp at 0x1fcdbd05e90>],\n",
       " [<fh_comm.hamiltonian_ops.BosonAddOp at 0x1fcdbf1d990>,\n",
       "  <fh_comm.hamiltonian_ops.BosonAddOp at 0x1fcdbec3710>]]"
      ]
     },
     "execution_count": 8,
     "metadata": {},
     "output_type": "execute_result"
    }
   ],
   "source": [
    "[[op1,op2] for op1, op2 in zip(tab2[3][4][3].terms[0].ops, comm_3_4_3.terms[0].ops)]"
   ]
  },
  {
   "cell_type": "markdown",
   "metadata": {},
   "source": [
    "Then we compute the err_bound"
   ]
  },
  {
   "cell_type": "code",
   "execution_count": 12,
   "metadata": {},
   "outputs": [
    {
     "name": "stdout",
     "output_type": "stream",
     "text": [
      "bound specialized for second-order Suzuki method:\n",
      "err_bound: [1.0, 1.3333333333333206, 0.3333333333333333, Fraction(0, 1), Fraction(0, 1), Fraction(0, 1), Fraction(0, 1), Fraction(0, 1), 3.4641016151376878, 2.3094010767585034, Fraction(0, 1), 1.1547005383792515, Fraction(0, 1), 0, 0.28867513459481287, 0, 4.0, Fraction(0, 1), 0, 1.3333333333333333]\n"
     ]
    }
   ],
   "source": [
    "print(\"bound specialized for second-order Suzuki method:\")\n",
    "comm_bound_terms = fhc.commutator_bound_strang(len(hlist))\n",
    "\n",
    "def get_num_int(idx):\n",
    "    num_int=0\n",
    "    for i in idx:\n",
    "        if i==2:\n",
    "            num_int+=1\n",
    "        elif i==3:\n",
    "            num_int+=3\n",
    "        elif i==4:\n",
    "            num_int+=8\n",
    "    return num_int\n",
    "\n",
    "# sort by number of interaction terms\n",
    "err_bound = 20 * [0]\n",
    "for term in comm_bound_terms:\n",
    "    #print(term)\n",
    "    # number of occurrences of interaction term in current nested commutator\n",
    "    num_int = get_num_int(term.commidx)\n",
    "    err_bound[num_int] += term.weight * tab2[term.commidx[0]][term.commidx[1]][term.commidx[2]].norm_bound()\n",
    "# the entries still need to be divided by 2 to obtain the error per lattice site\n",
    "print(\"err_bound:\", err_bound)"
   ]
  },
  {
   "cell_type": "code",
   "execution_count": 4,
   "metadata": {},
   "outputs": [
    {
     "ename": "MemoryError",
     "evalue": "Unable to allocate 40.5 GiB for an array with shape (5435817984,) and data type float64",
     "output_type": "error",
     "traceback": [
      "\u001b[1;31m---------------------------------------------------------------------------\u001b[0m",
      "\u001b[1;31mMemoryError\u001b[0m                               Traceback (most recent call last)",
      "Cell \u001b[1;32mIn[4], line 21\u001b[0m\n\u001b[0;32m     17\u001b[0m \u001b[38;5;28;01mfor\u001b[39;00m term \u001b[38;5;129;01min\u001b[39;00m comm_bound_terms:\n\u001b[0;32m     18\u001b[0m     \u001b[38;5;66;03m#print(term)\u001b[39;00m\n\u001b[0;32m     19\u001b[0m     \u001b[38;5;66;03m# number of occurrences of interaction term in current nested commutator\u001b[39;00m\n\u001b[0;32m     20\u001b[0m     num_int \u001b[38;5;241m=\u001b[39m get_num_int(term\u001b[38;5;241m.\u001b[39mcommidx)\n\u001b[1;32m---> 21\u001b[0m     err_bound[num_int] \u001b[38;5;241m+\u001b[39m\u001b[38;5;241m=\u001b[39m term\u001b[38;5;241m.\u001b[39mweight \u001b[38;5;241m*\u001b[39m tab4[term\u001b[38;5;241m.\u001b[39mcommidx[\u001b[38;5;241m0\u001b[39m]][term\u001b[38;5;241m.\u001b[39mcommidx[\u001b[38;5;241m1\u001b[39m]][term\u001b[38;5;241m.\u001b[39mcommidx[\u001b[38;5;241m2\u001b[39m]][term\u001b[38;5;241m.\u001b[39mcommidx[\u001b[38;5;241m3\u001b[39m]][term\u001b[38;5;241m.\u001b[39mcommidx[\u001b[38;5;241m4\u001b[39m]]\u001b[38;5;241m.\u001b[39mnorm_bound()\n\u001b[0;32m     22\u001b[0m \u001b[38;5;66;03m# the entries still need to be divided by 2 to obtain the error per lattice site\u001b[39;00m\n\u001b[0;32m     23\u001b[0m \u001b[38;5;28mprint\u001b[39m(\u001b[38;5;124m\"\u001b[39m\u001b[38;5;124merr_bound:\u001b[39m\u001b[38;5;124m\"\u001b[39m, err_bound)\n",
      "File \u001b[1;32md:\\Proj\\fermi_hubbard_commutators\\play_ground\\..\\fh_comm\\hamiltonian_ops.py:1502\u001b[0m, in \u001b[0;36mSumOp.norm_bound\u001b[1;34m(self)\u001b[0m\n\u001b[0;32m   1499\u001b[0m nmodes \u001b[38;5;241m=\u001b[39m \u001b[38;5;28mlen\u001b[39m(\u001b[38;5;28mself\u001b[39m\u001b[38;5;241m.\u001b[39msupport())\n\u001b[0;32m   1500\u001b[0m \u001b[38;5;28;01mif\u001b[39;00m nmodes \u001b[38;5;241m<\u001b[39m\u001b[38;5;241m=\u001b[39m HamiltonianOp\u001b[38;5;241m.\u001b[39mmax_nmodes_exact_norm:\n\u001b[0;32m   1501\u001b[0m     \u001b[38;5;66;03m# compute exact norm\u001b[39;00m\n\u001b[1;32m-> 1502\u001b[0m     cmt \u001b[38;5;241m=\u001b[39m \u001b[38;5;28mself\u001b[39m\u001b[38;5;241m.\u001b[39mas_field_operator()\u001b[38;5;241m.\u001b[39mas_compact_matrix()\n\u001b[0;32m   1503\u001b[0m     \u001b[38;5;28;01mif\u001b[39;00m \u001b[38;5;28mself\u001b[39m\u001b[38;5;241m.\u001b[39mmod \u001b[38;5;241m==\u001b[39m \u001b[38;5;241m1\u001b[39m:\n\u001b[0;32m   1504\u001b[0m         \u001b[38;5;28;01mreturn\u001b[39;00m  scipy\u001b[38;5;241m.\u001b[39msparse\u001b[38;5;241m.\u001b[39mlinalg\u001b[38;5;241m.\u001b[39mnorm(cmt,\u001b[38;5;28mord\u001b[39m\u001b[38;5;241m=\u001b[39m\u001b[38;5;241m2\u001b[39m)\n",
      "File \u001b[1;32md:\\Proj\\fermi_hubbard_commutators\\play_ground\\..\\fh_comm\\field_ops.py:399\u001b[0m, in \u001b[0;36mFieldOp_FB.as_compact_matrix\u001b[1;34m(self)\u001b[0m\n\u001b[0;32m    397\u001b[0m \u001b[38;5;28;01massert\u001b[39;00m L \u001b[38;5;241m==\u001b[39m \u001b[38;5;28mlen\u001b[39m(modes_list)\n\u001b[0;32m    398\u001b[0m modes_list \u001b[38;5;241m=\u001b[39m \u001b[38;5;28mtuple\u001b[39m(modes_list)\n\u001b[1;32m--> 399\u001b[0m clist, alist, nlist, bclist, balist, bnlist \u001b[38;5;241m=\u001b[39m construct_Holstein_operators_alt(modes_list, \u001b[38;5;28mself\u001b[39m\u001b[38;5;241m.\u001b[39mN)\n\u001b[0;32m    400\u001b[0m \u001b[38;5;66;03m# construct matrix representation\u001b[39;00m\n\u001b[0;32m    401\u001b[0m mat \u001b[38;5;241m=\u001b[39m \u001b[38;5;241m0\u001b[39m\n",
      "File \u001b[1;32md:\\Proj\\fermi_hubbard_commutators\\play_ground\\..\\fh_comm\\field_ops.py:637\u001b[0m, in \u001b[0;36mconstruct_Holstein_operators_alt\u001b[1;34m(nmodes_list, boson_level)\u001b[0m\n\u001b[0;32m    635\u001b[0m     n \u001b[38;5;241m=\u001b[39m sparse\u001b[38;5;241m.\u001b[39mkron(n,I)\n\u001b[0;32m    636\u001b[0m \u001b[38;5;28;01melif\u001b[39;00m j\u001b[38;5;241m>\u001b[39mi:\n\u001b[1;32m--> 637\u001b[0m     c \u001b[38;5;241m=\u001b[39m sparse\u001b[38;5;241m.\u001b[39mkron(c,Z)\n\u001b[0;32m    638\u001b[0m     n \u001b[38;5;241m=\u001b[39m sparse\u001b[38;5;241m.\u001b[39mkron(n,I)\n\u001b[0;32m    639\u001b[0m \u001b[38;5;28;01melse\u001b[39;00m:\n",
      "File \u001b[1;32md:\\Anaconda3\\Lib\\site-packages\\scipy\\sparse\\_construct.py:501\u001b[0m, in \u001b[0;36mkron\u001b[1;34m(A, B, format)\u001b[0m\n\u001b[0;32m    498\u001b[0m     \u001b[38;5;28;01mreturn\u001b[39;00m coo_sparse(output_shape)\u001b[38;5;241m.\u001b[39masformat(\u001b[38;5;28mformat\u001b[39m)\n\u001b[0;32m    500\u001b[0m B \u001b[38;5;241m=\u001b[39m B\u001b[38;5;241m.\u001b[39mtoarray()\n\u001b[1;32m--> 501\u001b[0m data \u001b[38;5;241m=\u001b[39m A\u001b[38;5;241m.\u001b[39mdata\u001b[38;5;241m.\u001b[39mrepeat(B\u001b[38;5;241m.\u001b[39msize)\u001b[38;5;241m.\u001b[39mreshape(\u001b[38;5;241m-\u001b[39m\u001b[38;5;241m1\u001b[39m,B\u001b[38;5;241m.\u001b[39mshape[\u001b[38;5;241m0\u001b[39m],B\u001b[38;5;241m.\u001b[39mshape[\u001b[38;5;241m1\u001b[39m])\n\u001b[0;32m    502\u001b[0m data \u001b[38;5;241m=\u001b[39m data \u001b[38;5;241m*\u001b[39m B\n\u001b[0;32m    504\u001b[0m \u001b[38;5;28;01mreturn\u001b[39;00m bsr_sparse((data,A\u001b[38;5;241m.\u001b[39mindices,A\u001b[38;5;241m.\u001b[39mindptr), shape\u001b[38;5;241m=\u001b[39moutput_shape)\n",
      "\u001b[1;31mMemoryError\u001b[0m: Unable to allocate 40.5 GiB for an array with shape (5435817984,) and data type float64"
     ]
    }
   ],
   "source": [
    "# to large\n",
    "\n",
    "comm_tab = fhc.NestedCommutatorTable(hlist, 5, translatt)\n",
    "tab4 = comm_tab.table(4)\n",
    "method = fhc.SplittingMethod.suzuki(len(hlist), 2)\n",
    "s = (method.num_layers + 1) // 2\n",
    "comm_bound_terms = fhc.commutator_bound(method,s)\n",
    "err_bound = 90*[0]\n",
    "def get_num_int(idx):\n",
    "    num_int=0\n",
    "    for i in idx:\n",
    "        if i==2:\n",
    "            num_int+=1\n",
    "        elif i==3:\n",
    "            num_int+=5\n",
    "        elif i==4:\n",
    "            num_int+=22\n",
    "    return num_int\n",
    "for term in comm_bound_terms:\n",
    "    #print(term)\n",
    "    # number of occurrences of interaction term in current nested commutator\n",
    "    num_int = get_num_int(term.commidx)\n",
    "    err_bound[num_int] += term.weight * tab4[term.commidx[0]][term.commidx[1]][term.commidx[2]][term.commidx[3]][term.commidx[4]].norm_bound()\n",
    "# the entries still need to be divided by 2 to obtain the error per lattice site\n",
    "print(\"err_bound:\", err_bound)"
   ]
  },
  {
   "cell_type": "markdown",
   "metadata": {},
   "source": [
    "Test for 2D case"
   ]
  },
  {
   "cell_type": "code",
   "execution_count": 2,
   "metadata": {},
   "outputs": [],
   "source": [
    "v = -1\n",
    "u = 1\n",
    "w0 = 1\n",
    "g = 1\n",
    "mod = 1\n",
    "max_level=3\n",
    "plaqcoords = [( 0,  0), ( 1,  0), ( 1,  1), ( 0,  1)]\n",
    "plaqcshift = [(-1, -1), ( 0, -1), ( 0,  0), (-1,  0)]\n",
    "translatt = fhc.SubLattice(np.array([[2, 0], [0, 2]]))\n",
    "h0 = fhc.SumOp([fhc.HoppingOp(plaqcoords[i], plaqcoords[(i + 1) % 4], s, v,mod,max_level) for s in [0, 1] for i in range(4)])\n",
    "h1 = fhc.SumOp([fhc.HoppingOp(plaqcshift[i], plaqcshift[(i + 1) % 4], s, v,mod,max_level) for s in [0, 1] for i in range(4)])\n",
    "h2 = fhc.SumOp([fhc.ProductOp([fhc.NumberOp(plaqcoords[i], s, 1,mod,max_level) for s in [0, 1]], u,mod,max_level) for i in range(4)])\n",
    "h3 = fhc.SumOp([fhc.BosonNumOp(plaqcoords[i], w0, max_level=max_level) for i in range(4)])\n",
    "h4 = fhc.SumOp([fhc.ProductOp([fhc.NumberOp(plaqcoords[i],s,1.,mod,max_level), fhc.BosonAddOp(plaqcoords[i],1.,max_level)],g) for s in [0,1] for i in range(4)])\n",
    "hlist = [h0,h1,h2,h3,h4]"
   ]
  },
  {
   "cell_type": "code",
   "execution_count": 3,
   "metadata": {},
   "outputs": [],
   "source": [
    "comm_tab = fhc.NestedCommutatorTable(hlist, 3, translatt)\n",
    "tab2 = comm_tab.table(2)"
   ]
  },
  {
   "cell_type": "code",
   "execution_count": 4,
   "metadata": {},
   "outputs": [
    {
     "name": "stdout",
     "output_type": "stream",
     "text": [
      "bound specialized for second-order Suzuki method:\n",
      "(0, 1, 0)\n"
     ]
    }
   ],
   "source": [
    "print(\"bound specialized for second-order Suzuki method:\")\n",
    "comm_bound_terms = fhc.commutator_bound_strang(len(hlist))\n",
    "\n",
    "def get_num_int(idx):\n",
    "    num_int=0\n",
    "    for i in idx:\n",
    "        if i==2:\n",
    "            num_int+=1\n",
    "        elif i==3:\n",
    "            num_int+=3\n",
    "        elif i==4:\n",
    "            num_int+=8\n",
    "    return num_int\n",
    "\n",
    "# sort by number of interaction terms\n",
    "err_bound = 20 * [0]\n",
    "for term in comm_bound_terms:\n",
    "    #print(term)\n",
    "    # number of occurrences of interaction term in current nested commutator\n",
    "    num_int = get_num_int(term.commidx)\n",
    "    print(term.commidx)\n",
    "    err_bound[num_int] += term.weight * tab2[term.commidx[0]][term.commidx[1]][term.commidx[2]].norm_bound()\n",
    "# the entries still need to be divided by 2 to obtain the error per lattice site\n",
    "print(\"err_bound:\", err_bound)"
   ]
  },
  {
   "cell_type": "code",
   "execution_count": null,
   "metadata": {},
   "outputs": [],
   "source": [
    "from scipy import sparse\n",
    "U = sparse.csr_matrix([[ 0.,  0.], [ 1.,  0.]])\n",
    "c = sparse.identity(1,format='csr')\n",
    "for i in range(10):\n",
    "    print(c)\n",
    "    c = sparse.kron(c,U)\n",
    "    c.eliminate_zeros"
   ]
  }
 ],
 "metadata": {
  "kernelspec": {
   "display_name": "base",
   "language": "python",
   "name": "python3"
  },
  "language_info": {
   "codemirror_mode": {
    "name": "ipython",
    "version": 3
   },
   "file_extension": ".py",
   "mimetype": "text/x-python",
   "name": "python",
   "nbconvert_exporter": "python",
   "pygments_lexer": "ipython3",
   "version": "3.11.5"
  }
 },
 "nbformat": 4,
 "nbformat_minor": 2
}
