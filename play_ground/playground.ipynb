{
 "cells": [
  {
   "cell_type": "code",
   "execution_count": 15,
   "metadata": {},
   "outputs": [],
   "source": [
    "import numpy as np\n",
    "import sys\n",
    "sys.path.append(\"../\")\n",
    "import fh_comm as fhc\n",
    "from scipy.sparse.linalg import norm\n",
    "max_level = 4"
   ]
  },
  {
   "cell_type": "markdown",
   "metadata": {},
   "source": [
    "# Test the commutator of basic bosonic operators\n",
    "The Basic bosonic operators:\n",
    "$$Ba_i = b^{\\dagger}_i+b_i$$\n",
    "$$Bm_i = b^{\\dagger}_i-b_i$$\n",
    "$$Bn_i = b^{\\dagger}_ib_i$$\n",
    "Theoretically, we could obtain the flowing result:\n",
    "$$[Ba,Bm] = 2\\text{I}$$\n",
    "$$[Ba,Bn] = -Bm$$\n",
    "$$[Bm,Bn] = -Ba$$"
   ]
  },
  {
   "cell_type": "code",
   "execution_count": 4,
   "metadata": {},
   "outputs": [
    {
     "name": "stdout",
     "output_type": "stream",
     "text": [
      "The result of [Ba,Bm]:\n",
      "(2.0) <empty product>\n",
      "The result of [Ba,Bn]:\n",
      "(-1.0) Bn_(0,)\n",
      "The result of [Bm,Bn]:\n",
      "(-1.0) Bn_(0,)\n"
     ]
    }
   ],
   "source": [
    "Ba = fhc.BosonAddOp((0,),1.,max_level)\n",
    "Bm = fhc.BosonMinuOp((0,),1.,max_level)\n",
    "Bn = fhc.BosonNumOp((0,),1.,max_level)\n",
    "\n",
    "print('The result of [Ba,Bm]:')\n",
    "print(fhc.commutator(Ba,Bm))\n",
    "print('The result of [Ba,Bn]:')\n",
    "print(fhc.commutator(Ba,Bn))\n",
    "print('The result of [Bm,Bn]:')\n",
    "print(fhc.commutator(Bm,Bn))"
   ]
  },
  {
   "cell_type": "markdown",
   "metadata": {},
   "source": [
    "# compute the result of decomposed hamiltonian 1D"
   ]
  },
  {
   "cell_type": "code",
   "execution_count": 8,
   "metadata": {},
   "outputs": [],
   "source": [
    "v = -1\n",
    "u = 1\n",
    "w0 = 1\n",
    "g = 1\n",
    "mod = 1\n",
    "max_level=4\n",
    "translatt = fhc.SubLattice(np.array([[2]]))\n",
    "h0 = fhc.SumOp([fhc.HoppingOp(( 0,), ( 1,), s, v,mod,max_level) for s in [0, 1]])\n",
    "h1 = fhc.SumOp([fhc.HoppingOp((-1,), ( 0,), s, v,mod,max_level) for s in [0, 1]])\n",
    "h2 = fhc.SumOp([fhc.ProductOp([fhc.NumberOp((x,), s, 1,mod,max_level) for s in [0, 1]], u) for x in [0, 1]])\n",
    "h3 = fhc.SumOp([fhc.BosonNumOp((x,), w0, max_level=max_level) for x in [0,1]])\n",
    "h4 = fhc.SumOp([fhc.ProductOp([fhc.NumberOp((x,),s,1.,mod,max_level), fhc.BosonAddOp((x,),1.,max_level)],g) for s in [0,1] for x in [0,1]])\n",
    "hlist = [h0,h1,h2,h3,h4]"
   ]
  },
  {
   "cell_type": "code",
   "execution_count": 3,
   "metadata": {},
   "outputs": [
    {
     "name": "stdout",
     "output_type": "stream",
     "text": [
      "the result of [h4,h2]:\n",
      "<zero op>\n",
      "the result of [h4,h3]:\n",
      "(n_{(0,), up}) @ ((-1.0) Bn_(0,)) + (n_{(1,), up}) @ ((-1.0) Bn_(1,)) + (n_{(0,), dn}) @ ((-1.0) Bn_(0,)) + (n_{(1,), dn}) @ ((-1.0) Bn_(1,))\n"
     ]
    }
   ],
   "source": [
    "print('the result of [h4,h2]:')\n",
    "comm_4_2 = fhc.commutator_translation(h4,h2,translatt=translatt)\n",
    "print(comm_4_2)\n",
    "print('the result of [h4,h3]:')\n",
    "comm_4_3 = fhc.commutator_translation(h4,h3,translatt=translatt)\n",
    "print(comm_4_3)"
   ]
  },
  {
   "cell_type": "code",
   "execution_count": 4,
   "metadata": {},
   "outputs": [
    {
     "name": "stdout",
     "output_type": "stream",
     "text": [
      "the result of [h3,[h4,h3]]:\n",
      "(-1.0) (n_{(0,), up} + n_{(0,), dn}) @ (Ba_(0,)) + (-1.0) (n_{(1,), up} + n_{(1,), dn}) @ (Ba_(1,))\n",
      "the result of [h4,[h4,h3]]:\n",
      "(-2.0) n_{(0,), up} + (-2.0) n_{(1,), up} + (-2.0) n_{(0,), dn} + (-2.0) n_{(1,), dn} + (-4.0) (n_{(0,), up}) @ (n_{(0,), dn}) + (-4.0) (n_{(1,), up}) @ (n_{(1,), dn})\n"
     ]
    }
   ],
   "source": [
    "print('the result of [h3,[h4,h3]]:')\n",
    "comm_3_4_3 = fhc.simplify(fhc.commutator_translation(h3,comm_4_3,translatt=translatt))\n",
    "print(comm_3_4_3)\n",
    "print('the result of [h4,[h4,h3]]:')\n",
    "comm_4_4_3 = fhc.simplify(fhc.commutator_translation(h4,comm_4_3,translatt=translatt))\n",
    "print(comm_4_4_3)"
   ]
  },
  {
   "cell_type": "markdown",
   "metadata": {},
   "source": [
    "# Get the error bound of commutator"
   ]
  },
  {
   "cell_type": "code",
   "execution_count": 5,
   "metadata": {},
   "outputs": [
    {
     "name": "stdout",
     "output_type": "stream",
     "text": [
      "9.33765687335591\n",
      "16.0\n"
     ]
    }
   ],
   "source": [
    "eb_3_4_3 = comm_3_4_3.norm_bound()\n",
    "eb_4_4_3 = fhc.simplify(comm_4_4_3).norm_bound()\n",
    "print(eb_3_4_3)\n",
    "print(eb_4_4_3)"
   ]
  },
  {
   "cell_type": "markdown",
   "metadata": {},
   "source": [
    "Theoretically, $[h_j,[h4,h3]]=0$, where $j=0,1,2$\n",
    "\n",
    "Here we test the commutator table to varify the result"
   ]
  },
  {
   "cell_type": "code",
   "execution_count": 9,
   "metadata": {},
   "outputs": [
    {
     "name": "stdout",
     "output_type": "stream",
     "text": [
      "tab2[1][4][3]: (-1.0) (g_{(-1,), (0,), up}) @ (Bn_(-1,)) + (g_{(-1,), (0,), up}) @ (Bn_(0,)) + (-1.0) (g_{(-1,), (0,), dn}) @ (Bn_(-1,)) + (g_{(-1,), (0,), dn}) @ (Bn_(0,))\n",
      "tab2[1][4][3].norm_bound(): 9.337656873355908\n",
      "tab2[3][4][3]: (-1.0) (n_{(0,), up} + n_{(0,), dn}) @ (Ba_(0,)) + (-1.0) (n_{(1,), up} + n_{(1,), dn}) @ (Ba_(1,))\n",
      "tab2[3][4][3].norm_bound(): 9.337656873355908\n"
     ]
    }
   ],
   "source": [
    "comm_tab = fhc.NestedCommutatorTable(hlist, 3, translatt)\n",
    "tab2 = comm_tab.table(2)\n",
    "print(\"tab2[1][4][3]:\", tab2[1][4][3])\n",
    "print(\"tab2[1][4][3].norm_bound():\", tab2[1][4][3].norm_bound())\n",
    "\n",
    "print(\"tab2[3][4][3]:\", tab2[3][4][3])\n",
    "print(\"tab2[3][4][3].norm_bound():\", tab2[3][4][3].norm_bound())"
   ]
  },
  {
   "cell_type": "code",
   "execution_count": 7,
   "metadata": {},
   "outputs": [
    {
     "name": "stdout",
     "output_type": "stream",
     "text": [
      "(-1.0) (n_{(0,), up} + n_{(0,), dn}) @ (Ba_(0,))\n",
      "(-1.0) (n_{(0,), up} + n_{(0,), dn}) @ (Ba_(0,))\n"
     ]
    },
    {
     "data": {
      "text/plain": [
       "True"
      ]
     },
     "execution_count": 7,
     "metadata": {},
     "output_type": "execute_result"
    }
   ],
   "source": [
    "print(tab2[3][4][3].terms[0])\n",
    "print(comm_3_4_3.terms[0])\n",
    "tab2[3][4][3].terms[0].proportional(comm_3_4_3.terms[0])"
   ]
  },
  {
   "cell_type": "code",
   "execution_count": 8,
   "metadata": {},
   "outputs": [
    {
     "data": {
      "text/plain": [
       "[[<fh_comm.hamiltonian_ops.SumOp at 0x1fcdbf16c50>,\n",
       "  <fh_comm.hamiltonian_ops.SumOp at 0x1fcdbd05e90>],\n",
       " [<fh_comm.hamiltonian_ops.BosonAddOp at 0x1fcdbf1d990>,\n",
       "  <fh_comm.hamiltonian_ops.BosonAddOp at 0x1fcdbec3710>]]"
      ]
     },
     "execution_count": 8,
     "metadata": {},
     "output_type": "execute_result"
    }
   ],
   "source": [
    "[[op1,op2] for op1, op2 in zip(tab2[3][4][3].terms[0].ops, comm_3_4_3.terms[0].ops)]"
   ]
  },
  {
   "cell_type": "markdown",
   "metadata": {},
   "source": [
    "Then we compute the err_bound"
   ]
  },
  {
   "cell_type": "code",
   "execution_count": 5,
   "metadata": {},
   "outputs": [
    {
     "name": "stdout",
     "output_type": "stream",
     "text": [
      "bound specialized for second-order Suzuki method:\n",
      "(0, 1, 0)\n",
      "(0, 1, 1)\n",
      "(0, 1, 2)\n",
      "  (3, 18)\t-1.0\n",
      "  (3, 33)\t1.0\n",
      "  (7, 22)\t1.0\n",
      "  (7, 37)\t-1.0\n",
      "  (11, 26)\t1.0\n",
      "  (11, 41)\t-1.0\n",
      "  (12, 72)\t1.0\n",
      "  (12, 132)\t-1.0\n",
      "  (13, 73)\t1.0\n",
      "  (13, 133)\t-1.0\n",
      "  (14, 74)\t1.0\n",
      "  (14, 134)\t-1.0\n",
      "  (15, 30)\t-1.0\n",
      "  (15, 45)\t1.0\n",
      "  (15, 75)\t1.0\n",
      "  (15, 135)\t-1.0\n",
      "  (18, 3)\t-1.0\n",
      "  (18, 48)\t1.0\n",
      "  (22, 7)\t1.0\n",
      "  (22, 52)\t-1.0\n",
      "  (26, 11)\t1.0\n",
      "  (26, 56)\t-1.0\n",
      "  (28, 88)\t-1.0\n",
      "  (28, 148)\t1.0\n",
      "  (29, 89)\t-1.0\n",
      "  :\t:\n",
      "  (226, 166)\t-1.0\n",
      "  (227, 107)\t1.0\n",
      "  (227, 167)\t-1.0\n",
      "  (229, 199)\t-1.0\n",
      "  (229, 244)\t1.0\n",
      "  (233, 203)\t-1.0\n",
      "  (233, 248)\t1.0\n",
      "  (237, 207)\t1.0\n",
      "  (237, 252)\t-1.0\n",
      "  (240, 120)\t-1.0\n",
      "  (240, 180)\t1.0\n",
      "  (240, 210)\t1.0\n",
      "  (240, 225)\t-1.0\n",
      "  (241, 121)\t-1.0\n",
      "  (241, 181)\t1.0\n",
      "  (242, 122)\t-1.0\n",
      "  (242, 182)\t1.0\n",
      "  (243, 123)\t-1.0\n",
      "  (243, 183)\t1.0\n",
      "  (244, 214)\t-1.0\n",
      "  (244, 229)\t1.0\n",
      "  (248, 218)\t-1.0\n",
      "  (248, 233)\t1.0\n",
      "  (252, 222)\t1.0\n",
      "  (252, 237)\t-1.0\n",
      "(0, 1, 3)\n",
      "(0, 1, 4)\n",
      "  (4, 1025)\t1.0\n",
      "  (4, 1280)\t-1.0\n",
      "  (5, 1024)\t1.0\n",
      "  (5, 1026)\t1.4142135623730951\n",
      "  (5, 1281)\t-1.0\n",
      "  (6, 1025)\t1.4142135623730951\n",
      "  (6, 1027)\t1.7320508075688772\n",
      "  (6, 1282)\t-1.0\n",
      "  (7, 1026)\t1.7320508075688772\n",
      "  (7, 1283)\t-1.0\n",
      "  (8, 2049)\t1.0\n",
      "  (8, 2304)\t-1.0\n",
      "  (9, 2048)\t1.0\n",
      "  (9, 2050)\t1.4142135623730951\n",
      "  (9, 2305)\t-1.0\n",
      "  (10, 2049)\t1.4142135623730951\n",
      "  (10, 2051)\t1.7320508075688772\n",
      "  (10, 2306)\t-1.0\n",
      "  (11, 2050)\t1.7320508075688772\n",
      "  (11, 2307)\t-1.0\n",
      "  (12, 1033)\t-1.0\n",
      "  (12, 1288)\t1.0\n",
      "  (12, 2053)\t1.0\n",
      "  (12, 2308)\t-1.0\n",
      "  (13, 1032)\t-1.0\n",
      "  :\t:\n",
      "  (65522, 64503)\t1.7320508075688772\n",
      "  (65523, 63227)\t1.7320508075688772\n",
      "  (65523, 63482)\t-1.7320508075688772\n",
      "  (65523, 64247)\t-1.7320508075688772\n",
      "  (65523, 64502)\t1.7320508075688772\n",
      "  (65524, 63228)\t1.7320508075688772\n",
      "  (65524, 63485)\t-1.0\n",
      "  (65525, 63229)\t1.7320508075688772\n",
      "  (65525, 63484)\t-1.0\n",
      "  (65525, 63486)\t-1.4142135623730951\n",
      "  (65526, 63230)\t1.7320508075688772\n",
      "  (65526, 63485)\t-1.4142135623730951\n",
      "  (65526, 63487)\t-1.7320508075688772\n",
      "  (65527, 63231)\t1.7320508075688772\n",
      "  (65527, 63486)\t-1.7320508075688772\n",
      "  (65528, 64252)\t1.7320508075688772\n",
      "  (65528, 64509)\t-1.0\n",
      "  (65529, 64253)\t1.7320508075688772\n",
      "  (65529, 64508)\t-1.0\n",
      "  (65529, 64510)\t-1.4142135623730951\n",
      "  (65530, 64254)\t1.7320508075688772\n",
      "  (65530, 64509)\t-1.4142135623730951\n",
      "  (65530, 64511)\t-1.7320508075688772\n",
      "  (65531, 64255)\t1.7320508075688772\n",
      "  (65531, 64510)\t-1.7320508075688772\n"
     ]
    },
    {
     "ename": "ValueError",
     "evalue": "`A` must not be empty.",
     "output_type": "error",
     "traceback": [
      "\u001b[1;31m---------------------------------------------------------------------------\u001b[0m",
      "\u001b[1;31mValueError\u001b[0m                                Traceback (most recent call last)",
      "Cell \u001b[1;32mIn[5], line 22\u001b[0m\n\u001b[0;32m     20\u001b[0m     num_int \u001b[38;5;241m=\u001b[39m get_num_int(term\u001b[38;5;241m.\u001b[39mcommidx)\n\u001b[0;32m     21\u001b[0m     \u001b[38;5;28mprint\u001b[39m(term\u001b[38;5;241m.\u001b[39mcommidx)\n\u001b[1;32m---> 22\u001b[0m     err_bound[num_int] \u001b[38;5;241m+\u001b[39m\u001b[38;5;241m=\u001b[39m term\u001b[38;5;241m.\u001b[39mweight \u001b[38;5;241m*\u001b[39m tab2[term\u001b[38;5;241m.\u001b[39mcommidx[\u001b[38;5;241m0\u001b[39m]][term\u001b[38;5;241m.\u001b[39mcommidx[\u001b[38;5;241m1\u001b[39m]][term\u001b[38;5;241m.\u001b[39mcommidx[\u001b[38;5;241m2\u001b[39m]]\u001b[38;5;241m.\u001b[39mnorm_bound()\n\u001b[0;32m     23\u001b[0m \u001b[38;5;66;03m# the entries still need to be divided by 2 to obtain the error per lattice site\u001b[39;00m\n\u001b[0;32m     24\u001b[0m \u001b[38;5;28mprint\u001b[39m(\u001b[38;5;124m\"\u001b[39m\u001b[38;5;124merr_bound:\u001b[39m\u001b[38;5;124m\"\u001b[39m, err_bound)\n",
      "File \u001b[1;32md:\\Proj\\fermi_hubbard_commutators\\play_ground\\..\\fh_comm\\hamiltonian_ops.py:1503\u001b[0m, in \u001b[0;36mSumOp.norm_bound\u001b[1;34m(self)\u001b[0m\n\u001b[0;32m   1501\u001b[0m         \u001b[38;5;28mprint\u001b[39m(cmt)\n\u001b[0;32m   1502\u001b[0m         asdfa \u001b[38;5;241m=\u001b[39m \u001b[38;5;28minput\u001b[39m()\n\u001b[1;32m-> 1503\u001b[0m         \u001b[38;5;28;01mreturn\u001b[39;00m  compute_norm(cmt,\u001b[38;5;28mord\u001b[39m\u001b[38;5;241m=\u001b[39m\u001b[38;5;241m2\u001b[39m)\n\u001b[0;32m   1504\u001b[0m     \u001b[38;5;28;01mreturn\u001b[39;00m _spectral_norm_conserved_particles(nmodes, cmt)\n\u001b[0;32m   1506\u001b[0m \u001b[38;5;28;01mif\u001b[39;00m \u001b[38;5;28mself\u001b[39m\u001b[38;5;241m.\u001b[39mis_quadratic_sum():\n\u001b[0;32m   1507\u001b[0m     \u001b[38;5;66;03m# compute exact norm based on quadratic form\u001b[39;00m\n",
      "File \u001b[1;32md:\\Anaconda3\\Lib\\site-packages\\scipy\\sparse\\linalg\\_norm.py:145\u001b[0m, in \u001b[0;36mnorm\u001b[1;34m(x, ord, axis)\u001b[0m\n\u001b[0;32m    142\u001b[0m     \u001b[38;5;28;01mraise\u001b[39;00m \u001b[38;5;167;01mValueError\u001b[39;00m(\u001b[38;5;124m'\u001b[39m\u001b[38;5;124mDuplicate axes given.\u001b[39m\u001b[38;5;124m'\u001b[39m)\n\u001b[0;32m    143\u001b[0m \u001b[38;5;28;01mif\u001b[39;00m \u001b[38;5;28mord\u001b[39m \u001b[38;5;241m==\u001b[39m \u001b[38;5;241m2\u001b[39m:\n\u001b[0;32m    144\u001b[0m     \u001b[38;5;66;03m# Only solver=\"lobpcg\" supports all numpy dtypes\u001b[39;00m\n\u001b[1;32m--> 145\u001b[0m     _, s, _ \u001b[38;5;241m=\u001b[39m svds(x, k\u001b[38;5;241m=\u001b[39m\u001b[38;5;241m1\u001b[39m, solver\u001b[38;5;241m=\u001b[39m\u001b[38;5;124m\"\u001b[39m\u001b[38;5;124mlobpcg\u001b[39m\u001b[38;5;124m\"\u001b[39m)\n\u001b[0;32m    146\u001b[0m     \u001b[38;5;28;01mreturn\u001b[39;00m s[\u001b[38;5;241m0\u001b[39m]\n\u001b[0;32m    147\u001b[0m \u001b[38;5;28;01melif\u001b[39;00m \u001b[38;5;28mord\u001b[39m \u001b[38;5;241m==\u001b[39m \u001b[38;5;241m-\u001b[39m\u001b[38;5;241m2\u001b[39m:\n",
      "File \u001b[1;32md:\\Anaconda3\\Lib\\site-packages\\scipy\\sparse\\linalg\\_eigen\\_svds.py:438\u001b[0m, in \u001b[0;36msvds\u001b[1;34m(A, k, ncv, tol, which, v0, maxiter, return_singular_vectors, solver, random_state, options)\u001b[0m\n\u001b[0;32m     99\u001b[0m \u001b[38;5;28;01mdef\u001b[39;00m \u001b[38;5;21msvds\u001b[39m(A, k\u001b[38;5;241m=\u001b[39m\u001b[38;5;241m6\u001b[39m, ncv\u001b[38;5;241m=\u001b[39m\u001b[38;5;28;01mNone\u001b[39;00m, tol\u001b[38;5;241m=\u001b[39m\u001b[38;5;241m0\u001b[39m, which\u001b[38;5;241m=\u001b[39m\u001b[38;5;124m'\u001b[39m\u001b[38;5;124mLM\u001b[39m\u001b[38;5;124m'\u001b[39m, v0\u001b[38;5;241m=\u001b[39m\u001b[38;5;28;01mNone\u001b[39;00m,\n\u001b[0;32m    100\u001b[0m          maxiter\u001b[38;5;241m=\u001b[39m\u001b[38;5;28;01mNone\u001b[39;00m, return_singular_vectors\u001b[38;5;241m=\u001b[39m\u001b[38;5;28;01mTrue\u001b[39;00m,\n\u001b[0;32m    101\u001b[0m          solver\u001b[38;5;241m=\u001b[39m\u001b[38;5;124m'\u001b[39m\u001b[38;5;124marpack\u001b[39m\u001b[38;5;124m'\u001b[39m, random_state\u001b[38;5;241m=\u001b[39m\u001b[38;5;28;01mNone\u001b[39;00m, options\u001b[38;5;241m=\u001b[39m\u001b[38;5;28;01mNone\u001b[39;00m):\n\u001b[0;32m    102\u001b[0m \u001b[38;5;250m    \u001b[39m\u001b[38;5;124;03m\"\"\"\u001b[39;00m\n\u001b[0;32m    103\u001b[0m \u001b[38;5;124;03m    Partial singular value decomposition of a sparse matrix.\u001b[39;00m\n\u001b[0;32m    104\u001b[0m \n\u001b[1;32m   (...)\u001b[0m\n\u001b[0;32m    436\u001b[0m \n\u001b[0;32m    437\u001b[0m \u001b[38;5;124;03m    \"\"\"\u001b[39;00m\n\u001b[1;32m--> 438\u001b[0m     args \u001b[38;5;241m=\u001b[39m _iv(A, k, ncv, tol, which, v0, maxiter, return_singular_vectors,\n\u001b[0;32m    439\u001b[0m                solver, random_state)\n\u001b[0;32m    440\u001b[0m     (A, k, ncv, tol, which, v0, maxiter,\n\u001b[0;32m    441\u001b[0m      return_singular_vectors, solver, random_state) \u001b[38;5;241m=\u001b[39m args\n\u001b[0;32m    443\u001b[0m     largest \u001b[38;5;241m=\u001b[39m (which \u001b[38;5;241m==\u001b[39m \u001b[38;5;124m'\u001b[39m\u001b[38;5;124mLM\u001b[39m\u001b[38;5;124m'\u001b[39m)\n",
      "File \u001b[1;32md:\\Anaconda3\\Lib\\site-packages\\scipy\\sparse\\linalg\\_eigen\\_svds.py:38\u001b[0m, in \u001b[0;36m_iv\u001b[1;34m(A, k, ncv, tol, which, v0, maxiter, return_singular, solver, random_state)\u001b[0m\n\u001b[0;32m     36\u001b[0m \u001b[38;5;28;01mif\u001b[39;00m np\u001b[38;5;241m.\u001b[39mprod(A\u001b[38;5;241m.\u001b[39mshape) \u001b[38;5;241m==\u001b[39m \u001b[38;5;241m0\u001b[39m:\n\u001b[0;32m     37\u001b[0m     message \u001b[38;5;241m=\u001b[39m \u001b[38;5;124m\"\u001b[39m\u001b[38;5;124m`A` must not be empty.\u001b[39m\u001b[38;5;124m\"\u001b[39m\n\u001b[1;32m---> 38\u001b[0m     \u001b[38;5;28;01mraise\u001b[39;00m \u001b[38;5;167;01mValueError\u001b[39;00m(message)\n\u001b[0;32m     40\u001b[0m \u001b[38;5;66;03m# input validation/standardization for `k`\u001b[39;00m\n\u001b[0;32m     41\u001b[0m kmax \u001b[38;5;241m=\u001b[39m \u001b[38;5;28mmin\u001b[39m(A\u001b[38;5;241m.\u001b[39mshape) \u001b[38;5;28;01mif\u001b[39;00m solver \u001b[38;5;241m==\u001b[39m \u001b[38;5;124m'\u001b[39m\u001b[38;5;124mpropack\u001b[39m\u001b[38;5;124m'\u001b[39m \u001b[38;5;28;01melse\u001b[39;00m \u001b[38;5;28mmin\u001b[39m(A\u001b[38;5;241m.\u001b[39mshape) \u001b[38;5;241m-\u001b[39m \u001b[38;5;241m1\u001b[39m\n",
      "\u001b[1;31mValueError\u001b[0m: `A` must not be empty."
     ]
    }
   ],
   "source": [
    "print(\"bound specialized for second-order Suzuki method:\")\n",
    "comm_bound_terms = fhc.commutator_bound_strang(len(hlist))\n",
    "\n",
    "def get_num_int(idx):\n",
    "    num_int=0\n",
    "    for i in idx:\n",
    "        if i==2:\n",
    "            num_int+=1\n",
    "        elif i==3:\n",
    "            num_int+=3\n",
    "        elif i==4:\n",
    "            num_int+=8\n",
    "    return num_int\n",
    "\n",
    "# sort by number of interaction terms\n",
    "err_bound = 19 * [0]\n",
    "for term in comm_bound_terms:\n",
    "    #print(term)\n",
    "    # number of occurrences of interaction term in current nested commutator\n",
    "    num_int = get_num_int(term.commidx)\n",
    "    print(term.commidx)\n",
    "    err_bound[num_int] += term.weight * tab2[term.commidx[0]][term.commidx[1]][term.commidx[2]].norm_bound()\n",
    "# the entries still need to be divided by 2 to obtain the error per lattice site\n",
    "print(\"err_bound:\", err_bound)"
   ]
  },
  {
   "cell_type": "code",
   "execution_count": 26,
   "metadata": {},
   "outputs": [
    {
     "name": "stdout",
     "output_type": "stream",
     "text": [
      "(h_{(-1,), (1,), up}) @ (Ba_(-1,)) + (-1.0) (h_{(-1,), (1,), up}) @ (Ba_(1,)) + (-1.0) (h_{(0,), (2,), up}) @ (Ba_(0,)) + (h_{(0,), (2,), up}) @ (Ba_(2,)) + (h_{(-1,), (1,), dn}) @ (Ba_(-1,)) + (-1.0) (h_{(-1,), (1,), dn}) @ (Ba_(1,)) + (-1.0) (h_{(0,), (2,), dn}) @ (Ba_(0,)) + (h_{(0,), (2,), dn}) @ (Ba_(2,))\n"
     ]
    }
   ],
   "source": [
    "print(tab2[0][1][4])"
   ]
  },
  {
   "cell_type": "code",
   "execution_count": 27,
   "metadata": {},
   "outputs": [
    {
     "name": "stdout",
     "output_type": "stream",
     "text": [
      "(g_{(-1,), (0,), up}) @ (Ba_(-1,)) + (-1.0) (g_{(-1,), (0,), up}) @ (Ba_(0,)) + (g_{(-1,), (0,), dn}) @ (Ba_(-1,)) + (-1.0) (g_{(-1,), (0,), dn}) @ (Ba_(0,))\n"
     ]
    }
   ],
   "source": [
    "temp = fhc.commutator_translation(h1,h4,translatt=translatt)\n",
    "print(temp)"
   ]
  },
  {
   "cell_type": "code",
   "execution_count": 23,
   "metadata": {},
   "outputs": [],
   "source": [
    "test_numop = fhc.SumOp([fhc.NumberOp((x,),s,1.,1,max_level) for x in [0,1] for s in [0,1]])"
   ]
  },
  {
   "cell_type": "code",
   "execution_count": 24,
   "metadata": {},
   "outputs": [
    {
     "name": "stdout",
     "output_type": "stream",
     "text": [
      "0\n"
     ]
    }
   ],
   "source": [
    "temp = fhc.commutator_translation(h1,test_numop,translatt=translatt)\n",
    "temp = fhc.commutator_translation(h0,temp,translatt=translatt)\n",
    "print(temp.as_field_operator().as_compact_matrix().nnz)"
   ]
  }
 ],
 "metadata": {
  "kernelspec": {
   "display_name": "base",
   "language": "python",
   "name": "python3"
  },
  "language_info": {
   "codemirror_mode": {
    "name": "ipython",
    "version": 3
   },
   "file_extension": ".py",
   "mimetype": "text/x-python",
   "name": "python",
   "nbconvert_exporter": "python",
   "pygments_lexer": "ipython3",
   "version": "3.11.5"
  }
 },
 "nbformat": 4,
 "nbformat_minor": 2
}
