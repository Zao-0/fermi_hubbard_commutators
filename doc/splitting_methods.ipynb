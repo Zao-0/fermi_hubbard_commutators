{
 "cells": [
  {
   "cell_type": "markdown",
   "metadata": {},
   "source": [
    "# Splitting methods"
   ]
  },
  {
   "cell_type": "markdown",
   "metadata": {},
   "source": [
    "*fh_comm* supports common splitting methods, also called product rules, by computing the corresponding coefficients for the matrix exponentials."
   ]
  },
  {
   "cell_type": "code",
   "execution_count": 1,
   "metadata": {},
   "outputs": [],
   "source": [
    "import fh_comm as fhc"
   ]
  },
  {
   "cell_type": "markdown",
   "metadata": {},
   "source": [
    "A basic example is the Strang (second order Suzuki) splitting method for two Hamiltonian terms: given $H = A + B$, we can approximate the quantum time evolution operator (matrix exponential of $H$) for a time step $t$ as\n",
    "$$\n",
    "e^{-i t H} = e^{-i t A/2} \\, e^{-i t B} \\, e^{-i t A/2} + \\mathcal{O}(t^3),\n",
    "$$\n",
    "where one assumes that the exponentials on the right are easier to evaluate than $e^{-i t H}$ directly."
   ]
  },
  {
   "cell_type": "code",
   "execution_count": 8,
   "metadata": {},
   "outputs": [
    {
     "name": "stdout",
     "output_type": "stream",
     "text": [
      "Splitting method of order 2 for 2 terms using 3 layers,\n",
      "  indices: [0, 1, 0]\n",
      "  coeffs:  [0.5, 1.0, 0.5]\n"
     ]
    }
   ],
   "source": [
    "# fhc.SplittingMethod.suzuki(nterms, k) constructs\n",
    "# the Suzuki product rule for `nterms` terms and order `2 k`\n",
    "strang = fhc.SplittingMethod.suzuki(2, 1)\n",
    "print(strang)"
   ]
  },
  {
   "cell_type": "markdown",
   "metadata": {},
   "source": [
    "Here, `coeffs` are the coefficients in the matrix exponentials, and `indices` the respective indices of the Hamiltonian terms (i.e., whether to use $A$ or $B$)."
   ]
  },
  {
   "cell_type": "markdown",
   "metadata": {},
   "source": [
    "The Strang splitting method for three Hamiltonian terms, $H = A + B + C$, reads\n",
    "$$\n",
    "e^{-i t H} = e^{-i t A/2} \\, e^{-i t B/2} \\, e^{-i t C} \\, e^{-i t B/2} \\, e^{-i t A/2} + \\mathcal{O}(t^3).\n",
    "$$"
   ]
  },
  {
   "cell_type": "markdown",
   "metadata": {},
   "source": [
    "Let's see how this is reflected in the coefficients and indices:"
   ]
  },
  {
   "cell_type": "code",
   "execution_count": 9,
   "metadata": {},
   "outputs": [
    {
     "name": "stdout",
     "output_type": "stream",
     "text": [
      "Splitting method of order 2 for 3 terms using 5 layers,\n",
      "  indices: [0, 1, 2, 1, 0]\n",
      "  coeffs:  [0.5, 0.5, 1.0, 0.5, 0.5]\n"
     ]
    }
   ],
   "source": [
    "strang3 = fhc.SplittingMethod.suzuki(3, 1)\n",
    "print(strang3)"
   ]
  },
  {
   "cell_type": "markdown",
   "metadata": {},
   "source": [
    "The symmetric integration method by Yoshida of order 4:"
   ]
  },
  {
   "cell_type": "code",
   "execution_count": 14,
   "metadata": {},
   "outputs": [
    {
     "name": "stdout",
     "output_type": "stream",
     "text": [
      "Splitting method of order 4 for 2 terms using 7 layers,\n",
      "  indices: [0, 1, 0, 1, 0, 1, 0]\n",
      "  coeffs:  [0.6756035959798289, 1.3512071919596578, -0.17560359597982889, -1.7024143839193155, -0.17560359597982889, 1.3512071919596578, 0.6756035959798289]\n"
     ]
    }
   ],
   "source": [
    "print(fhc.SplittingMethod.yoshida4(2))"
   ]
  },
  {
   "cell_type": "markdown",
   "metadata": {},
   "source": [
    "As final example, we construct the fourth-order Suzuki method:"
   ]
  },
  {
   "cell_type": "code",
   "execution_count": 10,
   "metadata": {},
   "outputs": [
    {
     "name": "stdout",
     "output_type": "stream",
     "text": [
      "Splitting method of order 4 for 2 terms using 11 layers,\n",
      "  indices: [0, 1, 0, 1, 0, 1, 0, 1, 0, 1, 0]\n",
      "  coeffs:  [0.20724538589718786, 0.4144907717943757, 0.4144907717943757, 0.4144907717943757, -0.12173615769156357, -0.6579630871775028, -0.12173615769156357, 0.4144907717943757, 0.4144907717943757, 0.4144907717943757, 0.20724538589718786]\n"
     ]
    }
   ],
   "source": [
    "print(fhc.SplittingMethod.suzuki(2, 2))"
   ]
  },
  {
   "cell_type": "markdown",
   "metadata": {},
   "source": [
    "*fh_comm* implements Suzuki methods of arbitrary order."
   ]
  }
 ],
 "metadata": {
  "kernelspec": {
   "display_name": "Python 3",
   "language": "python",
   "name": "python3"
  },
  "language_info": {
   "codemirror_mode": {
    "name": "ipython",
    "version": 3
   },
   "file_extension": ".py",
   "mimetype": "text/x-python",
   "name": "python",
   "nbconvert_exporter": "python",
   "pygments_lexer": "ipython3",
   "version": "3.10.7"
  },
  "orig_nbformat": 4
 },
 "nbformat": 4,
 "nbformat_minor": 2
}
