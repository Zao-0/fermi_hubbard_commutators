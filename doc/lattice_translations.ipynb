{
 "cells": [
  {
   "cell_type": "markdown",
   "metadata": {},
   "source": [
    "# Lattice translations"
   ]
  },
  {
   "cell_type": "markdown",
   "metadata": {},
   "source": [
    "*fh_comm* works with integer lattices $\\Lambda = (\\mathbb{Z}_{/L})^n$ in arbitrary dimension $n$, assuming periodic boundary conditions. As such, the lattice corrdinates of an operator must be integers. Nevertheless, other lattice structures, like triangular lattices, are supported as well by embedding them in a three-dimensional integer lattice."
   ]
  },
  {
   "cell_type": "code",
   "execution_count": 1,
   "metadata": {},
   "outputs": [],
   "source": [
    "import fh_comm as fhc"
   ]
  },
  {
   "cell_type": "markdown",
   "metadata": {},
   "source": [
    "The following utility function \"wraps\" the coordinates according to the periodic boundary conditions:"
   ]
  },
  {
   "cell_type": "code",
   "execution_count": 2,
   "metadata": {},
   "outputs": [
    {
     "data": {
      "text/plain": [
       "(3, 8, 1)"
      ]
     },
     "execution_count": 2,
     "metadata": {},
     "output_type": "execute_result"
    }
   ],
   "source": [
    "fhc.periodic_wrap((13, -2, 1), (10, 10, 10))"
   ]
  },
  {
   "cell_type": "markdown",
   "metadata": {},
   "source": [
    "The `SubLattice` class implements a sublattice by specifying its basis vectors. The input basis is automatically transformed to an equivalent basis with smallest-possible entries:"
   ]
  },
  {
   "cell_type": "code",
   "execution_count": 3,
   "metadata": {},
   "outputs": [
    {
     "name": "stdout",
     "output_type": "stream",
     "text": [
      "[[ 1  1]\n",
      " [ 2 -1]]\n"
     ]
    }
   ],
   "source": [
    "sublatt = fhc.SubLattice([[1, 1], [5, 2]])\n",
    "print(sublatt.basis)"
   ]
  },
  {
   "cell_type": "markdown",
   "metadata": {},
   "source": [
    "Some utility functions for sublattices:"
   ]
  },
  {
   "cell_type": "code",
   "execution_count": 4,
   "metadata": {},
   "outputs": [
    {
     "data": {
      "text/plain": [
       "False"
      ]
     },
     "execution_count": 4,
     "metadata": {},
     "output_type": "execute_result"
    }
   ],
   "source": [
    "sublatt.contains([2, 0])"
   ]
  },
  {
   "cell_type": "code",
   "execution_count": 5,
   "metadata": {},
   "outputs": [
    {
     "data": {
      "text/plain": [
       "(2, 1)"
      ]
     },
     "execution_count": 5,
     "metadata": {},
     "output_type": "execute_result"
    }
   ],
   "source": [
    "sublatt.nearest_point([2, 0])"
   ]
  },
  {
   "cell_type": "markdown",
   "metadata": {},
   "source": [
    "Sublattices are used to specify translation-invariant Hamiltonians of the form\n",
    "$$\n",
    "H = \\sum_{i \\in \\Lambda'} h^{\\text{loc}}_i,\n",
    "$$\n",
    "where $\\Lambda'$ is a sublattice and $h^{\\text{loc}}$ a local operator; $h^{\\text{loc}}_i$ denotes the same operator shifted by lattice vector $i$."
   ]
  },
  {
   "cell_type": "markdown",
   "metadata": {},
   "source": [
    "Computing the commutator of two such Hamiltonians can then be achieved via the relation\n",
    "$$\n",
    "\\left[ \\sum_{i \\in \\Lambda'} h^{\\text{loc}}_i, \\sum_{k \\in \\Lambda'} \\tilde{h}^{\\text{loc}}_k \\right] = \\sum_{i \\in \\Lambda'} \\left[ h^{\\text{loc}}_i, \\sum_{\\ell \\in \\Lambda'} \\tilde{h}^{\\text{loc}}_{i + \\ell} \\right],\n",
    "$$\n",
    "where the commutator on the right only needs to be evaluated once, setting $i = 0$ without loss of generality. This functionality is implemented by the function `commutator_translation` (see below)."
   ]
  },
  {
   "cell_type": "markdown",
   "metadata": {},
   "source": [
    "As demonstration, we define two operators and compute their commutator, both without and with lattice translations."
   ]
  },
  {
   "cell_type": "code",
   "execution_count": 6,
   "metadata": {},
   "outputs": [],
   "source": [
    "h = fhc.HoppingOp((0, 0), (1, 0), 0, 0.25)\n",
    "n = fhc.NumberOp((3, 1), 0, 1.0)"
   ]
  },
  {
   "cell_type": "markdown",
   "metadata": {},
   "source": [
    "The usual commutator is zero, since the operators act on disjoint sites:"
   ]
  },
  {
   "cell_type": "code",
   "execution_count": 7,
   "metadata": {},
   "outputs": [
    {
     "name": "stdout",
     "output_type": "stream",
     "text": [
      "<zero op>\n"
     ]
    }
   ],
   "source": [
    "print(fhc.commutator(h, n))"
   ]
  },
  {
   "cell_type": "markdown",
   "metadata": {},
   "source": [
    "However, when using shifted copies according to the sublattice, the commutator becomes non-zero:"
   ]
  },
  {
   "cell_type": "code",
   "execution_count": 8,
   "metadata": {},
   "outputs": [
    {
     "name": "stdout",
     "output_type": "stream",
     "text": [
      "(0.25) g_{(0, 0), (1, 0), up}\n"
     ]
    }
   ],
   "source": [
    "print(fhc.commutator_translation(h, n, sublatt))"
   ]
  }
 ],
 "metadata": {
  "kernelspec": {
   "display_name": "Python 3",
   "language": "python",
   "name": "python3"
  },
  "language_info": {
   "codemirror_mode": {
    "name": "ipython",
    "version": 3
   },
   "file_extension": ".py",
   "mimetype": "text/x-python",
   "name": "python",
   "nbconvert_exporter": "python",
   "pygments_lexer": "ipython3",
   "version": "3.10.7"
  },
  "orig_nbformat": 4
 },
 "nbformat": 4,
 "nbformat_minor": 2
}
