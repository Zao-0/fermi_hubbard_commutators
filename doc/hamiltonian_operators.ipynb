{
 "cells": [
  {
   "cell_type": "markdown",
   "id": "65650297-b831-45e7-86b0-0a2d90387d4d",
   "metadata": {},
   "source": [
    "# Hamiltonian operators"
   ]
  },
  {
   "cell_type": "markdown",
   "id": "b0693584-df6c-4d17-9361-51851081592f",
   "metadata": {},
   "source": [
    "In this tutorial, we symbolically represent Hamiltonian operators and evaluate commutators between them."
   ]
  },
  {
   "cell_type": "code",
   "execution_count": 1,
   "id": "87903792-9abf-4729-83be-6c76af58a0a6",
   "metadata": {},
   "outputs": [],
   "source": [
    "# import the fh_comm package; see the README for installation instructions\n",
    "import fh_comm as fhc"
   ]
  },
  {
   "cell_type": "markdown",
   "id": "0e66d0bc",
   "metadata": {},
   "source": [
    "## Elementary operators"
   ]
  },
  {
   "cell_type": "markdown",
   "id": "4baee30e-62ad-4058-bb57-c273be0d4b99",
   "metadata": {},
   "source": [
    "As first step, we define a hopping operator $h_{ij\\sigma}^{} = a_{i\\sigma}^\\dagger a_{j\\sigma}^{} + a_{j\\sigma}^\\dagger a_{i\\sigma}^{}$ between two lattice sites."
   ]
  },
  {
   "cell_type": "code",
   "execution_count": 2,
   "id": "7fc2e0fa-2dc9-4fef-8d31-0b28dceabc6b",
   "metadata": {},
   "outputs": [
    {
     "name": "stdout",
     "output_type": "stream",
     "text": [
      "(0.25) h_{(2,), (3,), up}\n"
     ]
    }
   ],
   "source": [
    "# Syntax: HoppingOp(i, j, s, coeff) for lattice coordinates `i` and `j`,\n",
    "# spin `s = 0` or `s = 1` and a real coefficient `coeff`\n",
    "h1 = fhc.HoppingOp((2,), (3,), 0, 0.25)\n",
    "print(h1)"
   ]
  },
  {
   "cell_type": "markdown",
   "id": "ee9740d9",
   "metadata": {},
   "source": [
    "Let's define another hopping operator:"
   ]
  },
  {
   "cell_type": "code",
   "execution_count": 3,
   "id": "cac93780",
   "metadata": {},
   "outputs": [
    {
     "name": "stdout",
     "output_type": "stream",
     "text": [
      "h_{(3,), (7,), up}\n"
     ]
    }
   ],
   "source": [
    "h2 = fhc.HoppingOp((3,), (7,), 0, 1.0)\n",
    "print(h2)"
   ]
  },
  {
   "cell_type": "markdown",
   "id": "e2a5d66a",
   "metadata": {},
   "source": [
    "We can now symbolically evaluate the commutator of these operators, resulting in an \"antisymmetric\" hopping operator of the form $\\tilde{h}_{ij\\sigma}^{} = a_{i\\sigma}^\\dagger a_{j\\sigma}^{} - a_{j\\sigma}^\\dagger a_{i\\sigma}^{}$:"
   ]
  },
  {
   "cell_type": "code",
   "execution_count": 4,
   "id": "ed162b53",
   "metadata": {},
   "outputs": [
    {
     "name": "stdout",
     "output_type": "stream",
     "text": [
      "(0.25) g_{(2,), (7,), up}\n"
     ]
    }
   ],
   "source": [
    "hc = fhc.commutator(h1, h2)\n",
    "print(hc)"
   ]
  },
  {
   "cell_type": "markdown",
   "id": "4a07a702",
   "metadata": {},
   "source": [
    "Note that hopping operators with different spin or disjoint support (lattice sites they act on) commute. In this case, the returned commutator is the `ZeroOp`:"
   ]
  },
  {
   "cell_type": "code",
   "execution_count": 5,
   "id": "eff66da1",
   "metadata": {},
   "outputs": [
    {
     "name": "stdout",
     "output_type": "stream",
     "text": [
      "<zero op>\n"
     ]
    }
   ],
   "source": [
    "# third argument specifies spin-down\n",
    "h3 = fhc.HoppingOp((3,), (7,), 1, 1.0)\n",
    "print(fhc.commutator(h1, h3))"
   ]
  },
  {
   "cell_type": "markdown",
   "id": "d32b1732",
   "metadata": {},
   "source": [
    "Technically, the \"support\" also includes the spin as last coordinate entry:"
   ]
  },
  {
   "cell_type": "code",
   "execution_count": 6,
   "id": "78cb7165",
   "metadata": {},
   "outputs": [
    {
     "data": {
      "text/plain": [
       "[(2, 0), (3, 0)]"
      ]
     },
     "execution_count": 6,
     "metadata": {},
     "output_type": "execute_result"
    }
   ],
   "source": [
    "h1.support()"
   ]
  },
  {
   "cell_type": "markdown",
   "id": "2a5217ce",
   "metadata": {},
   "source": [
    "The \"fermi weight\" is the maximum number of fermionic creation and annihilation operators multiplied together in an operator:"
   ]
  },
  {
   "cell_type": "code",
   "execution_count": 7,
   "id": "59a21a5e",
   "metadata": {},
   "outputs": [
    {
     "data": {
      "text/plain": [
       "2"
      ]
     },
     "execution_count": 7,
     "metadata": {},
     "output_type": "execute_result"
    }
   ],
   "source": [
    "h1.fermi_weight"
   ]
  },
  {
   "cell_type": "markdown",
   "id": "78bd7255",
   "metadata": {},
   "source": [
    "Besides the (anti-)symmetric hopping operators, *fh_comm* also implements number operators $n_{i\\sigma}^{}$:"
   ]
  },
  {
   "cell_type": "code",
   "execution_count": 8,
   "id": "5666e817",
   "metadata": {},
   "outputs": [
    {
     "name": "stdout",
     "output_type": "stream",
     "text": [
      "(3.0) n_{(3,), up}\n"
     ]
    }
   ],
   "source": [
    "# Syntax: NumberOp(i, s, coeff) for lattice coordinate `i`,\n",
    "# spin `s = 0` or `s = 1` and a real coefficient `coeff`\n",
    "n = fhc.NumberOp((3,), 0, 3.0)\n",
    "print(n)"
   ]
  },
  {
   "cell_type": "code",
   "execution_count": 9,
   "id": "db507a30",
   "metadata": {},
   "outputs": [
    {
     "name": "stdout",
     "output_type": "stream",
     "text": [
      "(0.75) g_{(2,), (3,), up}\n"
     ]
    }
   ],
   "source": [
    "print(fhc.commutator(h1, n))"
   ]
  },
  {
   "cell_type": "markdown",
   "id": "cf3a2446",
   "metadata": {},
   "source": [
    "We can obtain (an upper bound on) the spectral norm of an operator as follows:"
   ]
  },
  {
   "cell_type": "code",
   "execution_count": 10,
   "id": "951a165a",
   "metadata": {},
   "outputs": [
    {
     "data": {
      "text/plain": [
       "0.25"
      ]
     },
     "execution_count": 10,
     "metadata": {},
     "output_type": "execute_result"
    }
   ],
   "source": [
    "h1.norm_bound()"
   ]
  },
  {
   "cell_type": "markdown",
   "id": "182fe88a",
   "metadata": {},
   "source": [
    "For elementary and quadratic operators, *fh_comm* computes the exact spectral norm."
   ]
  },
  {
   "cell_type": "markdown",
   "id": "fbe832bc",
   "metadata": {},
   "source": [
    "## Products and sums"
   ]
  },
  {
   "cell_type": "markdown",
   "id": "c5fbd13f",
   "metadata": {},
   "source": [
    "*fh_comm* facilitates the representation of products and sums of the elementary operators. A `ProductOp` collects all the coefficients into a single overal prefactor:"
   ]
  },
  {
   "cell_type": "code",
   "execution_count": 11,
   "id": "1e8d7e2c",
   "metadata": {},
   "outputs": [
    {
     "name": "stdout",
     "output_type": "stream",
     "text": [
      "(0.75) (h_{(2,), (3,), up}) @ (h_{(3,), (7,), dn}) @ (n_{(3,), up})\n"
     ]
    }
   ],
   "source": [
    "prod = fhc.ProductOp((h1, h3, n), 1.0)\n",
    "print(prod)"
   ]
  },
  {
   "cell_type": "markdown",
   "id": "38dc6223",
   "metadata": {},
   "source": [
    "This product operator contains 6 creation and annihilation operators:"
   ]
  },
  {
   "cell_type": "code",
   "execution_count": 12,
   "id": "1f4b34e6",
   "metadata": {},
   "outputs": [
    {
     "data": {
      "text/plain": [
       "6"
      ]
     },
     "execution_count": 12,
     "metadata": {},
     "output_type": "execute_result"
    }
   ],
   "source": [
    "prod.fermi_weight"
   ]
  },
  {
   "cell_type": "markdown",
   "id": "50046f55",
   "metadata": {},
   "source": [
    "Finally, we can define sums of operators via `SumOp`. Note that the `ZeroOp` is automatically ignored here."
   ]
  },
  {
   "cell_type": "code",
   "execution_count": 13,
   "id": "3b932bf1",
   "metadata": {},
   "outputs": [
    {
     "name": "stdout",
     "output_type": "stream",
     "text": [
      "h_{(3,), (7,), up} + (0.75) (h_{(2,), (3,), up}) @ (h_{(3,), (7,), dn}) @ (n_{(3,), up})\n"
     ]
    }
   ],
   "source": [
    "sumop = fhc.SumOp([prod, fhc.ZeroOp(), h2])\n",
    "print(sumop)"
   ]
  },
  {
   "cell_type": "markdown",
   "id": "3bc8b811",
   "metadata": {},
   "source": [
    "Commutators can be evaluated for products and sums, too:"
   ]
  },
  {
   "cell_type": "code",
   "execution_count": 14,
   "id": "5867a01f",
   "metadata": {},
   "outputs": [
    {
     "name": "stdout",
     "output_type": "stream",
     "text": [
      "(0.75) (h_{(2,), (3,), up}) @ (h_{(3,), (7,), dn}) @ (g_{(3,), (7,), up} + (-0.75) (g_{(2,), (3,), up}) @ (h_{(3,), (7,), dn}) @ (n_{(3,), up})) + (0.75) (g_{(2,), (7,), up} + (0.75) (h_{(2,), (3,), up}) @ (h_{(3,), (7,), dn}) @ (g_{(2,), (3,), up})) @ (h_{(3,), (7,), dn}) @ (n_{(3,), up})\n"
     ]
    }
   ],
   "source": [
    "print(fhc.commutator(prod, sumop))"
   ]
  },
  {
   "cell_type": "markdown",
   "id": "e4e5d0db",
   "metadata": {},
   "source": [
    "## Field operators and matrix representations"
   ]
  },
  {
   "cell_type": "markdown",
   "id": "073a5802",
   "metadata": {},
   "source": [
    "*fh_comm* also implements a lower-level representation (see the class `FieldOp`) directly based on fermionic creation, annihilation and number operators, mainly used internally for constructing sparse matrix representations."
   ]
  },
  {
   "cell_type": "markdown",
   "id": "595b96e2",
   "metadata": {},
   "source": [
    "In the following example, `ad_{i, s}` stands for $a_{i\\sigma}^\\dagger$ and `a_{i, s}` for $a_{i\\sigma}^{}$."
   ]
  },
  {
   "cell_type": "code",
   "execution_count": 15,
   "id": "c512b4fb",
   "metadata": {},
   "outputs": [
    {
     "name": "stdout",
     "output_type": "stream",
     "text": [
      "(0.25) ad_{(2,), up} a_{(3,), up} + (0.25) ad_{(3,), up} a_{(2,), up}\n",
      "<class 'fh_comm.field_ops.FieldOp'>\n"
     ]
    }
   ],
   "source": [
    "h1fop = h1.as_field_operator()\n",
    "print(h1fop)\n",
    "print(type(h1fop))"
   ]
  },
  {
   "cell_type": "markdown",
   "id": "2abc1338",
   "metadata": {},
   "source": [
    "`as_compact_matrix()` constructs the sparse matrix representation of a fermionic operator based on Jordan-Wigner transformation. The corresponding fermionic modes correspond to the lattice sites which the operator acts on non-trivially."
   ]
  },
  {
   "cell_type": "code",
   "execution_count": 16,
   "id": "b08604d3",
   "metadata": {},
   "outputs": [
    {
     "data": {
      "text/plain": [
       "<4x4 sparse matrix of type '<class 'numpy.float64'>'\n",
       "\twith 2 stored elements in Compressed Sparse Row format>"
      ]
     },
     "execution_count": 16,
     "metadata": {},
     "output_type": "execute_result"
    }
   ],
   "source": [
    "h1fop.as_compact_matrix()"
   ]
  },
  {
   "cell_type": "code",
   "execution_count": 17,
   "id": "5b508e23",
   "metadata": {},
   "outputs": [
    {
     "data": {
      "text/plain": [
       "matrix([[0.  , 0.  , 0.  , 0.  ],\n",
       "        [0.  , 0.  , 0.25, 0.  ],\n",
       "        [0.  , 0.25, 0.  , 0.  ],\n",
       "        [0.  , 0.  , 0.  , 0.  ]])"
      ]
     },
     "execution_count": 17,
     "metadata": {},
     "output_type": "execute_result"
    }
   ],
   "source": [
    "h1fop.as_compact_matrix().todense()"
   ]
  }
 ],
 "metadata": {
  "kernelspec": {
   "display_name": "Python 3 (ipykernel)",
   "language": "python",
   "name": "python3"
  },
  "language_info": {
   "codemirror_mode": {
    "name": "ipython",
    "version": 3
   },
   "file_extension": ".py",
   "mimetype": "text/x-python",
   "name": "python",
   "nbconvert_exporter": "python",
   "pygments_lexer": "ipython3",
   "version": "3.10.7"
  }
 },
 "nbformat": 4,
 "nbformat_minor": 5
}
