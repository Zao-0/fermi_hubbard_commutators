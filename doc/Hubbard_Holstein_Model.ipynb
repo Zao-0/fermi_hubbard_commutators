{
 "cells": [
  {
   "cell_type": "markdown",
   "id": "89fe573a",
   "metadata": {},
   "source": [
    "# Compute the Trotter Err of Hubbard-Holstein Model\n",
    "Here, we denote:\n",
    "Annihilation and creation operators of Fermions as: $a$ and $a^\\dagger$\n",
    "\n",
    "Annihilation and creation operators of Bosons as: $b$ and $b^\\dagger$\n",
    "\n",
    "Number operator of Fernions as: $n=a^\\dagger a$\n",
    "\n",
    "The Hubbard-Holstein Model is: $H = -t * \\sum_{i,\\delta, s}a_{i,\\sigma}^\\dagger a_{i+\\delta, \\sigma} +\\sum_{i,s}n_{i,\\uparrow}n_{i,\\downarrow}+w_0\\sum_i b_i^\\dagger b_i+g\\sum_{i,\\sigma}n_{i,\\sigma}(b_i^\\dagger+b_i)$"
   ]
  },
  {
   "cell_type": "markdown",
   "id": "521fed46",
   "metadata": {},
   "source": [
    "## 1D latice"
   ]
  },
  {
   "cell_type": "code",
   "execution_count": 1,
   "id": "67fc6ca4",
   "metadata": {},
   "outputs": [],
   "source": [
    "import sys\n",
    "sys.path.append(\"../\")\n",
    "import fh_comm as fhc\n",
    "import numpy as np"
   ]
  },
  {
   "cell_type": "code",
   "execution_count": 2,
   "id": "17e6cae1",
   "metadata": {},
   "outputs": [],
   "source": [
    "v = -1\n",
    "u = 1\n",
    "w0=1\n",
    "g=1\n",
    "translatt = fhc.SubLattice(np.array([[2]]))\n",
    "h0 = fhc.SumOp([fhc.HoppingOp(( 0,), ( 1,), s, v) for s in [0, 1]]) # Even bound hopping term\n",
    "h1 = fhc.SumOp([fhc.HoppingOp((-1,), ( 0,), s, v) for s in [0, 1]]) # Odd bound hopping term\n",
    "h2 = fhc.SumOp([fhc.ProductOp([fhc.NumberOp((x,), s, 1) for s in [0, 1]], u) for x in [0, 1]]+[fhc.NumberOp((x,),2,w0) for x in [0,1]]) # Number term of both Ferimion and Boson\n",
    "h3 = fhc.SumOp([fhc.ProductOp([fhc.NumberOp((x,), s, 1), fhc.PauliOp((x,), 1, g)],1) for x in [0,1] for s in [0,1]]) # Intera"
   ]
  },
  {
   "cell_type": "code",
   "execution_count": 3,
   "id": "60cf9535",
   "metadata": {
    "scrolled": true
   },
   "outputs": [
    {
     "name": "stdout",
     "output_type": "stream",
     "text": [
      "1/24 * [H_0, [H_1, H_0]]\n",
      "1/12 * [H_1, [H_1, H_0]]\n",
      "1/12 * [H_2, [H_1, H_0]]\n",
      "1/12 * [H_3, [H_1, H_0]]\n",
      "1/24 * [H_0, [H_2, H_0]]\n",
      "1/12 * [H_1, [H_2, H_0]]\n",
      "1/12 * [H_2, [H_2, H_0]]\n",
      "1/12 * [H_3, [H_2, H_0]]\n",
      "1/24 * [H_0, [H_3, H_0]]\n",
      "1/12 * [H_1, [H_3, H_0]]\n",
      "1/12 * [H_2, [H_3, H_0]]\n",
      "1/12 * [H_3, [H_3, H_0]]\n",
      "1/24 * [H_1, [H_2, H_1]]\n",
      "1/12 * [H_2, [H_2, H_1]]\n",
      "1/12 * [H_3, [H_2, H_1]]\n",
      "1/24 * [H_1, [H_3, H_1]]\n",
      "1/12 * [H_2, [H_3, H_1]]\n",
      "1/12 * [H_3, [H_3, H_1]]\n",
      "1/24 * [H_2, [H_3, H_2]]\n",
      "1/12 * [H_3, [H_3, H_2]]\n"
     ]
    }
   ],
   "source": [
    "# evaluate bound for 4 Hamiltonian terms\n",
    "comm_bound_terms = fhc.commutator_bound_strang(4)\n",
    "for cbt in comm_bound_terms:\n",
    "    print(cbt)"
   ]
  },
  {
   "cell_type": "code",
   "execution_count": 4,
   "id": "13641f21",
   "metadata": {},
   "outputs": [],
   "source": [
    "hlist = [h0,h1,h2,h3]\n",
    "translatt = fhc.SubLattice([[2]])\n",
    "comm_tab2 = fhc.NestedCommutatorTable(hlist, 3, translatt)\n",
    "tab2 = comm_tab2.table(2)\n",
    "err_bound = 8 * [0]\n",
    "method = fhc.SplittingMethod.suzuki(len(hlist), 1)\n",
    "s = (method.num_layers + 1) // 2\n",
    "comm_bound_terms = fhc.commutator_bound(method, s)"
   ]
  },
  {
   "cell_type": "code",
   "execution_count": 5,
   "id": "982c220c",
   "metadata": {},
   "outputs": [],
   "source": [
    "for term in comm_bound_terms:\n",
    "    num_int = sum(1 if i == len(hlist)-1 else 0 for i in term.commidx)\n",
    "    err_bound[num_int] += term.weight * tab2[term.commidx[0]][term.commidx[1]][term.commidx[2]].norm_bound()"
   ]
  },
  {
   "cell_type": "code",
   "execution_count": 6,
   "id": "cc755663",
   "metadata": {},
   "outputs": [
    {
     "name": "stdout",
     "output_type": "stream",
     "text": [
      "[3.5000000000000004, 0.0, 0.0, 0, 0, 0, 0, 0]\n"
     ]
    }
   ],
   "source": [
    "print(err_bound)"
   ]
  },
  {
   "cell_type": "code",
   "execution_count": 4,
   "id": "75bb0591",
   "metadata": {},
   "outputs": [],
   "source": [
    "temp = fhc.commutator(h3,h2)"
   ]
  },
  {
   "cell_type": "code",
   "execution_count": 14,
   "id": "d2a03ab9",
   "metadata": {},
   "outputs": [
    {
     "data": {
      "text/plain": [
       "[<fh_comm.hamiltonian_ops.NumberOp at 0x1eb08d49f50>]"
      ]
     },
     "execution_count": 14,
     "metadata": {},
     "output_type": "execute_result"
    }
   ],
   "source": [
    "h3.terms[0].ops"
   ]
  }
 ],
 "metadata": {
  "kernelspec": {
   "display_name": "Python 3 (ipykernel)",
   "language": "python",
   "name": "python3"
  },
  "language_info": {
   "codemirror_mode": {
    "name": "ipython",
    "version": 3
   },
   "file_extension": ".py",
   "mimetype": "text/x-python",
   "name": "python",
   "nbconvert_exporter": "python",
   "pygments_lexer": "ipython3",
   "version": "3.11.5"
  }
 },
 "nbformat": 4,
 "nbformat_minor": 5
}
