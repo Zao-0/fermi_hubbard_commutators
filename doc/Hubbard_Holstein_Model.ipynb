{
 "cells": [
  {
   "cell_type": "markdown",
   "id": "89fe573a",
   "metadata": {},
   "source": [
    "# Compute the Trotter Err of Hubbard-Holstein Model\n",
    "Here, we denote:\n",
    "Annihilation and creation operators of Fermions as: $a$ and $a^\\dagger$\n",
    "\n",
    "Annihilation and creation operators of Bosons as: $b$ and $b^\\dagger$\n",
    "\n",
    "Number operator of Fernions as: $n=a^\\dagger a$\n",
    "\n",
    "The Hubbard-Holstein Model is: $H = -v \\sum_{i,\\delta, s}a_{i,\\sigma}^\\dagger a_{i+\\delta, \\sigma} +u\\sum_{i,s}n_{i,\\uparrow}n_{i,\\downarrow}+w_0\\sum_i b_i^\\dagger b_i+g\\sum_{i,\\sigma}n_{i,\\sigma}(b_i^\\dagger+b_i)$"
   ]
  },
  {
   "cell_type": "markdown",
   "id": "521fed46",
   "metadata": {},
   "source": [
    "## 1D latice"
   ]
  },
  {
   "cell_type": "code",
   "execution_count": 48,
   "id": "67fc6ca4",
   "metadata": {},
   "outputs": [],
   "source": [
    "import sys\n",
    "sys.path.append(\"../\")\n",
    "import fh_comm as fhc\n",
    "import numpy as np"
   ]
  },
  {
   "cell_type": "code",
   "execution_count": 2,
   "id": "17e6cae1",
   "metadata": {},
   "outputs": [],
   "source": [
    "v = -1\n",
    "u = 1\n",
    "w0=1\n",
    "g=1\n",
    "translatt = fhc.SubLattice(np.array([[2]]))\n",
    "h0 = fhc.SumOp([fhc.HoppingOp(( 0,), ( 1,), s, v, 1) for s in [0, 1]]) # Even bound hopping term\n",
    "h1 = fhc.SumOp([fhc.HoppingOp((-1,), ( 0,), s, v, 1) for s in [0, 1]]) # Odd bound hopping term\n",
    "h2 = fhc.SumOp([fhc.ProductOp([fhc.NumberOp((x,), s, 1, 1) for s in [0, 1]], u) for x in [0, 1]]+[fhc.NumberOp((x,),2,w0, 1) for x in [0,1]]) # Number term of both Ferimion and Boson\n",
    "h3 = fhc.SumOp([fhc.ProductOp([fhc.NumberOp((x,), s, 1, 1), fhc.PauliOp((x,), 1, g)],1) for x in [0,1] for s in [0,1]]) # Intera"
   ]
  },
  {
   "cell_type": "code",
   "execution_count": 47,
   "id": "60cf9535",
   "metadata": {
    "scrolled": true
   },
   "outputs": [
    {
     "name": "stdout",
     "output_type": "stream",
     "text": [
      "1/24 * [H_0, [H_1, H_0]]\n",
      "1/12 * [H_1, [H_1, H_0]]\n",
      "1/12 * [H_2, [H_1, H_0]]\n",
      "1/12 * [H_3, [H_1, H_0]]\n",
      "1/24 * [H_0, [H_2, H_0]]\n",
      "1/12 * [H_1, [H_2, H_0]]\n",
      "1/12 * [H_2, [H_2, H_0]]\n",
      "1/12 * [H_3, [H_2, H_0]]\n",
      "1/24 * [H_0, [H_3, H_0]]\n",
      "1/12 * [H_1, [H_3, H_0]]\n",
      "1/12 * [H_2, [H_3, H_0]]\n",
      "1/12 * [H_3, [H_3, H_0]]\n",
      "1/24 * [H_1, [H_2, H_1]]\n",
      "1/12 * [H_2, [H_2, H_1]]\n",
      "1/12 * [H_3, [H_2, H_1]]\n",
      "1/24 * [H_1, [H_3, H_1]]\n",
      "1/12 * [H_2, [H_3, H_1]]\n",
      "1/12 * [H_3, [H_3, H_1]]\n",
      "1/24 * [H_2, [H_3, H_2]]\n",
      "1/12 * [H_3, [H_3, H_2]]\n"
     ]
    }
   ],
   "source": [
    "# evaluate bound for 4 Hamiltonian terms\n",
    "comm_bound_terms = fhc.commutator_bound_strang(4)\n",
    "for cbt in comm_bound_terms:\n",
    "    print(cbt)"
   ]
  },
  {
   "cell_type": "code",
   "execution_count": 3,
   "id": "13641f21",
   "metadata": {},
   "outputs": [],
   "source": [
    "hlist = [h0,h1,h2,h3]\n",
    "translatt = fhc.SubLattice([[2]])\n",
    "comm_tab2 = fhc.NestedCommutatorTable(hlist, 3, translatt)\n",
    "tab2 = comm_tab2.table(2)\n",
    "err_bound = 8 * [0]\n",
    "method = fhc.SplittingMethod.suzuki(len(hlist), 1)\n",
    "s = (method.num_layers + 1) // 2\n",
    "comm_bound_terms = fhc.commutator_bound(method, s)"
   ]
  },
  {
   "cell_type": "code",
   "execution_count": 4,
   "id": "982c220c",
   "metadata": {},
   "outputs": [
    {
     "name": "stdout",
     "output_type": "stream",
     "text": [
      "0.041666666666666664 * [H_0, [H_1, H_0]]\n",
      "[0.33333333333333337, 0, 0, 0, 0, 0, 0, 0]\n",
      "0.125 * [H_1, [H_1, H_0]]\n",
      "[1.3333333333333335, 0, 0, 0, 0, 0, 0, 0]\n",
      "0.16666666666666666 * [H_2, [H_1, H_0]]\n",
      "[1.3333333333333335, 0.6666666666666666, 0, 0, 0, 0, 0, 0]\n",
      "0.08333333333333333 * [H_3, [H_1, H_0]]\n",
      "[1.3333333333333335, 0.6666666666666666, 0, 0.0, 0, 0, 0, 0]\n",
      "0.041666666666666664 * [H_0, [H_2, H_0]]\n",
      "[1.3333333333333335, 1.0, 0, 0.0, 0, 0, 0, 0]\n",
      "0.08333333333333333 * [H_1, [H_2, H_0]]\n",
      "[1.3333333333333335, 1.3333333333333335, 0, 0.0, 0, 0, 0, 0]\n",
      "0.125 * [H_2, [H_2, H_0]]\n",
      "[1.3333333333333335, 1.3333333333333335, 0.25, 0.0, 0, 0, 0, 0]\n",
      "0.08333333333333333 * [H_3, [H_2, H_0]]\n",
      "[1.3333333333333335, 1.3333333333333335, 0.25, 0.0, 0.0, 0, 0, 0]\n",
      "0.041666666666666664 * [H_0, [H_3, H_0]]\n",
      "[1.3333333333333335, 1.3333333333333335, 0.25, 0.0, 0.0, 0, 0, 0]\n",
      "0.08333333333333333 * [H_1, [H_3, H_0]]\n",
      "[1.3333333333333335, 1.3333333333333335, 0.25, 0.0, 0.0, 0, 0, 0]\n",
      "0.08333333333333333 * [H_2, [H_3, H_0]]\n",
      "[1.3333333333333335, 1.3333333333333335, 0.25, 0.0, 0.0, 0, 0, 0]\n",
      "0.08333333333333333 * [H_3, [H_3, H_0]]\n",
      "[1.3333333333333335, 1.3333333333333335, 0.25, 0.0, 0.0, 0, 0.0, 0]\n",
      "0.041666666666666664 * [H_1, [H_2, H_1]]\n",
      "[1.3333333333333335, 1.6666666666666667, 0.25, 0.0, 0.0, 0, 0.0, 0]\n",
      "0.125 * [H_2, [H_2, H_1]]\n",
      "[1.3333333333333335, 1.6666666666666667, 0.5, 0.0, 0.0, 0, 0.0, 0]\n",
      "0.08333333333333333 * [H_3, [H_2, H_1]]\n",
      "[1.3333333333333335, 1.6666666666666667, 0.5, 0.0, 0.0, 0, 0.0, 0]\n",
      "0.041666666666666664 * [H_1, [H_3, H_1]]\n",
      "[1.3333333333333335, 1.6666666666666667, 0.5, 0.0, 0.0, 0, 0.0, 0]\n",
      "0.08333333333333333 * [H_2, [H_3, H_1]]\n",
      "[1.3333333333333335, 1.6666666666666667, 0.5, 0.0, 0.0, 0, 0.0, 0]\n",
      "0.08333333333333333 * [H_3, [H_3, H_1]]\n",
      "[1.3333333333333335, 1.6666666666666667, 0.5, 0.0, 0.0, 0, 0.0, 0]\n",
      "0.041666666666666664 * [H_2, [H_3, H_2]]\n",
      "[1.3333333333333335, 1.6666666666666667, 0.5, 0.0, 0.0, 0.16666666666666666, 0.0, 0]\n",
      "0.08333333333333333 * [H_3, [H_3, H_2]]\n",
      "[1.3333333333333335, 1.6666666666666667, 0.5, 0.0, 0.0, 0.16666666666666666, 0.0, 1.3333333333333333]\n"
     ]
    },
    {
     "name": "stderr",
     "output_type": "stream",
     "text": [
      "E:\\Projects\\fermi_hubbard_commutators\\doc\\..\\fh_comm\\hamiltonian_ops.py:1245: SparseEfficiencyWarning: Comparing sparse matrices using == is inefficient, try using != instead.\n",
      "  cmt = self.as_field_operator().as_compact_matrix()\n"
     ]
    },
    {
     "name": "stderr",
     "output_type": "stream",
     "text": [
      "D:\\Proj\\fermi_hubbard_commutators\\doc\\..\\fh_comm\\hamiltonian_ops.py:1349: SparseEfficiencyWarning: Comparing sparse matrices using == is inefficient, try using != instead.\n",
      "  cmt = self.as_field_operator().as_compact_matrix()\n"
     ]
    }
   ],
   "source": [
    "for term in comm_bound_terms:\n",
    "    num_int=0\n",
    "    for i in term.commidx:\n",
    "        if i==3:\n",
    "            num_int+=3\n",
    "        elif i==2:\n",
    "            num_int+=1\n",
    "    err_bound[num_int] += term.weight * tab2[term.commidx[0]][term.commidx[1]][term.commidx[2]].norm_bound()\n",
    "    print(term)\n",
    "    print(err_bound)"
   ]
  },
  {
   "cell_type": "code",
   "execution_count": 5,
   "id": "cc755663",
   "metadata": {},
   "outputs": [
    {
     "name": "stdout",
     "output_type": "stream",
     "text": [
      "[1.3333333333333335, 1.6666666666666667, 0.5, 0.0, 0.0, 0.16666666666666666, 0.0, 1.3333333333333333]\n"
     ]
    }
   ],
   "source": [
    "print(err_bound)"
   ]
  },
  {
   "cell_type": "code",
   "execution_count": 15,
   "id": "75bb0591",
   "metadata": {},
   "outputs": [],
   "source": [
    "temp = fhc.commutator(h0,h3)"
   ]
  },
  {
   "cell_type": "code",
   "execution_count": 9,
   "id": "d2a03ab9",
   "metadata": {},
   "outputs": [],
   "source": [
    "h3_terms = [fhc.ProductOp([fhc.NumberOp((x,), s, 1), fhc.PauliOp((x,), 1, g)],1) for x in [0,1] for s in [0,1]]"
   ]
  },
  {
   "cell_type": "code",
   "execution_count": 61,
   "id": "915be611",
   "metadata": {},
   "outputs": [
    {
     "name": "stdout",
     "output_type": "stream",
     "text": [
      "  (4, 16)\t-1.0\n",
      "  (5, 17)\t-1.0\n",
      "  (6, 18)\t-1.0\n",
      "  (7, 19)\t-1.0\n",
      "  (12, 16)\t1.0\n",
      "  (12, 24)\t1.0\n",
      "  (13, 17)\t1.0\n",
      "  (13, 25)\t1.0\n",
      "  (14, 18)\t1.0\n",
      "  (14, 26)\t1.0\n",
      "  (15, 19)\t1.0\n",
      "  (15, 27)\t1.0\n",
      "  (16, 4)\t1.0\n",
      "  (17, 5)\t1.0\n",
      "  (18, 6)\t1.0\n",
      "  (19, 7)\t1.0\n",
      "  (24, 4)\t-1.0\n",
      "  (24, 12)\t-1.0\n",
      "  (25, 5)\t-1.0\n",
      "  (25, 13)\t-1.0\n",
      "  (26, 6)\t-1.0\n",
      "  (26, 14)\t-1.0\n",
      "  (27, 7)\t-1.0\n",
      "  (27, 15)\t-1.0\n",
      "  (36, 48)\t-1.0\n",
      "  (37, 49)\t-1.0\n",
      "  (38, 50)\t-1.0\n",
      "  (39, 51)\t-1.0\n",
      "  (44, 48)\t1.0\n",
      "  (44, 56)\t1.0\n",
      "  (45, 49)\t1.0\n",
      "  (45, 57)\t1.0\n",
      "  (46, 50)\t1.0\n",
      "  (46, 58)\t1.0\n",
      "  (47, 51)\t1.0\n",
      "  (47, 59)\t1.0\n",
      "  (48, 36)\t1.0\n",
      "  (49, 37)\t1.0\n",
      "  (50, 38)\t1.0\n",
      "  (51, 39)\t1.0\n",
      "  (56, 36)\t-1.0\n",
      "  (56, 44)\t-1.0\n",
      "  (57, 37)\t-1.0\n",
      "  (57, 45)\t-1.0\n",
      "  (58, 38)\t-1.0\n",
      "  (58, 46)\t-1.0\n",
      "  (59, 39)\t-1.0\n",
      "  (59, 47)\t-1.0\n"
     ]
    },
    {
     "name": "stderr",
     "output_type": "stream",
     "text": [
      "C:\\Users\\Zao\\AppData\\Local\\Temp\\ipykernel_14864\\3627349022.py:1: SparseEfficiencyWarning: Comparing sparse matrices using == is inefficient, try using != instead.\n",
      "  print(fhc.commutator(h0, h3_terms[1]).as_field_operator().as_matrix((3,)))\n"
     ]
    }
   ],
   "source": [
    "print(fhc.commutator(h0, h3_terms[1]).as_field_operator().as_matrix((3,)))"
   ]
  },
  {
   "cell_type": "code",
   "execution_count": 62,
   "id": "00414392",
   "metadata": {},
   "outputs": [
    {
     "name": "stdout",
     "output_type": "stream",
     "text": [
      "  (1, 4)\t-1.0\n",
      "  (3, 4)\t1.0\n",
      "  (3, 6)\t1.0\n",
      "  (4, 1)\t1.0\n",
      "  (6, 1)\t-1.0\n",
      "  (6, 3)\t-1.0\n"
     ]
    },
    {
     "name": "stderr",
     "output_type": "stream",
     "text": [
      "C:\\Users\\Zao\\AppData\\Local\\Temp\\ipykernel_14864\\1110410795.py:1: SparseEfficiencyWarning: Comparing sparse matrices using == is inefficient, try using != instead.\n",
      "  print(fhc.commutator(h0, h3_terms[1]).as_field_operator().as_compact_matrix())\n"
     ]
    }
   ],
   "source": [
    "print(fhc.commutator(h0, h3_terms[1]).as_field_operator().as_compact_matrix())"
   ]
  },
  {
   "cell_type": "code",
   "execution_count": 63,
   "id": "eb175618",
   "metadata": {},
   "outputs": [
    {
     "name": "stdout",
     "output_type": "stream",
     "text": [
      "  (1, 4)\t-1.0\n",
      "  (3, 4)\t1.0\n",
      "  (3, 6)\t1.0\n",
      "  (4, 1)\t1.0\n",
      "  (6, 1)\t-1.0\n",
      "  (6, 3)\t-1.0\n"
     ]
    },
    {
     "name": "stderr",
     "output_type": "stream",
     "text": [
      "C:\\Users\\Zao\\AppData\\Local\\Temp\\ipykernel_14864\\2574025027.py:1: SparseEfficiencyWarning: Comparing sparse matrices using == is inefficient, try using != instead.\n",
      "  print(fhc.commutator(h0, h3_terms[0]).as_field_operator().as_compact_matrix())\n"
     ]
    }
   ],
   "source": [
    "print(fhc.commutator(h0, h3_terms[0]).as_field_operator().as_compact_matrix())"
   ]
  },
  {
   "cell_type": "code",
   "execution_count": 56,
   "id": "f36848f5",
   "metadata": {},
   "outputs": [
    {
     "name": "stderr",
     "output_type": "stream",
     "text": [
      "C:\\Users\\Zao\\AppData\\Local\\Temp\\ipykernel_14864\\1334832399.py:1: SparseEfficiencyWarning: Comparing sparse matrices using == is inefficient, try using != instead.\n",
      "  print(np.linalg.norm(fhc.SumOp([fhc.commutator(h0, h3_terms[i]) for i in range(len(h3_terms))]).as_field_operator().as_matrix((5,)).toarray(),ord=2))\n"
     ]
    },
    {
     "name": "stdout",
     "output_type": "stream",
     "text": [
      "2.5243377989621414\n"
     ]
    }
   ],
   "source": [
    "print(np.linalg.norm(fhc.SumOp([fhc.commutator(h0, h3_terms[i]) for i in range(len(h3_terms))]).as_field_operator().as_matrix((5,)).toarray(),ord=2))"
   ]
  },
  {
   "cell_type": "code",
   "execution_count": 20,
   "id": "226b64a6",
   "metadata": {},
   "outputs": [],
   "source": [
    "temp_num = fhc.NumberOp((0,), 0,1)\n",
    "temp_pauli = fhc.PauliOp((0,), 1, 1)\n",
    "temp = fhc.commutator(h0, fhc.ProductOp([temp_num, temp_pauli], 1))"
   ]
  },
  {
   "cell_type": "code",
   "execution_count": 67,
   "id": "76a4005c",
   "metadata": {},
   "outputs": [
    {
     "name": "stdout",
     "output_type": "stream",
     "text": [
      "  (6, 16)\t1.0\n",
      "  (7, 17)\t1.0\n",
      "  (10, 32)\t1.0\n",
      "  (11, 33)\t1.0\n",
      "  (12, 16)\t1.0\n",
      "  (13, 17)\t1.0\n",
      "  (14, 18)\t1.0\n",
      "  (14, 24)\t-1.0\n",
      "  (14, 36)\t1.0\n",
      "  (15, 19)\t1.0\n",
      "  (15, 25)\t-1.0\n",
      "  (15, 37)\t1.0\n",
      "  (18, 4)\t-1.0\n",
      "  (19, 5)\t-1.0\n",
      "  (24, 4)\t-1.0\n",
      "  (25, 5)\t-1.0\n",
      "  (26, 6)\t-1.0\n",
      "  (26, 12)\t1.0\n",
      "  (26, 48)\t-1.0\n",
      "  (27, 7)\t-1.0\n",
      "  (27, 13)\t1.0\n",
      "  (27, 49)\t-1.0\n",
      "  (30, 52)\t-1.0\n",
      "  (31, 53)\t-1.0\n",
      "  (32, 0)\t1.0\n",
      "  :\t:\n",
      "  (45, 49)\t1.0\n",
      "  (46, 50)\t1.0\n",
      "  (46, 56)\t-1.0\n",
      "  (47, 51)\t1.0\n",
      "  (47, 57)\t-1.0\n",
      "  (48, 16)\t-1.0\n",
      "  (49, 17)\t-1.0\n",
      "  (50, 18)\t-1.0\n",
      "  (50, 24)\t1.0\n",
      "  (50, 36)\t-1.0\n",
      "  (51, 19)\t-1.0\n",
      "  (51, 25)\t1.0\n",
      "  (51, 37)\t-1.0\n",
      "  (52, 20)\t-1.0\n",
      "  (53, 21)\t-1.0\n",
      "  (54, 22)\t-1.0\n",
      "  (54, 28)\t1.0\n",
      "  (55, 23)\t-1.0\n",
      "  (55, 29)\t1.0\n",
      "  (56, 36)\t-1.0\n",
      "  (57, 37)\t-1.0\n",
      "  (58, 38)\t-1.0\n",
      "  (58, 44)\t1.0\n",
      "  (59, 39)\t-1.0\n",
      "  (59, 45)\t1.0\n"
     ]
    },
    {
     "name": "stderr",
     "output_type": "stream",
     "text": [
      "C:\\Users\\Zao\\AppData\\Local\\Temp\\ipykernel_14864\\3711972891.py:1: SparseEfficiencyWarning: Comparing sparse matrices using == is inefficient, try using != instead.\n",
      "  print(fhc.SumOp([fhc.commutator(h0, h3_terms[i]) for i in range(len(h3_terms))]).as_field_operator().as_matrix((3,)))\n"
     ]
    }
   ],
   "source": [
    "print(fhc.SumOp([fhc.commutator(h0, h3_terms[i]) for i in range(len(h3_terms))]).as_field_operator().as_matrix((3,)))"
   ]
  },
  {
   "cell_type": "code",
   "execution_count": 68,
   "id": "69d22ea8",
   "metadata": {},
   "outputs": [
    {
     "name": "stdout",
     "output_type": "stream",
     "text": [
      "  (3, 16)\t1.0\n",
      "  (5, 32)\t1.0\n",
      "  (7, 20)\t-1.0\n",
      "  (7, 34)\t1.0\n",
      "  (10, 16)\t1.0\n",
      "  (11, 17)\t1.0\n",
      "  (11, 24)\t-1.0\n",
      "  (12, 32)\t1.0\n",
      "  (13, 33)\t1.0\n",
      "  (13, 40)\t-1.0\n",
      "  (14, 20)\t-1.0\n",
      "  (14, 34)\t1.0\n",
      "  (15, 21)\t-1.0\n",
      "  (15, 28)\t1.0\n",
      "  (15, 35)\t1.0\n",
      "  (15, 42)\t-1.0\n",
      "  (17, 2)\t-1.0\n",
      "  (21, 6)\t1.0\n",
      "  (21, 48)\t-1.0\n",
      "  (23, 50)\t-1.0\n",
      "  (24, 2)\t-1.0\n",
      "  (25, 3)\t-1.0\n",
      "  (25, 10)\t1.0\n",
      "  (28, 6)\t1.0\n",
      "  (28, 48)\t-1.0\n",
      "  :\t:\n",
      "  (42, 6)\t-1.0\n",
      "  (42, 48)\t1.0\n",
      "  (43, 7)\t-1.0\n",
      "  (43, 14)\t1.0\n",
      "  (43, 49)\t1.0\n",
      "  (43, 56)\t-1.0\n",
      "  (46, 52)\t-1.0\n",
      "  (47, 53)\t-1.0\n",
      "  (47, 60)\t1.0\n",
      "  (49, 20)\t1.0\n",
      "  (49, 34)\t-1.0\n",
      "  (51, 22)\t1.0\n",
      "  (53, 38)\t1.0\n",
      "  (56, 20)\t1.0\n",
      "  (56, 34)\t-1.0\n",
      "  (57, 21)\t1.0\n",
      "  (57, 28)\t-1.0\n",
      "  (57, 35)\t-1.0\n",
      "  (57, 42)\t1.0\n",
      "  (58, 22)\t1.0\n",
      "  (59, 23)\t1.0\n",
      "  (59, 30)\t-1.0\n",
      "  (60, 38)\t1.0\n",
      "  (61, 39)\t1.0\n",
      "  (61, 46)\t-1.0\n"
     ]
    },
    {
     "name": "stderr",
     "output_type": "stream",
     "text": [
      "C:\\Users\\Zao\\AppData\\Local\\Temp\\ipykernel_14864\\967869964.py:1: SparseEfficiencyWarning: Comparing sparse matrices using == is inefficient, try using != instead.\n",
      "  print(fhc.SumOp([fhc.commutator(h0, h3_terms[i]) for i in range(len(h3_terms))]).as_field_operator().as_compact_matrix())\n"
     ]
    }
   ],
   "source": [
    "print(fhc.SumOp([fhc.commutator(h0, h3_terms[i]) for i in range(len(h3_terms))]).as_field_operator().as_compact_matrix())"
   ]
  },
  {
   "cell_type": "markdown",
   "id": "a0b43cb6",
   "metadata": {},
   "source": [
    "## 2D square lattice (plaquete decomposition)"
   ]
  },
  {
   "cell_type": "code",
   "execution_count": null,
   "id": "96f4d4fa",
   "metadata": {},
   "outputs": [],
   "source": [
    "v = -1\n",
    "u = 1\n",
    "w0=1\n",
    "g=1\n",
    "translatt = fhc.SubLattice(np.array([[2, 0], [0, 2]]))\n",
    "plaqcoords = [( 0,  0), ( 1,  0), ( 1,  1), ( 0,  1)]\n",
    "plaqcshift = [(-1, -1), ( 0, -1), ( 0,  0), (-1,  0)]\n",
    "h0 = fhc.SumOp([fhc.HoppingOp(plaqcoords[i], plaqcoords[(i + 1) % 4], s, v) for s in [0, 1] for i in range(4)])\n",
    "h1 = fhc.SumOp([fhc.HoppingOp(plaqcshift[i], plaqcshift[(i + 1) % 4], s, v) for s in [0, 1] for i in range(4)])\n",
    "h2 = fhc.SumOp([fhc.ProductOp([fhc.NumberOp(plaqcoords[i], s, 1) for s in [0, 1]]+[fhc.NumberOp(plaqcoords[i],2,w0)], u) for i in range(4)])\n",
    "h3 = fhc.SumOp([fhc.ProductOp([fhc.NumberOp(plaqcoords[i],s,1), fhc.PauliOp(plaqcoords[i],1,1)], g) for i in range(4) for s in [0,1]])\n",
    "hlist = [h0,h1,h2,h3]\n",
    "comm_tab2 = fhc.NestedCommutatorTable(hlist, 3, translatt)\n",
    "tab2 = comm_tab.table(2)"
   ]
  }
 ],
 "metadata": {
  "kernelspec": {
   "display_name": "Python 3 (ipykernel)",
   "language": "python",
   "name": "python3"
  },
  "language_info": {
   "codemirror_mode": {
    "name": "ipython",
    "version": 3
   },
   "file_extension": ".py",
   "mimetype": "text/x-python",
   "name": "python",
   "nbconvert_exporter": "python",
   "pygments_lexer": "ipython3",
   "version": "3.11.3"
  }
 },
 "nbformat": 4,
 "nbformat_minor": 5
}
