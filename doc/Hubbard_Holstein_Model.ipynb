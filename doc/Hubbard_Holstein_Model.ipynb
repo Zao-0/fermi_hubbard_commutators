{
 "cells": [
  {
   "cell_type": "markdown",
   "id": "89fe573a",
   "metadata": {},
   "source": [
    "# Compute the Trotter Err of Hubbard-Holstein Model\n",
    "Here, we denote:\n",
    "Annihilation and creation operators of Fermions as: $a$ and $a^\\dagger$\n",
    "\n",
    "Annihilation and creation operators of Bosons as: $b$ and $b^\\dagger$\n",
    "\n",
    "Number operator of Fernions as: $n=a^\\dagger a$\n",
    "\n",
    "The Hubbard-Holstein Model is: $H = -v \\sum_{i,\\delta, s}a_{i,\\sigma}^\\dagger a_{i+\\delta, \\sigma} +u\\sum_{i,s}n_{i,\\uparrow}n_{i,\\downarrow}+w_0\\sum_i b_i^\\dagger b_i+g\\sum_{i,\\sigma}n_{i,\\sigma}(b_i^\\dagger+b_i)$"
   ]
  },
  {
   "cell_type": "markdown",
   "id": "521fed46",
   "metadata": {},
   "source": [
    "## 1D latice"
   ]
  },
  {
   "cell_type": "code",
   "execution_count": 1,
   "id": "67fc6ca4",
   "metadata": {},
   "outputs": [],
   "source": [
    "import sys\n",
    "sys.path.append(\"../\")\n",
    "import fh_comm as fhc\n",
    "import numpy as np"
   ]
  },
  {
   "cell_type": "code",
   "execution_count": 2,
   "id": "17e6cae1",
   "metadata": {},
   "outputs": [],
   "source": [
    "v = -1\n",
    "u = 1\n",
    "w0=1\n",
    "g=1\n",
    "translatt = fhc.SubLattice(np.array([[2]]))\n",
    "h0 = fhc.SumOp([fhc.HoppingOp(( 0,), ( 1,), s, v, 1) for s in [0, 1]]) # Even bound hopping term\n",
    "h1 = fhc.SumOp([fhc.HoppingOp((-1,), ( 0,), s, v, 1) for s in [0, 1]]) # Odd bound hopping term\n",
    "h2 = fhc.SumOp([fhc.ProductOp([fhc.NumberOp((x,), s, 1, 1) for s in [0, 1]], u) for x in [0, 1]]+[fhc.NumberOp((x,),2,w0, 1) for x in [0,1]]) # Number term of both Ferimion and Boson\n",
    "h3 = fhc.SumOp([fhc.ProductOp([fhc.NumberOp((x,), s, 1, 1), fhc.PauliOp((x,), 1, g)],1) for x in [0,1] for s in [0,1]]) # Intera"
   ]
  },
  {
   "cell_type": "code",
   "execution_count": 47,
   "id": "60cf9535",
   "metadata": {
    "scrolled": true
   },
   "outputs": [
    {
     "name": "stdout",
     "output_type": "stream",
     "text": [
      "1/24 * [H_0, [H_1, H_0]]\n",
      "1/12 * [H_1, [H_1, H_0]]\n",
      "1/12 * [H_2, [H_1, H_0]]\n",
      "1/12 * [H_3, [H_1, H_0]]\n",
      "1/24 * [H_0, [H_2, H_0]]\n",
      "1/12 * [H_1, [H_2, H_0]]\n",
      "1/12 * [H_2, [H_2, H_0]]\n",
      "1/12 * [H_3, [H_2, H_0]]\n",
      "1/24 * [H_0, [H_3, H_0]]\n",
      "1/12 * [H_1, [H_3, H_0]]\n",
      "1/12 * [H_2, [H_3, H_0]]\n",
      "1/12 * [H_3, [H_3, H_0]]\n",
      "1/24 * [H_1, [H_2, H_1]]\n",
      "1/12 * [H_2, [H_2, H_1]]\n",
      "1/12 * [H_3, [H_2, H_1]]\n",
      "1/24 * [H_1, [H_3, H_1]]\n",
      "1/12 * [H_2, [H_3, H_1]]\n",
      "1/12 * [H_3, [H_3, H_1]]\n",
      "1/24 * [H_2, [H_3, H_2]]\n",
      "1/12 * [H_3, [H_3, H_2]]\n"
     ]
    }
   ],
   "source": [
    "# evaluate bound for 4 Hamiltonian terms\n",
    "comm_bound_terms = fhc.commutator_bound_strang(4)\n",
    "for cbt in comm_bound_terms:\n",
    "    print(cbt)"
   ]
  },
  {
   "cell_type": "code",
   "execution_count": 3,
   "id": "13641f21",
   "metadata": {},
   "outputs": [],
   "source": [
    "hlist = [h0,h1,h2,h3]\n",
    "translatt = fhc.SubLattice([[2]])\n",
    "comm_tab2 = fhc.NestedCommutatorTable(hlist, 3, translatt)\n",
    "tab2 = comm_tab2.table(2)\n",
    "err_bound = 8 * [0]\n",
    "method = fhc.SplittingMethod.suzuki(len(hlist), 1)\n",
    "s = (method.num_layers + 1) // 2\n",
    "comm_bound_terms = fhc.commutator_bound(method, s)"
   ]
  },
  {
   "cell_type": "code",
   "execution_count": 4,
   "id": "982c220c",
   "metadata": {},
   "outputs": [
    {
     "name": "stdout",
     "output_type": "stream",
     "text": [
      "0.041666666666666664 * [H_0, [H_1, H_0]]\n",
      "[0.33333333333333337, 0, 0, 0, 0, 0, 0, 0]\n",
      "0.125 * [H_1, [H_1, H_0]]\n",
      "[1.3333333333333335, 0, 0, 0, 0, 0, 0, 0]\n",
      "0.16666666666666666 * [H_2, [H_1, H_0]]\n",
      "[1.3333333333333335, 0.6666666666666666, 0, 0, 0, 0, 0, 0]\n",
      "0.08333333333333333 * [H_3, [H_1, H_0]]\n",
      "[1.3333333333333335, 0.6666666666666666, 0, 0.0, 0, 0, 0, 0]\n",
      "0.041666666666666664 * [H_0, [H_2, H_0]]\n",
      "[1.3333333333333335, 1.0, 0, 0.0, 0, 0, 0, 0]\n",
      "0.08333333333333333 * [H_1, [H_2, H_0]]\n",
      "[1.3333333333333335, 1.3333333333333335, 0, 0.0, 0, 0, 0, 0]\n",
      "0.125 * [H_2, [H_2, H_0]]\n",
      "[1.3333333333333335, 1.3333333333333335, 0.25, 0.0, 0, 0, 0, 0]\n",
      "0.08333333333333333 * [H_3, [H_2, H_0]]\n",
      "[1.3333333333333335, 1.3333333333333335, 0.25, 0.0, 0.0, 0, 0, 0]\n",
      "0.041666666666666664 * [H_0, [H_3, H_0]]\n",
      "[1.3333333333333335, 1.3333333333333335, 0.25, 0.0, 0.0, 0, 0, 0]\n",
      "0.08333333333333333 * [H_1, [H_3, H_0]]\n",
      "[1.3333333333333335, 1.3333333333333335, 0.25, 0.0, 0.0, 0, 0, 0]\n",
      "0.08333333333333333 * [H_2, [H_3, H_0]]\n",
      "[1.3333333333333335, 1.3333333333333335, 0.25, 0.0, 0.0, 0, 0, 0]\n",
      "0.08333333333333333 * [H_3, [H_3, H_0]]\n",
      "[1.3333333333333335, 1.3333333333333335, 0.25, 0.0, 0.0, 0, 0.0, 0]\n",
      "0.041666666666666664 * [H_1, [H_2, H_1]]\n",
      "[1.3333333333333335, 1.6666666666666667, 0.25, 0.0, 0.0, 0, 0.0, 0]\n",
      "0.125 * [H_2, [H_2, H_1]]\n",
      "[1.3333333333333335, 1.6666666666666667, 0.5, 0.0, 0.0, 0, 0.0, 0]\n",
      "0.08333333333333333 * [H_3, [H_2, H_1]]\n",
      "[1.3333333333333335, 1.6666666666666667, 0.5, 0.0, 0.0, 0, 0.0, 0]\n",
      "0.041666666666666664 * [H_1, [H_3, H_1]]\n",
      "[1.3333333333333335, 1.6666666666666667, 0.5, 0.0, 0.0, 0, 0.0, 0]\n",
      "0.08333333333333333 * [H_2, [H_3, H_1]]\n",
      "[1.3333333333333335, 1.6666666666666667, 0.5, 0.0, 0.0, 0, 0.0, 0]\n",
      "0.08333333333333333 * [H_3, [H_3, H_1]]\n",
      "[1.3333333333333335, 1.6666666666666667, 0.5, 0.0, 0.0, 0, 0.0, 0]\n",
      "0.041666666666666664 * [H_2, [H_3, H_2]]\n",
      "[1.3333333333333335, 1.6666666666666667, 0.5, 0.0, 0.0, 0.16666666666666666, 0.0, 0]\n",
      "0.08333333333333333 * [H_3, [H_3, H_2]]\n",
      "[1.3333333333333335, 1.6666666666666667, 0.5, 0.0, 0.0, 0.16666666666666666, 0.0, 1.3333333333333333]\n"
     ]
    },
    {
     "name": "stderr",
     "output_type": "stream",
     "text": [
      "E:\\Projects\\fermi_hubbard_commutators\\doc\\..\\fh_comm\\hamiltonian_ops.py:1349: SparseEfficiencyWarning: Comparing sparse matrices using == is inefficient, try using != instead.\n",
      "  cmt = self.as_field_operator().as_compact_matrix()\n"
     ]
    }
   ],
   "source": [
    "for term in comm_bound_terms:\n",
    "    num_int=0\n",
    "    for i in term.commidx:\n",
    "        if i==3:\n",
    "            num_int+=3\n",
    "        elif i==2:\n",
    "            num_int+=1\n",
    "    err_bound[num_int] += term.weight * tab2[term.commidx[0]][term.commidx[1]][term.commidx[2]].norm_bound()\n",
    "    print(term)\n",
    "    print(err_bound)"
   ]
  },
  {
   "cell_type": "code",
   "execution_count": 5,
   "id": "cc755663",
   "metadata": {},
   "outputs": [
    {
     "name": "stdout",
     "output_type": "stream",
     "text": [
      "[1.3333333333333335, 1.6666666666666667, 0.5, 0.0, 0.0, 0.16666666666666666, 0.0, 1.3333333333333333]\n"
     ]
    }
   ],
   "source": [
    "print(err_bound)"
   ]
  },
  {
   "cell_type": "code",
   "execution_count": 15,
   "id": "75bb0591",
   "metadata": {},
   "outputs": [
    {
     "name": "stdout",
     "output_type": "stream",
     "text": [
      "2.0\n"
     ]
    }
   ],
   "source": [
    "temp = fhc.commutator(h1,h0)\n",
    "temp = fhc.commutator(h3,temp)\n",
    "print(fhc.simplify(temp).norm_bound())"
   ]
  },
  {
   "cell_type": "code",
   "execution_count": 5,
   "id": "d2a03ab9",
   "metadata": {},
   "outputs": [
    {
     "name": "stdout",
     "output_type": "stream",
     "text": [
      "(-1.0) (h_{(-1,), (1,), up}) @ (X) + (-1.0) (h_{(-1,), (1,), dn}) @ (X)\n"
     ]
    }
   ],
   "source": [
    "# if without the translatt parameter, the expected result of commutator\n",
    "temp = fhc.nested_commutators([h3],[fhc.commutator(h1,h0)], None)\n",
    "print(temp[0][0])"
   ]
  },
  {
   "cell_type": "code",
   "execution_count": 10,
   "id": "915be611",
   "metadata": {},
   "outputs": [
    {
     "name": "stdout",
     "output_type": "stream",
     "text": [
      "(-1.0) (h_{(-1,), (1,), up}) @ (X) + (h_{(1,), (3,), up}) @ (X) + (-1.0) (h_{(-1,), (1,), dn}) @ (X) + (h_{(1,), (3,), dn}) @ (X)\n"
     ]
    }
   ],
   "source": [
    "# the inner layer with simplified result\n",
    "temp_result_of_nested_commutator=fhc.simplify(fhc.commutator_translation(h3, fhc.commutator(h1,h0), translatt=translatt))\n",
    "print(temp_result_of_nested_commutator)"
   ]
  },
  {
   "cell_type": "code",
   "execution_count": 11,
   "id": "00414392",
   "metadata": {},
   "outputs": [
    {
     "name": "stdout",
     "output_type": "stream",
     "text": [
      "(-1.0) (h_{(-1,), (1,), up}) @ (X) + (h_{(-1,), (1,), up}) @ (X) + (-1.0) (h_{(-1,), (1,), dn}) @ (X) + (h_{(-1,), (1,), dn}) @ (X)\n"
     ]
    }
   ],
   "source": [
    "# after applying translate_origin, the result is zero operator\n",
    "print(fhc.translate_origin(temp_result_of_nested_commutator, translatt))"
   ]
  },
  {
   "cell_type": "markdown",
   "id": "a0b43cb6",
   "metadata": {},
   "source": [
    "## 2D square lattice (plaquete decomposition)"
   ]
  },
  {
   "cell_type": "code",
   "execution_count": null,
   "id": "96f4d4fa",
   "metadata": {},
   "outputs": [],
   "source": [
    "v = -1\n",
    "u = 1\n",
    "w0=1\n",
    "g=1\n",
    "translatt = fhc.SubLattice(np.array([[2, 0], [0, 2]]))\n",
    "plaqcoords = [( 0,  0), ( 1,  0), ( 1,  1), ( 0,  1)]\n",
    "plaqcshift = [(-1, -1), ( 0, -1), ( 0,  0), (-1,  0)]\n",
    "h0 = fhc.SumOp([fhc.HoppingOp(plaqcoords[i], plaqcoords[(i + 1) % 4], s, v) for s in [0, 1] for i in range(4)])\n",
    "h1 = fhc.SumOp([fhc.HoppingOp(plaqcshift[i], plaqcshift[(i + 1) % 4], s, v) for s in [0, 1] for i in range(4)])\n",
    "h2 = fhc.SumOp([fhc.ProductOp([fhc.NumberOp(plaqcoords[i], s, 1) for s in [0, 1]]+[fhc.NumberOp(plaqcoords[i],2,w0)], u) for i in range(4)])\n",
    "h3 = fhc.SumOp([fhc.ProductOp([fhc.NumberOp(plaqcoords[i],s,1), fhc.PauliOp(plaqcoords[i],1,1)], g) for i in range(4) for s in [0,1]])\n",
    "hlist = [h0,h1,h2,h3]\n",
    "comm_tab2 = fhc.NestedCommutatorTable(hlist, 3, translatt)\n",
    "tab2 = comm_tab.table(2)"
   ]
  }
 ],
 "metadata": {
  "kernelspec": {
   "display_name": "Python 3.11.3 ('base')",
   "language": "python",
   "name": "python3"
  },
  "language_info": {
   "codemirror_mode": {
    "name": "ipython",
    "version": 3
   },
   "file_extension": ".py",
   "mimetype": "text/x-python",
   "name": "python",
   "nbconvert_exporter": "python",
   "pygments_lexer": "ipython3",
   "version": "3.11.3"
  },
  "vscode": {
   "interpreter": {
    "hash": "35792f690c9f1f3442547cf038e6c24b19cf974df967b0f50cbf97b948b3dfb5"
   }
  }
 },
 "nbformat": 4,
 "nbformat_minor": 5
}
