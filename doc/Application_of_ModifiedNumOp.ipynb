{
 "cells": [
  {
   "cell_type": "markdown",
   "id": "28cca146",
   "metadata": {},
   "source": [
    "# Test for the Modified Number Operator\n",
    "## Construct the Hamiltonians for 1d lattice"
   ]
  },
  {
   "cell_type": "code",
   "execution_count": 4,
   "id": "6b251660",
   "metadata": {},
   "outputs": [],
   "source": [
    "import sys\n",
    "sys.path.append(\"../\")\n",
    "import fh_comm as fhc\n",
    "import numpy as np"
   ]
  },
  {
   "cell_type": "code",
   "execution_count": 5,
   "id": "b82e5240",
   "metadata": {},
   "outputs": [],
   "source": [
    "v = -1\n",
    "u = 1\n",
    "translatt = fhc.SubLattice(np.array([[2]]))\n",
    "h0 = fhc.SumOp([fhc.HoppingOp(( 0,), ( 1,), s, v) for s in [0, 1]])\n",
    "h1 = fhc.SumOp([fhc.HoppingOp((-1,), ( 0,), s, v) for s in [0, 1]])\n",
    "h2 = fhc.SumOp([fhc.ProductOp([fhc.ModifiedNumOp((x,), s, 1) for s in [0, 1]], u) for x in [0, 1]])\n",
    "h2_num = [[fhc.NumberOp((x,),s,u) for x in [0,1]] for s in [0,1]]"
   ]
  },
  {
   "cell_type": "code",
   "execution_count": 6,
   "id": "cf39237b",
   "metadata": {},
   "outputs": [
    {
     "name": "stdout",
     "output_type": "stream",
     "text": [
      "1/24 * [H_0, [H_1, H_0]]\n",
      "1/12 * [H_1, [H_1, H_0]]\n",
      "1/12 * [H_2, [H_1, H_0]]\n",
      "1/24 * [H_0, [H_2, H_0]]\n",
      "1/12 * [H_1, [H_2, H_0]]\n",
      "1/12 * [H_2, [H_2, H_0]]\n",
      "1/24 * [H_1, [H_2, H_1]]\n",
      "1/12 * [H_2, [H_2, H_1]]\n"
     ]
    }
   ],
   "source": [
    "# evaluate bound for 3 Hamiltonian terms\n",
    "comm_bound_terms = fhc.commutator_bound_strang(3)\n",
    "for cbt in comm_bound_terms:\n",
    "    print(cbt)"
   ]
  },
  {
   "cell_type": "markdown",
   "id": "3a936a87",
   "metadata": {},
   "source": [
    "Notice: Because we just modified H_2, than we just need to compute the term with H_2,\n",
    "s.t. [H_2, [H_1, H_0]], [H_0, [H_2, H_0]], [H_1, [H_2, H_0]], [H_2, [H_2, H_0]], [H_1, [H_2, H_1]], [H_2, [H_2, H_1]]"
   ]
  },
  {
   "cell_type": "code",
   "execution_count": null,
   "id": "58f4c5ba",
   "metadata": {},
   "outputs": [],
   "source": [
    "# results of the first level commutator\n",
    "result10 = fhc.commutator(h1,h0)\n",
    "result20 = fhc.commutator(h2,h0)\n",
    "result21 = fhc.commutator(h2,h1)"
   ]
  },
  {
   "cell_type": "code",
   "execution_count": null,
   "id": "88eb4a0a",
   "metadata": {},
   "outputs": [],
   "source": [
    "# results of the 6 terms with H_2\n",
    "result1 = fhc.commutator(h2,result10)\n",
    "result2 = fhc.commutator(h0,result20)\n",
    "result3 = fhc.commutator(h1,result20)\n",
    "result4 = fhc.commutator(h2,result20)\n",
    "result5 = fhc.commutator(h1,result21)\n",
    "result6 = fhc.commutator(h2,result21)"
   ]
  },
  {
   "cell_type": "code",
   "execution_count": null,
   "id": "9fc5f255",
   "metadata": {},
   "outputs": [],
   "source": [
    "# we compute the results by hand, and the "
   ]
  },
  {
   "cell_type": "code",
   "execution_count": null,
   "id": "9948aa52",
   "metadata": {},
   "outputs": [],
   "source": []
  },
  {
   "cell_type": "code",
   "execution_count": null,
   "id": "fffa5b07",
   "metadata": {},
   "outputs": [],
   "source": []
  }
 ],
 "metadata": {
  "kernelspec": {
   "display_name": "Python 3 (ipykernel)",
   "language": "python",
   "name": "python3"
  },
  "language_info": {
   "codemirror_mode": {
    "name": "ipython",
    "version": 3
   },
   "file_extension": ".py",
   "mimetype": "text/x-python",
   "name": "python",
   "nbconvert_exporter": "python",
   "pygments_lexer": "ipython3",
   "version": "3.11.5"
  }
 },
 "nbformat": 4,
 "nbformat_minor": 5
}
