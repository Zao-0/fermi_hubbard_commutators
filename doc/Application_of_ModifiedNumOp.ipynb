{
 "cells": [
  {
   "cell_type": "markdown",
   "id": "28cca146",
   "metadata": {},
   "source": [
    "# Test for the Modified Number Operator\n",
    "## Construct the Hamiltonians for 1d lattice"
   ]
  },
  {
   "cell_type": "code",
   "execution_count": 1,
   "id": "6b251660",
   "metadata": {},
   "outputs": [],
   "source": [
    "import sys\n",
    "sys.path.append(\"../\")\n",
    "import fh_comm as fhc\n",
    "import numpy as np\n",
    "import pandas as pd"
   ]
  },
  {
   "cell_type": "code",
   "execution_count": 2,
   "id": "b82e5240",
   "metadata": {},
   "outputs": [],
   "source": [
    "v = -1\n",
    "u = 1\n",
    "translatt = fhc.SubLattice(np.array([[2]]))\n",
    "h0 = fhc.SumOp([fhc.HoppingOp(( 0,), ( 1,), s, v) for s in [0, 1]])\n",
    "h1 = fhc.SumOp([fhc.HoppingOp((-1,), ( 0,), s, v) for s in [0, 1]])\n",
    "h2 = fhc.SumOp([fhc.ProductOp([fhc.ModifiedNumOp((x,), s, 1) for s in [0, 1]], u) for x in [0, 1]])\n",
    "h2_num = [[fhc.NumberOp((x,),s,1.) for s in [0,1]] for x in [0,1]]"
   ]
  },
  {
   "cell_type": "code",
   "execution_count": 3,
   "id": "cf39237b",
   "metadata": {},
   "outputs": [
    {
     "name": "stdout",
     "output_type": "stream",
     "text": [
      "1/24 * [H_0, [H_1, H_0]]\n",
      "1/12 * [H_1, [H_1, H_0]]\n",
      "1/12 * [H_2, [H_1, H_0]]\n",
      "1/24 * [H_0, [H_2, H_0]]\n",
      "1/12 * [H_1, [H_2, H_0]]\n",
      "1/12 * [H_2, [H_2, H_0]]\n",
      "1/24 * [H_1, [H_2, H_1]]\n",
      "1/12 * [H_2, [H_2, H_1]]\n"
     ]
    }
   ],
   "source": [
    "# evaluate bound for 3 Hamiltonian terms\n",
    "comm_bound_terms = fhc.commutator_bound_strang(3)\n",
    "for cbt in comm_bound_terms:\n",
    "    print(cbt)"
   ]
  },
  {
   "cell_type": "markdown",
   "id": "3a936a87",
   "metadata": {},
   "source": [
    "Notice: Because we just modified H_2, than we just need to compute the term with H_2,\n",
    "s.t. [H_2, [H_1, H_0]], [H_0, [H_2, H_0]], [H_1, [H_2, H_0]], [H_2, [H_2, H_0]], [H_1, [H_2, H_1]], [H_2, [H_2, H_1]]"
   ]
  },
  {
   "cell_type": "code",
   "execution_count": 4,
   "id": "58f4c5ba",
   "metadata": {},
   "outputs": [],
   "source": [
    "# results of the first level commutator\n",
    "result10 = fhc.commutator(h1,h0)\n",
    "result20 = fhc.commutator(h2,h0)\n",
    "result21 = fhc.commutator(h2,h1)"
   ]
  },
  {
   "cell_type": "code",
   "execution_count": 5,
   "id": "88eb4a0a",
   "metadata": {},
   "outputs": [],
   "source": [
    "# results of the 6 terms with H_2\n",
    "result = []\n",
    "result.append(fhc.commutator(h2,result10))\n",
    "result.append(fhc.commutator(h0,result20))\n",
    "result.append(fhc.commutator(h1,result20))\n",
    "result.append(fhc.commutator(h2,result20))\n",
    "result.append(fhc.commutator(h1,result21))\n",
    "result.append(fhc.commutator(h2,result21))\n",
    "for i in range(len(result)):\n",
    "    result[i] = fhc.simplify(result[i])"
   ]
  },
  {
   "cell_type": "code",
   "execution_count": 6,
   "id": "9948aa52",
   "metadata": {},
   "outputs": [],
   "source": [
    "# for convinience, we construct a function to compute the modified number operator by hand\n",
    "def theretical_h2_form(a: fhc.HamiltonianOp)->fhc.HamiltonianOp:\n",
    "    return fhc.SumOp([fhc.commutator(fhc.ProductOp([h2_num[0][0], h2_num[0][1]],u),a), fhc.commutator(fhc.ProductOp([h2_num[1][0], h2_num[1][1]],u),a), 0.5*u*fhc.commutator(a, fhc.SumOp([Op for sublist in h2_num for Op in sublist]))])"
   ]
  },
  {
   "cell_type": "code",
   "execution_count": 7,
   "id": "9fc5f255",
   "metadata": {},
   "outputs": [],
   "source": [
    "# we compute the results by hand, and then compare the theoretical results with those above\n",
    "the_result = []\n",
    "the_result20 = theretical_h2_form(h0)\n",
    "the_result21 = theretical_h2_form(h1)\n",
    "the_result.append(theretical_h2_form(result10))\n",
    "the_result.append(fhc.commutator(h0, the_result20))\n",
    "the_result.append(fhc.commutator(h1, the_result20))\n",
    "the_result.append(theretical_h2_form(the_result20))\n",
    "the_result.append(fhc.commutator(h1, the_result21))\n",
    "the_result.append(theretical_h2_form(the_result21))\n",
    "for i in range(len(the_result)):\n",
    "    the_result[i] = fhc.simplify(the_result[i])"
   ]
  },
  {
   "cell_type": "code",
   "execution_count": 8,
   "id": "8e7f61af",
   "metadata": {},
   "outputs": [
    {
     "name": "stdout",
     "output_type": "stream",
     "text": [
      "True\n",
      "True\n",
      "True\n",
      "True\n",
      "True\n",
      "True\n"
     ]
    }
   ],
   "source": [
    "# to check whether the 6 terms are the same, the outpus should be all 'True'\n",
    "for i in range(len(result)):\n",
    "    print(np.array_equal(result[i].as_field_operator().as_matrix((3,)).toarray(), the_result[i].as_field_operator().as_matrix((3,)).toarray()))"
   ]
  },
  {
   "cell_type": "markdown",
   "id": "301470ea",
   "metadata": {},
   "source": [
    "Here, we could try to construct the higher order suzuki, and try to print out the err bound.\n",
    "Firstly, we need to reproduce the results in the paper."
   ]
  },
  {
   "cell_type": "code",
   "execution_count": 3,
   "id": "089b5511",
   "metadata": {},
   "outputs": [],
   "source": [
    "h2_origin = fhc.SumOp([fhc.ProductOp([fhc.NumberOp((x,), s, 1) for s in [0, 1]], u) for x in [0, 1]])"
   ]
  },
  {
   "cell_type": "code",
   "execution_count": 5,
   "id": "e3d887a2",
   "metadata": {},
   "outputs": [],
   "source": [
    "hlist_origin = [h0,h1,h2_origin]\n",
    "translatt = fhc.SubLattice([[2]])\n",
    "comm_tab_origin = fhc.NestedCommutatorTable(hlist_origin, 5, translatt)\n",
    "tab4_origin = comm_tab_origin.table(4)\n",
    "err_bound_origin = 5 * [0]\n",
    "method = fhc.SplittingMethod.suzuki(len(hlist_origin), 2)\n",
    "s = (method.num_layers + 1) // 2\n",
    "comm_bound_terms = fhc.commutator_bound(method, s)"
   ]
  },
  {
   "cell_type": "markdown",
   "id": "94fef56f",
   "metadata": {},
   "source": [
    "To run the code below, we could obtain the same result as E.q.42 at Page7"
   ]
  },
  {
   "cell_type": "code",
   "execution_count": 5,
   "id": "5be2b214",
   "metadata": {},
   "outputs": [],
   "source": [
    "data1 = {'Index0':[],\n",
    "         'Index1':[],\n",
    "         'Index2':[],\n",
    "         'Index3':[],\n",
    "         'Index4':[],\n",
    "         'Err_term':[],\n",
    "         'Err':[]}\n",
    "for term in comm_bound_terms:\n",
    "    num_int = sum(1 if i == len(hlist_origin)-1 else 0 for i in term.commidx)\n",
    "    temp_err = term.weight * tab4_origin[term.commidx[0]][term.commidx[1]][term.commidx[2]][term.commidx[3]][term.commidx[4]].norm_bound()\n",
    "    err_bound_origin[num_int] += temp_err\n",
    "    data1['Index0'].append(term.commidx[0])\n",
    "    data1['Index1'].append(term.commidx[1])\n",
    "    data1['Index2'].append(term.commidx[2])\n",
    "    data1['Index3'].append(term.commidx[3])\n",
    "    data1['Index4'].append(term.commidx[4])\n",
    "    data1['Err_term'].append(num_int)\n",
    "    data1['Err'].append(temp_err)"
   ]
  },
  {
   "cell_type": "code",
   "execution_count": 6,
   "id": "6600e29c",
   "metadata": {},
   "outputs": [],
   "source": [
    "df1 = pd.DataFrame(data1)\n",
    "file_path = 'data1.xlsx'\n",
    "df1.to_excel(file_path, index=False)"
   ]
  },
  {
   "cell_type": "code",
   "execution_count": 6,
   "id": "7993d459",
   "metadata": {},
   "outputs": [
    {
     "name": "stdout",
     "output_type": "stream",
     "text": [
      "(-64) (g_{(-1,), (0,), up}) @ (g_{(-1,), (0,), dn}) + (-64) (n_{(-1,), up}) @ (n_{(-1,), dn}) + (64) (n_{(-1,), up}) @ (n_{(0,), dn}) + (64) (n_{(0,), up}) @ (n_{(-1,), dn}) + (-64) (n_{(0,), up}) @ (n_{(0,), dn})\n"
     ]
    }
   ],
   "source": [
    "print(tab4_origin[1][2][1][1][1])"
   ]
  },
  {
   "cell_type": "code",
   "execution_count": 7,
   "id": "2f05a958",
   "metadata": {},
   "outputs": [
    {
     "name": "stdout",
     "output_type": "stream",
     "text": [
      "err_bound_origin: [2.680944765044714, 17.646578262420086, 4.788947718065406, 0.8273585066999247, 0.12001862556075223]\n"
     ]
    }
   ],
   "source": [
    "print(\"err_bound_origin:\", err_bound_origin)"
   ]
  },
  {
   "cell_type": "code",
   "execution_count": 7,
   "id": "c0944bd6",
   "metadata": {},
   "outputs": [],
   "source": [
    "hlist = [h0,h1,h2]\n",
    "comm_tab = fhc.NestedCommutatorTable(hlist, 5, translatt)\n",
    "tab4 = comm_tab.table(4)\n",
    "err_bound = 5 * [0]"
   ]
  },
  {
   "cell_type": "code",
   "execution_count": 9,
   "id": "8caeb7b4",
   "metadata": {},
   "outputs": [],
   "source": [
    "data2 = {'Index0':[],\n",
    "         'Index1':[],\n",
    "         'Index2':[],\n",
    "         'Index3':[],\n",
    "         'Index4':[],\n",
    "         'Err_term':[],\n",
    "         'Err':[]}\n",
    "for term in comm_bound_terms:\n",
    "    num_int = sum(1 if i == len(hlist)-1 else 0 for i in term.commidx)\n",
    "    temp_err = term.weight * tab4[term.commidx[0]][term.commidx[1]][term.commidx[2]][term.commidx[3]][term.commidx[4]].norm_bound()\n",
    "    err_bound[num_int] += temp_err\n",
    "    data2['Index0'].append(term.commidx[0])\n",
    "    data2['Index1'].append(term.commidx[1])\n",
    "    data2['Index2'].append(term.commidx[2])\n",
    "    data2['Index3'].append(term.commidx[3])\n",
    "    data2['Index4'].append(term.commidx[4])\n",
    "    data2['Err_term'].append(num_int)\n",
    "    data2['Err'].append(temp_err)"
   ]
  },
  {
   "cell_type": "code",
   "execution_count": null,
   "id": "92c45d14",
   "metadata": {},
   "outputs": [],
   "source": [
    "df2 = pd.DataFrame(data2)\n",
    "file_path = 'data2.xlsx'\n",
    "df2.to_excel(file_path, index=False)"
   ]
  },
  {
   "cell_type": "code",
   "execution_count": 8,
   "id": "5f6ed121",
   "metadata": {},
   "outputs": [
    {
     "name": "stdout",
     "output_type": "stream",
     "text": [
      "(-64) (g_{(-1,), (0,), up}) @ (g_{(-1,), (0,), dn}) + (-48) (n_{(-1,), up}) @ (n_{(-1,), dn}) + (48) (n_{(-1,), up}) @ (n_{(0,), dn}) + (8) (n_{(-1,), up}) @ (Mn_{(0,), dn}) + (48) (n_{(0,), up}) @ (n_{(-1,), dn}) + (-48) (n_{(0,), up}) @ (n_{(0,), dn}) + (8) (n_{(0,), up}) @ (Mn_{(-1,), dn}) + (-8) (n_{(0,), up}) @ (Mn_{(0,), dn}) + (-8) (n_{(1,), up}) @ (Mn_{(1,), dn}) + (8) (n_{(-1,), dn}) @ (Mn_{(0,), up}) + (8) (n_{(0,), dn}) @ (Mn_{(-1,), up}) + (-8) (n_{(0,), dn}) @ (Mn_{(0,), up}) + (-8) (n_{(1,), dn}) @ (Mn_{(1,), up})\n"
     ]
    }
   ],
   "source": [
    "print(tab4[1][2][1][1][1])"
   ]
  },
  {
   "cell_type": "code",
   "execution_count": 5,
   "id": "55f7c621",
   "metadata": {},
   "outputs": [
    {
     "name": "stdout",
     "output_type": "stream",
     "text": [
      "(-32) (g_{(-1,), (0,), up}) @ (g_{(-1,), (0,), dn}) + (-24) (n_{(-1,), up}) @ (n_{(-1,), dn}) + (32) (n_{(-1,), up}) @ (n_{(0,), dn}) + (32) (n_{(0,), up}) @ (n_{(-1,), dn}) + (-40) (n_{(0,), up}) @ (n_{(0,), dn})\n"
     ]
    }
   ],
   "source": [
    "commute_list1 = [h1,h2_origin,h1,h1,h1]\n",
    "temp_result = commute_list1[0]\n",
    "for i in range(1,len(commute_list1)):\n",
    "    temp_result = fhc.commutator(commute_list1[i],temp_result)\n",
    "print(fhc.simplify(temp_result))"
   ]
  },
  {
   "cell_type": "code",
   "execution_count": 6,
   "id": "066a25dd",
   "metadata": {},
   "outputs": [
    {
     "name": "stdout",
     "output_type": "stream",
     "text": [
      "(-32) (g_{(-1,), (0,), up}) @ (g_{(-1,), (0,), dn}) + (-24) (n_{(-1,), up}) @ (n_{(-1,), dn}) + (24) (n_{(-1,), up}) @ (n_{(0,), dn}) + (8) (n_{(-1,), up}) @ (Mn_{(0,), dn}) + (24) (n_{(0,), up}) @ (n_{(-1,), dn}) + (-24) (n_{(0,), up}) @ (n_{(0,), dn}) + (-8) (n_{(0,), up}) @ (Mn_{(0,), dn}) + (8) (n_{(-1,), dn}) @ (Mn_{(0,), up}) + (-8) (n_{(0,), dn}) @ (Mn_{(0,), up})\n"
     ]
    }
   ],
   "source": [
    "commute_list2 = [h1,h2,h1,h1,h1]\n",
    "temp_result = commute_list2[0]\n",
    "for i in range(1,len(commute_list2)):\n",
    "    temp_result = fhc.commutator(commute_list2[i],temp_result)\n",
    "print(fhc.simplify(temp_result))"
   ]
  },
  {
   "cell_type": "code",
   "execution_count": 7,
   "id": "cd64eaad",
   "metadata": {},
   "outputs": [
    {
     "name": "stdout",
     "output_type": "stream",
     "text": [
      "(-32) (g_{(1,), (2,), up}) @ (g_{(1,), (2,), dn}) + (-40) (n_{(1,), up}) @ (n_{(1,), dn}) + (32) (n_{(1,), up}) @ (n_{(2,), dn}) + (32) (n_{(2,), up}) @ (n_{(1,), dn}) + (-24) (n_{(2,), up}) @ (n_{(2,), dn})\n"
     ]
    }
   ],
   "source": [
    "h1_shift = fhc.SumOp([fhc.HoppingOp((1,), ( 2,), s, v) for s in [0, 1]])\n",
    "commute_list1 = [h1_shift,h2_origin,h1_shift,h1_shift,h1_shift]\n",
    "temp_result = commute_list1[0]\n",
    "for i in range(1,len(commute_list1)):\n",
    "    temp_result = fhc.commutator(commute_list1[i],temp_result)\n",
    "print(fhc.simplify(temp_result))"
   ]
  },
  {
   "cell_type": "code",
   "execution_count": 8,
   "id": "55cca4e1",
   "metadata": {},
   "outputs": [
    {
     "name": "stdout",
     "output_type": "stream",
     "text": [
      "(-32) (g_{(1,), (2,), up}) @ (g_{(1,), (2,), dn}) + (-24) (n_{(1,), up}) @ (n_{(1,), dn}) + (24) (n_{(1,), up}) @ (n_{(2,), dn}) + (-8) (n_{(1,), up}) @ (Mn_{(1,), dn}) + (24) (n_{(2,), up}) @ (n_{(1,), dn}) + (-24) (n_{(2,), up}) @ (n_{(2,), dn}) + (8) (n_{(2,), up}) @ (Mn_{(1,), dn}) + (-8) (n_{(1,), dn}) @ (Mn_{(1,), up}) + (8) (n_{(2,), dn}) @ (Mn_{(1,), up})\n"
     ]
    }
   ],
   "source": [
    "commute_list2 = [h1_shift,h2,h1_shift,h1_shift,h1_shift]\n",
    "temp_result = commute_list2[0]\n",
    "for i in range(1,len(commute_list2)):\n",
    "    temp_result = fhc.commutator(commute_list2[i],temp_result)\n",
    "print(fhc.simplify(temp_result))"
   ]
  },
  {
   "cell_type": "code",
   "execution_count": 20,
   "id": "40dce9df",
   "metadata": {},
   "outputs": [
    {
     "name": "stdout",
     "output_type": "stream",
     "text": [
      "err_bound: [2.6809447650447145, 17.50853678847553, 4.797982966781246, 0.8002940583523714, 0.12001862556075223]\n"
     ]
    }
   ],
   "source": [
    "print(\"err_bound:\", err_bound)"
   ]
  },
  {
   "cell_type": "code",
   "execution_count": 21,
   "id": "6ac81fc1",
   "metadata": {},
   "outputs": [
    {
     "name": "stdout",
     "output_type": "stream",
     "text": [
      "26.06384787779088\n"
     ]
    }
   ],
   "source": [
    "print(sum(err_bound_origin))"
   ]
  },
  {
   "cell_type": "code",
   "execution_count": 22,
   "id": "ec78f18a",
   "metadata": {},
   "outputs": [
    {
     "name": "stdout",
     "output_type": "stream",
     "text": [
      "25.907777204214618\n"
     ]
    }
   ],
   "source": [
    "print(sum(err_bound))"
   ]
  },
  {
   "cell_type": "code",
   "execution_count": 4,
   "id": "ed01eb71",
   "metadata": {},
   "outputs": [
    {
     "name": "stdout",
     "output_type": "stream",
     "text": [
      "1/24 * [H_0, [H_1, H_0]]\n",
      "[0.3333333333333333, 0, 0, 0, 0]\n",
      "1/12 * [H_1, [H_1, H_0]]\n",
      "[1.0, 0, 0, 0, 0]\n",
      "1/12 * [H_2, [H_1, H_0]]\n",
      "[1.0, 0.3333333333333333, 0, 0, 0]\n",
      "1/24 * [H_0, [H_2, H_0]]\n",
      "[1.0, 0.6666666666666666, 0, 0, 0]\n",
      "1/12 * [H_1, [H_2, H_0]]\n",
      "[1.0, 1.0, 0, 0, 0]\n",
      "1/12 * [H_2, [H_2, H_0]]\n",
      "[1.0, 1.0, 0.16666666666666666, 0, 0]\n",
      "1/24 * [H_1, [H_2, H_1]]\n",
      "[1.0, 1.3333333333333333, 0.16666666666666666, 0, 0]\n",
      "1/12 * [H_2, [H_2, H_1]]\n",
      "[1.0, 1.3333333333333333, 0.3333333333333333, 0, 0]\n"
     ]
    }
   ],
   "source": [
    "hlist = [h0,h1,h2]\n",
    "translatt = fhc.SubLattice([[2]])\n",
    "comm_tab2 = fhc.NestedCommutatorTable(hlist, 3, translatt)\n",
    "tab2 = comm_tab2.table(2)\n",
    "err_bound = 5 * [0]\n",
    "\"\"\"\n",
    "method = fhc.SplittingMethod.suzuki(len(hlist), 1)\n",
    "s = (method.num_layers + 1) // 2\n",
    "comm_bound_terms = fhc.commutator_bound(method, s)\n",
    "\"\"\"\n",
    "for term in comm_bound_terms:\n",
    "    num_int=0\n",
    "    for i in term.commidx:\n",
    "        if i==3:\n",
    "            num_int+=3\n",
    "        elif i==2:\n",
    "            num_int+=1\n",
    "    err_bound[num_int] += term.weight * tab2[term.commidx[0]][term.commidx[1]][term.commidx[2]].norm_bound()\n",
    "    print(term)\n",
    "    print(err_bound)"
   ]
  },
  {
   "cell_type": "code",
   "execution_count": 5,
   "id": "1a5aa5b5",
   "metadata": {},
   "outputs": [
    {
     "name": "stdout",
     "output_type": "stream",
     "text": [
      "<zero op>\n"
     ]
    }
   ],
   "source": [
    "print(tab2[1][1][0])"
   ]
  },
  {
   "cell_type": "markdown",
   "id": "e181d0a3",
   "metadata": {},
   "source": [
    "## The Hamiltonian for the 2D square lattice\n",
    "firstly,to construct the Hamiltonian terms"
   ]
  },
  {
   "cell_type": "code",
   "execution_count": 2,
   "id": "61c82753",
   "metadata": {},
   "outputs": [],
   "source": [
    "v=-1\n",
    "u=1\n",
    "translatt = fhc.SubLattice(np.array([[2, 0], [0, 2]]))\n",
    "plaqcoords = [( 0,  0), ( 1,  0), ( 1,  1), ( 0,  1)]\n",
    "plaqcshift = [(-1, -1), ( 0, -1), ( 0,  0), (-1,  0)]\n",
    "h0 = fhc.SumOp([fhc.HoppingOp(plaqcoords[i], plaqcoords[(i + 1) % 4], s, v) for s in [0, 1] for i in range(4)])\n",
    "h1 = fhc.SumOp([fhc.HoppingOp(plaqcshift[i], plaqcshift[(i + 1) % 4], s, v) for s in [0, 1] for i in range(4)])\n",
    "h2 = fhc.SumOp([fhc.ProductOp([fhc.ModifiedNumOp(plaqcoords[i], s, 1) for s in [0, 1]], u) for i in range(4)])\n",
    "hlist = [h0, h1, h2]\n",
    "h2_origin = fhc.SumOp([fhc.ProductOp([fhc.NumberOp(plaqcoords[i], s, 1) for s in [0, 1]], u) for i in range(4)])\n",
    "hlist_origin = [h0,h1,h2_origin]"
   ]
  },
  {
   "cell_type": "markdown",
   "id": "71124ba2",
   "metadata": {},
   "source": [
    "To compute the error bound for Modified Hamiltonian in 2nd order Suzuki"
   ]
  },
  {
   "cell_type": "code",
   "execution_count": null,
   "id": "5ab69abd",
   "metadata": {},
   "outputs": [],
   "source": [
    "comm_tab = fhc.NestedCommutatorTable(hlist, 3, translatt)\n",
    "\n",
    "tab2 = comm_tab.table(2)\n",
    "\n",
    "method = fhc.SplittingMethod.suzuki(len(hlist), 1)\n",
    "s = (method.num_layers + 1) // 2\n",
    "comm_bound_terms = fhc.commutator_bound_strang(len(hlist))\n",
    "err_bound = (method.order + 1) * [0]\n",
    "\n",
    "for term in comm_bound_terms:\n",
    "    num_int = sum(1 if i == len(hlist)-1 else 0 for i in term.commidx)\n",
    "    err_bound[num_int] += term.weight * tab2[term.commidx[0]][term.commidx[1]][term.commidx[2]].norm_bound()"
   ]
  },
  {
   "cell_type": "code",
   "execution_count": 3,
   "id": "a29228be",
   "metadata": {},
   "outputs": [
    {
     "name": "stdout",
     "output_type": "stream",
     "text": [
      "[2.9428090415820636, 4.884565568152499, 0.8707908118985986]\n"
     ]
    }
   ],
   "source": [
    "print(err_bound)"
   ]
  },
  {
   "cell_type": "markdown",
   "id": "edde4880",
   "metadata": {},
   "source": [
    "To compute the error bound for Original Hamiltonian in 2nd order Suzuki (Verify the paper)"
   ]
  },
  {
   "cell_type": "code",
   "execution_count": 5,
   "id": "8aaa25f8",
   "metadata": {},
   "outputs": [],
   "source": [
    "comm_tab_origin = fhc.NestedCommutatorTable(hlist_origin, 3, translatt)\n",
    "tab2_origin = comm_tab_origin.table(2)\n",
    "method = fhc.SplittingMethod.suzuki(len(hlist_origin), 1)\n",
    "s = (method.num_layers + 1) // 2\n",
    "comm_bound_terms_origin = fhc.commutator_bound_strang(len(hlist_origin))\n",
    "err_bound_origin = (method.order + 1) * [0]\n",
    "\n",
    "for term in comm_bound_terms_origin:\n",
    "    num_int = sum(1 if i == len(hlist)-1 else 0 for i in term.commidx)\n",
    "    err_bound_origin[num_int] += term.weight * tab2_origin[term.commidx[0]][term.commidx[1]][term.commidx[2]].norm_bound()"
   ]
  },
  {
   "cell_type": "markdown",
   "id": "bf05677b",
   "metadata": {},
   "source": [
    "Access to E.q.44, at Page 7. The result below satisfy: $r/4=c/6$"
   ]
  },
  {
   "cell_type": "code",
   "execution_count": 6,
   "id": "d855965e",
   "metadata": {},
   "outputs": [
    {
     "name": "stdout",
     "output_type": "stream",
     "text": [
      "[2.9428090415820636, 5.3925667105067046, 0.8707908118985986]\n"
     ]
    }
   ],
   "source": [
    "print(err_bound_origin)"
   ]
  },
  {
   "cell_type": "markdown",
   "id": "64ada6b2",
   "metadata": {},
   "source": [
    "Modified Hamiltonian for higher order Suzuki (To be computed)"
   ]
  },
  {
   "cell_type": "code",
   "execution_count": 4,
   "id": "b8e01e80",
   "metadata": {},
   "outputs": [],
   "source": [
    "comm_tab = fhc.NestedCommutatorTable(hlist, 5, translatt)\n",
    "tab4 = comm_tab.table(4)\n",
    "method = fhc.SplittingMethod.suzuki(len(hlist), 2)\n",
    "s = (method.num_layers + 1) // 2\n",
    "comm_bound_terms = fhc.commutator_bound(method, s)\n",
    "err_bound = (method.order + 1) * [0]\n",
    "for term in comm_bound_terms:\n",
    "    num_int = sum(1 if i == len(hlist)-1 else 0 for i in term.commidx)\n",
    "    err_bound[num_int] += term.weight * tab4[term.commidx[0]][term.commidx[1]][term.commidx[2]][term.commidx[3]][term.commidx[4]].norm_bound()"
   ]
  },
  {
   "cell_type": "code",
   "execution_count": 5,
   "id": "3765a76e",
   "metadata": {},
   "outputs": [
    {
     "name": "stdout",
     "output_type": "stream",
     "text": [
      "[8.594092836201444, 314.6822436989095, 48.86064864644625, 3.9068044102160666, 0.3175290107048813]\n"
     ]
    }
   ],
   "source": [
    "print(err_bound)"
   ]
  },
  {
   "cell_type": "markdown",
   "id": "edba095a",
   "metadata": {},
   "source": [
    "Original Hamiltonian for higher order Suzuki (To be computed)"
   ]
  },
  {
   "cell_type": "code",
   "execution_count": 4,
   "id": "cae16d62",
   "metadata": {},
   "outputs": [],
   "source": [
    "comm_tab_origin = fhc.NestedCommutatorTable(hlist_origin, 5, translatt)\n",
    "tab4_origin = comm_tab_origin.table(4)\n",
    "method = fhc.SplittingMethod.suzuki(len(hlist_origin), 2)\n",
    "s = (method.num_layers + 1) // 2\n",
    "comm_bound_terms_origin = fhc.commutator_bound(method, s)\n",
    "err_bound_origin = (method.order + 1) * [0]\n",
    "for term in comm_bound_terms_origin:\n",
    "    num_int = sum(1 if i == len(hlist_origin)-1 else 0 for i in term.commidx)\n",
    "    err_bound_origin[num_int] += term.weight * tab4_origin[term.commidx[0]][term.commidx[1]][term.commidx[2]][term.commidx[3]][term.commidx[4]].norm_bound()"
   ]
  },
  {
   "cell_type": "code",
   "execution_count": 5,
   "id": "22ce144d",
   "metadata": {},
   "outputs": [
    {
     "name": "stdout",
     "output_type": "stream",
     "text": [
      "[8.594092836201444, 368.65698470191654, 57.37811329514797, 4.284967417220382, 0.3175290107048814]\n"
     ]
    }
   ],
   "source": [
    "print(err_bound_origin)"
   ]
  },
  {
   "cell_type": "markdown",
   "id": "933f5ab8",
   "metadata": {},
   "source": [
    "## The Hamiltonian of 2D triangle lattice\n",
    "Firstly, construct the hopping terms and useful variables."
   ]
  },
  {
   "cell_type": "code",
   "execution_count": 2,
   "id": "22f73c12",
   "metadata": {},
   "outputs": [],
   "source": [
    "from fractions import Fraction\n",
    "v = -1\n",
    "u = 1\n",
    "translatt = fhc.SubLattice(np.array([[3, 0, -3], [0, 3, -3]]).T)\n",
    "hexcoords = [( 2, -1, -1),\n",
    "            ( 1,  1, -2),\n",
    "            (-1,  2, -1),\n",
    "            (-2,  1,  1),\n",
    "            (-1, -1,  2),\n",
    "            ( 1, -2,  1)]\n",
    "hk = [fhc.SumOp([fhc.HoppingOp(( 0,  0,  0), hexcoords[i], s, v) for s in [0, 1]] +\n",
    "                [fhc.HoppingOp(( 0,  0,  0), hexcoords[(i + 1) % 6], s, v) for s in [0, 1]] +\n",
    "                [fhc.HoppingOp(hexcoords[i], hexcoords[(i + 1) % 6], s, v) for s in [0, 1]]) for i in range(0, 6, 2)]\n",
    "hu_origin = fhc.SumOp([fhc.ProductOp([fhc.NumberOp(( 0,  0,  0), s, 1) for s in [0, 1]], u)] +\n",
    "                [fhc.ProductOp([fhc.NumberOp(hexcoords[i], s, 1) for s in [0, 1]], Fraction(u, 3)) for i in range(6)])\n",
    "hu = fhc.SumOp([fhc.ProductOp([fhc.ModifiedNumOp(( 0,  0,  0), s, 1) for s in [0, 1]], u)] +\n",
    "                [fhc.ProductOp([fhc.ModifiedNumOp(hexcoords[i], s, 1) for s in [0, 1]], Fraction(u, 3)) for i in range(6)])\n",
    "hlist = hk + [hu]\n",
    "hlist_origin = hk + [hu_origin]\n",
    "comm_tab = fhc.NestedCommutatorTable(hlist, 5, translatt)\n",
    "tab2 = comm_tab.table(2)\n",
    "tab4 = comm_tab.table(4)\n",
    "comm_tab_origin = fhc.NestedCommutatorTable(hlist_origin, 5, translatt)\n",
    "tab2_origin = comm_tab_origin.table(2)\n",
    "tab4_origin = comm_tab_origin.table(4)"
   ]
  },
  {
   "cell_type": "code",
   "execution_count": 3,
   "id": "9e5bb5ca",
   "metadata": {},
   "outputs": [
    {
     "name": "stdout",
     "output_type": "stream",
     "text": [
      "________________________________________________________________________________\n",
      "Method: Strang\n",
      "Splitting method of order 2 for 4 terms using 7 layers,\n",
      "  indices: [0, 1, 2, 3, 2, 1, 0]\n",
      "  coeffs:  [0.5, 0.5, 0.5, 1.0, 0.5, 0.5, 0.5]\n",
      "bound specialized for second-order Suzuki method:\n",
      "1/24 * [H_0, [H_1, H_0]]\n",
      "1/12 * [H_1, [H_1, H_0]]\n",
      "1/12 * [H_2, [H_1, H_0]]\n",
      "1/12 * [H_3, [H_1, H_0]]\n",
      "1/24 * [H_0, [H_2, H_0]]\n",
      "1/12 * [H_1, [H_2, H_0]]\n",
      "1/12 * [H_2, [H_2, H_0]]\n",
      "1/12 * [H_3, [H_2, H_0]]\n",
      "1/24 * [H_0, [H_3, H_0]]\n",
      "1/12 * [H_1, [H_3, H_0]]\n",
      "1/12 * [H_2, [H_3, H_0]]\n",
      "1/12 * [H_3, [H_3, H_0]]\n",
      "1/24 * [H_1, [H_2, H_1]]\n",
      "1/12 * [H_2, [H_2, H_1]]\n",
      "1/12 * [H_3, [H_2, H_1]]\n",
      "1/24 * [H_1, [H_3, H_1]]\n",
      "1/12 * [H_2, [H_3, H_1]]\n",
      "1/12 * [H_3, [H_3, H_1]]\n",
      "1/24 * [H_2, [H_3, H_2]]\n",
      "1/12 * [H_3, [H_3, H_2]]\n",
      "err_bound: [19.736055087812034, 9.182587779763468, 0.9772838841927127]\n",
      "________________________________________________________________________________\n",
      "Method: Suzuki4\n",
      "Splitting method of order 4 for 4 terms using 31 layers,\n",
      "  indices: [0, 1, 2, 3, 2, 1, 0, 1, 2, 3, 2, 1, 0, 1, 2, 3, 2, 1, 0, 1, 2, 3, 2, 1, 0, 1, 2, 3, 2, 1, 0]\n",
      "  coeffs:  [0.20724538589718786, 0.20724538589718786, 0.20724538589718786, 0.4144907717943757, 0.20724538589718786, 0.20724538589718786, 0.4144907717943757, 0.20724538589718786, 0.20724538589718786, 0.4144907717943757, 0.20724538589718786, 0.20724538589718786, -0.12173615769156357, -0.3289815435887514, -0.3289815435887514, -0.6579630871775028, -0.3289815435887514, -0.3289815435887514, -0.12173615769156357, 0.20724538589718786, 0.20724538589718786, 0.4144907717943757, 0.20724538589718786, 0.20724538589718786, 0.4144907717943757, 0.20724538589718786, 0.20724538589718786, 0.4144907717943757, 0.20724538589718786, 0.20724538589718786, 0.20724538589718786]\n",
      "s: 16\n",
      "0.0047013343101698826 * [H_0, [H_0, [H_0, [H_1, H_0]]]]\n",
      "0.015024679162295492 * [H_1, [H_0, [H_0, [H_1, H_0]]]]\n",
      "0.015024679162295492 * [H_2, [H_0, [H_0, [H_1, H_0]]]]\n",
      "0.009689668290122168 * [H_3, [H_0, [H_0, [H_1, H_0]]]]\n",
      "0.004638910081589789 * [H_0, [H_1, [H_0, [H_1, H_0]]]]\n",
      "0.023863964287831548 * [H_1, [H_1, [H_0, [H_1, H_0]]]]\n",
      "0.029806758494076466 * [H_2, [H_1, [H_0, [H_1, H_0]]]]\n",
      "0.017328153057109538 * [H_3, [H_1, [H_0, [H_1, H_0]]]]\n",
      "0.004638910081589789 * [H_0, [H_2, [H_0, [H_1, H_0]]]]\n",
      "0.017921170081586616 * [H_1, [H_2, [H_0, [H_1, H_0]]]]\n",
      "0.023863964287831548 * [H_2, [H_2, [H_0, [H_1, H_0]]]]\n",
      "0.017328153057109538 * [H_3, [H_2, [H_0, [H_1, H_0]]]]\n",
      "0.00463891008158979 * [H_0, [H_3, [H_0, [H_1, H_0]]]]\n",
      "0.017921170081586616 * [H_1, [H_3, [H_0, [H_1, H_0]]]]\n",
      "0.017921170081586616 * [H_2, [H_3, [H_0, [H_1, H_0]]]]\n",
      "0.017328153057109538 * [H_3, [H_3, [H_0, [H_1, H_0]]]]\n",
      "0.005703818762629348 * [H_0, [H_0, [H_1, [H_1, H_0]]]]\n",
      "0.01609303163559428 * [H_1, [H_0, [H_1, [H_1, H_0]]]]\n",
      "0.01609303163559428 * [H_2, [H_0, [H_1, [H_1, H_0]]]]\n",
      "0.009726162358456834 * [H_3, [H_0, [H_1, [H_1, H_0]]]]\n",
      "0.007372056645952207 * [H_0, [H_1, [H_1, [H_1, H_0]]]]\n",
      "0.031531591405407254 * [H_1, [H_1, [H_1, [H_1, H_0]]]]\n",
      "0.04201066931754655 * [H_2, [H_1, [H_1, [H_1, H_0]]]]\n",
      "0.025536151919088066 * [H_3, [H_1, [H_1, [H_1, H_0]]]]\n",
      "0.006981607136757575 * [H_0, [H_2, [H_1, [H_1, H_0]]]]\n",
      "0.02321548047008704 * [H_1, [H_2, [H_1, [H_1, H_0]]]]\n",
      "0.036837522801094105 * [H_2, [H_2, [H_1, [H_1, H_0]]]]\n",
      "0.0328419388765259 * [H_3, [H_2, [H_1, [H_1, H_0]]]]\n",
      "0.006981607136757577 * [H_0, [H_3, [H_1, [H_1, H_0]]]]\n",
      "0.023215480470087025 * [H_1, [H_3, [H_1, [H_1, H_0]]]]\n",
      "0.023215480470087025 * [H_2, [H_3, [H_1, [H_1, H_0]]]]\n",
      "0.0328419388765259 * [H_3, [H_3, [H_1, [H_1, H_0]]]]\n",
      "0.00570381876262935 * [H_0, [H_0, [H_2, [H_1, H_0]]]]\n",
      "0.01609303163559428 * [H_1, [H_0, [H_2, [H_1, H_0]]]]\n",
      "0.01609303163559428 * [H_2, [H_0, [H_2, [H_1, H_0]]]]\n",
      "0.009726162358456835 * [H_3, [H_0, [H_2, [H_1, H_0]]]]\n",
      "0.008152955664341469 * [H_0, [H_1, [H_2, [H_1, H_0]]]]\n",
      "0.030348621870636912 * [H_1, [H_1, [H_2, [H_1, H_0]]]]\n",
      "0.03483460807693657 * [H_2, [H_1, [H_2, [H_1, H_0]]]]\n",
      "0.019436425463225913 * [H_3, [H_1, [H_2, [H_1, H_0]]]]\n",
      "0.008152955664341469 * [H_0, [H_2, [H_2, [H_1, H_0]]]]\n",
      "0.025862635664337257 * [H_1, [H_2, [H_2, [H_1, H_0]]]]\n",
      "0.033589198666803356 * [H_2, [H_2, [H_2, [H_1, H_0]]]]\n",
      "0.02794827292223948 * [H_3, [H_2, [H_2, [H_1, H_0]]]]\n",
      "0.00815295566434147 * [H_0, [H_3, [H_2, [H_1, H_0]]]]\n",
      "0.02586263566433723 * [H_1, [H_3, [H_2, [H_1, H_0]]]]\n",
      "0.02586263566433723 * [H_2, [H_3, [H_2, [H_1, H_0]]]]\n",
      "0.03646012038125303 * [H_3, [H_3, [H_2, [H_1, H_0]]]]\n",
      "0.005703818762629349 * [H_0, [H_0, [H_3, [H_1, H_0]]]]\n",
      "0.01609303163559427 * [H_1, [H_0, [H_3, [H_1, H_0]]]]\n",
      "0.01609303163559427 * [H_2, [H_0, [H_3, [H_1, H_0]]]]\n",
      "0.009726162358456835 * [H_3, [H_0, [H_3, [H_1, H_0]]]]\n",
      "0.00815295566434147 * [H_0, [H_1, [H_3, [H_1, H_0]]]]\n",
      "0.030348621870636906 * [H_1, [H_1, [H_3, [H_1, H_0]]]]\n",
      "0.034834608076936585 * [H_2, [H_1, [H_3, [H_1, H_0]]]]\n",
      "0.019436425463225913 * [H_3, [H_1, [H_3, [H_1, H_0]]]]\n",
      "0.00815295566434147 * [H_0, [H_2, [H_3, [H_1, H_0]]]]\n",
      "0.02586263566433723 * [H_1, [H_2, [H_3, [H_1, H_0]]]]\n",
      "0.030348621870636906 * [H_2, [H_2, [H_3, [H_1, H_0]]]]\n",
      "0.019436425463225913 * [H_3, [H_2, [H_3, [H_1, H_0]]]]\n",
      "0.008152955664341472 * [H_0, [H_3, [H_3, [H_1, H_0]]]]\n",
      "0.02586263566433723 * [H_1, [H_3, [H_3, [H_1, H_0]]]]\n",
      "0.02586263566433723 * [H_2, [H_3, [H_3, [H_1, H_0]]]]\n",
      "0.030785555408577317 * [H_3, [H_3, [H_3, [H_1, H_0]]]]\n",
      "0.0047013343101698826 * [H_0, [H_0, [H_0, [H_2, H_0]]]]\n",
      "0.015024679162295492 * [H_1, [H_0, [H_0, [H_2, H_0]]]]\n",
      "0.015024679162295492 * [H_2, [H_0, [H_0, [H_2, H_0]]]]\n",
      "0.009689668290122168 * [H_3, [H_0, [H_0, [H_2, H_0]]]]\n",
      "0.004638910081589789 * [H_0, [H_1, [H_0, [H_2, H_0]]]]\n",
      "0.023863964287831548 * [H_1, [H_1, [H_0, [H_2, H_0]]]]\n",
      "0.029806758494076466 * [H_2, [H_1, [H_0, [H_2, H_0]]]]\n",
      "0.017328153057109538 * [H_3, [H_1, [H_0, [H_2, H_0]]]]\n",
      "0.004638910081589789 * [H_0, [H_2, [H_0, [H_2, H_0]]]]\n",
      "0.017921170081586616 * [H_1, [H_2, [H_0, [H_2, H_0]]]]\n",
      "0.023863964287831548 * [H_2, [H_2, [H_0, [H_2, H_0]]]]\n",
      "0.017328153057109538 * [H_3, [H_2, [H_0, [H_2, H_0]]]]\n",
      "0.00463891008158979 * [H_0, [H_3, [H_0, [H_2, H_0]]]]\n",
      "0.017921170081586616 * [H_1, [H_3, [H_0, [H_2, H_0]]]]\n",
      "0.017921170081586616 * [H_2, [H_3, [H_0, [H_2, H_0]]]]\n",
      "0.017328153057109538 * [H_3, [H_3, [H_0, [H_2, H_0]]]]\n",
      "0.00570381876262935 * [H_0, [H_0, [H_1, [H_2, H_0]]]]\n",
      "0.01609303163559428 * [H_1, [H_0, [H_1, [H_2, H_0]]]]\n",
      "0.01609303163559428 * [H_2, [H_0, [H_1, [H_2, H_0]]]]\n",
      "0.009726162358456835 * [H_3, [H_0, [H_1, [H_2, H_0]]]]\n",
      "0.006981607136757575 * [H_0, [H_1, [H_1, [H_2, H_0]]]]\n",
      "0.030551593963358527 * [H_1, [H_1, [H_1, [H_2, H_0]]]]\n",
      "0.04073783474360184 * [H_2, [H_1, [H_1, [H_2, H_0]]]]\n",
      "0.02433009141751236 * [H_3, [H_1, [H_1, [H_2, H_0]]]]\n",
      "0.0058102586091736816 * [H_0, [H_2, [H_1, [H_2, H_0]]]]\n",
      "0.02056832527583683 * [H_1, [H_2, [H_1, [H_2, H_0]]]]\n",
      "0.03360469334305195 * [H_2, [H_2, [H_1, [H_2, H_0]]]]\n",
      "0.029223757371798786 * [H_3, [H_2, [H_1, [H_2, H_0]]]]\n",
      "0.005810258609173684 * [H_0, [H_3, [H_1, [H_2, H_0]]]]\n",
      "0.020568325275836817 * [H_1, [H_3, [H_1, [H_2, H_0]]]]\n",
      "0.020568325275836817 * [H_2, [H_3, [H_1, [H_2, H_0]]]]\n",
      "0.029223757371798786 * [H_3, [H_3, [H_1, [H_2, H_0]]]]\n",
      "0.005703818762629348 * [H_0, [H_0, [H_2, [H_2, H_0]]]]\n",
      "0.01609303163559428 * [H_1, [H_0, [H_2, [H_2, H_0]]]]\n",
      "0.01609303163559428 * [H_2, [H_0, [H_2, [H_2, H_0]]]]\n",
      "0.009726162358456834 * [H_3, [H_0, [H_2, [H_2, H_0]]]]\n",
      "0.008152955664341469 * [H_0, [H_1, [H_2, [H_2, H_0]]]]\n",
      "0.030348621870636916 * [H_1, [H_1, [H_2, [H_2, H_0]]]]\n",
      "0.03483460807693658 * [H_2, [H_1, [H_2, [H_2, H_0]]]]\n",
      "0.019436425463225913 * [H_3, [H_1, [H_2, [H_2, H_0]]]]\n",
      "0.007372056645952207 * [H_0, [H_2, [H_2, [H_2, H_0]]]]\n",
      "0.02409786553483711 * [H_1, [H_2, [H_2, [H_2, H_0]]]]\n",
      "0.031531591405407254 * [H_2, [H_2, [H_2, [H_2, H_0]]]]\n",
      "0.025536151919088066 * [H_3, [H_2, [H_2, [H_2, H_0]]]]\n",
      "0.006981607136757577 * [H_0, [H_3, [H_2, [H_2, H_0]]]]\n",
      "0.023215480470087025 * [H_1, [H_3, [H_2, [H_2, H_0]]]]\n",
      "0.023215480470087025 * [H_2, [H_3, [H_2, [H_2, H_0]]]]\n",
      "0.0328419388765259 * [H_3, [H_3, [H_2, [H_2, H_0]]]]\n",
      "0.005703818762629349 * [H_0, [H_0, [H_3, [H_2, H_0]]]]\n",
      "0.01609303163559427 * [H_1, [H_0, [H_3, [H_2, H_0]]]]\n",
      "0.01609303163559427 * [H_2, [H_0, [H_3, [H_2, H_0]]]]\n",
      "0.009726162358456835 * [H_3, [H_0, [H_3, [H_2, H_0]]]]\n",
      "0.00815295566434147 * [H_0, [H_1, [H_3, [H_2, H_0]]]]\n",
      "0.030348621870636906 * [H_1, [H_1, [H_3, [H_2, H_0]]]]\n"
     ]
    },
    {
     "name": "stdout",
     "output_type": "stream",
     "text": [
      "0.034834608076936585 * [H_2, [H_1, [H_3, [H_2, H_0]]]]\n",
      "0.019436425463225913 * [H_3, [H_1, [H_3, [H_2, H_0]]]]\n",
      "0.00815295566434147 * [H_0, [H_2, [H_3, [H_2, H_0]]]]\n",
      "0.02586263566433723 * [H_1, [H_2, [H_3, [H_2, H_0]]]]\n",
      "0.030348621870636906 * [H_2, [H_2, [H_3, [H_2, H_0]]]]\n",
      "0.019436425463225913 * [H_3, [H_2, [H_3, [H_2, H_0]]]]\n",
      "0.008152955664341472 * [H_0, [H_3, [H_3, [H_2, H_0]]]]\n",
      "0.02586263566433723 * [H_1, [H_3, [H_3, [H_2, H_0]]]]\n",
      "0.02586263566433723 * [H_2, [H_3, [H_3, [H_2, H_0]]]]\n",
      "0.030785555408577317 * [H_3, [H_3, [H_3, [H_2, H_0]]]]\n",
      "0.004701334310169882 * [H_0, [H_0, [H_0, [H_3, H_0]]]]\n",
      "0.015024679162295492 * [H_1, [H_0, [H_0, [H_3, H_0]]]]\n",
      "0.015024679162295492 * [H_2, [H_0, [H_0, [H_3, H_0]]]]\n",
      "0.009689668290122168 * [H_3, [H_0, [H_0, [H_3, H_0]]]]\n",
      "0.00463891008158979 * [H_0, [H_1, [H_0, [H_3, H_0]]]]\n",
      "0.023863964287831545 * [H_1, [H_1, [H_0, [H_3, H_0]]]]\n",
      "0.029806758494076466 * [H_2, [H_1, [H_0, [H_3, H_0]]]]\n",
      "0.017328153057109535 * [H_3, [H_1, [H_0, [H_3, H_0]]]]\n",
      "0.00463891008158979 * [H_0, [H_2, [H_0, [H_3, H_0]]]]\n",
      "0.017921170081586616 * [H_1, [H_2, [H_0, [H_3, H_0]]]]\n",
      "0.023863964287831545 * [H_2, [H_2, [H_0, [H_3, H_0]]]]\n",
      "0.017328153057109535 * [H_3, [H_2, [H_0, [H_3, H_0]]]]\n",
      "0.00463891008158979 * [H_0, [H_3, [H_0, [H_3, H_0]]]]\n",
      "0.017921170081586616 * [H_1, [H_3, [H_0, [H_3, H_0]]]]\n",
      "0.017921170081586616 * [H_2, [H_3, [H_0, [H_3, H_0]]]]\n",
      "0.017328153057109535 * [H_3, [H_3, [H_0, [H_3, H_0]]]]\n",
      "0.00570381876262935 * [H_0, [H_0, [H_1, [H_3, H_0]]]]\n",
      "0.016093031635594276 * [H_1, [H_0, [H_1, [H_3, H_0]]]]\n",
      "0.016093031635594276 * [H_2, [H_0, [H_1, [H_3, H_0]]]]\n",
      "0.009726162358456835 * [H_3, [H_0, [H_1, [H_3, H_0]]]]\n",
      "0.006981607136757576 * [H_0, [H_1, [H_1, [H_3, H_0]]]]\n",
      "0.030551593963358527 * [H_1, [H_1, [H_1, [H_3, H_0]]]]\n",
      "0.04073783474360185 * [H_2, [H_1, [H_1, [H_3, H_0]]]]\n",
      "0.02433009141751236 * [H_3, [H_1, [H_1, [H_3, H_0]]]]\n",
      "0.0058102586091736816 * [H_0, [H_2, [H_1, [H_3, H_0]]]]\n",
      "0.02056832527583683 * [H_1, [H_2, [H_1, [H_3, H_0]]]]\n",
      "0.03360469334305196 * [H_2, [H_2, [H_1, [H_3, H_0]]]]\n",
      "0.02922375737179879 * [H_3, [H_2, [H_1, [H_3, H_0]]]]\n",
      "0.005810258609173684 * [H_0, [H_3, [H_1, [H_3, H_0]]]]\n",
      "0.020568325275836814 * [H_1, [H_3, [H_1, [H_3, H_0]]]]\n",
      "0.020568325275836814 * [H_2, [H_3, [H_1, [H_3, H_0]]]]\n",
      "0.02922375737179879 * [H_3, [H_3, [H_1, [H_3, H_0]]]]\n",
      "0.00570381876262935 * [H_0, [H_0, [H_2, [H_3, H_0]]]]\n",
      "0.016093031635594276 * [H_1, [H_0, [H_2, [H_3, H_0]]]]\n",
      "0.016093031635594276 * [H_2, [H_0, [H_2, [H_3, H_0]]]]\n",
      "0.009726162358456835 * [H_3, [H_0, [H_2, [H_3, H_0]]]]\n",
      "0.008152955664341469 * [H_0, [H_1, [H_2, [H_3, H_0]]]]\n",
      "0.030348621870636916 * [H_1, [H_1, [H_2, [H_3, H_0]]]]\n",
      "0.03483460807693658 * [H_2, [H_1, [H_2, [H_3, H_0]]]]\n",
      "0.019436425463225913 * [H_3, [H_1, [H_2, [H_3, H_0]]]]\n",
      "0.006981607136757576 * [H_0, [H_2, [H_2, [H_3, H_0]]]]\n",
      "0.023215480470087042 * [H_1, [H_2, [H_2, [H_3, H_0]]]]\n",
      "0.030551593963358527 * [H_2, [H_2, [H_2, [H_3, H_0]]]]\n",
      "0.02433009141751236 * [H_3, [H_2, [H_2, [H_3, H_0]]]]\n",
      "0.005810258609173684 * [H_0, [H_3, [H_2, [H_3, H_0]]]]\n",
      "0.020568325275836814 * [H_1, [H_3, [H_2, [H_3, H_0]]]]\n",
      "0.020568325275836814 * [H_2, [H_3, [H_2, [H_3, H_0]]]]\n",
      "0.02922375737179879 * [H_3, [H_3, [H_2, [H_3, H_0]]]]\n",
      "0.005703818762629349 * [H_0, [H_0, [H_3, [H_3, H_0]]]]\n",
      "0.01609303163559427 * [H_1, [H_0, [H_3, [H_3, H_0]]]]\n",
      "0.01609303163559427 * [H_2, [H_0, [H_3, [H_3, H_0]]]]\n",
      "0.009726162358456835 * [H_3, [H_0, [H_3, [H_3, H_0]]]]\n",
      "0.00815295566434147 * [H_0, [H_1, [H_3, [H_3, H_0]]]]\n",
      "0.030348621870636906 * [H_1, [H_1, [H_3, [H_3, H_0]]]]\n",
      "0.034834608076936585 * [H_2, [H_1, [H_3, [H_3, H_0]]]]\n",
      "0.019436425463225913 * [H_3, [H_1, [H_3, [H_3, H_0]]]]\n",
      "0.00815295566434147 * [H_0, [H_2, [H_3, [H_3, H_0]]]]\n",
      "0.02586263566433723 * [H_1, [H_2, [H_3, [H_3, H_0]]]]\n",
      "0.030348621870636906 * [H_2, [H_2, [H_3, [H_3, H_0]]]]\n",
      "0.019436425463225913 * [H_3, [H_2, [H_3, [H_3, H_0]]]]\n",
      "0.00737205664595221 * [H_0, [H_3, [H_3, [H_3, H_0]]]]\n",
      "0.024097865534837094 * [H_1, [H_3, [H_3, [H_3, H_0]]]]\n",
      "0.024097865534837094 * [H_2, [H_3, [H_3, [H_3, H_0]]]]\n",
      "0.02837343440542591 * [H_3, [H_3, [H_3, [H_3, H_0]]]]\n",
      "0.0043104392773895385 * [H_0, [H_0, [H_0, [H_2, H_1]]]]\n",
      "0.014149150388498292 * [H_1, [H_0, [H_0, [H_2, H_1]]]]\n",
      "0.014149150388498292 * [H_2, [H_0, [H_0, [H_2, H_1]]]]\n",
      "0.009656128868425824 * [H_3, [H_0, [H_0, [H_2, H_1]]]]\n",
      "0.0034675615540058977 * [H_0, [H_1, [H_0, [H_2, H_1]]]]\n",
      "0.02117724155400166 * [H_1, [H_1, [H_0, [H_2, H_1]]]]\n",
      "0.02708046822066691 * [H_2, [H_1, [H_0, [H_2, H_1]]]]\n",
      "0.016491847443666083 * [H_3, [H_1, [H_0, [H_2, H_1]]]]\n",
      "0.0034675615540058977 * [H_0, [H_2, [H_0, [H_2, H_1]]]]\n",
      "0.015274014887336403 * [H_1, [H_2, [H_0, [H_2, H_1]]]]\n",
      "0.02117724155400166 * [H_2, [H_2, [H_0, [H_2, H_1]]]]\n",
      "0.016491847443666083 * [H_3, [H_2, [H_0, [H_2, H_1]]]]\n",
      "0.0034675615540058972 * [H_0, [H_3, [H_0, [H_2, H_1]]]]\n",
      "0.015274014887336406 * [H_1, [H_3, [H_0, [H_2, H_1]]]]\n",
      "0.015274014887336406 * [H_2, [H_3, [H_0, [H_2, H_1]]]]\n",
      "0.016491847443666083 * [H_3, [H_3, [H_0, [H_2, H_1]]]]\n",
      "0.00570381876262935 * [H_0, [H_0, [H_1, [H_2, H_1]]]]\n",
      "0.016093031635594276 * [H_1, [H_0, [H_1, [H_2, H_1]]]]\n",
      "0.016093031635594276 * [H_2, [H_0, [H_1, [H_2, H_1]]]]\n",
      "0.010496866451826757 * [H_3, [H_0, [H_1, [H_2, H_1]]]]\n",
      "0.0062007081183683135 * [H_0, [H_1, [H_1, [H_2, H_1]]]]\n",
      "0.028985922257517845 * [H_1, [H_1, [H_1, [H_2, H_1]]]]\n",
      "0.039667972262378774 * [H_2, [H_1, [H_1, [H_2, H_1]]]]\n",
      "0.025592731066437707 * [H_3, [H_1, [H_1, [H_2, H_1]]]]\n",
      "0.004638910081589788 * [H_0, [H_2, [H_1, [H_2, H_1]]]]\n",
      "0.01792117008158662 * [H_1, [H_2, [H_1, [H_2, H_1]]]]\n",
      "0.03184767055167613 * [H_2, [H_2, [H_1, [H_2, H_1]]]]\n",
      "0.03147026813183503 * [H_3, [H_2, [H_1, [H_2, H_1]]]]\n",
      "0.004638910081589791 * [H_0, [H_3, [H_1, [H_2, H_1]]]]\n",
      "0.01792117008158662 * [H_1, [H_3, [H_1, [H_2, H_1]]]]\n",
      "0.01792117008158662 * [H_2, [H_3, [H_1, [H_2, H_1]]]]\n",
      "0.03147026813183503 * [H_3, [H_3, [H_1, [H_2, H_1]]]]\n",
      "0.00570381876262935 * [H_0, [H_0, [H_2, [H_2, H_1]]]]\n",
      "0.01609303163559428 * [H_1, [H_0, [H_2, [H_2, H_1]]]]\n",
      "0.01609303163559428 * [H_2, [H_0, [H_2, [H_2, H_1]]]]\n",
      "0.009726162358456835 * [H_3, [H_0, [H_2, [H_2, H_1]]]]\n",
      "0.008152955664341469 * [H_0, [H_1, [H_2, [H_2, H_1]]]]\n",
      "0.030348621870636926 * [H_1, [H_1, [H_2, [H_2, H_1]]]]\n",
      "0.034834608076936585 * [H_2, [H_1, [H_2, [H_2, H_1]]]]\n",
      "0.019436425463225913 * [H_3, [H_1, [H_2, [H_2, H_1]]]]\n",
      "0.007372056645952207 * [H_0, [H_2, [H_2, [H_2, H_1]]]]\n",
      "0.024097865534837122 * [H_1, [H_2, [H_2, [H_2, H_1]]]]\n",
      "0.032023526960962695 * [H_2, [H_2, [H_2, [H_2, H_1]]]]\n",
      "0.027982984896231276 * [H_3, [H_2, [H_2, [H_2, H_1]]]]\n",
      "0.006981607136757577 * [H_0, [H_3, [H_2, [H_2, H_1]]]]\n",
      "0.023215480470087025 * [H_1, [H_3, [H_2, [H_2, H_1]]]]\n",
      "0.023215480470087025 * [H_2, [H_3, [H_2, [H_2, H_1]]]]\n",
      "0.03773560483081236 * [H_3, [H_3, [H_2, [H_2, H_1]]]]\n",
      "0.00570381876262935 * [H_0, [H_0, [H_3, [H_2, H_1]]]]\n",
      "0.016093031635594272 * [H_1, [H_0, [H_3, [H_2, H_1]]]]\n",
      "0.016093031635594272 * [H_2, [H_0, [H_3, [H_2, H_1]]]]\n",
      "0.009726162358456835 * [H_3, [H_0, [H_3, [H_2, H_1]]]]\n",
      "0.008152955664341472 * [H_0, [H_1, [H_3, [H_2, H_1]]]]\n",
      "0.03034862187063691 * [H_1, [H_1, [H_3, [H_2, H_1]]]]\n",
      "0.034834608076936585 * [H_2, [H_1, [H_3, [H_2, H_1]]]]\n",
      "0.019436425463225913 * [H_3, [H_1, [H_3, [H_2, H_1]]]]\n",
      "0.008152955664341472 * [H_0, [H_2, [H_3, [H_2, H_1]]]]\n",
      "0.02586263566433723 * [H_1, [H_2, [H_3, [H_2, H_1]]]]\n",
      "0.03034862187063691 * [H_2, [H_2, [H_3, [H_2, H_1]]]]\n",
      "0.019436425463225913 * [H_3, [H_2, [H_3, [H_2, H_1]]]]\n",
      "0.008152955664341474 * [H_0, [H_3, [H_3, [H_2, H_1]]]]\n",
      "0.02586263566433723 * [H_1, [H_3, [H_3, [H_2, H_1]]]]\n",
      "0.02586263566433723 * [H_2, [H_3, [H_3, [H_2, H_1]]]]\n",
      "0.03404799937810161 * [H_3, [H_3, [H_3, [H_2, H_1]]]]\n",
      "0.0043104392773895385 * [H_0, [H_0, [H_0, [H_3, H_1]]]]\n",
      "0.014149150388498295 * [H_1, [H_0, [H_0, [H_3, H_1]]]]\n",
      "0.014149150388498295 * [H_2, [H_0, [H_0, [H_3, H_1]]]]\n",
      "0.009656128868425823 * [H_3, [H_0, [H_0, [H_3, H_1]]]]\n",
      "0.0034675615540058972 * [H_0, [H_1, [H_0, [H_3, H_1]]]]\n",
      "0.021177241554001656 * [H_1, [H_1, [H_0, [H_3, H_1]]]]\n",
      "0.027080468220666908 * [H_2, [H_1, [H_0, [H_3, H_1]]]]\n",
      "0.016491847443666083 * [H_3, [H_1, [H_0, [H_3, H_1]]]]\n",
      "0.0034675615540058972 * [H_0, [H_2, [H_0, [H_3, H_1]]]]\n",
      "0.015274014887336403 * [H_1, [H_2, [H_0, [H_3, H_1]]]]\n",
      "0.021177241554001656 * [H_2, [H_2, [H_0, [H_3, H_1]]]]\n",
      "0.016491847443666083 * [H_3, [H_2, [H_0, [H_3, H_1]]]]\n"
     ]
    },
    {
     "name": "stdout",
     "output_type": "stream",
     "text": [
      "0.0034675615540058972 * [H_0, [H_3, [H_0, [H_3, H_1]]]]\n",
      "0.015274014887336403 * [H_1, [H_3, [H_0, [H_3, H_1]]]]\n",
      "0.015274014887336403 * [H_2, [H_3, [H_0, [H_3, H_1]]]]\n",
      "0.016491847443666083 * [H_3, [H_3, [H_0, [H_3, H_1]]]]\n",
      "0.005703818762629349 * [H_0, [H_0, [H_1, [H_3, H_1]]]]\n",
      "0.016093031635594276 * [H_1, [H_0, [H_1, [H_3, H_1]]]]\n",
      "0.016093031635594276 * [H_2, [H_0, [H_1, [H_3, H_1]]]]\n",
      "0.010496866451826755 * [H_3, [H_0, [H_1, [H_3, H_1]]]]\n",
      "0.006200708118368314 * [H_0, [H_1, [H_1, [H_3, H_1]]]]\n",
      "0.028985922257517838 * [H_1, [H_1, [H_1, [H_3, H_1]]]]\n",
      "0.03966797226237877 * [H_2, [H_1, [H_1, [H_3, H_1]]]]\n",
      "0.02559273106643771 * [H_3, [H_1, [H_1, [H_3, H_1]]]]\n",
      "0.004638910081589789 * [H_0, [H_2, [H_1, [H_3, H_1]]]]\n",
      "0.017921170081586616 * [H_1, [H_2, [H_1, [H_3, H_1]]]]\n",
      "0.031847670551676116 * [H_2, [H_2, [H_1, [H_3, H_1]]]]\n",
      "0.03147026813183503 * [H_3, [H_2, [H_1, [H_3, H_1]]]]\n",
      "0.00463891008158979 * [H_0, [H_3, [H_1, [H_3, H_1]]]]\n",
      "0.017921170081586616 * [H_1, [H_3, [H_1, [H_3, H_1]]]]\n",
      "0.017921170081586616 * [H_2, [H_3, [H_1, [H_3, H_1]]]]\n",
      "0.03147026813183503 * [H_3, [H_3, [H_1, [H_3, H_1]]]]\n",
      "0.00570381876262935 * [H_0, [H_0, [H_2, [H_3, H_1]]]]\n",
      "0.016093031635594276 * [H_1, [H_0, [H_2, [H_3, H_1]]]]\n",
      "0.016093031635594276 * [H_2, [H_0, [H_2, [H_3, H_1]]]]\n",
      "0.009726162358456835 * [H_3, [H_0, [H_2, [H_3, H_1]]]]\n",
      "0.00815295566434147 * [H_0, [H_1, [H_2, [H_3, H_1]]]]\n",
      "0.03034862187063692 * [H_1, [H_1, [H_2, [H_3, H_1]]]]\n",
      "0.03483460807693658 * [H_2, [H_1, [H_2, [H_3, H_1]]]]\n",
      "0.019436425463225913 * [H_3, [H_1, [H_2, [H_3, H_1]]]]\n",
      "0.0069816071367575765 * [H_0, [H_2, [H_2, [H_3, H_1]]]]\n",
      "0.023215480470087042 * [H_1, [H_2, [H_2, [H_3, H_1]]]]\n",
      "0.031043529518913964 * [H_2, [H_2, [H_2, [H_3, H_1]]]]\n",
      "0.026776924394655573 * [H_3, [H_2, [H_2, [H_3, H_1]]]]\n",
      "0.005810258609173685 * [H_0, [H_3, [H_2, [H_3, H_1]]]]\n",
      "0.020568325275836814 * [H_1, [H_3, [H_2, [H_3, H_1]]]]\n",
      "0.020568325275836814 * [H_2, [H_3, [H_2, [H_3, H_1]]]]\n",
      "0.03411742332608524 * [H_3, [H_3, [H_2, [H_3, H_1]]]]\n",
      "0.00570381876262935 * [H_0, [H_0, [H_3, [H_3, H_1]]]]\n",
      "0.016093031635594272 * [H_1, [H_0, [H_3, [H_3, H_1]]]]\n",
      "0.016093031635594272 * [H_2, [H_0, [H_3, [H_3, H_1]]]]\n",
      "0.009726162358456835 * [H_3, [H_0, [H_3, [H_3, H_1]]]]\n",
      "0.008152955664341472 * [H_0, [H_1, [H_3, [H_3, H_1]]]]\n",
      "0.03034862187063691 * [H_1, [H_1, [H_3, [H_3, H_1]]]]\n",
      "0.034834608076936585 * [H_2, [H_1, [H_3, [H_3, H_1]]]]\n",
      "0.019436425463225913 * [H_3, [H_1, [H_3, [H_3, H_1]]]]\n",
      "0.008152955664341472 * [H_0, [H_2, [H_3, [H_3, H_1]]]]\n",
      "0.02586263566433723 * [H_1, [H_2, [H_3, [H_3, H_1]]]]\n",
      "0.03034862187063691 * [H_2, [H_2, [H_3, [H_3, H_1]]]]\n",
      "0.019436425463225913 * [H_3, [H_2, [H_3, [H_3, H_1]]]]\n",
      "0.00737205664595221 * [H_0, [H_3, [H_3, [H_3, H_1]]]]\n",
      "0.024097865534837094 * [H_1, [H_3, [H_3, [H_3, H_1]]]]\n",
      "0.024097865534837094 * [H_2, [H_3, [H_3, [H_3, H_1]]]]\n",
      "0.0316358783749502 * [H_3, [H_3, [H_3, [H_3, H_1]]]]\n",
      "0.0043104392773895385 * [H_0, [H_0, [H_0, [H_3, H_2]]]]\n",
      "0.014149150388498295 * [H_1, [H_0, [H_0, [H_3, H_2]]]]\n",
      "0.014149150388498295 * [H_2, [H_0, [H_0, [H_3, H_2]]]]\n",
      "0.009656128868425823 * [H_3, [H_0, [H_0, [H_3, H_2]]]]\n",
      "0.0034675615540058972 * [H_0, [H_1, [H_0, [H_3, H_2]]]]\n",
      "0.021177241554001656 * [H_1, [H_1, [H_0, [H_3, H_2]]]]\n",
      "0.027080468220666908 * [H_2, [H_1, [H_0, [H_3, H_2]]]]\n",
      "0.016491847443666083 * [H_3, [H_1, [H_0, [H_3, H_2]]]]\n",
      "0.0034675615540058972 * [H_0, [H_2, [H_0, [H_3, H_2]]]]\n",
      "0.015274014887336403 * [H_1, [H_2, [H_0, [H_3, H_2]]]]\n",
      "0.021177241554001656 * [H_2, [H_2, [H_0, [H_3, H_2]]]]\n",
      "0.016491847443666083 * [H_3, [H_2, [H_0, [H_3, H_2]]]]\n",
      "0.0034675615540058972 * [H_0, [H_3, [H_0, [H_3, H_2]]]]\n",
      "0.015274014887336403 * [H_1, [H_3, [H_0, [H_3, H_2]]]]\n",
      "0.015274014887336403 * [H_2, [H_3, [H_0, [H_3, H_2]]]]\n",
      "0.016491847443666083 * [H_3, [H_3, [H_0, [H_3, H_2]]]]\n",
      "0.00570381876262935 * [H_0, [H_0, [H_1, [H_3, H_2]]]]\n",
      "0.016093031635594276 * [H_1, [H_0, [H_1, [H_3, H_2]]]]\n",
      "0.016093031635594276 * [H_2, [H_0, [H_1, [H_3, H_2]]]]\n",
      "0.011267570545196675 * [H_3, [H_0, [H_1, [H_3, H_2]]]]\n",
      "0.005810258609173683 * [H_0, [H_1, [H_1, [H_3, H_2]]]]\n",
      "0.028005924815469114 * [H_1, [H_1, [H_1, [H_3, H_2]]]]\n",
      "0.03839513768843404 * [H_2, [H_1, [H_1, [H_3, H_2]]]]\n",
      "0.02587149960425219 * [H_3, [H_1, [H_1, [H_3, H_2]]]]\n",
      "0.0034675615540058964 * [H_0, [H_2, [H_1, [H_3, H_2]]]]\n",
      "0.015274014887336403 * [H_1, [H_2, [H_1, [H_3, H_2]]]]\n",
      "0.02861484109363396 * [H_2, [H_2, [H_1, [H_3, H_2]]]]\n",
      "0.028823112937584824 * [H_3, [H_2, [H_1, [H_3, H_2]]]]\n",
      "0.0034675615540058972 * [H_0, [H_3, [H_1, [H_3, H_2]]]]\n",
      "0.015274014887336403 * [H_1, [H_3, [H_1, [H_3, H_2]]]]\n",
      "0.015274014887336403 * [H_2, [H_3, [H_1, [H_3, H_2]]]]\n",
      "0.028823112937584824 * [H_3, [H_3, [H_1, [H_3, H_2]]]]\n",
      "0.005703818762629349 * [H_0, [H_0, [H_2, [H_3, H_2]]]]\n",
      "0.016093031635594276 * [H_1, [H_0, [H_2, [H_3, H_2]]]]\n",
      "0.016093031635594276 * [H_2, [H_0, [H_2, [H_3, H_2]]]]\n",
      "0.010496866451826755 * [H_3, [H_0, [H_2, [H_3, H_2]]]]\n",
      "0.00815295566434147 * [H_0, [H_1, [H_2, [H_3, H_2]]]]\n",
      "0.030348621870636916 * [H_1, [H_1, [H_2, [H_3, H_2]]]]\n",
      "0.03483460807693659 * [H_2, [H_1, [H_2, [H_3, H_2]]]]\n",
      "0.02117815586707274 * [H_3, [H_1, [H_2, [H_3, H_2]]]]\n",
      "0.006200708118368314 * [H_0, [H_2, [H_2, [H_3, H_2]]]]\n",
      "0.0214507103405869 * [H_1, [H_2, [H_2, [H_3, H_2]]]]\n",
      "0.028985922257517838 * [H_2, [H_2, [H_2, [H_3, H_2]]]]\n",
      "0.02559273106643771 * [H_3, [H_2, [H_2, [H_3, H_2]]]]\n",
      "0.00463891008158979 * [H_0, [H_3, [H_2, [H_3, H_2]]]]\n",
      "0.017921170081586616 * [H_1, [H_3, [H_2, [H_3, H_2]]]]\n",
      "0.017921170081586616 * [H_2, [H_3, [H_2, [H_3, H_2]]]]\n",
      "0.03147026813183503 * [H_3, [H_3, [H_2, [H_3, H_2]]]]\n",
      "0.00570381876262935 * [H_0, [H_0, [H_3, [H_3, H_2]]]]\n",
      "0.016093031635594272 * [H_1, [H_0, [H_3, [H_3, H_2]]]]\n",
      "0.016093031635594272 * [H_2, [H_0, [H_3, [H_3, H_2]]]]\n",
      "0.009726162358456835 * [H_3, [H_0, [H_3, [H_3, H_2]]]]\n",
      "0.008152955664341472 * [H_0, [H_1, [H_3, [H_3, H_2]]]]\n",
      "0.03034862187063691 * [H_1, [H_1, [H_3, [H_3, H_2]]]]\n",
      "0.034834608076936585 * [H_2, [H_1, [H_3, [H_3, H_2]]]]\n",
      "0.019436425463225913 * [H_3, [H_1, [H_3, [H_3, H_2]]]]\n",
      "0.008152955664341472 * [H_0, [H_2, [H_3, [H_3, H_2]]]]\n",
      "0.02586263566433723 * [H_1, [H_2, [H_3, [H_3, H_2]]]]\n",
      "0.03034862187063691 * [H_2, [H_2, [H_3, [H_3, H_2]]]]\n",
      "0.019436425463225913 * [H_3, [H_2, [H_3, [H_3, H_2]]]]\n",
      "0.00737205664595221 * [H_0, [H_3, [H_3, [H_3, H_2]]]]\n",
      "0.024097865534837094 * [H_1, [H_3, [H_3, [H_3, H_2]]]]\n",
      "0.024097865534837094 * [H_2, [H_3, [H_3, [H_3, H_2]]]]\n",
      "0.0316358783749502 * [H_3, [H_3, [H_3, [H_3, H_2]]]]\n",
      "err_bound: [374.44362484122144, 1260.1746534293065, 159.9155427019704, 8.078422073170492, 0.361779224161062]\n"
     ]
    }
   ],
   "source": [
    "for methname in [\"Strang\", \"Suzuki4\"]:\n",
    "    print(80 * \"_\")\n",
    "    print(\"Method:\", methname)\n",
    "    if methname == \"Strang\":\n",
    "        # Strang splitting method\n",
    "        method = fhc.SplittingMethod.suzuki(len(hlist), 1)\n",
    "        print(method)\n",
    "        # tight bound\n",
    "        print(\"bound specialized for second-order Suzuki method:\")\n",
    "        comm_bound_terms = fhc.commutator_bound_strang(len(hlist))\n",
    "    elif methname == \"Suzuki4\":\n",
    "        method = fhc.SplittingMethod.suzuki(len(hlist), 2)\n",
    "        print(method)\n",
    "        s = (method.num_layers + 1) // 2\n",
    "        print(\"s:\", s)\n",
    "        comm_bound_terms = fhc.commutator_bound(method, s)\n",
    "    # sort by number of interaction terms\n",
    "    err_bound = (method.order + 1) * [0]\n",
    "    for term in comm_bound_terms:\n",
    "        print(term)\n",
    "        num_int = sum(1 if i == len(hlist)-1 else 0 for i in term.commidx)\n",
    "        if method.order == 2:\n",
    "            err_bound[num_int] += term.weight * tab2[term.commidx[0]][term.commidx[1]][term.commidx[2]].norm_bound()\n",
    "        elif method.order == 4:\n",
    "            err_bound[num_int] += term.weight * tab4[term.commidx[0]][term.commidx[1]][term.commidx[2]][term.commidx[3]][term.commidx[4]].norm_bound()\n",
    "    print(\"err_bound:\", err_bound)"
   ]
  },
  {
   "cell_type": "code",
   "execution_count": 4,
   "id": "0beb348f",
   "metadata": {},
   "outputs": [
    {
     "name": "stdout",
     "output_type": "stream",
     "text": [
      "________________________________________________________________________________\n",
      "Method: Strang\n",
      "Splitting method of order 2 for 4 terms using 7 layers,\n",
      "  indices: [0, 1, 2, 3, 2, 1, 0]\n",
      "  coeffs:  [0.5, 0.5, 0.5, 1.0, 0.5, 0.5, 0.5]\n",
      "bound specialized for second-order Suzuki method:\n",
      "1/24 * [H_0, [H_1, H_0]]\n",
      "1/12 * [H_1, [H_1, H_0]]\n",
      "1/12 * [H_2, [H_1, H_0]]\n",
      "1/12 * [H_3, [H_1, H_0]]\n",
      "1/24 * [H_0, [H_2, H_0]]\n",
      "1/12 * [H_1, [H_2, H_0]]\n",
      "1/12 * [H_2, [H_2, H_0]]\n",
      "1/12 * [H_3, [H_2, H_0]]\n",
      "1/24 * [H_0, [H_3, H_0]]\n",
      "1/12 * [H_1, [H_3, H_0]]\n",
      "1/12 * [H_2, [H_3, H_0]]\n",
      "1/12 * [H_3, [H_3, H_0]]\n",
      "1/24 * [H_1, [H_2, H_1]]\n",
      "1/12 * [H_2, [H_2, H_1]]\n",
      "1/12 * [H_3, [H_2, H_1]]\n",
      "1/24 * [H_1, [H_3, H_1]]\n",
      "1/12 * [H_2, [H_3, H_1]]\n",
      "1/12 * [H_3, [H_3, H_1]]\n",
      "1/24 * [H_2, [H_3, H_2]]\n",
      "1/12 * [H_3, [H_3, H_2]]\n",
      "err_bound: [19.736055087812034, 10.079711868705227, 0.9772838841927125]\n",
      "________________________________________________________________________________\n",
      "Method: Suzuki4\n",
      "Splitting method of order 4 for 4 terms using 31 layers,\n",
      "  indices: [0, 1, 2, 3, 2, 1, 0, 1, 2, 3, 2, 1, 0, 1, 2, 3, 2, 1, 0, 1, 2, 3, 2, 1, 0, 1, 2, 3, 2, 1, 0]\n",
      "  coeffs:  [0.20724538589718786, 0.20724538589718786, 0.20724538589718786, 0.4144907717943757, 0.20724538589718786, 0.20724538589718786, 0.4144907717943757, 0.20724538589718786, 0.20724538589718786, 0.4144907717943757, 0.20724538589718786, 0.20724538589718786, -0.12173615769156357, -0.3289815435887514, -0.3289815435887514, -0.6579630871775028, -0.3289815435887514, -0.3289815435887514, -0.12173615769156357, 0.20724538589718786, 0.20724538589718786, 0.4144907717943757, 0.20724538589718786, 0.20724538589718786, 0.4144907717943757, 0.20724538589718786, 0.20724538589718786, 0.4144907717943757, 0.20724538589718786, 0.20724538589718786, 0.20724538589718786]\n",
      "s: 16\n",
      "0.0047013343101698826 * [H_0, [H_0, [H_0, [H_1, H_0]]]]\n",
      "0.015024679162295492 * [H_1, [H_0, [H_0, [H_1, H_0]]]]\n",
      "0.015024679162295492 * [H_2, [H_0, [H_0, [H_1, H_0]]]]\n",
      "0.009689668290122168 * [H_3, [H_0, [H_0, [H_1, H_0]]]]\n",
      "0.004638910081589789 * [H_0, [H_1, [H_0, [H_1, H_0]]]]\n",
      "0.023863964287831548 * [H_1, [H_1, [H_0, [H_1, H_0]]]]\n",
      "0.029806758494076466 * [H_2, [H_1, [H_0, [H_1, H_0]]]]\n",
      "0.017328153057109538 * [H_3, [H_1, [H_0, [H_1, H_0]]]]\n",
      "0.004638910081589789 * [H_0, [H_2, [H_0, [H_1, H_0]]]]\n",
      "0.017921170081586616 * [H_1, [H_2, [H_0, [H_1, H_0]]]]\n",
      "0.023863964287831548 * [H_2, [H_2, [H_0, [H_1, H_0]]]]\n",
      "0.017328153057109538 * [H_3, [H_2, [H_0, [H_1, H_0]]]]\n",
      "0.00463891008158979 * [H_0, [H_3, [H_0, [H_1, H_0]]]]\n",
      "0.017921170081586616 * [H_1, [H_3, [H_0, [H_1, H_0]]]]\n",
      "0.017921170081586616 * [H_2, [H_3, [H_0, [H_1, H_0]]]]\n",
      "0.017328153057109538 * [H_3, [H_3, [H_0, [H_1, H_0]]]]\n",
      "0.005703818762629348 * [H_0, [H_0, [H_1, [H_1, H_0]]]]\n",
      "0.01609303163559428 * [H_1, [H_0, [H_1, [H_1, H_0]]]]\n",
      "0.01609303163559428 * [H_2, [H_0, [H_1, [H_1, H_0]]]]\n",
      "0.009726162358456834 * [H_3, [H_0, [H_1, [H_1, H_0]]]]\n",
      "0.007372056645952207 * [H_0, [H_1, [H_1, [H_1, H_0]]]]\n",
      "0.031531591405407254 * [H_1, [H_1, [H_1, [H_1, H_0]]]]\n",
      "0.04201066931754655 * [H_2, [H_1, [H_1, [H_1, H_0]]]]\n",
      "0.025536151919088066 * [H_3, [H_1, [H_1, [H_1, H_0]]]]\n",
      "0.006981607136757575 * [H_0, [H_2, [H_1, [H_1, H_0]]]]\n",
      "0.02321548047008704 * [H_1, [H_2, [H_1, [H_1, H_0]]]]\n",
      "0.036837522801094105 * [H_2, [H_2, [H_1, [H_1, H_0]]]]\n",
      "0.0328419388765259 * [H_3, [H_2, [H_1, [H_1, H_0]]]]\n",
      "0.006981607136757577 * [H_0, [H_3, [H_1, [H_1, H_0]]]]\n",
      "0.023215480470087025 * [H_1, [H_3, [H_1, [H_1, H_0]]]]\n",
      "0.023215480470087025 * [H_2, [H_3, [H_1, [H_1, H_0]]]]\n",
      "0.0328419388765259 * [H_3, [H_3, [H_1, [H_1, H_0]]]]\n",
      "0.00570381876262935 * [H_0, [H_0, [H_2, [H_1, H_0]]]]\n",
      "0.01609303163559428 * [H_1, [H_0, [H_2, [H_1, H_0]]]]\n",
      "0.01609303163559428 * [H_2, [H_0, [H_2, [H_1, H_0]]]]\n",
      "0.009726162358456835 * [H_3, [H_0, [H_2, [H_1, H_0]]]]\n",
      "0.008152955664341469 * [H_0, [H_1, [H_2, [H_1, H_0]]]]\n",
      "0.030348621870636912 * [H_1, [H_1, [H_2, [H_1, H_0]]]]\n",
      "0.03483460807693657 * [H_2, [H_1, [H_2, [H_1, H_0]]]]\n",
      "0.019436425463225913 * [H_3, [H_1, [H_2, [H_1, H_0]]]]\n",
      "0.008152955664341469 * [H_0, [H_2, [H_2, [H_1, H_0]]]]\n",
      "0.025862635664337257 * [H_1, [H_2, [H_2, [H_1, H_0]]]]\n",
      "0.033589198666803356 * [H_2, [H_2, [H_2, [H_1, H_0]]]]\n",
      "0.02794827292223948 * [H_3, [H_2, [H_2, [H_1, H_0]]]]\n",
      "0.00815295566434147 * [H_0, [H_3, [H_2, [H_1, H_0]]]]\n",
      "0.02586263566433723 * [H_1, [H_3, [H_2, [H_1, H_0]]]]\n",
      "0.02586263566433723 * [H_2, [H_3, [H_2, [H_1, H_0]]]]\n",
      "0.03646012038125303 * [H_3, [H_3, [H_2, [H_1, H_0]]]]\n",
      "0.005703818762629349 * [H_0, [H_0, [H_3, [H_1, H_0]]]]\n",
      "0.01609303163559427 * [H_1, [H_0, [H_3, [H_1, H_0]]]]\n",
      "0.01609303163559427 * [H_2, [H_0, [H_3, [H_1, H_0]]]]\n",
      "0.009726162358456835 * [H_3, [H_0, [H_3, [H_1, H_0]]]]\n",
      "0.00815295566434147 * [H_0, [H_1, [H_3, [H_1, H_0]]]]\n",
      "0.030348621870636906 * [H_1, [H_1, [H_3, [H_1, H_0]]]]\n",
      "0.034834608076936585 * [H_2, [H_1, [H_3, [H_1, H_0]]]]\n",
      "0.019436425463225913 * [H_3, [H_1, [H_3, [H_1, H_0]]]]\n",
      "0.00815295566434147 * [H_0, [H_2, [H_3, [H_1, H_0]]]]\n",
      "0.02586263566433723 * [H_1, [H_2, [H_3, [H_1, H_0]]]]\n",
      "0.030348621870636906 * [H_2, [H_2, [H_3, [H_1, H_0]]]]\n",
      "0.019436425463225913 * [H_3, [H_2, [H_3, [H_1, H_0]]]]\n",
      "0.008152955664341472 * [H_0, [H_3, [H_3, [H_1, H_0]]]]\n",
      "0.02586263566433723 * [H_1, [H_3, [H_3, [H_1, H_0]]]]\n",
      "0.02586263566433723 * [H_2, [H_3, [H_3, [H_1, H_0]]]]\n",
      "0.030785555408577317 * [H_3, [H_3, [H_3, [H_1, H_0]]]]\n",
      "0.0047013343101698826 * [H_0, [H_0, [H_0, [H_2, H_0]]]]\n",
      "0.015024679162295492 * [H_1, [H_0, [H_0, [H_2, H_0]]]]\n",
      "0.015024679162295492 * [H_2, [H_0, [H_0, [H_2, H_0]]]]\n",
      "0.009689668290122168 * [H_3, [H_0, [H_0, [H_2, H_0]]]]\n",
      "0.004638910081589789 * [H_0, [H_1, [H_0, [H_2, H_0]]]]\n",
      "0.023863964287831548 * [H_1, [H_1, [H_0, [H_2, H_0]]]]\n",
      "0.029806758494076466 * [H_2, [H_1, [H_0, [H_2, H_0]]]]\n",
      "0.017328153057109538 * [H_3, [H_1, [H_0, [H_2, H_0]]]]\n",
      "0.004638910081589789 * [H_0, [H_2, [H_0, [H_2, H_0]]]]\n",
      "0.017921170081586616 * [H_1, [H_2, [H_0, [H_2, H_0]]]]\n",
      "0.023863964287831548 * [H_2, [H_2, [H_0, [H_2, H_0]]]]\n",
      "0.017328153057109538 * [H_3, [H_2, [H_0, [H_2, H_0]]]]\n",
      "0.00463891008158979 * [H_0, [H_3, [H_0, [H_2, H_0]]]]\n",
      "0.017921170081586616 * [H_1, [H_3, [H_0, [H_2, H_0]]]]\n",
      "0.017921170081586616 * [H_2, [H_3, [H_0, [H_2, H_0]]]]\n",
      "0.017328153057109538 * [H_3, [H_3, [H_0, [H_2, H_0]]]]\n",
      "0.00570381876262935 * [H_0, [H_0, [H_1, [H_2, H_0]]]]\n",
      "0.01609303163559428 * [H_1, [H_0, [H_1, [H_2, H_0]]]]\n",
      "0.01609303163559428 * [H_2, [H_0, [H_1, [H_2, H_0]]]]\n",
      "0.009726162358456835 * [H_3, [H_0, [H_1, [H_2, H_0]]]]\n",
      "0.006981607136757575 * [H_0, [H_1, [H_1, [H_2, H_0]]]]\n",
      "0.030551593963358527 * [H_1, [H_1, [H_1, [H_2, H_0]]]]\n",
      "0.04073783474360184 * [H_2, [H_1, [H_1, [H_2, H_0]]]]\n",
      "0.02433009141751236 * [H_3, [H_1, [H_1, [H_2, H_0]]]]\n",
      "0.0058102586091736816 * [H_0, [H_2, [H_1, [H_2, H_0]]]]\n",
      "0.02056832527583683 * [H_1, [H_2, [H_1, [H_2, H_0]]]]\n",
      "0.03360469334305195 * [H_2, [H_2, [H_1, [H_2, H_0]]]]\n",
      "0.029223757371798786 * [H_3, [H_2, [H_1, [H_2, H_0]]]]\n",
      "0.005810258609173684 * [H_0, [H_3, [H_1, [H_2, H_0]]]]\n",
      "0.020568325275836817 * [H_1, [H_3, [H_1, [H_2, H_0]]]]\n",
      "0.020568325275836817 * [H_2, [H_3, [H_1, [H_2, H_0]]]]\n",
      "0.029223757371798786 * [H_3, [H_3, [H_1, [H_2, H_0]]]]\n",
      "0.005703818762629348 * [H_0, [H_0, [H_2, [H_2, H_0]]]]\n",
      "0.01609303163559428 * [H_1, [H_0, [H_2, [H_2, H_0]]]]\n",
      "0.01609303163559428 * [H_2, [H_0, [H_2, [H_2, H_0]]]]\n",
      "0.009726162358456834 * [H_3, [H_0, [H_2, [H_2, H_0]]]]\n",
      "0.008152955664341469 * [H_0, [H_1, [H_2, [H_2, H_0]]]]\n",
      "0.030348621870636916 * [H_1, [H_1, [H_2, [H_2, H_0]]]]\n",
      "0.03483460807693658 * [H_2, [H_1, [H_2, [H_2, H_0]]]]\n",
      "0.019436425463225913 * [H_3, [H_1, [H_2, [H_2, H_0]]]]\n",
      "0.007372056645952207 * [H_0, [H_2, [H_2, [H_2, H_0]]]]\n",
      "0.02409786553483711 * [H_1, [H_2, [H_2, [H_2, H_0]]]]\n",
      "0.031531591405407254 * [H_2, [H_2, [H_2, [H_2, H_0]]]]\n",
      "0.025536151919088066 * [H_3, [H_2, [H_2, [H_2, H_0]]]]\n",
      "0.006981607136757577 * [H_0, [H_3, [H_2, [H_2, H_0]]]]\n",
      "0.023215480470087025 * [H_1, [H_3, [H_2, [H_2, H_0]]]]\n",
      "0.023215480470087025 * [H_2, [H_3, [H_2, [H_2, H_0]]]]\n",
      "0.0328419388765259 * [H_3, [H_3, [H_2, [H_2, H_0]]]]\n",
      "0.005703818762629349 * [H_0, [H_0, [H_3, [H_2, H_0]]]]\n",
      "0.01609303163559427 * [H_1, [H_0, [H_3, [H_2, H_0]]]]\n",
      "0.01609303163559427 * [H_2, [H_0, [H_3, [H_2, H_0]]]]\n",
      "0.009726162358456835 * [H_3, [H_0, [H_3, [H_2, H_0]]]]\n",
      "0.00815295566434147 * [H_0, [H_1, [H_3, [H_2, H_0]]]]\n",
      "0.030348621870636906 * [H_1, [H_1, [H_3, [H_2, H_0]]]]\n"
     ]
    },
    {
     "name": "stdout",
     "output_type": "stream",
     "text": [
      "0.034834608076936585 * [H_2, [H_1, [H_3, [H_2, H_0]]]]\n",
      "0.019436425463225913 * [H_3, [H_1, [H_3, [H_2, H_0]]]]\n",
      "0.00815295566434147 * [H_0, [H_2, [H_3, [H_2, H_0]]]]\n",
      "0.02586263566433723 * [H_1, [H_2, [H_3, [H_2, H_0]]]]\n",
      "0.030348621870636906 * [H_2, [H_2, [H_3, [H_2, H_0]]]]\n",
      "0.019436425463225913 * [H_3, [H_2, [H_3, [H_2, H_0]]]]\n",
      "0.008152955664341472 * [H_0, [H_3, [H_3, [H_2, H_0]]]]\n",
      "0.02586263566433723 * [H_1, [H_3, [H_3, [H_2, H_0]]]]\n",
      "0.02586263566433723 * [H_2, [H_3, [H_3, [H_2, H_0]]]]\n",
      "0.030785555408577317 * [H_3, [H_3, [H_3, [H_2, H_0]]]]\n",
      "0.004701334310169882 * [H_0, [H_0, [H_0, [H_3, H_0]]]]\n",
      "0.015024679162295492 * [H_1, [H_0, [H_0, [H_3, H_0]]]]\n",
      "0.015024679162295492 * [H_2, [H_0, [H_0, [H_3, H_0]]]]\n",
      "0.009689668290122168 * [H_3, [H_0, [H_0, [H_3, H_0]]]]\n",
      "0.00463891008158979 * [H_0, [H_1, [H_0, [H_3, H_0]]]]\n",
      "0.023863964287831545 * [H_1, [H_1, [H_0, [H_3, H_0]]]]\n",
      "0.029806758494076466 * [H_2, [H_1, [H_0, [H_3, H_0]]]]\n",
      "0.017328153057109535 * [H_3, [H_1, [H_0, [H_3, H_0]]]]\n",
      "0.00463891008158979 * [H_0, [H_2, [H_0, [H_3, H_0]]]]\n",
      "0.017921170081586616 * [H_1, [H_2, [H_0, [H_3, H_0]]]]\n",
      "0.023863964287831545 * [H_2, [H_2, [H_0, [H_3, H_0]]]]\n",
      "0.017328153057109535 * [H_3, [H_2, [H_0, [H_3, H_0]]]]\n",
      "0.00463891008158979 * [H_0, [H_3, [H_0, [H_3, H_0]]]]\n",
      "0.017921170081586616 * [H_1, [H_3, [H_0, [H_3, H_0]]]]\n",
      "0.017921170081586616 * [H_2, [H_3, [H_0, [H_3, H_0]]]]\n",
      "0.017328153057109535 * [H_3, [H_3, [H_0, [H_3, H_0]]]]\n",
      "0.00570381876262935 * [H_0, [H_0, [H_1, [H_3, H_0]]]]\n",
      "0.016093031635594276 * [H_1, [H_0, [H_1, [H_3, H_0]]]]\n",
      "0.016093031635594276 * [H_2, [H_0, [H_1, [H_3, H_0]]]]\n",
      "0.009726162358456835 * [H_3, [H_0, [H_1, [H_3, H_0]]]]\n",
      "0.006981607136757576 * [H_0, [H_1, [H_1, [H_3, H_0]]]]\n",
      "0.030551593963358527 * [H_1, [H_1, [H_1, [H_3, H_0]]]]\n",
      "0.04073783474360185 * [H_2, [H_1, [H_1, [H_3, H_0]]]]\n",
      "0.02433009141751236 * [H_3, [H_1, [H_1, [H_3, H_0]]]]\n",
      "0.0058102586091736816 * [H_0, [H_2, [H_1, [H_3, H_0]]]]\n",
      "0.02056832527583683 * [H_1, [H_2, [H_1, [H_3, H_0]]]]\n",
      "0.03360469334305196 * [H_2, [H_2, [H_1, [H_3, H_0]]]]\n",
      "0.02922375737179879 * [H_3, [H_2, [H_1, [H_3, H_0]]]]\n",
      "0.005810258609173684 * [H_0, [H_3, [H_1, [H_3, H_0]]]]\n",
      "0.020568325275836814 * [H_1, [H_3, [H_1, [H_3, H_0]]]]\n",
      "0.020568325275836814 * [H_2, [H_3, [H_1, [H_3, H_0]]]]\n",
      "0.02922375737179879 * [H_3, [H_3, [H_1, [H_3, H_0]]]]\n",
      "0.00570381876262935 * [H_0, [H_0, [H_2, [H_3, H_0]]]]\n",
      "0.016093031635594276 * [H_1, [H_0, [H_2, [H_3, H_0]]]]\n",
      "0.016093031635594276 * [H_2, [H_0, [H_2, [H_3, H_0]]]]\n",
      "0.009726162358456835 * [H_3, [H_0, [H_2, [H_3, H_0]]]]\n",
      "0.008152955664341469 * [H_0, [H_1, [H_2, [H_3, H_0]]]]\n",
      "0.030348621870636916 * [H_1, [H_1, [H_2, [H_3, H_0]]]]\n",
      "0.03483460807693658 * [H_2, [H_1, [H_2, [H_3, H_0]]]]\n",
      "0.019436425463225913 * [H_3, [H_1, [H_2, [H_3, H_0]]]]\n",
      "0.006981607136757576 * [H_0, [H_2, [H_2, [H_3, H_0]]]]\n",
      "0.023215480470087042 * [H_1, [H_2, [H_2, [H_3, H_0]]]]\n",
      "0.030551593963358527 * [H_2, [H_2, [H_2, [H_3, H_0]]]]\n",
      "0.02433009141751236 * [H_3, [H_2, [H_2, [H_3, H_0]]]]\n",
      "0.005810258609173684 * [H_0, [H_3, [H_2, [H_3, H_0]]]]\n",
      "0.020568325275836814 * [H_1, [H_3, [H_2, [H_3, H_0]]]]\n",
      "0.020568325275836814 * [H_2, [H_3, [H_2, [H_3, H_0]]]]\n",
      "0.02922375737179879 * [H_3, [H_3, [H_2, [H_3, H_0]]]]\n",
      "0.005703818762629349 * [H_0, [H_0, [H_3, [H_3, H_0]]]]\n",
      "0.01609303163559427 * [H_1, [H_0, [H_3, [H_3, H_0]]]]\n",
      "0.01609303163559427 * [H_2, [H_0, [H_3, [H_3, H_0]]]]\n",
      "0.009726162358456835 * [H_3, [H_0, [H_3, [H_3, H_0]]]]\n",
      "0.00815295566434147 * [H_0, [H_1, [H_3, [H_3, H_0]]]]\n",
      "0.030348621870636906 * [H_1, [H_1, [H_3, [H_3, H_0]]]]\n",
      "0.034834608076936585 * [H_2, [H_1, [H_3, [H_3, H_0]]]]\n",
      "0.019436425463225913 * [H_3, [H_1, [H_3, [H_3, H_0]]]]\n",
      "0.00815295566434147 * [H_0, [H_2, [H_3, [H_3, H_0]]]]\n",
      "0.02586263566433723 * [H_1, [H_2, [H_3, [H_3, H_0]]]]\n",
      "0.030348621870636906 * [H_2, [H_2, [H_3, [H_3, H_0]]]]\n",
      "0.019436425463225913 * [H_3, [H_2, [H_3, [H_3, H_0]]]]\n",
      "0.00737205664595221 * [H_0, [H_3, [H_3, [H_3, H_0]]]]\n",
      "0.024097865534837094 * [H_1, [H_3, [H_3, [H_3, H_0]]]]\n",
      "0.024097865534837094 * [H_2, [H_3, [H_3, [H_3, H_0]]]]\n",
      "0.02837343440542591 * [H_3, [H_3, [H_3, [H_3, H_0]]]]\n",
      "0.0043104392773895385 * [H_0, [H_0, [H_0, [H_2, H_1]]]]\n",
      "0.014149150388498292 * [H_1, [H_0, [H_0, [H_2, H_1]]]]\n",
      "0.014149150388498292 * [H_2, [H_0, [H_0, [H_2, H_1]]]]\n",
      "0.009656128868425824 * [H_3, [H_0, [H_0, [H_2, H_1]]]]\n",
      "0.0034675615540058977 * [H_0, [H_1, [H_0, [H_2, H_1]]]]\n",
      "0.02117724155400166 * [H_1, [H_1, [H_0, [H_2, H_1]]]]\n",
      "0.02708046822066691 * [H_2, [H_1, [H_0, [H_2, H_1]]]]\n",
      "0.016491847443666083 * [H_3, [H_1, [H_0, [H_2, H_1]]]]\n",
      "0.0034675615540058977 * [H_0, [H_2, [H_0, [H_2, H_1]]]]\n",
      "0.015274014887336403 * [H_1, [H_2, [H_0, [H_2, H_1]]]]\n",
      "0.02117724155400166 * [H_2, [H_2, [H_0, [H_2, H_1]]]]\n",
      "0.016491847443666083 * [H_3, [H_2, [H_0, [H_2, H_1]]]]\n",
      "0.0034675615540058972 * [H_0, [H_3, [H_0, [H_2, H_1]]]]\n",
      "0.015274014887336406 * [H_1, [H_3, [H_0, [H_2, H_1]]]]\n",
      "0.015274014887336406 * [H_2, [H_3, [H_0, [H_2, H_1]]]]\n",
      "0.016491847443666083 * [H_3, [H_3, [H_0, [H_2, H_1]]]]\n",
      "0.00570381876262935 * [H_0, [H_0, [H_1, [H_2, H_1]]]]\n",
      "0.016093031635594276 * [H_1, [H_0, [H_1, [H_2, H_1]]]]\n",
      "0.016093031635594276 * [H_2, [H_0, [H_1, [H_2, H_1]]]]\n",
      "0.010496866451826757 * [H_3, [H_0, [H_1, [H_2, H_1]]]]\n",
      "0.0062007081183683135 * [H_0, [H_1, [H_1, [H_2, H_1]]]]\n",
      "0.028985922257517845 * [H_1, [H_1, [H_1, [H_2, H_1]]]]\n",
      "0.039667972262378774 * [H_2, [H_1, [H_1, [H_2, H_1]]]]\n",
      "0.025592731066437707 * [H_3, [H_1, [H_1, [H_2, H_1]]]]\n",
      "0.004638910081589788 * [H_0, [H_2, [H_1, [H_2, H_1]]]]\n",
      "0.01792117008158662 * [H_1, [H_2, [H_1, [H_2, H_1]]]]\n",
      "0.03184767055167613 * [H_2, [H_2, [H_1, [H_2, H_1]]]]\n",
      "0.03147026813183503 * [H_3, [H_2, [H_1, [H_2, H_1]]]]\n",
      "0.004638910081589791 * [H_0, [H_3, [H_1, [H_2, H_1]]]]\n",
      "0.01792117008158662 * [H_1, [H_3, [H_1, [H_2, H_1]]]]\n",
      "0.01792117008158662 * [H_2, [H_3, [H_1, [H_2, H_1]]]]\n",
      "0.03147026813183503 * [H_3, [H_3, [H_1, [H_2, H_1]]]]\n",
      "0.00570381876262935 * [H_0, [H_0, [H_2, [H_2, H_1]]]]\n",
      "0.01609303163559428 * [H_1, [H_0, [H_2, [H_2, H_1]]]]\n",
      "0.01609303163559428 * [H_2, [H_0, [H_2, [H_2, H_1]]]]\n",
      "0.009726162358456835 * [H_3, [H_0, [H_2, [H_2, H_1]]]]\n",
      "0.008152955664341469 * [H_0, [H_1, [H_2, [H_2, H_1]]]]\n",
      "0.030348621870636926 * [H_1, [H_1, [H_2, [H_2, H_1]]]]\n",
      "0.034834608076936585 * [H_2, [H_1, [H_2, [H_2, H_1]]]]\n",
      "0.019436425463225913 * [H_3, [H_1, [H_2, [H_2, H_1]]]]\n",
      "0.007372056645952207 * [H_0, [H_2, [H_2, [H_2, H_1]]]]\n",
      "0.024097865534837122 * [H_1, [H_2, [H_2, [H_2, H_1]]]]\n",
      "0.032023526960962695 * [H_2, [H_2, [H_2, [H_2, H_1]]]]\n",
      "0.027982984896231276 * [H_3, [H_2, [H_2, [H_2, H_1]]]]\n",
      "0.006981607136757577 * [H_0, [H_3, [H_2, [H_2, H_1]]]]\n",
      "0.023215480470087025 * [H_1, [H_3, [H_2, [H_2, H_1]]]]\n",
      "0.023215480470087025 * [H_2, [H_3, [H_2, [H_2, H_1]]]]\n",
      "0.03773560483081236 * [H_3, [H_3, [H_2, [H_2, H_1]]]]\n",
      "0.00570381876262935 * [H_0, [H_0, [H_3, [H_2, H_1]]]]\n",
      "0.016093031635594272 * [H_1, [H_0, [H_3, [H_2, H_1]]]]\n",
      "0.016093031635594272 * [H_2, [H_0, [H_3, [H_2, H_1]]]]\n",
      "0.009726162358456835 * [H_3, [H_0, [H_3, [H_2, H_1]]]]\n",
      "0.008152955664341472 * [H_0, [H_1, [H_3, [H_2, H_1]]]]\n",
      "0.03034862187063691 * [H_1, [H_1, [H_3, [H_2, H_1]]]]\n",
      "0.034834608076936585 * [H_2, [H_1, [H_3, [H_2, H_1]]]]\n",
      "0.019436425463225913 * [H_3, [H_1, [H_3, [H_2, H_1]]]]\n",
      "0.008152955664341472 * [H_0, [H_2, [H_3, [H_2, H_1]]]]\n",
      "0.02586263566433723 * [H_1, [H_2, [H_3, [H_2, H_1]]]]\n",
      "0.03034862187063691 * [H_2, [H_2, [H_3, [H_2, H_1]]]]\n",
      "0.019436425463225913 * [H_3, [H_2, [H_3, [H_2, H_1]]]]\n",
      "0.008152955664341474 * [H_0, [H_3, [H_3, [H_2, H_1]]]]\n",
      "0.02586263566433723 * [H_1, [H_3, [H_3, [H_2, H_1]]]]\n",
      "0.02586263566433723 * [H_2, [H_3, [H_3, [H_2, H_1]]]]\n",
      "0.03404799937810161 * [H_3, [H_3, [H_3, [H_2, H_1]]]]\n",
      "0.0043104392773895385 * [H_0, [H_0, [H_0, [H_3, H_1]]]]\n",
      "0.014149150388498295 * [H_1, [H_0, [H_0, [H_3, H_1]]]]\n",
      "0.014149150388498295 * [H_2, [H_0, [H_0, [H_3, H_1]]]]\n",
      "0.009656128868425823 * [H_3, [H_0, [H_0, [H_3, H_1]]]]\n",
      "0.0034675615540058972 * [H_0, [H_1, [H_0, [H_3, H_1]]]]\n",
      "0.021177241554001656 * [H_1, [H_1, [H_0, [H_3, H_1]]]]\n",
      "0.027080468220666908 * [H_2, [H_1, [H_0, [H_3, H_1]]]]\n",
      "0.016491847443666083 * [H_3, [H_1, [H_0, [H_3, H_1]]]]\n",
      "0.0034675615540058972 * [H_0, [H_2, [H_0, [H_3, H_1]]]]\n",
      "0.015274014887336403 * [H_1, [H_2, [H_0, [H_3, H_1]]]]\n",
      "0.021177241554001656 * [H_2, [H_2, [H_0, [H_3, H_1]]]]\n",
      "0.016491847443666083 * [H_3, [H_2, [H_0, [H_3, H_1]]]]\n"
     ]
    },
    {
     "name": "stdout",
     "output_type": "stream",
     "text": [
      "0.0034675615540058972 * [H_0, [H_3, [H_0, [H_3, H_1]]]]\n",
      "0.015274014887336403 * [H_1, [H_3, [H_0, [H_3, H_1]]]]\n",
      "0.015274014887336403 * [H_2, [H_3, [H_0, [H_3, H_1]]]]\n",
      "0.016491847443666083 * [H_3, [H_3, [H_0, [H_3, H_1]]]]\n",
      "0.005703818762629349 * [H_0, [H_0, [H_1, [H_3, H_1]]]]\n",
      "0.016093031635594276 * [H_1, [H_0, [H_1, [H_3, H_1]]]]\n",
      "0.016093031635594276 * [H_2, [H_0, [H_1, [H_3, H_1]]]]\n",
      "0.010496866451826755 * [H_3, [H_0, [H_1, [H_3, H_1]]]]\n",
      "0.006200708118368314 * [H_0, [H_1, [H_1, [H_3, H_1]]]]\n",
      "0.028985922257517838 * [H_1, [H_1, [H_1, [H_3, H_1]]]]\n",
      "0.03966797226237877 * [H_2, [H_1, [H_1, [H_3, H_1]]]]\n",
      "0.02559273106643771 * [H_3, [H_1, [H_1, [H_3, H_1]]]]\n",
      "0.004638910081589789 * [H_0, [H_2, [H_1, [H_3, H_1]]]]\n",
      "0.017921170081586616 * [H_1, [H_2, [H_1, [H_3, H_1]]]]\n",
      "0.031847670551676116 * [H_2, [H_2, [H_1, [H_3, H_1]]]]\n",
      "0.03147026813183503 * [H_3, [H_2, [H_1, [H_3, H_1]]]]\n",
      "0.00463891008158979 * [H_0, [H_3, [H_1, [H_3, H_1]]]]\n",
      "0.017921170081586616 * [H_1, [H_3, [H_1, [H_3, H_1]]]]\n",
      "0.017921170081586616 * [H_2, [H_3, [H_1, [H_3, H_1]]]]\n",
      "0.03147026813183503 * [H_3, [H_3, [H_1, [H_3, H_1]]]]\n",
      "0.00570381876262935 * [H_0, [H_0, [H_2, [H_3, H_1]]]]\n",
      "0.016093031635594276 * [H_1, [H_0, [H_2, [H_3, H_1]]]]\n",
      "0.016093031635594276 * [H_2, [H_0, [H_2, [H_3, H_1]]]]\n",
      "0.009726162358456835 * [H_3, [H_0, [H_2, [H_3, H_1]]]]\n",
      "0.00815295566434147 * [H_0, [H_1, [H_2, [H_3, H_1]]]]\n",
      "0.03034862187063692 * [H_1, [H_1, [H_2, [H_3, H_1]]]]\n",
      "0.03483460807693658 * [H_2, [H_1, [H_2, [H_3, H_1]]]]\n",
      "0.019436425463225913 * [H_3, [H_1, [H_2, [H_3, H_1]]]]\n",
      "0.0069816071367575765 * [H_0, [H_2, [H_2, [H_3, H_1]]]]\n",
      "0.023215480470087042 * [H_1, [H_2, [H_2, [H_3, H_1]]]]\n",
      "0.031043529518913964 * [H_2, [H_2, [H_2, [H_3, H_1]]]]\n",
      "0.026776924394655573 * [H_3, [H_2, [H_2, [H_3, H_1]]]]\n",
      "0.005810258609173685 * [H_0, [H_3, [H_2, [H_3, H_1]]]]\n",
      "0.020568325275836814 * [H_1, [H_3, [H_2, [H_3, H_1]]]]\n",
      "0.020568325275836814 * [H_2, [H_3, [H_2, [H_3, H_1]]]]\n",
      "0.03411742332608524 * [H_3, [H_3, [H_2, [H_3, H_1]]]]\n",
      "0.00570381876262935 * [H_0, [H_0, [H_3, [H_3, H_1]]]]\n",
      "0.016093031635594272 * [H_1, [H_0, [H_3, [H_3, H_1]]]]\n",
      "0.016093031635594272 * [H_2, [H_0, [H_3, [H_3, H_1]]]]\n",
      "0.009726162358456835 * [H_3, [H_0, [H_3, [H_3, H_1]]]]\n",
      "0.008152955664341472 * [H_0, [H_1, [H_3, [H_3, H_1]]]]\n",
      "0.03034862187063691 * [H_1, [H_1, [H_3, [H_3, H_1]]]]\n",
      "0.034834608076936585 * [H_2, [H_1, [H_3, [H_3, H_1]]]]\n",
      "0.019436425463225913 * [H_3, [H_1, [H_3, [H_3, H_1]]]]\n",
      "0.008152955664341472 * [H_0, [H_2, [H_3, [H_3, H_1]]]]\n",
      "0.02586263566433723 * [H_1, [H_2, [H_3, [H_3, H_1]]]]\n",
      "0.03034862187063691 * [H_2, [H_2, [H_3, [H_3, H_1]]]]\n",
      "0.019436425463225913 * [H_3, [H_2, [H_3, [H_3, H_1]]]]\n",
      "0.00737205664595221 * [H_0, [H_3, [H_3, [H_3, H_1]]]]\n",
      "0.024097865534837094 * [H_1, [H_3, [H_3, [H_3, H_1]]]]\n",
      "0.024097865534837094 * [H_2, [H_3, [H_3, [H_3, H_1]]]]\n",
      "0.0316358783749502 * [H_3, [H_3, [H_3, [H_3, H_1]]]]\n",
      "0.0043104392773895385 * [H_0, [H_0, [H_0, [H_3, H_2]]]]\n",
      "0.014149150388498295 * [H_1, [H_0, [H_0, [H_3, H_2]]]]\n",
      "0.014149150388498295 * [H_2, [H_0, [H_0, [H_3, H_2]]]]\n",
      "0.009656128868425823 * [H_3, [H_0, [H_0, [H_3, H_2]]]]\n",
      "0.0034675615540058972 * [H_0, [H_1, [H_0, [H_3, H_2]]]]\n",
      "0.021177241554001656 * [H_1, [H_1, [H_0, [H_3, H_2]]]]\n",
      "0.027080468220666908 * [H_2, [H_1, [H_0, [H_3, H_2]]]]\n",
      "0.016491847443666083 * [H_3, [H_1, [H_0, [H_3, H_2]]]]\n",
      "0.0034675615540058972 * [H_0, [H_2, [H_0, [H_3, H_2]]]]\n",
      "0.015274014887336403 * [H_1, [H_2, [H_0, [H_3, H_2]]]]\n",
      "0.021177241554001656 * [H_2, [H_2, [H_0, [H_3, H_2]]]]\n",
      "0.016491847443666083 * [H_3, [H_2, [H_0, [H_3, H_2]]]]\n",
      "0.0034675615540058972 * [H_0, [H_3, [H_0, [H_3, H_2]]]]\n",
      "0.015274014887336403 * [H_1, [H_3, [H_0, [H_3, H_2]]]]\n",
      "0.015274014887336403 * [H_2, [H_3, [H_0, [H_3, H_2]]]]\n",
      "0.016491847443666083 * [H_3, [H_3, [H_0, [H_3, H_2]]]]\n",
      "0.00570381876262935 * [H_0, [H_0, [H_1, [H_3, H_2]]]]\n",
      "0.016093031635594276 * [H_1, [H_0, [H_1, [H_3, H_2]]]]\n",
      "0.016093031635594276 * [H_2, [H_0, [H_1, [H_3, H_2]]]]\n",
      "0.011267570545196675 * [H_3, [H_0, [H_1, [H_3, H_2]]]]\n",
      "0.005810258609173683 * [H_0, [H_1, [H_1, [H_3, H_2]]]]\n",
      "0.028005924815469114 * [H_1, [H_1, [H_1, [H_3, H_2]]]]\n",
      "0.03839513768843404 * [H_2, [H_1, [H_1, [H_3, H_2]]]]\n",
      "0.02587149960425219 * [H_3, [H_1, [H_1, [H_3, H_2]]]]\n",
      "0.0034675615540058964 * [H_0, [H_2, [H_1, [H_3, H_2]]]]\n",
      "0.015274014887336403 * [H_1, [H_2, [H_1, [H_3, H_2]]]]\n",
      "0.02861484109363396 * [H_2, [H_2, [H_1, [H_3, H_2]]]]\n",
      "0.028823112937584824 * [H_3, [H_2, [H_1, [H_3, H_2]]]]\n",
      "0.0034675615540058972 * [H_0, [H_3, [H_1, [H_3, H_2]]]]\n",
      "0.015274014887336403 * [H_1, [H_3, [H_1, [H_3, H_2]]]]\n",
      "0.015274014887336403 * [H_2, [H_3, [H_1, [H_3, H_2]]]]\n",
      "0.028823112937584824 * [H_3, [H_3, [H_1, [H_3, H_2]]]]\n",
      "0.005703818762629349 * [H_0, [H_0, [H_2, [H_3, H_2]]]]\n",
      "0.016093031635594276 * [H_1, [H_0, [H_2, [H_3, H_2]]]]\n",
      "0.016093031635594276 * [H_2, [H_0, [H_2, [H_3, H_2]]]]\n",
      "0.010496866451826755 * [H_3, [H_0, [H_2, [H_3, H_2]]]]\n",
      "0.00815295566434147 * [H_0, [H_1, [H_2, [H_3, H_2]]]]\n",
      "0.030348621870636916 * [H_1, [H_1, [H_2, [H_3, H_2]]]]\n",
      "0.03483460807693659 * [H_2, [H_1, [H_2, [H_3, H_2]]]]\n",
      "0.02117815586707274 * [H_3, [H_1, [H_2, [H_3, H_2]]]]\n",
      "0.006200708118368314 * [H_0, [H_2, [H_2, [H_3, H_2]]]]\n",
      "0.0214507103405869 * [H_1, [H_2, [H_2, [H_3, H_2]]]]\n",
      "0.028985922257517838 * [H_2, [H_2, [H_2, [H_3, H_2]]]]\n",
      "0.02559273106643771 * [H_3, [H_2, [H_2, [H_3, H_2]]]]\n",
      "0.00463891008158979 * [H_0, [H_3, [H_2, [H_3, H_2]]]]\n",
      "0.017921170081586616 * [H_1, [H_3, [H_2, [H_3, H_2]]]]\n",
      "0.017921170081586616 * [H_2, [H_3, [H_2, [H_3, H_2]]]]\n",
      "0.03147026813183503 * [H_3, [H_3, [H_2, [H_3, H_2]]]]\n",
      "0.00570381876262935 * [H_0, [H_0, [H_3, [H_3, H_2]]]]\n",
      "0.016093031635594272 * [H_1, [H_0, [H_3, [H_3, H_2]]]]\n",
      "0.016093031635594272 * [H_2, [H_0, [H_3, [H_3, H_2]]]]\n",
      "0.009726162358456835 * [H_3, [H_0, [H_3, [H_3, H_2]]]]\n",
      "0.008152955664341472 * [H_0, [H_1, [H_3, [H_3, H_2]]]]\n",
      "0.03034862187063691 * [H_1, [H_1, [H_3, [H_3, H_2]]]]\n",
      "0.034834608076936585 * [H_2, [H_1, [H_3, [H_3, H_2]]]]\n",
      "0.019436425463225913 * [H_3, [H_1, [H_3, [H_3, H_2]]]]\n",
      "0.008152955664341472 * [H_0, [H_2, [H_3, [H_3, H_2]]]]\n",
      "0.02586263566433723 * [H_1, [H_2, [H_3, [H_3, H_2]]]]\n",
      "0.03034862187063691 * [H_2, [H_2, [H_3, [H_3, H_2]]]]\n",
      "0.019436425463225913 * [H_3, [H_2, [H_3, [H_3, H_2]]]]\n",
      "0.00737205664595221 * [H_0, [H_3, [H_3, [H_3, H_2]]]]\n",
      "0.024097865534837094 * [H_1, [H_3, [H_3, [H_3, H_2]]]]\n",
      "0.024097865534837094 * [H_2, [H_3, [H_3, [H_3, H_2]]]]\n",
      "0.0316358783749502 * [H_3, [H_3, [H_3, [H_3, H_2]]]]\n",
      "err_bound: [374.44362484122144, 1481.7508844637773, 181.23187146103925, 8.956501403295373, 0.36177922416106767]\n"
     ]
    }
   ],
   "source": [
    "for methname in [\"Strang\", \"Suzuki4\"]:\n",
    "    print(80 * \"_\")\n",
    "    print(\"Method:\", methname)\n",
    "    if methname == \"Strang\":\n",
    "        # Strang splitting method\n",
    "        method = fhc.SplittingMethod.suzuki(len(hlist_origin), 1)\n",
    "        print(method)\n",
    "        # tight bound\n",
    "        print(\"bound specialized for second-order Suzuki method:\")\n",
    "        comm_bound_terms = fhc.commutator_bound_strang(len(hlist_origin))\n",
    "    elif methname == \"Suzuki4\":\n",
    "        method = fhc.SplittingMethod.suzuki(len(hlist_origin), 2)\n",
    "        print(method)\n",
    "        s = (method.num_layers + 1) // 2\n",
    "        print(\"s:\", s)\n",
    "        comm_bound_terms = fhc.commutator_bound(method, s)\n",
    "    # sort by number of interaction terms\n",
    "    err_bound = (method.order + 1) * [0]\n",
    "    for term in comm_bound_terms:\n",
    "        print(term)\n",
    "        num_int = sum(1 if i == len(hlist)-1 else 0 for i in term.commidx)\n",
    "        if method.order == 2:\n",
    "            err_bound[num_int] += term.weight * tab2_origin[term.commidx[0]][term.commidx[1]][term.commidx[2]].norm_bound()\n",
    "        elif method.order == 4:\n",
    "            err_bound[num_int] += term.weight * tab4_origin[term.commidx[0]][term.commidx[1]][term.commidx[2]][term.commidx[3]][term.commidx[4]].norm_bound()\n",
    "    print(\"err_bound:\", err_bound)"
   ]
  },
  {
   "cell_type": "markdown",
   "id": "f7d341e9",
   "metadata": {},
   "source": [
    "## 2D square lattice in H&V classification"
   ]
  },
  {
   "cell_type": "code",
   "execution_count": 4,
   "id": "49ff1f45",
   "metadata": {},
   "outputs": [],
   "source": [
    "v=-1\n",
    "u=1\n",
    "translatt = fhc.SubLattice(np.array([[2, 0], [0, 2]]))\n",
    "hlist = []\n",
    "ph_even = [[( 0,  0), ( 1,  0)],[(0, -1),(-1, -1)]]\n",
    "ph_odd = [[( 0,  0), (-1,  0)],[( 0,  1), ( 1,  1)]]\n",
    "pv_even = [[( 0,  0), (1,  0)],[(-1, -1), (-1,  0)]]\n",
    "pv_odd = [[( 0,  0), (-1,  0)],[(1,  0), ( 1,  1)]]\n",
    "plaqcoords = [( 0,  0), ( 1,  0), ( 1,  1), ( 0,  1)]\n",
    "bound_list = [ph_even, ph_odd, pv_even, pv_odd]\n",
    "for bound in bound_list:\n",
    "    hlist.append(fhc.SumOp([fhc.HoppingOp(bound[i][0], bound[i][1], s, v) for s in [0,1] for i in [0,1]]))\n",
    "h_inter = fhc.SumOp([fhc.ProductOp([fhc.ModifiedNumOp(plaqcoords[i], s, 1) for s in [0, 1]], u) for i in range(4)])\n",
    "hlist_origin = hlist.copy()\n",
    "hlist.append(h_inter)\n",
    "h_inter_origin = fhc.SumOp([fhc.ProductOp([fhc.NumberOp(plaqcoords[i], s, 1) for s in [0, 1]], u) for i in range(4)])\n",
    "hlist_origin.append(h_inter_origin)"
   ]
  },
  {
   "cell_type": "code",
   "execution_count": 5,
   "id": "da49699d",
   "metadata": {},
   "outputs": [],
   "source": [
    "comm_tab = fhc.NestedCommutatorTable(hlist, 3, translatt)\n",
    "\n",
    "tab2 = comm_tab.table(2)\n",
    "\n",
    "method = fhc.SplittingMethod.suzuki(len(hlist), 1)\n",
    "s = (method.num_layers + 1) // 2\n",
    "comm_bound_terms = fhc.commutator_bound_strang(len(hlist))\n",
    "err_bound = (method.order + 1) * [0]\n",
    "\n",
    "for term in comm_bound_terms:\n",
    "    num_int = sum(1 if i == len(hlist)-1 else 0 for i in term.commidx)\n",
    "    err_bound[num_int] += term.weight * tab2[term.commidx[0]][term.commidx[1]][term.commidx[2]].norm_bound()"
   ]
  },
  {
   "cell_type": "code",
   "execution_count": 6,
   "id": "9201186c",
   "metadata": {},
   "outputs": [
    {
     "name": "stdout",
     "output_type": "stream",
     "text": [
      "[16.232918688748597, 9.544519951451555, 1.2041241452319313]\n"
     ]
    }
   ],
   "source": [
    "print(err_bound)"
   ]
  },
  {
   "cell_type": "code",
   "execution_count": 7,
   "id": "e4613c34",
   "metadata": {},
   "outputs": [],
   "source": [
    "comm_tab_origin = fhc.NestedCommutatorTable(hlist_origin, 3, translatt)\n",
    "tab2_origin = comm_tab_origin.table(2)\n",
    "method = fhc.SplittingMethod.suzuki(len(hlist_origin), 1)\n",
    "s = (method.num_layers + 1) // 2\n",
    "comm_bound_terms_origin = fhc.commutator_bound_strang(len(hlist_origin))\n",
    "err_bound_origin = (method.order + 1) * [0]\n",
    "\n",
    "for term in comm_bound_terms_origin:\n",
    "    num_int = sum(1 if i == len(hlist)-1 else 0 for i in term.commidx)\n",
    "    err_bound_origin[num_int] += term.weight * tab2_origin[term.commidx[0]][term.commidx[1]][term.commidx[2]].norm_bound()"
   ]
  },
  {
   "cell_type": "code",
   "execution_count": 8,
   "id": "9d9434e7",
   "metadata": {},
   "outputs": [
    {
     "name": "stdout",
     "output_type": "stream",
     "text": [
      "[16.232918688748597, 9.78677964310814, 1.2041241452319313]\n"
     ]
    }
   ],
   "source": [
    "print(err_bound_origin)"
   ]
  },
  {
   "cell_type": "code",
   "execution_count": null,
   "id": "2891cf4e",
   "metadata": {},
   "outputs": [],
   "source": []
  }
 ],
 "metadata": {
  "kernelspec": {
   "display_name": "Python 3 (ipykernel)",
   "language": "python",
   "name": "python3"
  },
  "language_info": {
   "codemirror_mode": {
    "name": "ipython",
    "version": 3
   },
   "file_extension": ".py",
   "mimetype": "text/x-python",
   "name": "python",
   "nbconvert_exporter": "python",
   "pygments_lexer": "ipython3",
   "version": "3.11.5"
  }
 },
 "nbformat": 4,
 "nbformat_minor": 5
}
