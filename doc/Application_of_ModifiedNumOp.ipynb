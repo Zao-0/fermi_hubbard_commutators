{
 "cells": [
  {
   "cell_type": "markdown",
   "id": "28cca146",
   "metadata": {},
   "source": [
    "# Test for the Modified Number Operator\n",
    "## Construct the Hamiltonians for 1d lattice"
   ]
  },
  {
   "cell_type": "code",
   "execution_count": 1,
   "id": "6b251660",
   "metadata": {},
   "outputs": [],
   "source": [
    "import sys\n",
    "sys.path.append(\"../\")\n",
    "import fh_comm as fhc\n",
    "import numpy as np"
   ]
  },
  {
   "cell_type": "code",
   "execution_count": 2,
   "id": "b82e5240",
   "metadata": {},
   "outputs": [],
   "source": [
    "v = -1\n",
    "u = 1\n",
    "translatt = fhc.SubLattice(np.array([[2]]))\n",
    "h0 = fhc.SumOp([fhc.HoppingOp(( 0,), ( 1,), s, v) for s in [0, 1]])\n",
    "h1 = fhc.SumOp([fhc.HoppingOp((-1,), ( 0,), s, v) for s in [0, 1]])\n",
    "h2 = fhc.SumOp([fhc.ProductOp([fhc.ModifiedNumOp((x,), s, 1) for s in [0, 1]], u) for x in [0, 1]])\n",
    "h2_num = [[fhc.NumberOp((x,),s,1.) for s in [0,1]] for x in [0,1]]"
   ]
  },
  {
   "cell_type": "code",
   "execution_count": 3,
   "id": "cf39237b",
   "metadata": {},
   "outputs": [
    {
     "name": "stdout",
     "output_type": "stream",
     "text": [
      "1/24 * [H_0, [H_1, H_0]]\n",
      "1/12 * [H_1, [H_1, H_0]]\n",
      "1/12 * [H_2, [H_1, H_0]]\n",
      "1/24 * [H_0, [H_2, H_0]]\n",
      "1/12 * [H_1, [H_2, H_0]]\n",
      "1/12 * [H_2, [H_2, H_0]]\n",
      "1/24 * [H_1, [H_2, H_1]]\n",
      "1/12 * [H_2, [H_2, H_1]]\n"
     ]
    }
   ],
   "source": [
    "# evaluate bound for 3 Hamiltonian terms\n",
    "comm_bound_terms = fhc.commutator_bound_strang(3)\n",
    "for cbt in comm_bound_terms:\n",
    "    print(cbt)"
   ]
  },
  {
   "cell_type": "markdown",
   "id": "3a936a87",
   "metadata": {},
   "source": [
    "Notice: Because we just modified H_2, than we just need to compute the term with H_2,\n",
    "s.t. [H_2, [H_1, H_0]], [H_0, [H_2, H_0]], [H_1, [H_2, H_0]], [H_2, [H_2, H_0]], [H_1, [H_2, H_1]], [H_2, [H_2, H_1]]"
   ]
  },
  {
   "cell_type": "code",
   "execution_count": 4,
   "id": "58f4c5ba",
   "metadata": {},
   "outputs": [],
   "source": [
    "# results of the first level commutator\n",
    "result10 = fhc.commutator(h1,h0)\n",
    "result20 = fhc.commutator(h2,h0)\n",
    "result21 = fhc.commutator(h2,h1)"
   ]
  },
  {
   "cell_type": "code",
   "execution_count": 5,
   "id": "88eb4a0a",
   "metadata": {},
   "outputs": [],
   "source": [
    "# results of the 6 terms with H_2\n",
    "result = []\n",
    "result.append(fhc.commutator(h2,result10))\n",
    "result.append(fhc.commutator(h0,result20))\n",
    "result.append(fhc.commutator(h1,result20))\n",
    "result.append(fhc.commutator(h2,result20))\n",
    "result.append(fhc.commutator(h1,result21))\n",
    "result.append(fhc.commutator(h2,result21))\n",
    "for i in range(len(result)):\n",
    "    result[i] = fhc.simplify(result[i])"
   ]
  },
  {
   "cell_type": "code",
   "execution_count": 8,
   "id": "9948aa52",
   "metadata": {},
   "outputs": [],
   "source": [
    "# for convinience, we construct a function to compute the modified number operator by hand\n",
    "def theretical_h2_form(a: fhc.HamiltonianOp)->fhc.HamiltonianOp:\n",
    "    return fhc.SumOp([fhc.commutator(fhc.ProductOp([h2_num[0][0], h2_num[0][1]],u),a), fhc.commutator(fhc.ProductOp([h2_num[1][0], h2_num[1][1]],u),a), 0.5*u*fhc.commutator(a, fhc.SumOp([Op for sublist in h2_num for Op in sublist]))])"
   ]
  },
  {
   "cell_type": "code",
   "execution_count": 10,
   "id": "9fc5f255",
   "metadata": {},
   "outputs": [],
   "source": [
    "# we compute the results by hand, and then compare the theoretical results with those above\n",
    "the_result = []\n",
    "the_result20 = theretical_h2_form(h0)\n",
    "the_result21 = theretical_h2_form(h1)\n",
    "the_result.append(theretical_h2_form(result10))\n",
    "the_result.append(fhc.commutator(h0, the_result20))\n",
    "the_result.append(fhc.commutator(h1, the_result20))\n",
    "the_result.append(theretical_h2_form(the_result20))\n",
    "the_result.append(fhc.commutator(h1, the_result21))\n",
    "the_result.append(theretical_h2_form(the_result21))\n",
    "for i in range(len(the_result)):\n",
    "    the_result[i] = fhc.simplify(the_result[i])"
   ]
  },
  {
   "cell_type": "code",
   "execution_count": 18,
   "id": "8e7f61af",
   "metadata": {},
   "outputs": [
    {
     "name": "stdout",
     "output_type": "stream",
     "text": [
      "True\n",
      "True\n",
      "True\n",
      "True\n",
      "True\n",
      "True\n"
     ]
    }
   ],
   "source": [
    "# to check whether the 6 terms are the same, the outpus should be all 'True'\n",
    "for i in range(len(result)):\n",
    "    print(np.array_equal(result[i].as_field_operator().as_matrix((3,)).toarray(), the_result[i].as_field_operator().as_matrix((3,)).toarray()))"
   ]
  },
  {
   "cell_type": "markdown",
   "id": "301470ea",
   "metadata": {},
   "source": [
    "Here, we could try to construct the higher order suzuki, and try to print out the err bound"
   ]
  },
  {
   "cell_type": "code",
   "execution_count": null,
   "id": "089b5511",
   "metadata": {},
   "outputs": [],
   "source": []
  }
 ],
 "metadata": {
  "kernelspec": {
   "display_name": "Python 3 (ipykernel)",
   "language": "python",
   "name": "python3"
  },
  "language_info": {
   "codemirror_mode": {
    "name": "ipython",
    "version": 3
   },
   "file_extension": ".py",
   "mimetype": "text/x-python",
   "name": "python",
   "nbconvert_exporter": "python",
   "pygments_lexer": "ipython3",
   "version": "3.11.3"
  }
 },
 "nbformat": 4,
 "nbformat_minor": 5
}
