{
 "cells": [
  {
   "cell_type": "markdown",
   "metadata": {},
   "source": [
    "# Commutator bounds"
   ]
  },
  {
   "cell_type": "markdown",
   "metadata": {},
   "source": [
    "In this tutorial, we evaluate Trotter error commutator bounds and apply them to the Fermi-Hubbard model on a one-dimensional lattice."
   ]
  },
  {
   "cell_type": "code",
   "execution_count": 1,
   "metadata": {},
   "outputs": [],
   "source": [
    "import numpy as np\n",
    "import scipy\n",
    "import matplotlib.pyplot as plt\n",
    "import fh_comm as fhc"
   ]
  },
  {
   "cell_type": "markdown",
   "metadata": {},
   "source": [
    "## General commutator bounds"
   ]
  },
  {
   "cell_type": "markdown",
   "metadata": {},
   "source": [
    "We assume that the Hamiltonian $H = \\sum_{\\gamma=1}^{\\Gamma} H_\\gamma$ consists of $\\Gamma$ summands, and consider the Strang (second-order Suzuki) splitting method, denoted $\\mathscr{S}_2(t)$. For this method, the following particular Trotter error bound holds (see [Phys. Rev. X 11, 011020 (2021)](https://doi.org/10.1103/PhysRevX.11.011020), Proposition 10):\n",
    "$$\n",
    "\\left\\lVert\\mathscr{S}_2(t) - e^{-i t H}\\right\\rVert \\le \\frac{t^3}{12} \\sum_{\\gamma_1=1}^{\\Gamma} \\left\\lVert \\left[\\sum_{\\gamma_3=\\gamma_1+1}^{\\Gamma} H_{\\gamma_3}, \\left[\\sum_{\\gamma_2=\\gamma_1+1}^{\\Gamma} H_{\\gamma_2}, H_{\\gamma_1}\\right] \\right] \\right\\rVert + \\frac{t^3}{24} \\sum_{\\gamma_1=1}^{\\Gamma} \\left\\lVert \\left[H_{\\gamma_1}, \\left[\\sum_{\\gamma_2=\\gamma_1+1}^{\\Gamma} H_{\\gamma_2}, H_{\\gamma_1}\\right] \\right] \\right\\rVert.\n",
    "$$"
   ]
  },
  {
   "cell_type": "code",
   "execution_count": 2,
   "metadata": {},
   "outputs": [
    {
     "name": "stdout",
     "output_type": "stream",
     "text": [
      "1/24 * [H_0, [H_1, H_0]]\n",
      "1/12 * [H_1, [H_1, H_0]]\n",
      "1/12 * [H_2, [H_1, H_0]]\n",
      "1/24 * [H_0, [H_2, H_0]]\n",
      "1/12 * [H_1, [H_2, H_0]]\n",
      "1/12 * [H_2, [H_2, H_0]]\n",
      "1/24 * [H_1, [H_2, H_1]]\n",
      "1/12 * [H_2, [H_2, H_1]]\n"
     ]
    }
   ],
   "source": [
    "# evaluate bound for 3 Hamiltonian terms\n",
    "comm_bound_terms = fhc.commutator_bound_strang(3)\n",
    "for cbt in comm_bound_terms:\n",
    "    print(cbt)"
   ]
  },
  {
   "cell_type": "markdown",
   "metadata": {},
   "source": [
    "In general, we can evaluate the coefficients from Theorem 1 of [arXiv:2306.10603](https://arxiv.org/abs/2306.10603) as follows, illustrated for the fourth-order Suzuki rule and two Hamiltonian terms:"
   ]
  },
  {
   "cell_type": "code",
   "execution_count": 3,
   "metadata": {},
   "outputs": [
    {
     "name": "stdout",
     "output_type": "stream",
     "text": [
      "Splitting method of order 4 for 2 terms using 11 layers,\n",
      "  indices: [0, 1, 0, 1, 0, 1, 0, 1, 0, 1, 0]\n",
      "  coeffs:  [0.20724538589718786, 0.4144907717943757, 0.4144907717943757, 0.4144907717943757, -0.12173615769156357, -0.6579630871775028, -0.12173615769156357, 0.4144907717943757, 0.4144907717943757, 0.4144907717943757, 0.20724538589718786]\n",
      "s: 6\n",
      "0.004701334310169882 * [H_0, [H_0, [H_0, [H_1, H_0]]]]\n",
      "0.009689668290122168 * [H_1, [H_0, [H_0, [H_1, H_0]]]]\n",
      "0.00463891008158979 * [H_0, [H_1, [H_0, [H_1, H_0]]]]\n",
      "0.017328153057109535 * [H_1, [H_1, [H_0, [H_1, H_0]]]]\n",
      "0.005703818762629349 * [H_0, [H_0, [H_1, [H_1, H_0]]]]\n",
      "0.009726162358456835 * [H_1, [H_0, [H_1, [H_1, H_0]]]]\n",
      "0.00737205664595221 * [H_0, [H_1, [H_1, [H_1, H_0]]]]\n",
      "0.02837343440542591 * [H_1, [H_1, [H_1, [H_1, H_0]]]]\n"
     ]
    }
   ],
   "source": [
    "# fourth-order Suzuki product rule with two Hamiltonian terms\n",
    "rule = fhc.SplittingMethod.suzuki(2, 2)\n",
    "print(rule)\n",
    "# left-right partition boundary\n",
    "s = (rule.num_layers + 1) // 2\n",
    "print(\"s:\", s)\n",
    "comm_bound_terms = fhc.commutator_bound(rule, s)\n",
    "for cbt in comm_bound_terms:\n",
    "    print(cbt)"
   ]
  },
  {
   "cell_type": "markdown",
   "metadata": {},
   "source": [
    "This reproduces Eq. (M12) in [Phys. Rev. X 11, 011020 (2021)](https://doi.org/10.1103/PhysRevX.11.011020)."
   ]
  },
  {
   "cell_type": "markdown",
   "metadata": {},
   "source": [
    "## Application to the Fermi-Hubbard model"
   ]
  },
  {
   "cell_type": "markdown",
   "metadata": {},
   "source": [
    "For a concrete Hamiltonian, one still needs to evaluate the nested commutators and their spectral norms. Here we consider the Fermi-Hubbard model $H_{\\text{FH}}$ on a one-dimensional lattice."
   ]
  },
  {
   "cell_type": "markdown",
   "metadata": {},
   "source": [
    "We decompose $H_{\\text{FH}} = H_1 + H_2 + H_3$ with $H_1$ containing the \"even-odd\" kinetic hopping terms, $H_2$ the \"odd-even\" hopping terms and $H_3$ the interactions. The sublattice $\\Lambda' = (2 \\mathbb{Z})_{/L}$ captures the translation invariance by two sites.\n",
    "\\begin{align*}\n",
    "H_1 &= v \\sum_{i \\in \\Lambda'} \\sum_{\\sigma \\in \\{\\uparrow, \\downarrow\\}} h_{i, i+1, \\sigma}^{},\\\\\n",
    "H_2 &= v \\sum_{i \\in \\Lambda'} \\sum_{\\sigma \\in \\{\\uparrow, \\downarrow\\}} h_{i-1, i, \\sigma}^{},\\\\\n",
    "H_3 &= u \\sum_{i \\in \\Lambda'} \\big( n_{i,\\uparrow}^{} n_{i,\\downarrow}^{} + n_{i+1,\\uparrow}^{} n_{i+1,\\downarrow}^{} \\big).\n",
    "\\end{align*}"
   ]
  },
  {
   "cell_type": "code",
   "execution_count": 4,
   "metadata": {},
   "outputs": [],
   "source": [
    "# Hamiltonian coefficients\n",
    "v = -1\n",
    "u =  1  # other values can be included as prefactor depending on the number of interaction terms\n",
    "\n",
    "# construct a sub-lattice for translations\n",
    "translatt = fhc.SubLattice([[2]])\n",
    "\n",
    "# construct the Fermi-Hubbard Hamiltonian operators on a 1D lattice\n",
    "h0 = fhc.SumOp([fhc.HoppingOp(( 0,), ( 1,), s, v) for s in [0, 1]])  # sum over spin\n",
    "h1 = fhc.SumOp([fhc.HoppingOp((-1,), ( 0,), s, v) for s in [0, 1]])  # sum over spin\n",
    "h2 = fhc.SumOp([fhc.ProductOp([fhc.NumberOp((x,), s, 1) for s in [0, 1]], u) for x in [0, 1]])\n",
    "hlist = [h0, h1, h2]"
   ]
  },
  {
   "cell_type": "markdown",
   "metadata": {},
   "source": [
    "Next, we compute all nested commutators up to a specified depth (here 3):"
   ]
  },
  {
   "cell_type": "code",
   "execution_count": 5,
   "metadata": {},
   "outputs": [
    {
     "name": "stdout",
     "output_type": "stream",
     "text": [
      "tab1[0][1]: g_{(-1,), (1,), up} + (-1) g_{(0,), (2,), up} + g_{(-1,), (1,), dn} + (-1) g_{(0,), (2,), dn}\n",
      "tab2[1][2][1]: (-4) (g_{(-1,), (0,), up}) @ (g_{(-1,), (0,), dn}) + (-4) (n_{(-1,), up}) @ (n_{(-1,), dn}) + (4) (n_{(-1,), up}) @ (n_{(0,), dn}) + (4) (n_{(0,), up}) @ (n_{(-1,), dn}) + (-4) (n_{(0,), up}) @ (n_{(0,), dn})\n",
      "tab2[1][2][1].norm_bound(): 8.0\n"
     ]
    }
   ],
   "source": [
    "comm_tab = fhc.NestedCommutatorTable(hlist, 3, translatt, bias=1e-8)\n",
    "tab1 = comm_tab.table(1)\n",
    "# example\n",
    "print(\"tab1[0][1]:\", tab1[0][1])\n",
    "tab2 = comm_tab.table(2)\n",
    "# example\n",
    "print(\"tab2[1][2][1]:\", tab2[1][2][1])\n",
    "print(\"tab2[1][2][1].norm_bound():\", tab2[1][2][1].norm_bound())"
   ]
  },
  {
   "cell_type": "markdown",
   "metadata": {},
   "source": [
    "We can now evaluate the commutator bound for the Strang splitting method:"
   ]
  },
  {
   "cell_type": "code",
   "execution_count": 6,
   "metadata": {},
   "outputs": [
    {
     "name": "stdout",
     "output_type": "stream",
     "text": [
      "bound specialized for second-order Suzuki method:\n",
      "1/24 * [H_0, [H_1, H_0]]\n",
      "1/12 * [H_1, [H_1, H_0]]\n",
      "1/12 * [H_2, [H_1, H_0]]\n",
      "1/24 * [H_0, [H_2, H_0]]\n",
      "1/12 * [H_1, [H_2, H_0]]\n",
      "1/12 * [H_2, [H_2, H_0]]\n",
      "1/24 * [H_1, [H_2, H_1]]\n",
      "1/12 * [H_2, [H_2, H_1]]\n",
      "err_bound: [1.0, 1.3333333333333333, 0.3333333333333333]\n"
     ]
    }
   ],
   "source": [
    "print(\"bound specialized for second-order Suzuki method:\")\n",
    "comm_bound_terms = fhc.commutator_bound_strang(len(hlist))\n",
    "\n",
    "# sort by number of interaction terms\n",
    "err_bound = 3 * [0]\n",
    "for term in comm_bound_terms:\n",
    "    print(term)\n",
    "    # number of occurrences of interaction term in current nested commutator\n",
    "    num_int = sum(1 if i == len(hlist)-1 else 0 for i in term.commidx)\n",
    "    err_bound[num_int] += term.weight * tab2[term.commidx[0]][term.commidx[1]][term.commidx[2]].norm_bound()\n",
    "# the entries still need to be divided by 2 to obtain the error per lattice site\n",
    "print(\"err_bound:\", err_bound)"
   ]
  },
  {
   "cell_type": "markdown",
   "metadata": {},
   "source": [
    "Here, `err_bound` partitions the error coefficients into powers of the interaction term $H_3$. The analytical formula for the final bound is\n",
    "$$\n",
    "\\left\\lVert\\mathscr{S}_2(t) - e^{-i t H}\\right\\rVert \\le t^3 \\frac{\\mathtt{sum(err\\_bound)}}{2},\n",
    "$$\n",
    "where the factor 1/2 is due to specifying the error per lattice site. (The sublattice $\\Lambda'$ only covers half of all sites.)"
   ]
  },
  {
   "cell_type": "markdown",
   "metadata": {},
   "source": [
    "Finally, we compare the commutator bound with the empirical Trotter error on a lattice with $L = 4$ sites:"
   ]
  },
  {
   "cell_type": "code",
   "execution_count": 7,
   "metadata": {},
   "outputs": [
    {
     "name": "stdout",
     "output_type": "stream",
     "text": [
      "(256, 256)\n"
     ]
    }
   ],
   "source": [
    "# matrix representation of the Hamiltonian, as reference\n",
    "L = 4\n",
    "hlist_mat = [h.as_field_operator().as_matrix((L,), translatt).todense() for h in hlist]\n",
    "Hmat = sum(hlist_mat)\n",
    "print(Hmat.shape)"
   ]
  },
  {
   "cell_type": "markdown",
   "metadata": {},
   "source": [
    "The following utility function simulates the Trotterized time evolution based on matrix representations, as reference calculation to evaluate the empirical error."
   ]
  },
  {
   "cell_type": "code",
   "execution_count": 8,
   "metadata": {},
   "outputs": [],
   "source": [
    "def trotterized_time_evolution(hlist, method: fhc.SplittingMethod, dt: float, nsteps: int):\n",
    "    \"\"\"\n",
    "    Compute the numeric ODE flow operator of the quantum time evolution\n",
    "    based on the provided splitting method.\n",
    "    \"\"\"\n",
    "    V = None\n",
    "    for i, c in zip(method.indices, method.coeffs):\n",
    "        if V is None:\n",
    "            V = scipy.linalg.expm(-1j*c*dt*hlist[i])\n",
    "        else:\n",
    "            V = scipy.linalg.expm(-1j*c*dt*hlist[i]) @ V\n",
    "    return np.linalg.matrix_power(V, nsteps)"
   ]
  },
  {
   "cell_type": "code",
   "execution_count": 9,
   "metadata": {},
   "outputs": [
    {
     "data": {
      "image/png": "[encoded data removed]",
      "text/plain": [
       "<Figure size 640x480 with 1 Axes>"
      ]
     },
     "metadata": {},
     "output_type": "display_data"
    }
   ],
   "source": [
    "# Strang splitting method\n",
    "method = fhc.SplittingMethod.suzuki(len(hlist), 1)\n",
    "\n",
    "tlist = [0.5**n for n in range(8)]\n",
    "err_ref = np.zeros(len(tlist))\n",
    "errcomm = np.zeros(len(tlist))\n",
    "for i, t in enumerate(tlist):\n",
    "    # reference global unitary\n",
    "    expitH = scipy.linalg.expm(-1j*Hmat*t)\n",
    "    V = trotterized_time_evolution(hlist_mat, method, t, 1)\n",
    "    # empirical error per lattice site\n",
    "    err_ref[i] = np.linalg.norm(V - expitH, ord=2) / L\n",
    "    # factor 1/2 to get the error per lattice site (terms are understood as translations by two sites)\n",
    "    errcomm[i] = t**(method.order + 1) * 0.5 * sum(err_bound)\n",
    "# visualize results\n",
    "plt.loglog(tlist, err_ref, '.-', label=f\"empir. error (L = {L}), Strang\", color=\"C0\")\n",
    "plt.loglog(tlist, errcomm, '.--', label=\"comm. scaling, Strang\", color=\"C0\")\n",
    "plt.xlabel(\"t\")\n",
    "plt.ylabel(\"error\")\n",
    "plt.title(f\"Splitting for Fermi-Hubbard on a 1D lattice, v = {v}, u = {u}\")\n",
    "plt.legend()\n",
    "plt.show()"
   ]
  }
 ],
 "metadata": {
  "kernelspec": {
   "display_name": "Python 3",
   "language": "python",
   "name": "python3"
  },
  "language_info": {
   "codemirror_mode": {
    "name": "ipython",
    "version": 3
   },
   "file_extension": ".py",
   "mimetype": "text/x-python",
   "name": "python",
   "nbconvert_exporter": "python",
   "pygments_lexer": "ipython3",
   "version": "3.10.7"
  },
  "orig_nbformat": 4
 },
 "nbformat": 4,
 "nbformat_minor": 2
}
